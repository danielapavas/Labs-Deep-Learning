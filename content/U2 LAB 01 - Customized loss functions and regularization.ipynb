{
  "cells": [
    {
      "cell_type": "markdown",
      "metadata": {
        "id": "view-in-github",
        "colab_type": "text"
      },
      "source": [
        "<a href=\"https://colab.research.google.com/github/danielapavas/Labs-Deep-Learning/blob/main/content/U2%20LAB%2001%20-%20Customized%20loss%20functions%20and%20regularization.ipynb\" target=\"_parent\"><img src=\"https://colab.research.google.com/assets/colab-badge.svg\" alt=\"Open In Colab\"/></a>"
      ]
    },
    {
      "cell_type": "markdown",
      "metadata": {
        "id": "G2_C60HoYM7Y"
      },
      "source": [
        "# LAB 2.1 - Customized loss function"
      ]
    },
    {
      "cell_type": "code",
      "execution_count": 1,
      "metadata": {
        "colab": {
          "base_uri": "https://localhost:8080/",
          "height": 75
        },
        "id": "6hsMnT7zYM7w",
        "outputId": "8133d9ef-9c0f-4695-eb45-5e3351e1adf0"
      },
      "outputs": [
        {
          "output_type": "display_data",
          "data": {
            "text/plain": [
              "<IPython.core.display.HTML object>"
            ],
            "text/html": [
              "\n",
              "<meta name=\"google-signin-client_id\"\n",
              "      content=\"461673936472-kdjosv61up3ac1ajeuq6qqu72upilmls.apps.googleusercontent.com\"/>\n",
              "<script src=\"https://apis.google.com/js/client:platform.js?onload=google_button_start\"></script>\n",
              "    "
            ]
          },
          "metadata": {}
        },
        {
          "output_type": "stream",
          "name": "stdout",
          "text": [
            "replicating local resources\n"
          ]
        },
        {
          "output_type": "execute_result",
          "data": {
            "text/plain": [
              "<IPython.core.display.HTML object>"
            ],
            "text/html": [
              "<h3>See <a href='https://m5knaekxo6.execute-api.us-west-2.amazonaws.com/dev-v0001/rlxmooc/web/login' target='_blank'>my courses and progress</a></h2>"
            ]
          },
          "metadata": {},
          "execution_count": 1
        }
      ],
      "source": [
        "!wget -nc --no-cache -O init.py -q https://raw.githubusercontent.com/rramosp/2021.deeplearning/main/content/init.py\n",
        "import init; init.init(force_download=False); init.get_weblink()"
      ]
    },
    {
      "cell_type": "code",
      "execution_count": 67,
      "metadata": {
        "scrolled": true,
        "colab": {
          "base_uri": "https://localhost:8080/",
          "height": 138,
          "referenced_widgets": [
            "bb30054cfc6947019f058f07731f7f2f",
            "ce0f6ba2ffbf4bc5a7311d65a5e39cf6",
            "46b7ad6256e24f718545d46800c171b2",
            "a2caeb05a16b428b88e0a1bd13f5eeee",
            "d8b123d6d0b5472ea66edcd7960f2892",
            "e2713c57ee6742cd91ec7ffbdda4b9c0",
            "2726f19ffe484117b27cc03541c018d1",
            "c5568a297c654bd6b69733db4bed7833",
            "8b99a7875cab4796bf8eb4240893ad73",
            "929c50b926e94c8e81911a8d92a46aae",
            "a101131f08294bd49d5c0319a1dad724",
            "1ea0d8f5d145427dac8d685847a8cefb",
            "fe18466183644fd59f3c808054d3577d",
            "5b7b0c84214043bd9cf865838f32a9ff",
            "6c9c23b87b8d417482d2f5daed4edd07",
            "e2658418ec2c4e578c6de1298e61ca29",
            "1348f702c023400eb9ab0a91252160f4",
            "0a5f66f5d0754a44ae6801889e4aa3db",
            "1c33b5b15ef14cb9a031983da0678335"
          ]
        },
        "id": "0Xg8LdsRYM70",
        "outputId": "854609d6-af18-40ad-fbf9-cb1be606f173"
      },
      "outputs": [
        {
          "output_type": "stream",
          "name": "stdout",
          "text": [
            "logging in as daniela.pavas1@udea.edu.co... please wait\n",
            "using course session 2021.deeplearning::udea.20242\n",
            "success!! you are logged in\n"
          ]
        }
      ],
      "source": [
        "from local.lib.rlxmoocapi import submit, session\n",
        "import inspect\n",
        "session.LoginSequence(endpoint=init.endpoint, course_id=init.course_id, lab_id=\"L02.01\", varname=\"student\");"
      ]
    },
    {
      "cell_type": "markdown",
      "metadata": {
        "id": "O4VRbzCkYM72"
      },
      "source": [
        "## Loading the Fashion MNIST database..."
      ]
    },
    {
      "cell_type": "code",
      "execution_count": 31,
      "metadata": {
        "colab": {
          "base_uri": "https://localhost:8080/",
          "height": 36
        },
        "id": "gM77KMPSYM75",
        "outputId": "2eda7b6f-77ca-42a0-e751-17b0029c66de"
      },
      "outputs": [
        {
          "output_type": "execute_result",
          "data": {
            "text/plain": [
              "'2.17.0'"
            ],
            "application/vnd.google.colaboratory.intrinsic+json": {
              "type": "string"
            }
          },
          "metadata": {},
          "execution_count": 31
        }
      ],
      "source": [
        "import os\n",
        "import gzip\n",
        "import numpy as np\n",
        "import matplotlib.pyplot as plt\n",
        "import warnings; warnings.simplefilter('ignore')\n",
        "import tensorflow as tf\n",
        "tf.__version__"
      ]
    },
    {
      "cell_type": "code",
      "execution_count": 32,
      "metadata": {
        "id": "eewfAygQYM79"
      },
      "outputs": [],
      "source": [
        "from tensorflow.keras import datasets\n",
        "(x_train, y_train), (x_test, y_test) = datasets.fashion_mnist.load_data()\n",
        "X_train = x_train.reshape(x_train.shape[0],x_train.shape[1]*x_train.shape[2])\n",
        "X_test = x_test.reshape(x_test.shape[0],x_test.shape[1]*x_test.shape[2])"
      ]
    },
    {
      "cell_type": "code",
      "execution_count": 33,
      "metadata": {
        "id": "UPfSZQPZYM7_"
      },
      "outputs": [],
      "source": [
        "import tensorflow as tf\n",
        "from tensorflow.keras import utils\n",
        "from sklearn.preprocessing import StandardScaler\n",
        "\n",
        "input_dim = X_train.shape[1]\n",
        "\n",
        "scaler = StandardScaler()\n",
        "X_trainN = scaler.fit_transform(X_train)\n",
        "X_testN = scaler.transform(X_test)\n",
        "\n",
        "# convert list of labels to binary class matrix\n",
        "y_trainOHE = utils.to_categorical(y_train)\n",
        "nb_classes = y_trainOHE.shape[1]"
      ]
    },
    {
      "cell_type": "markdown",
      "metadata": {
        "id": "uAmpWGPsYM8A"
      },
      "source": [
        "## TASK 1. Basic model\n",
        "\n",
        "Define a new model using the keras sequential API. The model must have four hidden layers with the following neurons `[128,64,32,16]`. Comply with the following:\n",
        "\n",
        "- For all the hidden layers use the `relu` activation function.\n",
        "- Use `nb_classes` and `softmax` activation for the output layer.\n",
        "- Specify all activations as part of the `Dense` layer parameter, not as a separate layer.\n",
        "- You must return an instance of a `Sequential` model.\n",
        "- **DO NOT** invoke `compile` or `fit`.\n",
        "\n",
        "Your model structure should be as follows\n",
        "\n",
        "<pre>\n",
        "Model: \"sequential_64\"\n",
        "_________________________________________________________________\n",
        "Layer (type)                 Output Shape              Param #   \n",
        "=================================================================\n",
        "dense_308 (Dense)            (None, 128)               100480    \n",
        "_________________________________________________________________\n",
        "dense_309 (Dense)            (None, 64)                8256      \n",
        "_________________________________________________________________\n",
        "dense_310 (Dense)            (None, 32)                2080      \n",
        "_________________________________________________________________\n",
        "dense_311 (Dense)            (None, 16)                528       \n",
        "_________________________________________________________________\n",
        "dense_312 (Dense)            (None, 10)                170       \n",
        "=================================================================\n",
        "Total params: 111,514\n",
        "Trainable params: 111,514\n",
        "Non-trainable params: 0\n",
        "_________________________________________________________________\n",
        "\n",
        "</pre>"
      ]
    },
    {
      "cell_type": "code",
      "execution_count": 34,
      "metadata": {
        "id": "ApeVl53gYM8F"
      },
      "outputs": [],
      "source": [
        "def get_basic_model(input_dim, nb_classes):\n",
        "    from tensorflow.keras.models import Sequential\n",
        "    from tensorflow.keras.layers import Dense\n",
        "\n",
        "    model = Sequential([\n",
        "\n",
        "        Dense(128, input_dim=input_dim, activation='relu'),\n",
        "        Dense(64, activation='relu'),\n",
        "        Dense(32, activation='relu'),\n",
        "        Dense(16, activation='relu'),\n",
        "        Dense(nb_classes, activation='softmax')])\n",
        "\n",
        "    return model"
      ]
    },
    {
      "cell_type": "code",
      "execution_count": 35,
      "metadata": {
        "colab": {
          "base_uri": "https://localhost:8080/",
          "height": 293
        },
        "id": "9fAq2Ao6YM8H",
        "outputId": "c2ffb63f-b3e6-4c8b-9fac-7f4caaa787c2"
      },
      "outputs": [
        {
          "output_type": "display_data",
          "data": {
            "text/plain": [
              "\u001b[1mModel: \"sequential_5\"\u001b[0m\n"
            ],
            "text/html": [
              "<pre style=\"white-space:pre;overflow-x:auto;line-height:normal;font-family:Menlo,'DejaVu Sans Mono',consolas,'Courier New',monospace\"><span style=\"font-weight: bold\">Model: \"sequential_5\"</span>\n",
              "</pre>\n"
            ]
          },
          "metadata": {}
        },
        {
          "output_type": "display_data",
          "data": {
            "text/plain": [
              "┏━━━━━━━━━━━━━━━━━━━━━━━━━━━━━━━━━━━━━━┳━━━━━━━━━━━━━━━━━━━━━━━━━━━━━┳━━━━━━━━━━━━━━━━━┓\n",
              "┃\u001b[1m \u001b[0m\u001b[1mLayer (type)                        \u001b[0m\u001b[1m \u001b[0m┃\u001b[1m \u001b[0m\u001b[1mOutput Shape               \u001b[0m\u001b[1m \u001b[0m┃\u001b[1m \u001b[0m\u001b[1m        Param #\u001b[0m\u001b[1m \u001b[0m┃\n",
              "┡━━━━━━━━━━━━━━━━━━━━━━━━━━━━━━━━━━━━━━╇━━━━━━━━━━━━━━━━━━━━━━━━━━━━━╇━━━━━━━━━━━━━━━━━┩\n",
              "│ dense_25 (\u001b[38;5;33mDense\u001b[0m)                     │ (\u001b[38;5;45mNone\u001b[0m, \u001b[38;5;34m128\u001b[0m)                 │         \u001b[38;5;34m100,480\u001b[0m │\n",
              "├──────────────────────────────────────┼─────────────────────────────┼─────────────────┤\n",
              "│ dense_26 (\u001b[38;5;33mDense\u001b[0m)                     │ (\u001b[38;5;45mNone\u001b[0m, \u001b[38;5;34m64\u001b[0m)                  │           \u001b[38;5;34m8,256\u001b[0m │\n",
              "├──────────────────────────────────────┼─────────────────────────────┼─────────────────┤\n",
              "│ dense_27 (\u001b[38;5;33mDense\u001b[0m)                     │ (\u001b[38;5;45mNone\u001b[0m, \u001b[38;5;34m32\u001b[0m)                  │           \u001b[38;5;34m2,080\u001b[0m │\n",
              "├──────────────────────────────────────┼─────────────────────────────┼─────────────────┤\n",
              "│ dense_28 (\u001b[38;5;33mDense\u001b[0m)                     │ (\u001b[38;5;45mNone\u001b[0m, \u001b[38;5;34m16\u001b[0m)                  │             \u001b[38;5;34m528\u001b[0m │\n",
              "├──────────────────────────────────────┼─────────────────────────────┼─────────────────┤\n",
              "│ dense_29 (\u001b[38;5;33mDense\u001b[0m)                     │ (\u001b[38;5;45mNone\u001b[0m, \u001b[38;5;34m10\u001b[0m)                  │             \u001b[38;5;34m170\u001b[0m │\n",
              "└──────────────────────────────────────┴─────────────────────────────┴─────────────────┘\n"
            ],
            "text/html": [
              "<pre style=\"white-space:pre;overflow-x:auto;line-height:normal;font-family:Menlo,'DejaVu Sans Mono',consolas,'Courier New',monospace\">┏━━━━━━━━━━━━━━━━━━━━━━━━━━━━━━━━━━━━━━┳━━━━━━━━━━━━━━━━━━━━━━━━━━━━━┳━━━━━━━━━━━━━━━━━┓\n",
              "┃<span style=\"font-weight: bold\"> Layer (type)                         </span>┃<span style=\"font-weight: bold\"> Output Shape                </span>┃<span style=\"font-weight: bold\">         Param # </span>┃\n",
              "┡━━━━━━━━━━━━━━━━━━━━━━━━━━━━━━━━━━━━━━╇━━━━━━━━━━━━━━━━━━━━━━━━━━━━━╇━━━━━━━━━━━━━━━━━┩\n",
              "│ dense_25 (<span style=\"color: #0087ff; text-decoration-color: #0087ff\">Dense</span>)                     │ (<span style=\"color: #00d7ff; text-decoration-color: #00d7ff\">None</span>, <span style=\"color: #00af00; text-decoration-color: #00af00\">128</span>)                 │         <span style=\"color: #00af00; text-decoration-color: #00af00\">100,480</span> │\n",
              "├──────────────────────────────────────┼─────────────────────────────┼─────────────────┤\n",
              "│ dense_26 (<span style=\"color: #0087ff; text-decoration-color: #0087ff\">Dense</span>)                     │ (<span style=\"color: #00d7ff; text-decoration-color: #00d7ff\">None</span>, <span style=\"color: #00af00; text-decoration-color: #00af00\">64</span>)                  │           <span style=\"color: #00af00; text-decoration-color: #00af00\">8,256</span> │\n",
              "├──────────────────────────────────────┼─────────────────────────────┼─────────────────┤\n",
              "│ dense_27 (<span style=\"color: #0087ff; text-decoration-color: #0087ff\">Dense</span>)                     │ (<span style=\"color: #00d7ff; text-decoration-color: #00d7ff\">None</span>, <span style=\"color: #00af00; text-decoration-color: #00af00\">32</span>)                  │           <span style=\"color: #00af00; text-decoration-color: #00af00\">2,080</span> │\n",
              "├──────────────────────────────────────┼─────────────────────────────┼─────────────────┤\n",
              "│ dense_28 (<span style=\"color: #0087ff; text-decoration-color: #0087ff\">Dense</span>)                     │ (<span style=\"color: #00d7ff; text-decoration-color: #00d7ff\">None</span>, <span style=\"color: #00af00; text-decoration-color: #00af00\">16</span>)                  │             <span style=\"color: #00af00; text-decoration-color: #00af00\">528</span> │\n",
              "├──────────────────────────────────────┼─────────────────────────────┼─────────────────┤\n",
              "│ dense_29 (<span style=\"color: #0087ff; text-decoration-color: #0087ff\">Dense</span>)                     │ (<span style=\"color: #00d7ff; text-decoration-color: #00d7ff\">None</span>, <span style=\"color: #00af00; text-decoration-color: #00af00\">10</span>)                  │             <span style=\"color: #00af00; text-decoration-color: #00af00\">170</span> │\n",
              "└──────────────────────────────────────┴─────────────────────────────┴─────────────────┘\n",
              "</pre>\n"
            ]
          },
          "metadata": {}
        },
        {
          "output_type": "display_data",
          "data": {
            "text/plain": [
              "\u001b[1m Total params: \u001b[0m\u001b[38;5;34m111,514\u001b[0m (435.60 KB)\n"
            ],
            "text/html": [
              "<pre style=\"white-space:pre;overflow-x:auto;line-height:normal;font-family:Menlo,'DejaVu Sans Mono',consolas,'Courier New',monospace\"><span style=\"font-weight: bold\"> Total params: </span><span style=\"color: #00af00; text-decoration-color: #00af00\">111,514</span> (435.60 KB)\n",
              "</pre>\n"
            ]
          },
          "metadata": {}
        },
        {
          "output_type": "display_data",
          "data": {
            "text/plain": [
              "\u001b[1m Trainable params: \u001b[0m\u001b[38;5;34m111,514\u001b[0m (435.60 KB)\n"
            ],
            "text/html": [
              "<pre style=\"white-space:pre;overflow-x:auto;line-height:normal;font-family:Menlo,'DejaVu Sans Mono',consolas,'Courier New',monospace\"><span style=\"font-weight: bold\"> Trainable params: </span><span style=\"color: #00af00; text-decoration-color: #00af00\">111,514</span> (435.60 KB)\n",
              "</pre>\n"
            ]
          },
          "metadata": {}
        },
        {
          "output_type": "display_data",
          "data": {
            "text/plain": [
              "\u001b[1m Non-trainable params: \u001b[0m\u001b[38;5;34m0\u001b[0m (0.00 B)\n"
            ],
            "text/html": [
              "<pre style=\"white-space:pre;overflow-x:auto;line-height:normal;font-family:Menlo,'DejaVu Sans Mono',consolas,'Courier New',monospace\"><span style=\"font-weight: bold\"> Non-trainable params: </span><span style=\"color: #00af00; text-decoration-color: #00af00\">0</span> (0.00 B)\n",
              "</pre>\n"
            ]
          },
          "metadata": {}
        }
      ],
      "source": [
        "model = get_basic_model(input_dim=784, nb_classes=10)\n",
        "model.summary()"
      ]
    },
    {
      "cell_type": "markdown",
      "metadata": {
        "id": "8a1mqGcBYM8I"
      },
      "source": [
        "**Registra tu solución en linea**"
      ]
    },
    {
      "cell_type": "code",
      "execution_count": null,
      "metadata": {
        "colab": {
          "base_uri": "https://localhost:8080/",
          "height": 111
        },
        "id": "EWgxZhzwYM8K",
        "outputId": "739183bd-ace1-4ef6-ffe7-1e005d5048ec"
      },
      "outputs": [
        {
          "output_type": "display_data",
          "data": {
            "text/plain": [
              "<IPython.core.display.HTML object>"
            ],
            "text/html": [
              "\n",
              "                    <b>T1 submitted.</b> <b><font color=\"blue\">your grade is 5</font></b> \n",
              "                    <p/><pre>----- grader message -------</pre><b>correct</b><pre>----------------------------</pre>\n",
              "                    <p/><p/>\n",
              "                    <div style=\"font-size:10px\"><b>SUBMISSION CODE</b> q81JYyEiArgkNf3e9OrXAtEFFcy3BCxkbZ8cFnIMLLPmyJ9NCfyKhUP5oZHSEfgrVdxPs3LJ4zKmOILUttOKDx35I4F4a0gxUcwOHXUH2YDlbyFrORCnttNsb3Ex3wHu48CoSD83ViXhzETBZszKaHxdO+vFTt5v1nSUVBXw4hk=</div>\n",
              "                    "
            ]
          },
          "metadata": {}
        }
      ],
      "source": [
        "student.submit_task(namespace=globals(), task_id='T1');"
      ]
    },
    {
      "cell_type": "markdown",
      "metadata": {
        "id": "VtnD25kkYM8L"
      },
      "source": [
        "Run the following cells to train and test the model."
      ]
    },
    {
      "cell_type": "code",
      "execution_count": 36,
      "metadata": {
        "id": "_xS_4Ve6YM8L"
      },
      "outputs": [],
      "source": [
        "model = get_basic_model(input_dim=784, nb_classes=10)"
      ]
    },
    {
      "cell_type": "code",
      "execution_count": 37,
      "metadata": {
        "colab": {
          "base_uri": "https://localhost:8080/"
        },
        "id": "OCjs8uQsYM8M",
        "outputId": "3beec2a0-ee89-44a5-e7bd-35f45214d6c7"
      },
      "outputs": [
        {
          "output_type": "stream",
          "name": "stdout",
          "text": [
            "Accuracy = 77.95%\n"
          ]
        }
      ],
      "source": [
        "from tensorflow.keras import regularizers, optimizers\n",
        "\n",
        "# or instantiate an optimizer before passing it to model.compile\n",
        "sgd = optimizers.SGD(learning_rate=0.01, momentum=0.9, nesterov=True)\n",
        "model.compile(loss='categorical_crossentropy', optimizer=sgd)\n",
        "model.fit(X_trainN[:500,:], y_trainOHE[:500,:], epochs=1000, batch_size=16, validation_split=0, verbose=0)\n",
        "\n",
        "preds = model.predict(X_testN, verbose=0)\n",
        "preds = np.argmax(preds,axis=1)\n",
        "Accuracy = np.mean(preds == y_test)\n",
        "print('Accuracy = %.2f%s'%(Accuracy*100, '%'))"
      ]
    },
    {
      "cell_type": "markdown",
      "metadata": {
        "id": "EGskDB1hYM8N"
      },
      "source": [
        "**UNGRADED TASK**: Create a graph with the histogram of the network weigths in the first hidden layer. It should look like the the following."
      ]
    },
    {
      "cell_type": "code",
      "execution_count": 38,
      "metadata": {
        "colab": {
          "base_uri": "https://localhost:8080/",
          "height": 265
        },
        "id": "ULluxaUzYM8O",
        "outputId": "3e44e35d-f42c-4da3-88f8-ab7075fd0db8"
      },
      "outputs": [
        {
          "output_type": "execute_result",
          "data": {
            "image/png": "[encoded data removed]",
            "text/plain": [
              "<IPython.core.display.Image object>"
            ]
          },
          "metadata": {},
          "execution_count": 38
        }
      ],
      "source": [
        "\n",
        "from IPython.display import Image\n",
        "Image(\"local/imgs/L21W1.png\")\n"
      ]
    },
    {
      "cell_type": "code",
      "execution_count": 39,
      "metadata": {
        "colab": {
          "base_uri": "https://localhost:8080/",
          "height": 1000
        },
        "id": "96o_lpBcYM8Q",
        "outputId": "34e38aad-23cf-4f7b-bd2c-12a59e758135"
      },
      "outputs": [
        {
          "output_type": "execute_result",
          "data": {
            "text/plain": [
              "(array([1.000e+00, 0.000e+00, 0.000e+00, 0.000e+00, 1.000e+00, 1.000e+00,\n",
              "        3.000e+00, 4.000e+00, 7.000e+00, 9.000e+00, 3.000e+00, 1.100e+01,\n",
              "        2.200e+01, 2.700e+01, 3.300e+01, 4.700e+01, 7.400e+01, 1.090e+02,\n",
              "        1.700e+02, 2.610e+02, 3.630e+02, 5.030e+02, 6.780e+02, 9.020e+02,\n",
              "        1.211e+03, 1.357e+03, 1.534e+03, 1.707e+03, 1.892e+03, 1.928e+03,\n",
              "        1.920e+03, 1.952e+03, 2.024e+03, 2.028e+03, 2.056e+03, 2.012e+03,\n",
              "        2.090e+03, 2.078e+03, 2.028e+03, 2.115e+03, 2.101e+03, 2.043e+03,\n",
              "        2.022e+03, 2.140e+03, 2.041e+03, 2.068e+03, 2.036e+03, 2.112e+03,\n",
              "        2.006e+03, 2.009e+03, 2.044e+03, 2.035e+03, 2.014e+03, 2.076e+03,\n",
              "        1.996e+03, 2.012e+03, 2.048e+03, 2.062e+03, 2.079e+03, 2.088e+03,\n",
              "        2.070e+03, 1.975e+03, 2.093e+03, 1.964e+03, 2.038e+03, 1.923e+03,\n",
              "        1.975e+03, 1.801e+03, 1.735e+03, 1.663e+03, 1.466e+03, 1.237e+03,\n",
              "        1.116e+03, 8.060e+02, 6.940e+02, 4.730e+02, 3.310e+02, 2.370e+02,\n",
              "        1.720e+02, 1.120e+02, 8.400e+01, 5.600e+01, 4.200e+01, 3.400e+01,\n",
              "        1.800e+01, 1.200e+01, 5.000e+00, 8.000e+00, 4.000e+00, 2.000e+00,\n",
              "        3.000e+00, 2.000e+00, 1.000e+00, 1.000e+00, 1.000e+00, 2.000e+00,\n",
              "        0.000e+00, 0.000e+00, 1.000e+00, 2.000e+00]),\n",
              " array([-0.1622785 , -0.15893742, -0.15559635, -0.15225527, -0.14891419,\n",
              "        -0.14557311, -0.14223203, -0.13889095, -0.13554987, -0.13220879,\n",
              "        -0.12886772, -0.12552664, -0.12218555, -0.11884447, -0.11550339,\n",
              "        -0.11216231, -0.10882124, -0.10548016, -0.10213908, -0.098798  ,\n",
              "        -0.09545692, -0.09211584, -0.08877476, -0.08543368, -0.08209261,\n",
              "        -0.07875152, -0.07541044, -0.07206936, -0.06872828, -0.0653872 ,\n",
              "        -0.06204613, -0.05870505, -0.05536397, -0.05202289, -0.04868181,\n",
              "        -0.04534073, -0.04199965, -0.03865857, -0.03531749, -0.03197641,\n",
              "        -0.02863533, -0.02529426, -0.02195318, -0.0186121 , -0.01527102,\n",
              "        -0.01192994, -0.00858886, -0.00524778, -0.0019067 ,  0.00143438,\n",
              "         0.00477546,  0.00811654,  0.01145762,  0.01479869,  0.01813977,\n",
              "         0.02148085,  0.02482193,  0.02816301,  0.03150409,  0.03484517,\n",
              "         0.03818625,  0.04152733,  0.04486841,  0.04820949,  0.05155057,\n",
              "         0.05489165,  0.05823272,  0.0615738 ,  0.06491488,  0.06825596,\n",
              "         0.07159704,  0.07493812,  0.0782792 ,  0.08162028,  0.08496135,\n",
              "         0.08830243,  0.09164352,  0.0949846 ,  0.09832568,  0.10166676,\n",
              "         0.10500783,  0.10834891,  0.11168999,  0.11503107,  0.11837215,\n",
              "         0.12171323,  0.12505431,  0.12839539,  0.13173647,  0.13507755,\n",
              "         0.13841863,  0.14175971,  0.14510079,  0.14844187,  0.15178294,\n",
              "         0.15512402,  0.1584651 ,  0.16180618,  0.16514726,  0.16848834,\n",
              "         0.17182942]),\n",
              " <BarContainer object of 100 artists>)"
            ]
          },
          "metadata": {},
          "execution_count": 39
        },
        {
          "output_type": "display_data",
          "data": {
            "text/plain": [
              "<Figure size 640x480 with 1 Axes>"
            ],
            "image/png": "[encoded data removed]"
          },
          "metadata": {}
        }
      ],
      "source": [
        "pesos, biases = model.layers[0].get_weights()\n",
        "pesos.shape\n",
        "plt.hist(pesos.flatten(), bins=100)"
      ]
    },
    {
      "cell_type": "markdown",
      "metadata": {
        "id": "IJ5EsKzhYM8R"
      },
      "source": [
        "## TASK 2: $L_2$ regularization\n",
        "\n",
        "Create a model like on TASK 1, but include $L_2$ regularization to every hidden layer (in `kernel_regularizer`) with a regularization parameter equal to 0.0001.\n",
        "\n",
        "Use [tf.keras.regularizers.L2](https://www.tensorflow.org/api_docs/python/tf/keras/regularizers/L2)"
      ]
    },
    {
      "cell_type": "code",
      "execution_count": 40,
      "metadata": {
        "id": "aS5FxWaRYM8R"
      },
      "outputs": [],
      "source": [
        "def get_L2_model(input_dim, nb_classes):\n",
        "    from tensorflow.keras.models import Sequential\n",
        "    from tensorflow.keras.layers import Dense\n",
        "    from tensorflow.keras import regularizers\n",
        "\n",
        "    model = Sequential([\n",
        "        Dense(128, activation='relu', input_shape=(input_dim,),\n",
        "              kernel_regularizer=regularizers.L2(0.0001)),\n",
        "        Dense(64, activation='relu',\n",
        "              kernel_regularizer=regularizers.L2(0.0001)),\n",
        "        Dense(32, activation='relu',\n",
        "              kernel_regularizer=regularizers.L2(0.0001)),\n",
        "        Dense(16, activation='relu',\n",
        "              kernel_regularizer=regularizers.L2(0.0001)),\n",
        "        Dense(nb_classes, activation='softmax')])\n",
        "\n",
        "    return model"
      ]
    },
    {
      "cell_type": "code",
      "execution_count": 41,
      "metadata": {
        "colab": {
          "base_uri": "https://localhost:8080/",
          "height": 293
        },
        "id": "-mA7_T-gYM8T",
        "outputId": "b1e9c3dd-a16e-4033-b33f-3cca97262b19"
      },
      "outputs": [
        {
          "output_type": "display_data",
          "data": {
            "text/plain": [
              "\u001b[1mModel: \"sequential_7\"\u001b[0m\n"
            ],
            "text/html": [
              "<pre style=\"white-space:pre;overflow-x:auto;line-height:normal;font-family:Menlo,'DejaVu Sans Mono',consolas,'Courier New',monospace\"><span style=\"font-weight: bold\">Model: \"sequential_7\"</span>\n",
              "</pre>\n"
            ]
          },
          "metadata": {}
        },
        {
          "output_type": "display_data",
          "data": {
            "text/plain": [
              "┏━━━━━━━━━━━━━━━━━━━━━━━━━━━━━━━━━━━━━━┳━━━━━━━━━━━━━━━━━━━━━━━━━━━━━┳━━━━━━━━━━━━━━━━━┓\n",
              "┃\u001b[1m \u001b[0m\u001b[1mLayer (type)                        \u001b[0m\u001b[1m \u001b[0m┃\u001b[1m \u001b[0m\u001b[1mOutput Shape               \u001b[0m\u001b[1m \u001b[0m┃\u001b[1m \u001b[0m\u001b[1m        Param #\u001b[0m\u001b[1m \u001b[0m┃\n",
              "┡━━━━━━━━━━━━━━━━━━━━━━━━━━━━━━━━━━━━━━╇━━━━━━━━━━━━━━━━━━━━━━━━━━━━━╇━━━━━━━━━━━━━━━━━┩\n",
              "│ dense_35 (\u001b[38;5;33mDense\u001b[0m)                     │ (\u001b[38;5;45mNone\u001b[0m, \u001b[38;5;34m128\u001b[0m)                 │         \u001b[38;5;34m100,480\u001b[0m │\n",
              "├──────────────────────────────────────┼─────────────────────────────┼─────────────────┤\n",
              "│ dense_36 (\u001b[38;5;33mDense\u001b[0m)                     │ (\u001b[38;5;45mNone\u001b[0m, \u001b[38;5;34m64\u001b[0m)                  │           \u001b[38;5;34m8,256\u001b[0m │\n",
              "├──────────────────────────────────────┼─────────────────────────────┼─────────────────┤\n",
              "│ dense_37 (\u001b[38;5;33mDense\u001b[0m)                     │ (\u001b[38;5;45mNone\u001b[0m, \u001b[38;5;34m32\u001b[0m)                  │           \u001b[38;5;34m2,080\u001b[0m │\n",
              "├──────────────────────────────────────┼─────────────────────────────┼─────────────────┤\n",
              "│ dense_38 (\u001b[38;5;33mDense\u001b[0m)                     │ (\u001b[38;5;45mNone\u001b[0m, \u001b[38;5;34m16\u001b[0m)                  │             \u001b[38;5;34m528\u001b[0m │\n",
              "├──────────────────────────────────────┼─────────────────────────────┼─────────────────┤\n",
              "│ dense_39 (\u001b[38;5;33mDense\u001b[0m)                     │ (\u001b[38;5;45mNone\u001b[0m, \u001b[38;5;34m10\u001b[0m)                  │             \u001b[38;5;34m170\u001b[0m │\n",
              "└──────────────────────────────────────┴─────────────────────────────┴─────────────────┘\n"
            ],
            "text/html": [
              "<pre style=\"white-space:pre;overflow-x:auto;line-height:normal;font-family:Menlo,'DejaVu Sans Mono',consolas,'Courier New',monospace\">┏━━━━━━━━━━━━━━━━━━━━━━━━━━━━━━━━━━━━━━┳━━━━━━━━━━━━━━━━━━━━━━━━━━━━━┳━━━━━━━━━━━━━━━━━┓\n",
              "┃<span style=\"font-weight: bold\"> Layer (type)                         </span>┃<span style=\"font-weight: bold\"> Output Shape                </span>┃<span style=\"font-weight: bold\">         Param # </span>┃\n",
              "┡━━━━━━━━━━━━━━━━━━━━━━━━━━━━━━━━━━━━━━╇━━━━━━━━━━━━━━━━━━━━━━━━━━━━━╇━━━━━━━━━━━━━━━━━┩\n",
              "│ dense_35 (<span style=\"color: #0087ff; text-decoration-color: #0087ff\">Dense</span>)                     │ (<span style=\"color: #00d7ff; text-decoration-color: #00d7ff\">None</span>, <span style=\"color: #00af00; text-decoration-color: #00af00\">128</span>)                 │         <span style=\"color: #00af00; text-decoration-color: #00af00\">100,480</span> │\n",
              "├──────────────────────────────────────┼─────────────────────────────┼─────────────────┤\n",
              "│ dense_36 (<span style=\"color: #0087ff; text-decoration-color: #0087ff\">Dense</span>)                     │ (<span style=\"color: #00d7ff; text-decoration-color: #00d7ff\">None</span>, <span style=\"color: #00af00; text-decoration-color: #00af00\">64</span>)                  │           <span style=\"color: #00af00; text-decoration-color: #00af00\">8,256</span> │\n",
              "├──────────────────────────────────────┼─────────────────────────────┼─────────────────┤\n",
              "│ dense_37 (<span style=\"color: #0087ff; text-decoration-color: #0087ff\">Dense</span>)                     │ (<span style=\"color: #00d7ff; text-decoration-color: #00d7ff\">None</span>, <span style=\"color: #00af00; text-decoration-color: #00af00\">32</span>)                  │           <span style=\"color: #00af00; text-decoration-color: #00af00\">2,080</span> │\n",
              "├──────────────────────────────────────┼─────────────────────────────┼─────────────────┤\n",
              "│ dense_38 (<span style=\"color: #0087ff; text-decoration-color: #0087ff\">Dense</span>)                     │ (<span style=\"color: #00d7ff; text-decoration-color: #00d7ff\">None</span>, <span style=\"color: #00af00; text-decoration-color: #00af00\">16</span>)                  │             <span style=\"color: #00af00; text-decoration-color: #00af00\">528</span> │\n",
              "├──────────────────────────────────────┼─────────────────────────────┼─────────────────┤\n",
              "│ dense_39 (<span style=\"color: #0087ff; text-decoration-color: #0087ff\">Dense</span>)                     │ (<span style=\"color: #00d7ff; text-decoration-color: #00d7ff\">None</span>, <span style=\"color: #00af00; text-decoration-color: #00af00\">10</span>)                  │             <span style=\"color: #00af00; text-decoration-color: #00af00\">170</span> │\n",
              "└──────────────────────────────────────┴─────────────────────────────┴─────────────────┘\n",
              "</pre>\n"
            ]
          },
          "metadata": {}
        },
        {
          "output_type": "display_data",
          "data": {
            "text/plain": [
              "\u001b[1m Total params: \u001b[0m\u001b[38;5;34m111,514\u001b[0m (435.60 KB)\n"
            ],
            "text/html": [
              "<pre style=\"white-space:pre;overflow-x:auto;line-height:normal;font-family:Menlo,'DejaVu Sans Mono',consolas,'Courier New',monospace\"><span style=\"font-weight: bold\"> Total params: </span><span style=\"color: #00af00; text-decoration-color: #00af00\">111,514</span> (435.60 KB)\n",
              "</pre>\n"
            ]
          },
          "metadata": {}
        },
        {
          "output_type": "display_data",
          "data": {
            "text/plain": [
              "\u001b[1m Trainable params: \u001b[0m\u001b[38;5;34m111,514\u001b[0m (435.60 KB)\n"
            ],
            "text/html": [
              "<pre style=\"white-space:pre;overflow-x:auto;line-height:normal;font-family:Menlo,'DejaVu Sans Mono',consolas,'Courier New',monospace\"><span style=\"font-weight: bold\"> Trainable params: </span><span style=\"color: #00af00; text-decoration-color: #00af00\">111,514</span> (435.60 KB)\n",
              "</pre>\n"
            ]
          },
          "metadata": {}
        },
        {
          "output_type": "display_data",
          "data": {
            "text/plain": [
              "\u001b[1m Non-trainable params: \u001b[0m\u001b[38;5;34m0\u001b[0m (0.00 B)\n"
            ],
            "text/html": [
              "<pre style=\"white-space:pre;overflow-x:auto;line-height:normal;font-family:Menlo,'DejaVu Sans Mono',consolas,'Courier New',monospace\"><span style=\"font-weight: bold\"> Non-trainable params: </span><span style=\"color: #00af00; text-decoration-color: #00af00\">0</span> (0.00 B)\n",
              "</pre>\n"
            ]
          },
          "metadata": {}
        }
      ],
      "source": [
        "model = get_L2_model(784, 10)\n",
        "model.summary()"
      ]
    },
    {
      "cell_type": "markdown",
      "metadata": {
        "id": "vZVdqnbOYM8V"
      },
      "source": [
        "inspect layer regularizers"
      ]
    },
    {
      "cell_type": "code",
      "execution_count": 42,
      "metadata": {
        "colab": {
          "base_uri": "https://localhost:8080/"
        },
        "id": "3QBC1EqsYM8W",
        "outputId": "13df983e-65fd-4689-ab23-9ac24ef3dee1"
      },
      "outputs": [
        {
          "output_type": "stream",
          "name": "stdout",
          "text": [
            "dense_35 --> <keras.src.regularizers.regularizers.L2 object at 0x7c59611afa00>\n",
            "dense_36 --> <keras.src.regularizers.regularizers.L2 object at 0x7c59611ac9d0>\n",
            "dense_37 --> <keras.src.regularizers.regularizers.L2 object at 0x7c59611aeec0>\n",
            "dense_38 --> <keras.src.regularizers.regularizers.L2 object at 0x7c59611c9330>\n",
            "dense_39 --> None\n"
          ]
        }
      ],
      "source": [
        "for layer in model.layers:\n",
        "    print (layer.name, '-->', layer.kernel_regularizer)"
      ]
    },
    {
      "cell_type": "markdown",
      "metadata": {
        "id": "BoeOHUAMYM8X"
      },
      "source": [
        "**Registra tu solución en linea**"
      ]
    },
    {
      "cell_type": "code",
      "execution_count": null,
      "metadata": {
        "scrolled": true,
        "colab": {
          "base_uri": "https://localhost:8080/",
          "height": 111
        },
        "id": "qxwdvO9vYM8Y",
        "outputId": "cd429d0f-8cdc-414f-8085-5cf20012fba9"
      },
      "outputs": [
        {
          "output_type": "display_data",
          "data": {
            "text/plain": [
              "<IPython.core.display.HTML object>"
            ],
            "text/html": [
              "\n",
              "                    <b>T2 submitted.</b> <b><font color=\"blue\">your grade is 5</font></b> \n",
              "                    <p/><pre>----- grader message -------</pre><b>correct</b><pre>----------------------------</pre>\n",
              "                    <p/><p/>\n",
              "                    <div style=\"font-size:10px\"><b>SUBMISSION CODE</b> ErENz1AY3YYMA1OtFSpAAaQx/YHLBCCBIqU9NIKqBxhyPFN9InUejLF6B6CjxfucC0FhSML6mdrMjhoqnjLNK3nFnsLQdQUMwy+jBUs1Z71XrjMW8igCQYo27VTRWlnZu/6ndQDE4Ig4P45BOKtzVzCcVMdYTtOpfXyVBMMDmQY=</div>\n",
              "                    "
            ]
          },
          "metadata": {}
        }
      ],
      "source": [
        "student.submit_task(namespace=globals(), task_id='T2');"
      ]
    },
    {
      "cell_type": "markdown",
      "metadata": {
        "id": "LxqjBE-7YM8Y"
      },
      "source": [
        "Run the following cell to train and test the model"
      ]
    },
    {
      "cell_type": "code",
      "execution_count": 43,
      "metadata": {
        "colab": {
          "base_uri": "https://localhost:8080/"
        },
        "id": "iuLe5vPUYM8Y",
        "outputId": "3beda218-17cf-41a0-9346-44a2406d8b6a"
      },
      "outputs": [
        {
          "output_type": "stream",
          "name": "stdout",
          "text": [
            "Accuracy = 78.86%\n"
          ]
        }
      ],
      "source": [
        "from tensorflow.keras import optimizers\n",
        "model = get_L2_model(784, 10)\n",
        "\n",
        "# or instantiate an optimizer before passing it to model.compile\n",
        "sgd = optimizers.SGD(learning_rate=0.01, momentum=0.9, nesterov=True)\n",
        "model.compile(loss='categorical_crossentropy', optimizer=sgd)\n",
        "model.fit(X_trainN[:500,:], y_trainOHE[:500,:], epochs=1000, batch_size=16, validation_split=0, verbose=0)\n",
        "\n",
        "preds = model.predict(X_testN, verbose=0)\n",
        "preds = np.argmax(preds,axis=1)\n",
        "Accuracy = np.mean(preds == y_test)\n",
        "print('Accuracy = %.2f%s'%(Accuracy*100, '%'))"
      ]
    },
    {
      "cell_type": "markdown",
      "metadata": {
        "id": "hgrZfqJ6YM8Z"
      },
      "source": [
        "**UNGRADED TASK**: Create a graph with the histogram of the network weigths in the first hidden layer. It should look like the the following.\n",
        "\n",
        "Compare it with the histogram obtained in the previous exercise. Is there any effect due to the regularization?"
      ]
    },
    {
      "cell_type": "code",
      "execution_count": 17,
      "metadata": {
        "id": "-i3QpIgRYM8Z",
        "outputId": "eade03c5-264e-40dc-a0ba-c4fe903f0dbd",
        "colab": {
          "base_uri": "https://localhost:8080/",
          "height": 265
        }
      },
      "outputs": [
        {
          "output_type": "execute_result",
          "data": {
            "image/png": "[encoded data removed]",
            "text/plain": [
              "<IPython.core.display.Image object>"
            ]
          },
          "metadata": {},
          "execution_count": 17
        }
      ],
      "source": [
        "\n",
        "from IPython.display import Image\n",
        "Image(\"local/imgs/L21W2.png\")\n"
      ]
    },
    {
      "cell_type": "code",
      "execution_count": 46,
      "metadata": {
        "id": "PTYUuOFCYM8Z",
        "outputId": "1b549aab-2f8e-47e0-bb28-66a61bd2ade1",
        "colab": {
          "base_uri": "https://localhost:8080/",
          "height": 1000
        }
      },
      "outputs": [
        {
          "output_type": "execute_result",
          "data": {
            "text/plain": [
              "(array([1.000e+00, 2.000e+00, 1.000e+00, 0.000e+00, 2.000e+00, 2.000e+00,\n",
              "        3.000e+00, 4.000e+00, 3.000e+00, 3.000e+00, 8.000e+00, 8.000e+00,\n",
              "        1.200e+01, 1.000e+01, 1.600e+01, 2.500e+01, 2.400e+01, 4.800e+01,\n",
              "        5.400e+01, 8.100e+01, 1.000e+02, 1.470e+02, 1.910e+02, 2.740e+02,\n",
              "        3.160e+02, 4.340e+02, 6.040e+02, 8.200e+02, 9.020e+02, 1.173e+03,\n",
              "        1.545e+03, 1.751e+03, 2.049e+03, 2.115e+03, 2.299e+03, 2.379e+03,\n",
              "        2.380e+03, 2.404e+03, 2.479e+03, 2.535e+03, 2.632e+03, 2.559e+03,\n",
              "        2.562e+03, 2.605e+03, 2.598e+03, 2.638e+03, 2.512e+03, 2.542e+03,\n",
              "        2.527e+03, 2.563e+03, 2.633e+03, 2.539e+03, 2.542e+03, 2.658e+03,\n",
              "        2.487e+03, 2.566e+03, 2.620e+03, 2.586e+03, 2.571e+03, 2.568e+03,\n",
              "        2.385e+03, 2.369e+03, 2.346e+03, 2.254e+03, 1.951e+03, 1.904e+03,\n",
              "        1.667e+03, 1.382e+03, 1.103e+03, 9.530e+02, 7.590e+02, 5.910e+02,\n",
              "        5.040e+02, 3.380e+02, 2.740e+02, 2.120e+02, 1.670e+02, 1.250e+02,\n",
              "        8.500e+01, 8.400e+01, 3.800e+01, 3.600e+01, 1.700e+01, 1.800e+01,\n",
              "        1.600e+01, 1.500e+01, 5.000e+00, 1.100e+01, 8.000e+00, 5.000e+00,\n",
              "        7.000e+00, 3.000e+00, 1.000e+00, 2.000e+00, 1.000e+00, 2.000e+00,\n",
              "        0.000e+00, 1.000e+00, 0.000e+00, 1.000e+00]),\n",
              " array([-0.1109574 , -0.10870296, -0.10644852, -0.10419407, -0.10193963,\n",
              "        -0.09968518, -0.09743074, -0.0951763 , -0.09292186, -0.09066741,\n",
              "        -0.08841297, -0.08615853, -0.08390409, -0.08164965, -0.0793952 ,\n",
              "        -0.07714076, -0.07488631, -0.07263187, -0.07037743, -0.06812299,\n",
              "        -0.06586855, -0.0636141 , -0.06135966, -0.05910522, -0.05685078,\n",
              "        -0.05459633, -0.05234189, -0.05008745, -0.047833  , -0.04557856,\n",
              "        -0.04332412, -0.04106968, -0.03881523, -0.03656079, -0.03430635,\n",
              "        -0.03205191, -0.02979746, -0.02754302, -0.02528858, -0.02303413,\n",
              "        -0.02077969, -0.01852525, -0.01627081, -0.01401637, -0.01176192,\n",
              "        -0.00950748, -0.00725304, -0.00499859, -0.00274415, -0.00048971,\n",
              "         0.00176473,  0.00401918,  0.00627362,  0.00852806,  0.0107825 ,\n",
              "         0.01303695,  0.01529139,  0.01754583,  0.01980027,  0.02205472,\n",
              "         0.02430916,  0.0265636 ,  0.02881804,  0.03107249,  0.03332693,\n",
              "         0.03558137,  0.03783581,  0.04009026,  0.0423447 ,  0.04459914,\n",
              "         0.04685359,  0.04910803,  0.05136247,  0.05361691,  0.05587136,\n",
              "         0.0581258 ,  0.06038024,  0.06263468,  0.06488913,  0.06714357,\n",
              "         0.06939802,  0.07165246,  0.0739069 ,  0.07616134,  0.07841578,\n",
              "         0.08067022,  0.08292467,  0.08517911,  0.08743355,  0.089688  ,\n",
              "         0.09194244,  0.09419688,  0.09645133,  0.09870577,  0.10096021,\n",
              "         0.10321465,  0.10546909,  0.10772353,  0.10997798,  0.11223242,\n",
              "         0.11448687]),\n",
              " <BarContainer object of 100 artists>)"
            ]
          },
          "metadata": {},
          "execution_count": 46
        },
        {
          "output_type": "display_data",
          "data": {
            "text/plain": [
              "<Figure size 640x480 with 1 Axes>"
            ],
            "image/png": "[encoded data removed]"
          },
          "metadata": {}
        }
      ],
      "source": [
        "pesos_l2, biases_l2 = model.layers[0].get_weights()\n",
        "pesos_l2.shape\n",
        "plt.hist(pesos_l2.flatten(), bins=100)"
      ]
    },
    {
      "cell_type": "markdown",
      "metadata": {
        "id": "NPJ-hw1GYM8a"
      },
      "source": [
        "## TASK 3: $L_1$+$L_2$ regularization\n",
        "\n",
        "Create a model like on TASK 1, but use $L_1$+$L_2$ regularization to every hidden layer (in `kernel_regularizer`) with both regularization parameters equal to 0.0001.\n",
        "\n",
        "Use [tf.keras.regularizers.L1L2](https://www.tensorflow.org/api_docs/python/tf/keras/regularizers/L1L2)"
      ]
    },
    {
      "cell_type": "code",
      "execution_count": 51,
      "metadata": {
        "id": "3mkHu5C2YM8a"
      },
      "outputs": [],
      "source": [
        "def get_L1L2_model(input_dim, nb_classes):\n",
        "    from tensorflow.keras.models import Sequential\n",
        "    from tensorflow.keras.layers import Dense\n",
        "    from tensorflow.keras import regularizers\n",
        "\n",
        "    model = Sequential([\n",
        "        Dense(128, activation='relu', input_shape=(input_dim,),\n",
        "              kernel_regularizer=regularizers.L1L2(l1=0.0001, l2=0.0001)),\n",
        "        Dense(64, activation='relu',\n",
        "              kernel_regularizer=regularizers.L1L2(l1=0.0001, l2=0.0001)),\n",
        "        Dense(32, activation='relu',\n",
        "              kernel_regularizer=regularizers.L1L2(l1=0.0001, l2=0.0001)),\n",
        "        Dense(16, activation='relu',\n",
        "              kernel_regularizer=regularizers.L1L2(l1=0.0001, l2=0.0001)),\n",
        "        Dense(nb_classes, activation='softmax')])\n",
        "\n",
        "    return model"
      ]
    },
    {
      "cell_type": "code",
      "execution_count": 52,
      "metadata": {
        "id": "sA13uausYM8b",
        "outputId": "1f478a9a-e8a8-4b51-eb8f-897eb405d1e8",
        "colab": {
          "base_uri": "https://localhost:8080/",
          "height": 293
        }
      },
      "outputs": [
        {
          "output_type": "display_data",
          "data": {
            "text/plain": [
              "\u001b[1mModel: \"sequential_10\"\u001b[0m\n"
            ],
            "text/html": [
              "<pre style=\"white-space:pre;overflow-x:auto;line-height:normal;font-family:Menlo,'DejaVu Sans Mono',consolas,'Courier New',monospace\"><span style=\"font-weight: bold\">Model: \"sequential_10\"</span>\n",
              "</pre>\n"
            ]
          },
          "metadata": {}
        },
        {
          "output_type": "display_data",
          "data": {
            "text/plain": [
              "┏━━━━━━━━━━━━━━━━━━━━━━━━━━━━━━━━━━━━━━┳━━━━━━━━━━━━━━━━━━━━━━━━━━━━━┳━━━━━━━━━━━━━━━━━┓\n",
              "┃\u001b[1m \u001b[0m\u001b[1mLayer (type)                        \u001b[0m\u001b[1m \u001b[0m┃\u001b[1m \u001b[0m\u001b[1mOutput Shape               \u001b[0m\u001b[1m \u001b[0m┃\u001b[1m \u001b[0m\u001b[1m        Param #\u001b[0m\u001b[1m \u001b[0m┃\n",
              "┡━━━━━━━━━━━━━━━━━━━━━━━━━━━━━━━━━━━━━━╇━━━━━━━━━━━━━━━━━━━━━━━━━━━━━╇━━━━━━━━━━━━━━━━━┩\n",
              "│ dense_50 (\u001b[38;5;33mDense\u001b[0m)                     │ (\u001b[38;5;45mNone\u001b[0m, \u001b[38;5;34m128\u001b[0m)                 │         \u001b[38;5;34m100,480\u001b[0m │\n",
              "├──────────────────────────────────────┼─────────────────────────────┼─────────────────┤\n",
              "│ dense_51 (\u001b[38;5;33mDense\u001b[0m)                     │ (\u001b[38;5;45mNone\u001b[0m, \u001b[38;5;34m64\u001b[0m)                  │           \u001b[38;5;34m8,256\u001b[0m │\n",
              "├──────────────────────────────────────┼─────────────────────────────┼─────────────────┤\n",
              "│ dense_52 (\u001b[38;5;33mDense\u001b[0m)                     │ (\u001b[38;5;45mNone\u001b[0m, \u001b[38;5;34m32\u001b[0m)                  │           \u001b[38;5;34m2,080\u001b[0m │\n",
              "├──────────────────────────────────────┼─────────────────────────────┼─────────────────┤\n",
              "│ dense_53 (\u001b[38;5;33mDense\u001b[0m)                     │ (\u001b[38;5;45mNone\u001b[0m, \u001b[38;5;34m16\u001b[0m)                  │             \u001b[38;5;34m528\u001b[0m │\n",
              "├──────────────────────────────────────┼─────────────────────────────┼─────────────────┤\n",
              "│ dense_54 (\u001b[38;5;33mDense\u001b[0m)                     │ (\u001b[38;5;45mNone\u001b[0m, \u001b[38;5;34m10\u001b[0m)                  │             \u001b[38;5;34m170\u001b[0m │\n",
              "└──────────────────────────────────────┴─────────────────────────────┴─────────────────┘\n"
            ],
            "text/html": [
              "<pre style=\"white-space:pre;overflow-x:auto;line-height:normal;font-family:Menlo,'DejaVu Sans Mono',consolas,'Courier New',monospace\">┏━━━━━━━━━━━━━━━━━━━━━━━━━━━━━━━━━━━━━━┳━━━━━━━━━━━━━━━━━━━━━━━━━━━━━┳━━━━━━━━━━━━━━━━━┓\n",
              "┃<span style=\"font-weight: bold\"> Layer (type)                         </span>┃<span style=\"font-weight: bold\"> Output Shape                </span>┃<span style=\"font-weight: bold\">         Param # </span>┃\n",
              "┡━━━━━━━━━━━━━━━━━━━━━━━━━━━━━━━━━━━━━━╇━━━━━━━━━━━━━━━━━━━━━━━━━━━━━╇━━━━━━━━━━━━━━━━━┩\n",
              "│ dense_50 (<span style=\"color: #0087ff; text-decoration-color: #0087ff\">Dense</span>)                     │ (<span style=\"color: #00d7ff; text-decoration-color: #00d7ff\">None</span>, <span style=\"color: #00af00; text-decoration-color: #00af00\">128</span>)                 │         <span style=\"color: #00af00; text-decoration-color: #00af00\">100,480</span> │\n",
              "├──────────────────────────────────────┼─────────────────────────────┼─────────────────┤\n",
              "│ dense_51 (<span style=\"color: #0087ff; text-decoration-color: #0087ff\">Dense</span>)                     │ (<span style=\"color: #00d7ff; text-decoration-color: #00d7ff\">None</span>, <span style=\"color: #00af00; text-decoration-color: #00af00\">64</span>)                  │           <span style=\"color: #00af00; text-decoration-color: #00af00\">8,256</span> │\n",
              "├──────────────────────────────────────┼─────────────────────────────┼─────────────────┤\n",
              "│ dense_52 (<span style=\"color: #0087ff; text-decoration-color: #0087ff\">Dense</span>)                     │ (<span style=\"color: #00d7ff; text-decoration-color: #00d7ff\">None</span>, <span style=\"color: #00af00; text-decoration-color: #00af00\">32</span>)                  │           <span style=\"color: #00af00; text-decoration-color: #00af00\">2,080</span> │\n",
              "├──────────────────────────────────────┼─────────────────────────────┼─────────────────┤\n",
              "│ dense_53 (<span style=\"color: #0087ff; text-decoration-color: #0087ff\">Dense</span>)                     │ (<span style=\"color: #00d7ff; text-decoration-color: #00d7ff\">None</span>, <span style=\"color: #00af00; text-decoration-color: #00af00\">16</span>)                  │             <span style=\"color: #00af00; text-decoration-color: #00af00\">528</span> │\n",
              "├──────────────────────────────────────┼─────────────────────────────┼─────────────────┤\n",
              "│ dense_54 (<span style=\"color: #0087ff; text-decoration-color: #0087ff\">Dense</span>)                     │ (<span style=\"color: #00d7ff; text-decoration-color: #00d7ff\">None</span>, <span style=\"color: #00af00; text-decoration-color: #00af00\">10</span>)                  │             <span style=\"color: #00af00; text-decoration-color: #00af00\">170</span> │\n",
              "└──────────────────────────────────────┴─────────────────────────────┴─────────────────┘\n",
              "</pre>\n"
            ]
          },
          "metadata": {}
        },
        {
          "output_type": "display_data",
          "data": {
            "text/plain": [
              "\u001b[1m Total params: \u001b[0m\u001b[38;5;34m111,514\u001b[0m (435.60 KB)\n"
            ],
            "text/html": [
              "<pre style=\"white-space:pre;overflow-x:auto;line-height:normal;font-family:Menlo,'DejaVu Sans Mono',consolas,'Courier New',monospace\"><span style=\"font-weight: bold\"> Total params: </span><span style=\"color: #00af00; text-decoration-color: #00af00\">111,514</span> (435.60 KB)\n",
              "</pre>\n"
            ]
          },
          "metadata": {}
        },
        {
          "output_type": "display_data",
          "data": {
            "text/plain": [
              "\u001b[1m Trainable params: \u001b[0m\u001b[38;5;34m111,514\u001b[0m (435.60 KB)\n"
            ],
            "text/html": [
              "<pre style=\"white-space:pre;overflow-x:auto;line-height:normal;font-family:Menlo,'DejaVu Sans Mono',consolas,'Courier New',monospace\"><span style=\"font-weight: bold\"> Trainable params: </span><span style=\"color: #00af00; text-decoration-color: #00af00\">111,514</span> (435.60 KB)\n",
              "</pre>\n"
            ]
          },
          "metadata": {}
        },
        {
          "output_type": "display_data",
          "data": {
            "text/plain": [
              "\u001b[1m Non-trainable params: \u001b[0m\u001b[38;5;34m0\u001b[0m (0.00 B)\n"
            ],
            "text/html": [
              "<pre style=\"white-space:pre;overflow-x:auto;line-height:normal;font-family:Menlo,'DejaVu Sans Mono',consolas,'Courier New',monospace\"><span style=\"font-weight: bold\"> Non-trainable params: </span><span style=\"color: #00af00; text-decoration-color: #00af00\">0</span> (0.00 B)\n",
              "</pre>\n"
            ]
          },
          "metadata": {}
        }
      ],
      "source": [
        "model = get_L1L2_model(784, 10)\n",
        "model.summary()"
      ]
    },
    {
      "cell_type": "markdown",
      "metadata": {
        "id": "OqsNbySfYM8b"
      },
      "source": [
        "inspect layer regularizers"
      ]
    },
    {
      "cell_type": "code",
      "execution_count": 53,
      "metadata": {
        "id": "rRKoI9XEYM8b",
        "outputId": "f545204e-3564-4a53-e16f-30ba652f0900",
        "colab": {
          "base_uri": "https://localhost:8080/"
        }
      },
      "outputs": [
        {
          "output_type": "stream",
          "name": "stdout",
          "text": [
            "dense_50 --> <keras.src.regularizers.regularizers.L1L2 object at 0x7c595bf9b370>\n",
            "dense_51 --> <keras.src.regularizers.regularizers.L1L2 object at 0x7c595bf9b670>\n",
            "dense_52 --> <keras.src.regularizers.regularizers.L1L2 object at 0x7c595bf9b2e0>\n",
            "dense_53 --> <keras.src.regularizers.regularizers.L1L2 object at 0x7c5960f23fd0>\n",
            "dense_54 --> None\n"
          ]
        }
      ],
      "source": [
        "for layer in model.layers:\n",
        "    print (layer.name, '-->', layer.kernel_regularizer)"
      ]
    },
    {
      "cell_type": "markdown",
      "metadata": {
        "id": "Lhq77sbsYM8b"
      },
      "source": [
        "**Registra tu solución en linea**"
      ]
    },
    {
      "cell_type": "code",
      "execution_count": 54,
      "metadata": {
        "scrolled": true,
        "id": "cd_UDVH2YM8c",
        "outputId": "5f7da421-827b-4e1d-9dd9-338ab9085f78",
        "colab": {
          "base_uri": "https://localhost:8080/",
          "height": 111
        }
      },
      "outputs": [
        {
          "output_type": "display_data",
          "data": {
            "text/plain": [
              "<IPython.core.display.HTML object>"
            ],
            "text/html": [
              "\n",
              "                    <b>T3 submitted.</b> <b><font color=\"blue\">your grade is 5</font></b> \n",
              "                    <p/><pre>----- grader message -------</pre><b>correct</b><pre>----------------------------</pre>\n",
              "                    <p/><p/>\n",
              "                    <div style=\"font-size:10px\"><b>SUBMISSION CODE</b> E3hlNU40fuJBExJUVU96OapAwNUyhsWnVP7wXE9Vl6DqO30f+eU3dFd4i36WqAOT/MGYww7J6aE5yPyff4D3eyEwPyxgqZC+3qpBsQpBkN6srf1Pdw1Imb6BQ3K+PLVVAzXHBIOk7tuq/O4YlkhmUciRl/FkBQLAfeimwc4Dnt4=</div>\n",
              "                    "
            ]
          },
          "metadata": {}
        }
      ],
      "source": [
        "student.submit_task(namespace=globals(), task_id='T3');"
      ]
    },
    {
      "cell_type": "markdown",
      "metadata": {
        "id": "8GHnTxtBYM8c"
      },
      "source": [
        "Run the following cell to train and test the model"
      ]
    },
    {
      "cell_type": "code",
      "execution_count": 57,
      "metadata": {
        "id": "QuG6Rq9SYM8o",
        "outputId": "19acdd31-0299-40e2-9170-b381a6a5f2f0",
        "colab": {
          "base_uri": "https://localhost:8080/"
        }
      },
      "outputs": [
        {
          "output_type": "stream",
          "name": "stdout",
          "text": [
            "Accuracy = 75.98%\n"
          ]
        }
      ],
      "source": [
        "from tensorflow.keras import optimizers\n",
        "model = get_L1L2_model(784, 10)\n",
        "\n",
        "# or instantiate an optimizer before passing it to model.compile\n",
        "sgd = optimizers.SGD(learning_rate=0.01, decay=1e-6, momentum=0.9, nesterov=True)\n",
        "model.compile(loss='categorical_crossentropy', optimizer=sgd)\n",
        "model.fit(X_trainN[:500,:], y_trainOHE[:500,:], epochs=1000, batch_size=16, validation_split=0, verbose=0)\n",
        "\n",
        "preds = model.predict(X_testN, verbose=0)\n",
        "preds = np.argmax(preds,axis=1)\n",
        "Accuracy = np.mean(preds == y_test)\n",
        "print('Accuracy = %.2f%s'%(Accuracy*100, '%'))"
      ]
    },
    {
      "cell_type": "markdown",
      "metadata": {
        "id": "Jonp8v8-YM8p"
      },
      "source": [
        "**UNGRADED TASK**: Create a graph with the histogram of the network weigths in the first hidden layer. It should look like the the following.\n",
        "\n",
        "Compare it with the histograms obtained in the previous exercises. What is the effect of applying $L_1$ regularization?"
      ]
    },
    {
      "cell_type": "code",
      "execution_count": 58,
      "metadata": {
        "id": "HGRkT2w_YM8p",
        "outputId": "e9180206-7aa3-4daa-fe82-874e6f4ffc10",
        "colab": {
          "base_uri": "https://localhost:8080/",
          "height": 265
        }
      },
      "outputs": [
        {
          "output_type": "execute_result",
          "data": {
            "image/png": "[encoded data removed]",
            "text/plain": [
              "<IPython.core.display.Image object>"
            ]
          },
          "metadata": {},
          "execution_count": 58
        }
      ],
      "source": [
        "\n",
        "from IPython.display import Image\n",
        "Image(\"local/imgs/L21W3.png\")\n"
      ]
    },
    {
      "cell_type": "code",
      "execution_count": 59,
      "metadata": {
        "id": "cPved4CAYM8q",
        "outputId": "ec629cb7-f213-45d9-8bbd-69c60512d164",
        "colab": {
          "base_uri": "https://localhost:8080/",
          "height": 1000
        }
      },
      "outputs": [
        {
          "output_type": "execute_result",
          "data": {
            "text/plain": [
              "(array([1.0000e+00, 0.0000e+00, 0.0000e+00, 0.0000e+00, 1.0000e+00,\n",
              "        0.0000e+00, 1.0000e+00, 0.0000e+00, 0.0000e+00, 1.0000e+00,\n",
              "        0.0000e+00, 3.0000e+00, 2.0000e+00, 2.0000e+00, 3.0000e+00,\n",
              "        4.0000e+00, 3.0000e+00, 3.0000e+00, 4.0000e+00, 3.0000e+00,\n",
              "        2.0000e+00, 4.0000e+00, 5.0000e+00, 2.0000e+00, 5.0000e+00,\n",
              "        8.0000e+00, 1.0000e+01, 9.0000e+00, 1.7000e+01, 1.7000e+01,\n",
              "        7.0000e+00, 2.0000e+01, 2.3000e+01, 2.6000e+01, 1.5000e+01,\n",
              "        2.7000e+01, 2.5000e+01, 3.5000e+01, 3.2000e+01, 5.0000e+01,\n",
              "        4.2000e+01, 6.4000e+01, 7.0000e+01, 6.5000e+01, 9.7000e+01,\n",
              "        1.1500e+02, 9.8727e+04, 1.5300e+02, 7.8000e+01, 6.5000e+01,\n",
              "        5.7000e+01, 5.6000e+01, 4.3000e+01, 3.8000e+01, 2.7000e+01,\n",
              "        3.0000e+01, 2.7000e+01, 2.4000e+01, 1.8000e+01, 2.2000e+01,\n",
              "        1.7000e+01, 1.8000e+01, 1.5000e+01, 1.3000e+01, 1.1000e+01,\n",
              "        1.0000e+01, 7.0000e+00, 1.1000e+01, 8.0000e+00, 3.0000e+00,\n",
              "        6.0000e+00, 3.0000e+00, 4.0000e+00, 1.0000e+00, 4.0000e+00,\n",
              "        1.0000e+00, 2.0000e+00, 3.0000e+00, 2.0000e+00, 1.0000e+00,\n",
              "        0.0000e+00, 4.0000e+00, 1.0000e+00, 2.0000e+00, 3.0000e+00,\n",
              "        2.0000e+00, 2.0000e+00, 0.0000e+00, 0.0000e+00, 4.0000e+00,\n",
              "        1.0000e+00, 1.0000e+00, 0.0000e+00, 2.0000e+00, 0.0000e+00,\n",
              "        0.0000e+00, 0.0000e+00, 0.0000e+00, 0.0000e+00, 2.0000e+00]),\n",
              " array([-0.21018623, -0.20569859, -0.20121096, -0.19672333, -0.19223569,\n",
              "        -0.18774804, -0.18326041, -0.17877278, -0.17428514, -0.16979751,\n",
              "        -0.16530988, -0.16082224, -0.15633461, -0.15184698, -0.14735933,\n",
              "        -0.14287169, -0.13838406, -0.13389643, -0.12940879, -0.12492116,\n",
              "        -0.12043352, -0.11594588, -0.11145825, -0.10697062, -0.10248298,\n",
              "        -0.09799534, -0.09350771, -0.08902007, -0.08453244, -0.08004481,\n",
              "        -0.07555716, -0.07106953, -0.0665819 , -0.06209426, -0.05760663,\n",
              "        -0.05311899, -0.04863136, -0.04414372, -0.03965608, -0.03516845,\n",
              "        -0.03068081, -0.02619318, -0.02170554, -0.01721791, -0.01273027,\n",
              "        -0.00824264, -0.003755  ,  0.00073263,  0.00522027,  0.0097079 ,\n",
              "         0.01419554,  0.01868317,  0.02317081,  0.02765845,  0.03214608,\n",
              "         0.03663372,  0.04112135,  0.04560899,  0.05009662,  0.05458426,\n",
              "         0.05907189,  0.06355952,  0.06804717,  0.0725348 ,  0.07702243,\n",
              "         0.08151007,  0.08599771,  0.09048534,  0.09497298,  0.09946061,\n",
              "         0.10394824,  0.10843588,  0.11292352,  0.11741115,  0.12189879,\n",
              "         0.12638642,  0.13087405,  0.13536169,  0.13984933,  0.14433697,\n",
              "         0.1488246 ,  0.15331224,  0.15779987,  0.1622875 ,  0.16677514,\n",
              "         0.17126277,  0.1757504 ,  0.18023805,  0.18472569,  0.18921332,\n",
              "         0.19370095,  0.19818859,  0.20267622,  0.20716386,  0.21165149,\n",
              "         0.21613912,  0.22062677,  0.22511441,  0.22960204,  0.23408967,\n",
              "         0.23857731]),\n",
              " <BarContainer object of 100 artists>)"
            ]
          },
          "metadata": {},
          "execution_count": 59
        },
        {
          "output_type": "display_data",
          "data": {
            "text/plain": [
              "<Figure size 640x480 with 1 Axes>"
            ],
            "image/png": "[encoded data removed]"
          },
          "metadata": {}
        }
      ],
      "source": [
        "pesos_l1, biases_l1 = model.layers[0].get_weights()\n",
        "pesos_l1.shape\n",
        "plt.hist(pesos_l1.flatten(), bins=100)"
      ]
    },
    {
      "cell_type": "markdown",
      "metadata": {
        "id": "XlucxMHJYM8r"
      },
      "source": [
        "Create a graph with the histogram of the network weigths in the first hidden layer. Compare it with the histograms obtained in the previous exercises. What is the effect of applying $L_1$ regularization?"
      ]
    },
    {
      "cell_type": "markdown",
      "metadata": {
        "id": "M4T5zWEWYM8s"
      },
      "source": [
        "### TASK 4: Customized loss function"
      ]
    },
    {
      "cell_type": "markdown",
      "metadata": {
        "id": "sqmAPvYPYM8v"
      },
      "source": [
        "Complete the function below to implement the following loss function:\n",
        "\n",
        "$$\\mathcal{L}({\\bf{\\hat{y}}},{\\bf{y}}) = -\\frac{1}{N}\\sum_{i=1}^N \\sum_{j=1}^C {\\bf{1}}_{y_i \\in C_j} w_{j}\\log p_{model}[y_i \\in C_j]$$\n",
        "\n",
        "which corresponds to a weighted version of the categorical cross entropy loss function (take a look to the [section 2.2](https://rramosp.github.io/2021.deeplearning/content/U2.02%20-%20The%20Multilayer%20Perceptron.html#sequential-models) to remember the notation of the categorical cross-entropy loss function).\n",
        "\n",
        "Note the following observations:\n",
        "\n",
        "- the function below **returns a function** tied to a specific set of weights. This way we can create different loss functions tied to different weights.\n",
        "- you can assume `y_pred` to be the output of a **softmax** layer. This is, that for each `y` there is a predicted probability for each class $\\in [0,1]$ and summing all up to 1.\n",
        "- before using the `tf.mat.log` function, pass `y_pred` through [`tf.clip_by_value`](https://www.tensorflow.org/api_docs/python/tf/clip_by_value) to ensure any value is between `K.epsilon()` and `1-K.epsilon()`. This is to avoid extreme values close to `0` or close to `1` which might cause numerical issues.\n",
        "- both `y_pred` and `y_true` will be tensors of shape `(m,c)` with `m` being the number of data points and `c` the number of classes.\n",
        "- your answer must be accurate up to three decimal number.\n",
        "- use [`tf.reduce_mean`](https://www.tensorflow.org/api_docs/python/tf/math/reduce_mean) for the first summation, and [`tf.reduce_sum`](`https://www.tensorflow.org/api_docs/python/tf/math/reduce_sum`) for the second summation with the corresponding `axis` argument.\n",
        "\n",
        "**HINT**: experiment and understand `tf.reduce_mean` and `tf.reduce_sum` before implementing the function"
      ]
    },
    {
      "cell_type": "code",
      "execution_count": 60,
      "metadata": {
        "id": "OvwySdkVYM8w",
        "outputId": "7aec1017-2249-43b1-f4f7-ee75f333de9c",
        "colab": {
          "base_uri": "https://localhost:8080/"
        }
      },
      "outputs": [
        {
          "output_type": "execute_result",
          "data": {
            "text/plain": [
              "1e-07"
            ]
          },
          "metadata": {},
          "execution_count": 60
        }
      ],
      "source": [
        "from tensorflow.keras import backend as K\n",
        "K.epsilon()"
      ]
    },
    {
      "cell_type": "code",
      "execution_count": 61,
      "metadata": {
        "id": "ZyoFlq4OYM8y",
        "outputId": "10b4032c-7646-46ce-b0c9-0d78ed667252",
        "colab": {
          "base_uri": "https://localhost:8080/"
        }
      },
      "outputs": [
        {
          "output_type": "stream",
          "name": "stdout",
          "text": [
            "[[66 80 78  7 11]\n",
            " [93 84 17 93 19]\n",
            " [48 35 86 47  6]]\n",
            "tf.Tensor(51, shape=(), dtype=int64)\n",
            "tf.Tensor([207 199 181 147  36], shape=(5,), dtype=int64)\n"
          ]
        }
      ],
      "source": [
        "z = np.random.randint(100, size=(3,5))\n",
        "print (z)\n",
        "print (tf.reduce_mean(z))\n",
        "print (tf.reduce_sum(z, axis=0))"
      ]
    },
    {
      "cell_type": "code",
      "execution_count": 63,
      "metadata": {
        "id": "-jl9Dv2qYM85"
      },
      "outputs": [],
      "source": [
        "def weighted_categorical_crossentropy(weights):\n",
        "    from tensorflow.keras import backend as K\n",
        "\n",
        "    def loss_function(y_true, y_pred):\n",
        "        # clip y_pred to prevent NaN's and Inf's\n",
        "        y_pred = K.clip(y_pred, K.epsilon(), 1 - K.epsilon())\n",
        "\n",
        "        # compute loss\n",
        "        loss = -y_true * K.log(y_pred) * weights\n",
        "        loss = tf.reduce_mean(tf.reduce_sum(loss, axis=1))\n",
        "        return loss\n",
        "\n",
        "    return loss_function"
      ]
    },
    {
      "cell_type": "markdown",
      "metadata": {
        "id": "Ji7DtqOhYM86"
      },
      "source": [
        "manually test your code with the following cases"
      ]
    },
    {
      "cell_type": "code",
      "execution_count": 64,
      "metadata": {
        "id": "xf5ZantHYM86",
        "outputId": "be071294-2435-48ac-83b1-0ccc179ad9db",
        "colab": {
          "base_uri": "https://localhost:8080/"
        }
      },
      "outputs": [
        {
          "output_type": "stream",
          "name": "stdout",
          "text": [
            "loss 3.4065902\n",
            "loss 10.7990465\n"
          ]
        }
      ],
      "source": [
        "y_pred = np.array([[0.14285714, 0.        , 0.68367347, 0.17346939],\n",
        "                   [0.01020408, 0.60714286, 0.10204082, 0.28061224],\n",
        "                   [0.1733871 , 0.29435484, 0.24193548, 0.29032258],\n",
        "                   [0.25403226, 0.24596774, 0.19758065, 0.30241935],\n",
        "                   [0.52073733, 0.10138249, 0.11981567, 0.25806452],\n",
        "                   [0.47843137, 0.05882353, 0.24313725, 0.21960784]]).astype(np.float32)\n",
        "\n",
        "y_true = np.array([[0, 1, 0, 0],\n",
        "                   [0, 1, 0, 0],\n",
        "                   [0, 0, 0, 1],\n",
        "                   [0, 0, 0, 1],\n",
        "                   [1, 0, 0, 0],\n",
        "                   [1, 0, 0, 0]]).astype(np.float32)\n",
        "\n",
        "\n",
        "loss = weighted_categorical_crossentropy([1,1,1,1])\n",
        "print (\"loss\", loss(y_true, y_pred).numpy()) # this should return 3.4066\n",
        "loss = weighted_categorical_crossentropy([2,3,4,5])\n",
        "print (\"loss\", loss(y_true, y_pred).numpy()) # this should return 10.7990\n"
      ]
    },
    {
      "cell_type": "markdown",
      "metadata": {
        "id": "F66jsUtKYM87"
      },
      "source": [
        "test with random data"
      ]
    },
    {
      "cell_type": "code",
      "execution_count": 65,
      "metadata": {
        "id": "T1q4Yl4sYM87",
        "outputId": "d7856943-8704-41f3-b59f-a8427d9ec922",
        "colab": {
          "base_uri": "https://localhost:8080/"
        }
      },
      "outputs": [
        {
          "output_type": "stream",
          "name": "stdout",
          "text": [
            "y_true:\n",
            " [[1 0 0]\n",
            " [1 0 0]\n",
            " [0 0 1]\n",
            " [0 1 0]\n",
            " [0 0 1]]\n",
            "y_pred:\n",
            " [[0.         0.96875002 0.03125   ]\n",
            " [0.55121953 0.33658537 0.11219512]\n",
            " [0.1754386  0.46491229 0.35964913]\n",
            " [0.27027027 0.59459459 0.13513513]\n",
            " [0.07692308 0.40384617 0.51923079]]\n",
            "w: [7.55 9.63 8.65]\n",
            "\n",
            "loss:  29.14199142959101\n"
          ]
        }
      ],
      "source": [
        "m,c = np.random.randint(5)+5,np.random.randint(3)+2\n",
        "y_true = np.eye(c)[np.random.randint(c, size=m)].astype(int)\n",
        "y_pred = np.abs(y_true + np.round(np.random.random(size=(m,c)),2)*2 - .5)\n",
        "y_pred[0,np.argmax(y_true[0])]=0 # force some zero to check clipping\n",
        "y_pred /= np.sum(y_pred,axis=1).reshape(-1,1).astype(np.float32)\n",
        "\n",
        "w = np.round(np.random.random(size=c)*10+1,2)\n",
        "\n",
        "print(\"y_true:\\n\", y_true)\n",
        "print(\"y_pred:\\n\", y_pred)\n",
        "print (\"w:\", w)\n",
        "\n",
        "loss = weighted_categorical_crossentropy(w)\n",
        "\n",
        "print (\"\\nloss: \", loss(y_true, y_pred).numpy())"
      ]
    },
    {
      "cell_type": "markdown",
      "metadata": {
        "id": "xto_S6vVYM88"
      },
      "source": [
        "**Registra tu solución en linea**"
      ]
    },
    {
      "cell_type": "code",
      "execution_count": 68,
      "metadata": {
        "id": "mGvEEb0lYM89",
        "outputId": "a57496ea-d8ba-41c6-eddd-20a1da7c7593",
        "colab": {
          "base_uri": "https://localhost:8080/",
          "height": 111
        }
      },
      "outputs": [
        {
          "output_type": "display_data",
          "data": {
            "text/plain": [
              "<IPython.core.display.HTML object>"
            ],
            "text/html": [
              "\n",
              "                    <b>T4 submitted.</b> <b><font color=\"blue\">your grade is 5</font></b> \n",
              "                    <p/><pre>----- grader message -------</pre><b>correct</b><pre>----------------------------</pre>\n",
              "                    <p/><p/>\n",
              "                    <div style=\"font-size:10px\"><b>SUBMISSION CODE</b> pwqMcuN905ogr5kkLf3icpaQ1Q5Xn3z+7oDetXdfiGlhvPNimAwE8JlltKMq9oApy17xKpEu30TN29rQxwjUi7tlT7vsFEB4g6e2wMdh7bAMSjO2U5gl3urmpptu+bqN4rPAXMIFXrYzHYmdCJffI/1E1ZmNmjVWLS3f6onWqqw=</div>\n",
              "                    "
            ]
          },
          "metadata": {}
        }
      ],
      "source": [
        "student.submit_task(namespace=globals(), task_id='T4');"
      ]
    },
    {
      "cell_type": "code",
      "execution_count": null,
      "metadata": {
        "id": "yUBiW6WxYM8-"
      },
      "outputs": [],
      "source": []
    },
    {
      "cell_type": "markdown",
      "metadata": {
        "id": "b9GRE_uyYM8_"
      },
      "source": [
        "**UNGRADED TASK**\n",
        "\n",
        "**Test your loss function in model**. Use the weighted categorical cross entropy function to train the MLP model on the Fashion MNIST dataset with 2 hidden layers of 64 and 32 neurons respectively. Use the two sets of weights below. Evaluate the model with the test dataset and plot the confusion matrix.\n",
        "\n",
        "Your should get confusion matrices such as the ones below. Left is with `weights0`, center with `weights1` and right with `weights2`. Observe what classes improve their accuracy based on the weights."
      ]
    },
    {
      "cell_type": "code",
      "execution_count": 69,
      "metadata": {
        "id": "irp049y-YM9A",
        "outputId": "22e2540d-3646-4398-8157-abc9b83ad090",
        "colab": {
          "base_uri": "https://localhost:8080/",
          "height": 514
        }
      },
      "outputs": [
        {
          "output_type": "execute_result",
          "data": {
            "image/png": "[encoded data removed]",
            "text/plain": [
              "<IPython.core.display.Image object>"
            ]
          },
          "metadata": {},
          "execution_count": 69
        }
      ],
      "source": [
        "Image(\"local/imgs/L2.1_W.png\")"
      ]
    },
    {
      "cell_type": "code",
      "execution_count": 70,
      "metadata": {
        "id": "Jo6AoFiHYM9B"
      },
      "outputs": [],
      "source": [
        "weights0 = np.array([1,1,1,1,1,1,1,1,1,1])\n",
        "weights1 = np.array([1,1,1,1,1,1,4,1,1,1])\n",
        "weights2 = np.array([1.5,1,1,1,1,1,4,1,1,1])"
      ]
    },
    {
      "cell_type": "code",
      "execution_count": 71,
      "metadata": {
        "id": "_CXIn4EhYM9C"
      },
      "outputs": [],
      "source": [
        "def confusion_matrix(y_true, y_pred):\n",
        "    from sklearn.metrics import confusion_matrix\n",
        "    objects = ('Ankle Boot', 'Bag', 'Sneaker', 'Shirt', 'Sandal', 'Coat', 'Dress', 'Pullover', 'Trouser', 'T-shirt/top')\n",
        "    cm = confusion_matrix(y_true, y_pred)\n",
        "    cm = cm/np.sum(cm,axis=1)\n",
        "    cmap = plt.cm.Blues\n",
        "    tick_marks = np.arange(nb_classes)\n",
        "    fig, ax = plt.subplots(figsize=(10,10))\n",
        "    im = ax.imshow(cm, interpolation='nearest', cmap=cmap)\n",
        "    for i in range(cm.shape[0]):\n",
        "        for j in range(cm.shape[1]):\n",
        "            text = ax.text(j, i, np.around(cm[i, j],decimals=2),\n",
        "                           ha=\"center\", va=\"center\", color=\"w\")\n",
        "    plt.title('Normalized confusion matrix')\n",
        "    fig.colorbar(im)\n",
        "    plt.xticks(tick_marks, objects, rotation=45)\n",
        "    plt.yticks(tick_marks, objects);"
      ]
    },
    {
      "cell_type": "code",
      "source": [],
      "metadata": {
        "id": "y1lgAy5uPt_U"
      },
      "execution_count": null,
      "outputs": []
    }
  ],
  "metadata": {
    "kernelspec": {
      "display_name": "Python 3 (ipykernel)",
      "language": "python",
      "name": "python3"
    },
    "language_info": {
      "codemirror_mode": {
        "name": "ipython",
        "version": 3
      },
      "file_extension": ".py",
      "mimetype": "text/x-python",
      "name": "python",
      "nbconvert_exporter": "python",
      "pygments_lexer": "ipython3",
      "version": "3.10.8"
    },
    "varInspector": {
      "cols": {
        "lenName": 16,
        "lenType": 16,
        "lenVar": 40
      },
      "kernels_config": {
        "python": {
          "delete_cmd_postfix": "",
          "delete_cmd_prefix": "del ",
          "library": "var_list.py",
          "varRefreshCmd": "print(var_dic_list())"
        },
        "r": {
          "delete_cmd_postfix": ") ",
          "delete_cmd_prefix": "rm(",
          "library": "var_list.r",
          "varRefreshCmd": "cat(var_dic_list()) "
        }
      },
      "types_to_exclude": [
        "module",
        "function",
        "builtin_function_or_method",
        "instance",
        "_Feature"
      ],
      "window_display": false
    },
    "colab": {
      "provenance": [],
      "include_colab_link": true
    },
    "widgets": {
      "application/vnd.jupyter.widget-state+json": {
        "bb30054cfc6947019f058f07731f7f2f": {
          "model_module": "@jupyter-widgets/controls",
          "model_name": "HBoxModel",
          "model_module_version": "1.5.0",
          "state": {
            "_dom_classes": [],
            "_model_module": "@jupyter-widgets/controls",
            "_model_module_version": "1.5.0",
            "_model_name": "HBoxModel",
            "_view_count": null,
            "_view_module": "@jupyter-widgets/controls",
            "_view_module_version": "1.5.0",
            "_view_name": "HBoxView",
            "box_style": "",
            "children": [
              "IPY_MODEL_ce0f6ba2ffbf4bc5a7311d65a5e39cf6",
              "IPY_MODEL_46b7ad6256e24f718545d46800c171b2",
              "IPY_MODEL_a2caeb05a16b428b88e0a1bd13f5eeee",
              "IPY_MODEL_d8b123d6d0b5472ea66edcd7960f2892"
            ],
            "layout": "IPY_MODEL_e2713c57ee6742cd91ec7ffbdda4b9c0"
          }
        },
        "ce0f6ba2ffbf4bc5a7311d65a5e39cf6": {
          "model_module": "@jupyter-widgets/controls",
          "model_name": "VBoxModel",
          "model_module_version": "1.5.0",
          "state": {
            "_dom_classes": [],
            "_model_module": "@jupyter-widgets/controls",
            "_model_module_version": "1.5.0",
            "_model_name": "VBoxModel",
            "_view_count": null,
            "_view_module": "@jupyter-widgets/controls",
            "_view_module_version": "1.5.0",
            "_view_name": "VBoxView",
            "box_style": "",
            "children": [
              "IPY_MODEL_2726f19ffe484117b27cc03541c018d1",
              "IPY_MODEL_c5568a297c654bd6b69733db4bed7833"
            ],
            "layout": "IPY_MODEL_8b99a7875cab4796bf8eb4240893ad73"
          }
        },
        "46b7ad6256e24f718545d46800c171b2": {
          "model_module": "@jupyter-widgets/controls",
          "model_name": "ButtonModel",
          "model_module_version": "1.5.0",
          "state": {
            "_dom_classes": [
              "login_button"
            ],
            "_model_module": "@jupyter-widgets/controls",
            "_model_module_version": "1.5.0",
            "_model_name": "ButtonModel",
            "_view_count": null,
            "_view_module": "@jupyter-widgets/controls",
            "_view_module_version": "1.5.0",
            "_view_name": "ButtonView",
            "button_style": "",
            "description": "Login with email",
            "disabled": false,
            "icon": "",
            "layout": "IPY_MODEL_929c50b926e94c8e81911a8d92a46aae",
            "style": "IPY_MODEL_a101131f08294bd49d5c0319a1dad724",
            "tooltip": ""
          }
        },
        "a2caeb05a16b428b88e0a1bd13f5eeee": {
          "model_module": "@jupyter-widgets/controls",
          "model_name": "HTMLModel",
          "model_module_version": "1.5.0",
          "state": {
            "_dom_classes": [],
            "_model_module": "@jupyter-widgets/controls",
            "_model_module_version": "1.5.0",
            "_model_name": "HTMLModel",
            "_view_count": null,
            "_view_module": "@jupyter-widgets/controls",
            "_view_module_version": "1.5.0",
            "_view_name": "HTMLView",
            "description": "",
            "description_tooltip": null,
            "layout": "IPY_MODEL_1ea0d8f5d145427dac8d685847a8cefb",
            "placeholder": "​",
            "style": "IPY_MODEL_fe18466183644fd59f3c808054d3577d",
            "value": "<center><big>or</big></center>"
          }
        },
        "d8b123d6d0b5472ea66edcd7960f2892": {
          "model_module": "@jupyter-widgets/controls",
          "model_name": "ButtonModel",
          "model_module_version": "1.5.0",
          "state": {
            "_dom_classes": [
              "google_button"
            ],
            "_model_module": "@jupyter-widgets/controls",
            "_model_module_version": "1.5.0",
            "_model_name": "ButtonModel",
            "_view_count": null,
            "_view_module": "@jupyter-widgets/controls",
            "_view_module_version": "1.5.0",
            "_view_name": "ButtonView",
            "button_style": "",
            "description": "Login with Google",
            "disabled": false,
            "icon": "",
            "layout": "IPY_MODEL_5b7b0c84214043bd9cf865838f32a9ff",
            "style": "IPY_MODEL_6c9c23b87b8d417482d2f5daed4edd07",
            "tooltip": ""
          }
        },
        "e2713c57ee6742cd91ec7ffbdda4b9c0": {
          "model_module": "@jupyter-widgets/base",
          "model_name": "LayoutModel",
          "model_module_version": "1.2.0",
          "state": {
            "_model_module": "@jupyter-widgets/base",
            "_model_module_version": "1.2.0",
            "_model_name": "LayoutModel",
            "_view_count": null,
            "_view_module": "@jupyter-widgets/base",
            "_view_module_version": "1.2.0",
            "_view_name": "LayoutView",
            "align_content": null,
            "align_items": null,
            "align_self": null,
            "border": null,
            "bottom": null,
            "display": null,
            "flex": null,
            "flex_flow": null,
            "grid_area": null,
            "grid_auto_columns": null,
            "grid_auto_flow": null,
            "grid_auto_rows": null,
            "grid_column": null,
            "grid_gap": null,
            "grid_row": null,
            "grid_template_areas": null,
            "grid_template_columns": null,
            "grid_template_rows": null,
            "height": null,
            "justify_content": null,
            "justify_items": null,
            "left": null,
            "margin": null,
            "max_height": null,
            "max_width": null,
            "min_height": null,
            "min_width": null,
            "object_fit": null,
            "object_position": null,
            "order": null,
            "overflow": null,
            "overflow_x": null,
            "overflow_y": null,
            "padding": null,
            "right": null,
            "top": null,
            "visibility": null,
            "width": null
          }
        },
        "2726f19ffe484117b27cc03541c018d1": {
          "model_module": "@jupyter-widgets/controls",
          "model_name": "TextModel",
          "model_module_version": "1.5.0",
          "state": {
            "_dom_classes": [],
            "_model_module": "@jupyter-widgets/controls",
            "_model_module_version": "1.5.0",
            "_model_name": "TextModel",
            "_view_count": null,
            "_view_module": "@jupyter-widgets/controls",
            "_view_module_version": "1.5.0",
            "_view_name": "TextView",
            "continuous_update": true,
            "description": "email",
            "description_tooltip": null,
            "disabled": false,
            "layout": "IPY_MODEL_e2658418ec2c4e578c6de1298e61ca29",
            "placeholder": "​",
            "style": "IPY_MODEL_1348f702c023400eb9ab0a91252160f4",
            "value": ""
          }
        },
        "c5568a297c654bd6b69733db4bed7833": {
          "model_module": "@jupyter-widgets/controls",
          "model_name": "PasswordModel",
          "model_module_version": "1.5.0",
          "state": {
            "_dom_classes": [],
            "_model_module": "@jupyter-widgets/controls",
            "_model_module_version": "1.5.0",
            "_model_name": "PasswordModel",
            "_view_count": null,
            "_view_module": "@jupyter-widgets/controls",
            "_view_module_version": "1.5.0",
            "_view_name": "PasswordView",
            "continuous_update": true,
            "description": "password",
            "description_tooltip": null,
            "disabled": false,
            "layout": "IPY_MODEL_0a5f66f5d0754a44ae6801889e4aa3db",
            "placeholder": "​",
            "style": "IPY_MODEL_1c33b5b15ef14cb9a031983da0678335",
            "value": ""
          }
        },
        "8b99a7875cab4796bf8eb4240893ad73": {
          "model_module": "@jupyter-widgets/base",
          "model_name": "LayoutModel",
          "model_module_version": "1.2.0",
          "state": {
            "_model_module": "@jupyter-widgets/base",
            "_model_module_version": "1.2.0",
            "_model_name": "LayoutModel",
            "_view_count": null,
            "_view_module": "@jupyter-widgets/base",
            "_view_module_version": "1.2.0",
            "_view_name": "LayoutView",
            "align_content": null,
            "align_items": null,
            "align_self": null,
            "border": null,
            "bottom": null,
            "display": null,
            "flex": null,
            "flex_flow": null,
            "grid_area": null,
            "grid_auto_columns": null,
            "grid_auto_flow": null,
            "grid_auto_rows": null,
            "grid_column": null,
            "grid_gap": null,
            "grid_row": null,
            "grid_template_areas": null,
            "grid_template_columns": null,
            "grid_template_rows": null,
            "height": null,
            "justify_content": null,
            "justify_items": null,
            "left": null,
            "margin": null,
            "max_height": null,
            "max_width": null,
            "min_height": null,
            "min_width": null,
            "object_fit": null,
            "object_position": null,
            "order": null,
            "overflow": null,
            "overflow_x": null,
            "overflow_y": null,
            "padding": null,
            "right": null,
            "top": null,
            "visibility": null,
            "width": null
          }
        },
        "929c50b926e94c8e81911a8d92a46aae": {
          "model_module": "@jupyter-widgets/base",
          "model_name": "LayoutModel",
          "model_module_version": "1.2.0",
          "state": {
            "_model_module": "@jupyter-widgets/base",
            "_model_module_version": "1.2.0",
            "_model_name": "LayoutModel",
            "_view_count": null,
            "_view_module": "@jupyter-widgets/base",
            "_view_module_version": "1.2.0",
            "_view_name": "LayoutView",
            "align_content": null,
            "align_items": null,
            "align_self": null,
            "border": null,
            "bottom": null,
            "display": null,
            "flex": null,
            "flex_flow": null,
            "grid_area": null,
            "grid_auto_columns": null,
            "grid_auto_flow": null,
            "grid_auto_rows": null,
            "grid_column": null,
            "grid_gap": null,
            "grid_row": null,
            "grid_template_areas": null,
            "grid_template_columns": null,
            "grid_template_rows": null,
            "height": "53px",
            "justify_content": null,
            "justify_items": null,
            "left": null,
            "margin": null,
            "max_height": null,
            "max_width": null,
            "min_height": null,
            "min_width": null,
            "object_fit": null,
            "object_position": null,
            "order": null,
            "overflow": null,
            "overflow_x": null,
            "overflow_y": null,
            "padding": null,
            "right": null,
            "top": null,
            "visibility": null,
            "width": "150px"
          }
        },
        "a101131f08294bd49d5c0319a1dad724": {
          "model_module": "@jupyter-widgets/controls",
          "model_name": "ButtonStyleModel",
          "model_module_version": "1.5.0",
          "state": {
            "_model_module": "@jupyter-widgets/controls",
            "_model_module_version": "1.5.0",
            "_model_name": "ButtonStyleModel",
            "_view_count": null,
            "_view_module": "@jupyter-widgets/base",
            "_view_module_version": "1.2.0",
            "_view_name": "StyleView",
            "button_color": null,
            "font_weight": ""
          }
        },
        "1ea0d8f5d145427dac8d685847a8cefb": {
          "model_module": "@jupyter-widgets/base",
          "model_name": "LayoutModel",
          "model_module_version": "1.2.0",
          "state": {
            "_model_module": "@jupyter-widgets/base",
            "_model_module_version": "1.2.0",
            "_model_name": "LayoutModel",
            "_view_count": null,
            "_view_module": "@jupyter-widgets/base",
            "_view_module_version": "1.2.0",
            "_view_name": "LayoutView",
            "align_content": null,
            "align_items": null,
            "align_self": null,
            "border": null,
            "bottom": null,
            "display": null,
            "flex": null,
            "flex_flow": null,
            "grid_area": null,
            "grid_auto_columns": null,
            "grid_auto_flow": null,
            "grid_auto_rows": null,
            "grid_column": null,
            "grid_gap": null,
            "grid_row": null,
            "grid_template_areas": null,
            "grid_template_columns": null,
            "grid_template_rows": null,
            "height": null,
            "justify_content": null,
            "justify_items": null,
            "left": null,
            "margin": null,
            "max_height": null,
            "max_width": null,
            "min_height": null,
            "min_width": null,
            "object_fit": null,
            "object_position": null,
            "order": null,
            "overflow": null,
            "overflow_x": null,
            "overflow_y": null,
            "padding": null,
            "right": null,
            "top": null,
            "visibility": null,
            "width": "100px"
          }
        },
        "fe18466183644fd59f3c808054d3577d": {
          "model_module": "@jupyter-widgets/controls",
          "model_name": "DescriptionStyleModel",
          "model_module_version": "1.5.0",
          "state": {
            "_model_module": "@jupyter-widgets/controls",
            "_model_module_version": "1.5.0",
            "_model_name": "DescriptionStyleModel",
            "_view_count": null,
            "_view_module": "@jupyter-widgets/base",
            "_view_module_version": "1.2.0",
            "_view_name": "StyleView",
            "description_width": ""
          }
        },
        "5b7b0c84214043bd9cf865838f32a9ff": {
          "model_module": "@jupyter-widgets/base",
          "model_name": "LayoutModel",
          "model_module_version": "1.2.0",
          "state": {
            "_model_module": "@jupyter-widgets/base",
            "_model_module_version": "1.2.0",
            "_model_name": "LayoutModel",
            "_view_count": null,
            "_view_module": "@jupyter-widgets/base",
            "_view_module_version": "1.2.0",
            "_view_name": "LayoutView",
            "align_content": null,
            "align_items": null,
            "align_self": null,
            "border": null,
            "bottom": null,
            "display": null,
            "flex": null,
            "flex_flow": null,
            "grid_area": null,
            "grid_auto_columns": null,
            "grid_auto_flow": null,
            "grid_auto_rows": null,
            "grid_column": null,
            "grid_gap": null,
            "grid_row": null,
            "grid_template_areas": null,
            "grid_template_columns": null,
            "grid_template_rows": null,
            "height": "53px",
            "justify_content": null,
            "justify_items": null,
            "left": null,
            "margin": null,
            "max_height": null,
            "max_width": null,
            "min_height": null,
            "min_width": null,
            "object_fit": null,
            "object_position": null,
            "order": null,
            "overflow": null,
            "overflow_x": null,
            "overflow_y": null,
            "padding": null,
            "right": null,
            "top": null,
            "visibility": null,
            "width": "200px"
          }
        },
        "6c9c23b87b8d417482d2f5daed4edd07": {
          "model_module": "@jupyter-widgets/controls",
          "model_name": "ButtonStyleModel",
          "model_module_version": "1.5.0",
          "state": {
            "_model_module": "@jupyter-widgets/controls",
            "_model_module_version": "1.5.0",
            "_model_name": "ButtonStyleModel",
            "_view_count": null,
            "_view_module": "@jupyter-widgets/base",
            "_view_module_version": "1.2.0",
            "_view_name": "StyleView",
            "button_color": null,
            "font_weight": ""
          }
        },
        "e2658418ec2c4e578c6de1298e61ca29": {
          "model_module": "@jupyter-widgets/base",
          "model_name": "LayoutModel",
          "model_module_version": "1.2.0",
          "state": {
            "_model_module": "@jupyter-widgets/base",
            "_model_module_version": "1.2.0",
            "_model_name": "LayoutModel",
            "_view_count": null,
            "_view_module": "@jupyter-widgets/base",
            "_view_module_version": "1.2.0",
            "_view_name": "LayoutView",
            "align_content": null,
            "align_items": null,
            "align_self": null,
            "border": null,
            "bottom": null,
            "display": null,
            "flex": null,
            "flex_flow": null,
            "grid_area": null,
            "grid_auto_columns": null,
            "grid_auto_flow": null,
            "grid_auto_rows": null,
            "grid_column": null,
            "grid_gap": null,
            "grid_row": null,
            "grid_template_areas": null,
            "grid_template_columns": null,
            "grid_template_rows": null,
            "height": "25px",
            "justify_content": null,
            "justify_items": null,
            "left": null,
            "margin": null,
            "max_height": null,
            "max_width": null,
            "min_height": null,
            "min_width": null,
            "object_fit": null,
            "object_position": null,
            "order": null,
            "overflow": null,
            "overflow_x": null,
            "overflow_y": null,
            "padding": null,
            "right": null,
            "top": null,
            "visibility": null,
            "width": "300px"
          }
        },
        "1348f702c023400eb9ab0a91252160f4": {
          "model_module": "@jupyter-widgets/controls",
          "model_name": "DescriptionStyleModel",
          "model_module_version": "1.5.0",
          "state": {
            "_model_module": "@jupyter-widgets/controls",
            "_model_module_version": "1.5.0",
            "_model_name": "DescriptionStyleModel",
            "_view_count": null,
            "_view_module": "@jupyter-widgets/base",
            "_view_module_version": "1.2.0",
            "_view_name": "StyleView",
            "description_width": ""
          }
        },
        "0a5f66f5d0754a44ae6801889e4aa3db": {
          "model_module": "@jupyter-widgets/base",
          "model_name": "LayoutModel",
          "model_module_version": "1.2.0",
          "state": {
            "_model_module": "@jupyter-widgets/base",
            "_model_module_version": "1.2.0",
            "_model_name": "LayoutModel",
            "_view_count": null,
            "_view_module": "@jupyter-widgets/base",
            "_view_module_version": "1.2.0",
            "_view_name": "LayoutView",
            "align_content": null,
            "align_items": null,
            "align_self": null,
            "border": null,
            "bottom": null,
            "display": null,
            "flex": null,
            "flex_flow": null,
            "grid_area": null,
            "grid_auto_columns": null,
            "grid_auto_flow": null,
            "grid_auto_rows": null,
            "grid_column": null,
            "grid_gap": null,
            "grid_row": null,
            "grid_template_areas": null,
            "grid_template_columns": null,
            "grid_template_rows": null,
            "height": "24px",
            "justify_content": null,
            "justify_items": null,
            "left": null,
            "margin": null,
            "max_height": null,
            "max_width": null,
            "min_height": null,
            "min_width": null,
            "object_fit": null,
            "object_position": null,
            "order": null,
            "overflow": null,
            "overflow_x": null,
            "overflow_y": null,
            "padding": null,
            "right": null,
            "top": null,
            "visibility": null,
            "width": "300px"
          }
        },
        "1c33b5b15ef14cb9a031983da0678335": {
          "model_module": "@jupyter-widgets/controls",
          "model_name": "DescriptionStyleModel",
          "model_module_version": "1.5.0",
          "state": {
            "_model_module": "@jupyter-widgets/controls",
            "_model_module_version": "1.5.0",
            "_model_name": "DescriptionStyleModel",
            "_view_count": null,
            "_view_module": "@jupyter-widgets/base",
            "_view_module_version": "1.2.0",
            "_view_name": "StyleView",
            "description_width": ""
          }
        }
      }
    }
  },
  "nbformat": 4,
  "nbformat_minor": 0
}