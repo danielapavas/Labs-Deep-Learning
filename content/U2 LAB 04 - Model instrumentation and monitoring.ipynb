{
  "cells": [
    {
      "cell_type": "markdown",
      "metadata": {
        "id": "view-in-github",
        "colab_type": "text"
      },
      "source": [
        "<a href=\"https://colab.research.google.com/github/danielapavas/Labs-Deep-Learning/blob/main/content/U2%20LAB%2004%20-%20Model%20instrumentation%20and%20monitoring.ipynb\" target=\"_parent\"><img src=\"https://colab.research.google.com/assets/colab-badge.svg\" alt=\"Open In Colab\"/></a>"
      ]
    },
    {
      "cell_type": "markdown",
      "metadata": {
        "id": "MuFp3lFWeP47"
      },
      "source": [
        "# LAB 2.4 - Model instrumentation"
      ]
    },
    {
      "cell_type": "code",
      "execution_count": 47,
      "metadata": {
        "id": "mA75YvKdeP5I",
        "outputId": "936ef9cc-b25f-4fa5-ae80-ed1f3c2ca98f",
        "colab": {
          "base_uri": "https://localhost:8080/",
          "height": 58
        }
      },
      "outputs": [
        {
          "output_type": "display_data",
          "data": {
            "text/plain": [
              "<IPython.core.display.HTML object>"
            ],
            "text/html": [
              "\n",
              "<meta name=\"google-signin-client_id\"\n",
              "      content=\"461673936472-kdjosv61up3ac1ajeuq6qqu72upilmls.apps.googleusercontent.com\"/>\n",
              "<script src=\"https://apis.google.com/js/client:platform.js?onload=google_button_start\"></script>\n",
              "    "
            ]
          },
          "metadata": {}
        },
        {
          "output_type": "execute_result",
          "data": {
            "text/plain": [
              "<IPython.core.display.HTML object>"
            ],
            "text/html": [
              "<h3>See <a href='https://m5knaekxo6.execute-api.us-west-2.amazonaws.com/dev-v0001/rlxmooc/web/login' target='_blank'>my courses and progress</a></h2>"
            ]
          },
          "metadata": {},
          "execution_count": 47
        }
      ],
      "source": [
        "!wget -nc --no-cache -O init.py -q https://raw.githubusercontent.com/rramosp/2021.deeplearning/main/content/init.py\n",
        "import init; init.init(force_download=False); init.get_weblink()"
      ]
    },
    {
      "cell_type": "code",
      "execution_count": 2,
      "metadata": {
        "id": "QVNl1AiZeP5M",
        "outputId": "6a2cf804-dbcf-4229-ad58-54fa3564d882",
        "colab": {
          "base_uri": "https://localhost:8080/",
          "height": 138,
          "referenced_widgets": [
            "5d1ef385972d429cb7292c218144bd85",
            "4210d63c4f5446b28b447edd43fea0a9",
            "e9ed15ca2ecf427d8d71aa12fae3ac0b",
            "3085958635514db38e40f135ce4ca62d",
            "65494fd9b2c643c883c5dc19dd1ba84a",
            "d41030e0ed804397ab459617dd07215b",
            "7d6c1cf2bbe848e8a0be8cc1cc259bb5",
            "fb53aa6c181a4189bb10f3abe588a698",
            "6129d0e2aeb04126be18907965bfd0d9",
            "69941a8567ab4bdeb2bf7ed2f5e85e63",
            "d25b71b0600b4adfa1afd7dde9919ee2",
            "04afb2891f8f49a7986d8f32df6f0358",
            "986c442334f54ae5b3293c4ea3547b14",
            "d257788ae97542b6b15ec7fbbd83f905",
            "d41f4f3216144400abf69631b1403215",
            "cc6c8657b4b14b6cae7ce47b954332dd",
            "5f99fe5cd86245d4a47d25c778e55343",
            "5e52dc10133448dc8b62ea97c5df18b5",
            "513c22795f8847c7b852e2cd6999bc54"
          ]
        }
      },
      "outputs": [
        {
          "output_type": "stream",
          "name": "stdout",
          "text": [
            "logging in as daniela.pavas1@udea.edu.co... please wait\n",
            "using course session 2021.deeplearning::udea.20242\n",
            "success!! you are logged in\n"
          ]
        }
      ],
      "source": [
        "from local.lib.rlxmoocapi import submit, session\n",
        "import inspect\n",
        "session.LoginSequence(endpoint=init.endpoint, course_id=init.course_id, lab_id=\"L02.04\", varname=\"student\");"
      ]
    },
    {
      "cell_type": "code",
      "execution_count": 48,
      "metadata": {
        "id": "e6hzCDaCeP5N",
        "outputId": "43e1eb33-431c-4516-e6a1-9df71148a183",
        "colab": {
          "base_uri": "https://localhost:8080/"
        }
      },
      "outputs": [
        {
          "output_type": "stream",
          "name": "stdout",
          "text": [
            "Requirement already satisfied: tensorflow==2.15 in /usr/local/lib/python3.10/dist-packages (2.15.0)\n",
            "Requirement already satisfied: absl-py>=1.0.0 in /usr/local/lib/python3.10/dist-packages (from tensorflow==2.15) (1.4.0)\n",
            "Requirement already satisfied: astunparse>=1.6.0 in /usr/local/lib/python3.10/dist-packages (from tensorflow==2.15) (1.6.3)\n",
            "Requirement already satisfied: flatbuffers>=23.5.26 in /usr/local/lib/python3.10/dist-packages (from tensorflow==2.15) (24.3.25)\n",
            "Requirement already satisfied: gast!=0.5.0,!=0.5.1,!=0.5.2,>=0.2.1 in /usr/local/lib/python3.10/dist-packages (from tensorflow==2.15) (0.6.0)\n",
            "Requirement already satisfied: google-pasta>=0.1.1 in /usr/local/lib/python3.10/dist-packages (from tensorflow==2.15) (0.2.0)\n",
            "Requirement already satisfied: h5py>=2.9.0 in /usr/local/lib/python3.10/dist-packages (from tensorflow==2.15) (3.11.0)\n",
            "Requirement already satisfied: libclang>=13.0.0 in /usr/local/lib/python3.10/dist-packages (from tensorflow==2.15) (18.1.1)\n",
            "Requirement already satisfied: ml-dtypes~=0.2.0 in /usr/local/lib/python3.10/dist-packages (from tensorflow==2.15) (0.2.0)\n",
            "Requirement already satisfied: numpy<2.0.0,>=1.23.5 in /usr/local/lib/python3.10/dist-packages (from tensorflow==2.15) (1.26.4)\n",
            "Requirement already satisfied: opt-einsum>=2.3.2 in /usr/local/lib/python3.10/dist-packages (from tensorflow==2.15) (3.3.0)\n",
            "Requirement already satisfied: packaging in /usr/local/lib/python3.10/dist-packages (from tensorflow==2.15) (24.1)\n",
            "Requirement already satisfied: protobuf!=4.21.0,!=4.21.1,!=4.21.2,!=4.21.3,!=4.21.4,!=4.21.5,<5.0.0dev,>=3.20.3 in /usr/local/lib/python3.10/dist-packages (from tensorflow==2.15) (3.20.3)\n",
            "Requirement already satisfied: setuptools in /usr/local/lib/python3.10/dist-packages (from tensorflow==2.15) (71.0.4)\n",
            "Requirement already satisfied: six>=1.12.0 in /usr/local/lib/python3.10/dist-packages (from tensorflow==2.15) (1.16.0)\n",
            "Requirement already satisfied: termcolor>=1.1.0 in /usr/local/lib/python3.10/dist-packages (from tensorflow==2.15) (2.4.0)\n",
            "Requirement already satisfied: typing-extensions>=3.6.6 in /usr/local/lib/python3.10/dist-packages (from tensorflow==2.15) (4.12.2)\n",
            "Requirement already satisfied: wrapt<1.15,>=1.11.0 in /usr/local/lib/python3.10/dist-packages (from tensorflow==2.15) (1.14.1)\n",
            "Requirement already satisfied: tensorflow-io-gcs-filesystem>=0.23.1 in /usr/local/lib/python3.10/dist-packages (from tensorflow==2.15) (0.37.1)\n",
            "Requirement already satisfied: grpcio<2.0,>=1.24.3 in /usr/local/lib/python3.10/dist-packages (from tensorflow==2.15) (1.64.1)\n",
            "Requirement already satisfied: tensorboard<2.16,>=2.15 in /usr/local/lib/python3.10/dist-packages (from tensorflow==2.15) (2.15.2)\n",
            "Requirement already satisfied: tensorflow-estimator<2.16,>=2.15.0 in /usr/local/lib/python3.10/dist-packages (from tensorflow==2.15) (2.15.0)\n",
            "Requirement already satisfied: keras<2.16,>=2.15.0 in /usr/local/lib/python3.10/dist-packages (from tensorflow==2.15) (2.15.0)\n",
            "Requirement already satisfied: wheel<1.0,>=0.23.0 in /usr/local/lib/python3.10/dist-packages (from astunparse>=1.6.0->tensorflow==2.15) (0.44.0)\n",
            "Requirement already satisfied: google-auth<3,>=1.6.3 in /usr/local/lib/python3.10/dist-packages (from tensorboard<2.16,>=2.15->tensorflow==2.15) (2.27.0)\n",
            "Requirement already satisfied: google-auth-oauthlib<2,>=0.5 in /usr/local/lib/python3.10/dist-packages (from tensorboard<2.16,>=2.15->tensorflow==2.15) (1.2.1)\n",
            "Requirement already satisfied: markdown>=2.6.8 in /usr/local/lib/python3.10/dist-packages (from tensorboard<2.16,>=2.15->tensorflow==2.15) (3.6)\n",
            "Requirement already satisfied: requests<3,>=2.21.0 in /usr/local/lib/python3.10/dist-packages (from tensorboard<2.16,>=2.15->tensorflow==2.15) (2.32.3)\n",
            "Requirement already satisfied: tensorboard-data-server<0.8.0,>=0.7.0 in /usr/local/lib/python3.10/dist-packages (from tensorboard<2.16,>=2.15->tensorflow==2.15) (0.7.2)\n",
            "Requirement already satisfied: werkzeug>=1.0.1 in /usr/local/lib/python3.10/dist-packages (from tensorboard<2.16,>=2.15->tensorflow==2.15) (3.0.3)\n",
            "Requirement already satisfied: cachetools<6.0,>=2.0.0 in /usr/local/lib/python3.10/dist-packages (from google-auth<3,>=1.6.3->tensorboard<2.16,>=2.15->tensorflow==2.15) (5.4.0)\n",
            "Requirement already satisfied: pyasn1-modules>=0.2.1 in /usr/local/lib/python3.10/dist-packages (from google-auth<3,>=1.6.3->tensorboard<2.16,>=2.15->tensorflow==2.15) (0.4.0)\n",
            "Requirement already satisfied: rsa<5,>=3.1.4 in /usr/local/lib/python3.10/dist-packages (from google-auth<3,>=1.6.3->tensorboard<2.16,>=2.15->tensorflow==2.15) (4.9)\n",
            "Requirement already satisfied: requests-oauthlib>=0.7.0 in /usr/local/lib/python3.10/dist-packages (from google-auth-oauthlib<2,>=0.5->tensorboard<2.16,>=2.15->tensorflow==2.15) (1.3.1)\n",
            "Requirement already satisfied: charset-normalizer<4,>=2 in /usr/local/lib/python3.10/dist-packages (from requests<3,>=2.21.0->tensorboard<2.16,>=2.15->tensorflow==2.15) (3.3.2)\n",
            "Requirement already satisfied: idna<4,>=2.5 in /usr/local/lib/python3.10/dist-packages (from requests<3,>=2.21.0->tensorboard<2.16,>=2.15->tensorflow==2.15) (3.7)\n",
            "Requirement already satisfied: urllib3<3,>=1.21.1 in /usr/local/lib/python3.10/dist-packages (from requests<3,>=2.21.0->tensorboard<2.16,>=2.15->tensorflow==2.15) (2.0.7)\n",
            "Requirement already satisfied: certifi>=2017.4.17 in /usr/local/lib/python3.10/dist-packages (from requests<3,>=2.21.0->tensorboard<2.16,>=2.15->tensorflow==2.15) (2024.7.4)\n",
            "Requirement already satisfied: MarkupSafe>=2.1.1 in /usr/local/lib/python3.10/dist-packages (from werkzeug>=1.0.1->tensorboard<2.16,>=2.15->tensorflow==2.15) (2.1.5)\n",
            "Requirement already satisfied: pyasn1<0.7.0,>=0.4.6 in /usr/local/lib/python3.10/dist-packages (from pyasn1-modules>=0.2.1->google-auth<3,>=1.6.3->tensorboard<2.16,>=2.15->tensorflow==2.15) (0.6.0)\n",
            "Requirement already satisfied: oauthlib>=3.0.0 in /usr/local/lib/python3.10/dist-packages (from requests-oauthlib>=0.7.0->google-auth-oauthlib<2,>=0.5->tensorboard<2.16,>=2.15->tensorflow==2.15) (3.2.2)\n"
          ]
        }
      ],
      "source": [
        "!pip install tensorflow==2.15"
      ]
    },
    {
      "cell_type": "code",
      "execution_count": 49,
      "metadata": {
        "id": "_l6sOkCneP5N"
      },
      "outputs": [],
      "source": [
        "import numpy as np\n",
        "import matplotlib.pyplot as plt\n",
        "import pandas as pd\n",
        "from tensorflow import keras\n",
        "from IPython.display import Image\n",
        "import pandas as pd\n",
        "\n",
        "%matplotlib inline"
      ]
    },
    {
      "cell_type": "code",
      "execution_count": null,
      "metadata": {
        "id": "jpjuv359eP5O"
      },
      "outputs": [],
      "source": []
    },
    {
      "cell_type": "markdown",
      "metadata": {
        "id": "cO5EcNXSUH-B"
      },
      "source": [
        "### LAB SUMMARY\n",
        "\n",
        "\n",
        "In this lab you will be implementing Tensorflow Callbacks that will be invoked at different stages when a model gets trained.\n",
        "\n",
        "Read carefully the following tutorial: [https://www.tensorflow.org/guide/keras/custom_callback](https://www.tensorflow.org/guide/keras/custom_callback)\n",
        "\n",
        "\n",
        "### load sample MNIST data as customary"
      ]
    },
    {
      "cell_type": "code",
      "execution_count": 50,
      "metadata": {
        "colab": {
          "base_uri": "https://localhost:8080/"
        },
        "id": "SW5RDD8qUH-C",
        "outputId": "7ab49780-519a-408f-cbe6-0f133eea70be"
      },
      "outputs": [
        {
          "output_type": "stream",
          "name": "stdout",
          "text": [
            "dimension de las imagenes y las clases (1500, 784) (1500,)\n"
          ]
        }
      ],
      "source": [
        "mnist = pd.read_csv(\"local/data/mnist1.5k.csv.gz\", compression=\"gzip\", header=None).values\n",
        "X=mnist[:,1:785]/255.\n",
        "y=mnist[:,0]\n",
        "print(\"dimension de las imagenes y las clases\", X.shape, y.shape)"
      ]
    },
    {
      "cell_type": "code",
      "execution_count": 51,
      "metadata": {
        "colab": {
          "base_uri": "https://localhost:8080/"
        },
        "id": "2iXzcb0jUH-E",
        "outputId": "a7badf29-a471-4fff-c6be-c3536b4d76a5"
      },
      "outputs": [
        {
          "output_type": "stream",
          "name": "stdout",
          "text": [
            "(1200, 784) (1200, 10)\n"
          ]
        }
      ],
      "source": [
        "from sklearn.model_selection import train_test_split\n",
        "X_train, X_test, y_train, y_test = train_test_split(X, y, test_size=.2)\n",
        "X_train = X_train.astype(np.float32)\n",
        "X_test  = X_test.astype(np.float32)\n",
        "y_train_oh = np.eye(10)[y_train]\n",
        "y_test_oh  = np.eye(10)[y_test]\n",
        "print(X_train.shape, y_train_oh.shape)"
      ]
    },
    {
      "cell_type": "code",
      "execution_count": 52,
      "metadata": {
        "id": "HmoxgIGkUH-G"
      },
      "outputs": [],
      "source": [
        "from tensorflow.keras import Sequential, Model\n",
        "from tensorflow.keras.layers import Dense, Input\n",
        "from tensorflow.keras.callbacks import Callback"
      ]
    },
    {
      "cell_type": "markdown",
      "metadata": {
        "id": "xTl-dXJ9UH-J"
      },
      "source": [
        "### A basic multi layered dense model\n",
        "\n",
        "observe that the function allows us to parametrize the number of hidden layers and their activation function\n"
      ]
    },
    {
      "cell_type": "code",
      "execution_count": 53,
      "metadata": {
        "id": "y5wi-OteUH-K"
      },
      "outputs": [],
      "source": [
        "def get_model(input_dim=784, output_dim=10, num_hidden_layers=6, hidden_size=10, activation=\"relu\"):\n",
        "\n",
        "    model = Sequential()\n",
        "    model.add(Dense(hidden_size, activation=activation, input_dim=input_dim, name=\"Layer_%02d_Input\"%(0)))\n",
        "\n",
        "    for i in range(num_hidden_layers):\n",
        "        model.add(Dense(hidden_size, activation=activation, name=\"Layer_%02d_Hidden\"%(i+1)))\n",
        "\n",
        "    model.add(Dense(output_dim, activation=\"softmax\", name=\"Layer_%02d_Output\"%(num_hidden_layers+1)))\n",
        "    model.compile(optimizer='adam', loss='categorical_crossentropy', metrics=['accuracy'])\n",
        "\n",
        "    return model"
      ]
    },
    {
      "cell_type": "markdown",
      "metadata": {
        "id": "CdjyzRhkUH-N"
      },
      "source": [
        "## TASK 1: Weights monitoring callback\n",
        "\n",
        "Create a callback that:\n",
        "\n",
        "- when each epoch ends, retrieves the weights of the layer with name `self.layer_name`.\n",
        "- gets is kernels weights.\n",
        "- computes the mean and standard deviation of those weights.\n",
        "- appends them to `self.mean_per_epoch` and `self.std_per_epoch`\n",
        "\n",
        "When used with a model, at the end of any training it will contain a list of weights means and another list of weights stds, both with one element per each epoch. With this we can monitor how the weights in a specific layer progress over the training process. Tensorboard offers a similar functionality, but the goal with this task is to get acquainted with the callback mechanism."
      ]
    },
    {
      "cell_type": "code",
      "execution_count": 54,
      "metadata": {
        "id": "EgChXWdneP5Y"
      },
      "outputs": [],
      "source": [
        "def LayerWeightsCallback(layer_name):\n",
        "    class LayerWeightsCallback_class(Callback):\n",
        "\n",
        "        def __init__(self, layer_name):\n",
        "            super().__init__()\n",
        "            self.mean_per_epoch = []\n",
        "            self.std_per_epoch = []\n",
        "            self.layer_name = layer_name\n",
        "\n",
        "        def on_epoch_end(self, epoch, logs=None):\n",
        "\n",
        "        #COMPLETE....\n",
        "          layer = self.model.get_layer(self.layer_name)\n",
        "          w = layer.get_weights()[0]\n",
        "          mean = np.mean(w)\n",
        "          std = np.std(w)\n",
        "          self.mean_per_epoch.append(mean)\n",
        "          self.std_per_epoch.append(std)\n",
        "          # print(f\"Epoch {epoch+1}: mean = {mean:.4f}, std = {std:.4f}\")\n",
        "        #...........\n",
        "\n",
        "    return LayerWeightsCallback_class(layer_name)"
      ]
    },
    {
      "cell_type": "markdown",
      "metadata": {
        "id": "5pZOSitteP5Z"
      },
      "source": [
        "manually test your code with the following cell. Your callback should report the weights mean and std doubling at every epoch, just with the same values as they are being computed within the for loop. The loop simulates training epochs."
      ]
    },
    {
      "cell_type": "code",
      "execution_count": 55,
      "metadata": {
        "id": "WRw31SSqeP5b",
        "outputId": "7499e63f-b79a-4004-eb98-f14df8b31cd8",
        "colab": {
          "base_uri": "https://localhost:8080/"
        }
      },
      "outputs": [
        {
          "output_type": "stream",
          "name": "stdout",
          "text": [
            "epoch 0 weights mean/std -0.14180377 0.55300707\n",
            "epoch 1 weights mean/std -0.28360754 1.1060141\n",
            "epoch 2 weights mean/std -0.5672151 2.2120283\n",
            "\n",
            "weight mean at each epoch [-0.14180377, -0.28360754, -0.5672151]\n",
            "weight std  at each epoch [0.55300707, 1.1060141, 2.2120283]\n"
          ]
        }
      ],
      "source": [
        "model = get_model(input_dim=2, output_dim=3, num_hidden_layers=1, hidden_size=2, activation=\"sigmoid\")\n",
        "layer_names = [i.name for i in model.layers if not \"Input\" in i.name]\n",
        "layer = model.get_layer(np.random.choice(layer_names))\n",
        "\n",
        "cb = LayerWeightsCallback(layer.name)\n",
        "cb.model = model\n",
        "\n",
        "m, s, wh = [], [], []\n",
        "for epoch in range(3):\n",
        "    w = layer.get_weights()[0]\n",
        "    wh.append(w)\n",
        "    print (\"epoch\", epoch, \"weights mean/std\", np.mean(w),np.std(w))\n",
        "    cb.on_epoch_end(epoch)\n",
        "    layer.set_weights([i*2 for i in layer.get_weights()])\n",
        "\n",
        "print (\"\\nweight mean at each epoch\", cb.mean_per_epoch)\n",
        "print (\"weight std  at each epoch\", cb.std_per_epoch)"
      ]
    },
    {
      "cell_type": "markdown",
      "metadata": {
        "id": "UwJ9YQVbeP5b"
      },
      "source": [
        "Now you can use your class to keep track of weights while training. We choose to keep track of weights with your callback for all the layers.\n",
        "\n",
        "Observe how we plot the weights progress with the data gathered by your callback. What interpretation can you give to the plots?"
      ]
    },
    {
      "cell_type": "code",
      "execution_count": 34,
      "metadata": {
        "colab": {
          "base_uri": "https://localhost:8080/"
        },
        "id": "IRua6cxAUH-N",
        "outputId": "2765f6d7-4c0c-45b2-fdf8-da1451c509ff",
        "scrolled": true
      },
      "outputs": [
        {
          "output_type": "stream",
          "name": "stdout",
          "text": [
            "Epoch 1/100\n",
            "150/150 [==============================] - 2s 4ms/step - loss: 2.3410 - accuracy: 0.0983 - val_loss: 2.3407 - val_accuracy: 0.0933\n",
            "Epoch 2/100\n",
            "150/150 [==============================] - 0s 3ms/step - loss: 2.2990 - accuracy: 0.1200 - val_loss: 2.3092 - val_accuracy: 0.1200\n",
            "Epoch 3/100\n",
            "150/150 [==============================] - 0s 3ms/step - loss: 2.2847 - accuracy: 0.1333 - val_loss: 2.2950 - val_accuracy: 0.1200\n",
            "Epoch 4/100\n",
            "150/150 [==============================] - 0s 3ms/step - loss: 2.2706 - accuracy: 0.1267 - val_loss: 2.2777 - val_accuracy: 0.1467\n",
            "Epoch 5/100\n",
            "150/150 [==============================] - 0s 3ms/step - loss: 2.2477 - accuracy: 0.2042 - val_loss: 2.2535 - val_accuracy: 0.1833\n",
            "Epoch 6/100\n",
            "150/150 [==============================] - 1s 5ms/step - loss: 2.2102 - accuracy: 0.2383 - val_loss: 2.2136 - val_accuracy: 0.2433\n",
            "Epoch 7/100\n",
            "150/150 [==============================] - 1s 4ms/step - loss: 2.1516 - accuracy: 0.3283 - val_loss: 2.1549 - val_accuracy: 0.3000\n",
            "Epoch 8/100\n",
            "150/150 [==============================] - 1s 5ms/step - loss: 2.0753 - accuracy: 0.3808 - val_loss: 2.0810 - val_accuracy: 0.3200\n",
            "Epoch 9/100\n",
            "150/150 [==============================] - 1s 5ms/step - loss: 1.9837 - accuracy: 0.4117 - val_loss: 1.9996 - val_accuracy: 0.3300\n",
            "Epoch 10/100\n",
            "150/150 [==============================] - 1s 4ms/step - loss: 1.8833 - accuracy: 0.4442 - val_loss: 1.9129 - val_accuracy: 0.3833\n",
            "Epoch 11/100\n",
            "150/150 [==============================] - 1s 4ms/step - loss: 1.7839 - accuracy: 0.4992 - val_loss: 1.8187 - val_accuracy: 0.4433\n",
            "Epoch 12/100\n",
            "150/150 [==============================] - 0s 3ms/step - loss: 1.6809 - accuracy: 0.5283 - val_loss: 1.7396 - val_accuracy: 0.4567\n",
            "Epoch 13/100\n",
            "150/150 [==============================] - 0s 3ms/step - loss: 1.5863 - accuracy: 0.5458 - val_loss: 1.6557 - val_accuracy: 0.4767\n",
            "Epoch 14/100\n",
            "150/150 [==============================] - 0s 3ms/step - loss: 1.4972 - accuracy: 0.5550 - val_loss: 1.5922 - val_accuracy: 0.4800\n",
            "Epoch 15/100\n",
            "150/150 [==============================] - 0s 3ms/step - loss: 1.4182 - accuracy: 0.5983 - val_loss: 1.5270 - val_accuracy: 0.5400\n",
            "Epoch 16/100\n",
            "150/150 [==============================] - 0s 2ms/step - loss: 1.3410 - accuracy: 0.6375 - val_loss: 1.4616 - val_accuracy: 0.5600\n",
            "Epoch 17/100\n",
            "150/150 [==============================] - 0s 3ms/step - loss: 1.2729 - accuracy: 0.6792 - val_loss: 1.4135 - val_accuracy: 0.5600\n",
            "Epoch 18/100\n",
            "150/150 [==============================] - 0s 3ms/step - loss: 1.2114 - accuracy: 0.6875 - val_loss: 1.3661 - val_accuracy: 0.5900\n",
            "Epoch 19/100\n",
            "150/150 [==============================] - 0s 3ms/step - loss: 1.1539 - accuracy: 0.7000 - val_loss: 1.3123 - val_accuracy: 0.6000\n",
            "Epoch 20/100\n",
            "150/150 [==============================] - 1s 3ms/step - loss: 1.1019 - accuracy: 0.7208 - val_loss: 1.2848 - val_accuracy: 0.6167\n",
            "Epoch 21/100\n",
            "150/150 [==============================] - 1s 6ms/step - loss: 1.0541 - accuracy: 0.7383 - val_loss: 1.2559 - val_accuracy: 0.6200\n",
            "Epoch 22/100\n",
            "150/150 [==============================] - 1s 6ms/step - loss: 1.0084 - accuracy: 0.7458 - val_loss: 1.2247 - val_accuracy: 0.6300\n",
            "Epoch 23/100\n",
            "150/150 [==============================] - 1s 7ms/step - loss: 0.9683 - accuracy: 0.7550 - val_loss: 1.1952 - val_accuracy: 0.6533\n",
            "Epoch 24/100\n",
            "150/150 [==============================] - 1s 9ms/step - loss: 0.9291 - accuracy: 0.7575 - val_loss: 1.1708 - val_accuracy: 0.6500\n",
            "Epoch 25/100\n",
            "150/150 [==============================] - 1s 7ms/step - loss: 0.8924 - accuracy: 0.7717 - val_loss: 1.1470 - val_accuracy: 0.6700\n",
            "Epoch 26/100\n",
            "150/150 [==============================] - 1s 7ms/step - loss: 0.8555 - accuracy: 0.7792 - val_loss: 1.1279 - val_accuracy: 0.6733\n",
            "Epoch 27/100\n",
            "150/150 [==============================] - 1s 9ms/step - loss: 0.8216 - accuracy: 0.7883 - val_loss: 1.1217 - val_accuracy: 0.6833\n",
            "Epoch 28/100\n",
            "150/150 [==============================] - 1s 10ms/step - loss: 0.7891 - accuracy: 0.8033 - val_loss: 1.1040 - val_accuracy: 0.6867\n",
            "Epoch 29/100\n",
            "150/150 [==============================] - 1s 10ms/step - loss: 0.7593 - accuracy: 0.8017 - val_loss: 1.0908 - val_accuracy: 0.6767\n",
            "Epoch 30/100\n",
            "150/150 [==============================] - 0s 3ms/step - loss: 0.7305 - accuracy: 0.8325 - val_loss: 1.0959 - val_accuracy: 0.6867\n",
            "Epoch 31/100\n",
            "150/150 [==============================] - 0s 3ms/step - loss: 0.7013 - accuracy: 0.8325 - val_loss: 1.0575 - val_accuracy: 0.7033\n",
            "Epoch 32/100\n",
            "150/150 [==============================] - 0s 3ms/step - loss: 0.6737 - accuracy: 0.8392 - val_loss: 1.0482 - val_accuracy: 0.7100\n",
            "Epoch 33/100\n",
            "150/150 [==============================] - 0s 3ms/step - loss: 0.6487 - accuracy: 0.8425 - val_loss: 1.0523 - val_accuracy: 0.7167\n",
            "Epoch 34/100\n",
            "150/150 [==============================] - 0s 3ms/step - loss: 0.6242 - accuracy: 0.8625 - val_loss: 1.0425 - val_accuracy: 0.7200\n",
            "Epoch 35/100\n",
            "150/150 [==============================] - 0s 3ms/step - loss: 0.6003 - accuracy: 0.8650 - val_loss: 1.0185 - val_accuracy: 0.7333\n",
            "Epoch 36/100\n",
            "150/150 [==============================] - 0s 3ms/step - loss: 0.5778 - accuracy: 0.8767 - val_loss: 1.0132 - val_accuracy: 0.7100\n",
            "Epoch 37/100\n",
            "150/150 [==============================] - 0s 3ms/step - loss: 0.5575 - accuracy: 0.8783 - val_loss: 1.0032 - val_accuracy: 0.7167\n",
            "Epoch 38/100\n",
            "150/150 [==============================] - 0s 3ms/step - loss: 0.5358 - accuracy: 0.8858 - val_loss: 1.0007 - val_accuracy: 0.7300\n",
            "Epoch 39/100\n",
            "150/150 [==============================] - 0s 3ms/step - loss: 0.5154 - accuracy: 0.9017 - val_loss: 0.9988 - val_accuracy: 0.7300\n",
            "Epoch 40/100\n",
            "150/150 [==============================] - 0s 3ms/step - loss: 0.4974 - accuracy: 0.8867 - val_loss: 0.9950 - val_accuracy: 0.7433\n",
            "Epoch 41/100\n",
            "150/150 [==============================] - 0s 3ms/step - loss: 0.4793 - accuracy: 0.9050 - val_loss: 0.9869 - val_accuracy: 0.7333\n",
            "Epoch 42/100\n",
            "150/150 [==============================] - 0s 3ms/step - loss: 0.4681 - accuracy: 0.9000 - val_loss: 1.0206 - val_accuracy: 0.7367\n",
            "Epoch 43/100\n",
            "150/150 [==============================] - 0s 3ms/step - loss: 0.4469 - accuracy: 0.9075 - val_loss: 0.9966 - val_accuracy: 0.7467\n",
            "Epoch 44/100\n",
            "150/150 [==============================] - 0s 3ms/step - loss: 0.4322 - accuracy: 0.9258 - val_loss: 0.9980 - val_accuracy: 0.7433\n",
            "Epoch 45/100\n",
            "150/150 [==============================] - 0s 3ms/step - loss: 0.4191 - accuracy: 0.9225 - val_loss: 0.9865 - val_accuracy: 0.7567\n",
            "Epoch 46/100\n",
            "150/150 [==============================] - 0s 3ms/step - loss: 0.4047 - accuracy: 0.9275 - val_loss: 1.0007 - val_accuracy: 0.7500\n",
            "Epoch 47/100\n",
            "150/150 [==============================] - 0s 3ms/step - loss: 0.3925 - accuracy: 0.9267 - val_loss: 0.9905 - val_accuracy: 0.7433\n",
            "Epoch 48/100\n",
            "150/150 [==============================] - 0s 3ms/step - loss: 0.3793 - accuracy: 0.9267 - val_loss: 0.9989 - val_accuracy: 0.7433\n",
            "Epoch 49/100\n",
            "150/150 [==============================] - 0s 3ms/step - loss: 0.3691 - accuracy: 0.9333 - val_loss: 1.0091 - val_accuracy: 0.7467\n",
            "Epoch 50/100\n",
            "150/150 [==============================] - 0s 3ms/step - loss: 0.3584 - accuracy: 0.9408 - val_loss: 1.0036 - val_accuracy: 0.7467\n",
            "Epoch 51/100\n",
            "150/150 [==============================] - 0s 3ms/step - loss: 0.3489 - accuracy: 0.9392 - val_loss: 1.0159 - val_accuracy: 0.7700\n",
            "Epoch 52/100\n",
            "150/150 [==============================] - 0s 3ms/step - loss: 0.3392 - accuracy: 0.9492 - val_loss: 1.0172 - val_accuracy: 0.7467\n",
            "Epoch 53/100\n",
            "150/150 [==============================] - 0s 3ms/step - loss: 0.3311 - accuracy: 0.9508 - val_loss: 1.0078 - val_accuracy: 0.7467\n",
            "Epoch 54/100\n",
            "150/150 [==============================] - 1s 4ms/step - loss: 0.3221 - accuracy: 0.9483 - val_loss: 1.0027 - val_accuracy: 0.7667\n",
            "Epoch 55/100\n",
            "150/150 [==============================] - 1s 5ms/step - loss: 0.3098 - accuracy: 0.9575 - val_loss: 1.0257 - val_accuracy: 0.7633\n",
            "Epoch 56/100\n",
            "150/150 [==============================] - 1s 4ms/step - loss: 0.3019 - accuracy: 0.9608 - val_loss: 1.0354 - val_accuracy: 0.7467\n",
            "Epoch 57/100\n",
            "150/150 [==============================] - 1s 4ms/step - loss: 0.2926 - accuracy: 0.9633 - val_loss: 1.0397 - val_accuracy: 0.7533\n",
            "Epoch 58/100\n",
            "150/150 [==============================] - 1s 5ms/step - loss: 0.2878 - accuracy: 0.9617 - val_loss: 1.0510 - val_accuracy: 0.7400\n",
            "Epoch 59/100\n",
            "150/150 [==============================] - 1s 4ms/step - loss: 0.2775 - accuracy: 0.9642 - val_loss: 1.0278 - val_accuracy: 0.7500\n",
            "Epoch 60/100\n",
            "150/150 [==============================] - 1s 3ms/step - loss: 0.2641 - accuracy: 0.9667 - val_loss: 1.0795 - val_accuracy: 0.7400\n",
            "Epoch 61/100\n",
            "150/150 [==============================] - 0s 3ms/step - loss: 0.2552 - accuracy: 0.9650 - val_loss: 1.0597 - val_accuracy: 0.7667\n",
            "Epoch 62/100\n",
            "150/150 [==============================] - 1s 3ms/step - loss: 0.2435 - accuracy: 0.9742 - val_loss: 1.0970 - val_accuracy: 0.7600\n",
            "Epoch 63/100\n",
            "150/150 [==============================] - 0s 3ms/step - loss: 0.2324 - accuracy: 0.9733 - val_loss: 1.1026 - val_accuracy: 0.7500\n",
            "Epoch 64/100\n",
            "150/150 [==============================] - 0s 3ms/step - loss: 0.2226 - accuracy: 0.9775 - val_loss: 1.1386 - val_accuracy: 0.7367\n",
            "Epoch 65/100\n",
            "150/150 [==============================] - 0s 3ms/step - loss: 0.2134 - accuracy: 0.9817 - val_loss: 1.1075 - val_accuracy: 0.7567\n",
            "Epoch 66/100\n",
            "150/150 [==============================] - 0s 3ms/step - loss: 0.2077 - accuracy: 0.9775 - val_loss: 1.1127 - val_accuracy: 0.7533\n",
            "Epoch 67/100\n",
            "150/150 [==============================] - 0s 3ms/step - loss: 0.1995 - accuracy: 0.9808 - val_loss: 1.1179 - val_accuracy: 0.7533\n",
            "Epoch 68/100\n",
            "150/150 [==============================] - 0s 3ms/step - loss: 0.1896 - accuracy: 0.9808 - val_loss: 1.1284 - val_accuracy: 0.7500\n",
            "Epoch 69/100\n",
            "150/150 [==============================] - 0s 3ms/step - loss: 0.1807 - accuracy: 0.9817 - val_loss: 1.1448 - val_accuracy: 0.7467\n",
            "Epoch 70/100\n",
            "150/150 [==============================] - 0s 3ms/step - loss: 0.1749 - accuracy: 0.9825 - val_loss: 1.1329 - val_accuracy: 0.7533\n",
            "Epoch 71/100\n",
            "150/150 [==============================] - 0s 3ms/step - loss: 0.1670 - accuracy: 0.9833 - val_loss: 1.1410 - val_accuracy: 0.7633\n",
            "Epoch 72/100\n",
            "150/150 [==============================] - 0s 3ms/step - loss: 0.1605 - accuracy: 0.9850 - val_loss: 1.1613 - val_accuracy: 0.7500\n",
            "Epoch 73/100\n",
            "150/150 [==============================] - 0s 3ms/step - loss: 0.1556 - accuracy: 0.9808 - val_loss: 1.1491 - val_accuracy: 0.7600\n",
            "Epoch 74/100\n",
            "150/150 [==============================] - 0s 3ms/step - loss: 0.1486 - accuracy: 0.9842 - val_loss: 1.1626 - val_accuracy: 0.7667\n",
            "Epoch 75/100\n",
            "150/150 [==============================] - 0s 3ms/step - loss: 0.1398 - accuracy: 0.9842 - val_loss: 1.1644 - val_accuracy: 0.7600\n",
            "Epoch 76/100\n",
            "150/150 [==============================] - 0s 3ms/step - loss: 0.1333 - accuracy: 0.9867 - val_loss: 1.1929 - val_accuracy: 0.7567\n",
            "Epoch 77/100\n",
            "150/150 [==============================] - 0s 3ms/step - loss: 0.1256 - accuracy: 0.9867 - val_loss: 1.2252 - val_accuracy: 0.7500\n",
            "Epoch 78/100\n",
            "150/150 [==============================] - 0s 3ms/step - loss: 0.1212 - accuracy: 0.9892 - val_loss: 1.2119 - val_accuracy: 0.7433\n",
            "Epoch 79/100\n",
            "150/150 [==============================] - 0s 3ms/step - loss: 0.1170 - accuracy: 0.9900 - val_loss: 1.2070 - val_accuracy: 0.7600\n",
            "Epoch 80/100\n",
            "150/150 [==============================] - 0s 3ms/step - loss: 0.1131 - accuracy: 0.9908 - val_loss: 1.2510 - val_accuracy: 0.7433\n",
            "Epoch 81/100\n",
            "150/150 [==============================] - 0s 3ms/step - loss: 0.1141 - accuracy: 0.9867 - val_loss: 1.2415 - val_accuracy: 0.7567\n",
            "Epoch 82/100\n",
            "150/150 [==============================] - 0s 3ms/step - loss: 0.1063 - accuracy: 0.9900 - val_loss: 1.2351 - val_accuracy: 0.7600\n",
            "Epoch 83/100\n",
            "150/150 [==============================] - 0s 3ms/step - loss: 0.1024 - accuracy: 0.9900 - val_loss: 1.2494 - val_accuracy: 0.7567\n",
            "Epoch 84/100\n",
            "150/150 [==============================] - 1s 4ms/step - loss: 0.0989 - accuracy: 0.9908 - val_loss: 1.2407 - val_accuracy: 0.7633\n",
            "Epoch 85/100\n",
            "150/150 [==============================] - 1s 5ms/step - loss: 0.1005 - accuracy: 0.9900 - val_loss: 1.3097 - val_accuracy: 0.7433\n",
            "Epoch 86/100\n",
            "150/150 [==============================] - 1s 5ms/step - loss: 0.0931 - accuracy: 0.9900 - val_loss: 1.2206 - val_accuracy: 0.7667\n",
            "Epoch 87/100\n",
            "150/150 [==============================] - 1s 5ms/step - loss: 0.0847 - accuracy: 0.9917 - val_loss: 1.2890 - val_accuracy: 0.7600\n",
            "Epoch 88/100\n",
            "150/150 [==============================] - 1s 5ms/step - loss: 0.0801 - accuracy: 0.9917 - val_loss: 1.3008 - val_accuracy: 0.7633\n",
            "Epoch 89/100\n",
            "150/150 [==============================] - 0s 3ms/step - loss: 0.0765 - accuracy: 0.9925 - val_loss: 1.3037 - val_accuracy: 0.7633\n",
            "Epoch 90/100\n",
            "150/150 [==============================] - 0s 2ms/step - loss: 0.0733 - accuracy: 0.9925 - val_loss: 1.2883 - val_accuracy: 0.7833\n",
            "Epoch 91/100\n",
            "150/150 [==============================] - 0s 3ms/step - loss: 0.0708 - accuracy: 0.9925 - val_loss: 1.3313 - val_accuracy: 0.7600\n",
            "Epoch 92/100\n",
            "150/150 [==============================] - 0s 3ms/step - loss: 0.0673 - accuracy: 0.9925 - val_loss: 1.3509 - val_accuracy: 0.7633\n",
            "Epoch 93/100\n",
            "150/150 [==============================] - 0s 3ms/step - loss: 0.0649 - accuracy: 0.9925 - val_loss: 1.3152 - val_accuracy: 0.7567\n",
            "Epoch 94/100\n",
            "150/150 [==============================] - 0s 3ms/step - loss: 0.0631 - accuracy: 0.9942 - val_loss: 1.3899 - val_accuracy: 0.7500\n",
            "Epoch 95/100\n",
            "150/150 [==============================] - 0s 3ms/step - loss: 0.0656 - accuracy: 0.9917 - val_loss: 1.3223 - val_accuracy: 0.7767\n",
            "Epoch 96/100\n",
            "150/150 [==============================] - 0s 3ms/step - loss: 0.0659 - accuracy: 0.9925 - val_loss: 1.3281 - val_accuracy: 0.7733\n",
            "Epoch 97/100\n",
            "150/150 [==============================] - 0s 3ms/step - loss: 0.0611 - accuracy: 0.9933 - val_loss: 1.3681 - val_accuracy: 0.7600\n",
            "Epoch 98/100\n",
            "150/150 [==============================] - 0s 3ms/step - loss: 0.0642 - accuracy: 0.9917 - val_loss: 1.3159 - val_accuracy: 0.7700\n",
            "Epoch 99/100\n",
            "150/150 [==============================] - 0s 3ms/step - loss: 0.0580 - accuracy: 0.9942 - val_loss: 1.3512 - val_accuracy: 0.7767\n",
            "Epoch 100/100\n",
            "150/150 [==============================] - 1s 3ms/step - loss: 0.0527 - accuracy: 0.9942 - val_loss: 1.3213 - val_accuracy: 0.7800\n"
          ]
        },
        {
          "output_type": "execute_result",
          "data": {
            "text/plain": [
              "<keras.src.callbacks.History at 0x7b185f1de770>"
            ]
          },
          "metadata": {},
          "execution_count": 34
        }
      ],
      "source": [
        "model = get_model(num_hidden_layers=3, activation=\"sigmoid\")\n",
        "cbs = [LayerWeightsCallback(i.name) for i in model.layers]\n",
        "model.fit(X_train, y_train_oh, epochs=100, batch_size=8,\n",
        "          validation_data=(X_test, y_test_oh), callbacks=cbs)"
      ]
    },
    {
      "cell_type": "code",
      "execution_count": 56,
      "metadata": {
        "id": "AnI-4mDpeP5d",
        "outputId": "55cd8634-dbd5-4778-c37f-1e91540cb89d",
        "colab": {
          "base_uri": "https://localhost:8080/",
          "height": 333
        }
      },
      "outputs": [
        {
          "output_type": "display_data",
          "data": {
            "text/plain": [
              "<Figure size 1200x300 with 2 Axes>"
            ],
            "image/png": "[encoded data removed]"
          },
          "metadata": {}
        }
      ],
      "source": [
        "\n",
        "def plot_epochs(cbset, title=\"\"):\n",
        "    cm = plt.cm.Blues\n",
        "    plt.figure(figsize=(12,3))\n",
        "    plt.subplot(121)\n",
        "    for i,cb in enumerate(cbset):\n",
        "        plt.plot(cb.mean_per_epoch, label=cb.layer_name, color=cm(int(255*(i+1)/(len(cbset)))))\n",
        "        plt.xlabel(\"epochs\"); plt.grid(); plt.title(title+\" mean\")\n",
        "    plt.subplot(122)\n",
        "    for i,cb in enumerate(cbset):\n",
        "        plt.plot(cb.std_per_epoch, label=cb.layer_name, color=cm(int(255*(i+1)/(len(cbset)))))\n",
        "        plt.xlabel(\"epochs\"); plt.grid(); plt.title(title+\" std\")\n",
        "    plt.legend(loc='center left', bbox_to_anchor=(1, 0.5))\n",
        "\n",
        "plot_epochs(cbs, \"WEIGHTS\")\n"
      ]
    },
    {
      "cell_type": "markdown",
      "metadata": {
        "id": "XR5JWIGteP5f"
      },
      "source": [
        "**Registra tu solución en linea**"
      ]
    },
    {
      "cell_type": "code",
      "execution_count": 36,
      "metadata": {
        "scrolled": true,
        "id": "JRcXvBTBeP5f",
        "outputId": "4ebafa4f-fa1a-4a91-8efa-79c5044e357c",
        "colab": {
          "base_uri": "https://localhost:8080/",
          "height": 111
        }
      },
      "outputs": [
        {
          "output_type": "display_data",
          "data": {
            "text/plain": [
              "<IPython.core.display.HTML object>"
            ],
            "text/html": [
              "\n",
              "                    <b>T1 submitted.</b> <b><font color=\"blue\">your grade is 5</font></b> \n",
              "                    <p/><pre>----- grader message -------</pre><b>correct</b><pre>----------------------------</pre>\n",
              "                    <p/><p/>\n",
              "                    <div style=\"font-size:10px\"><b>SUBMISSION CODE</b> cgFhKNin4DLkcirL3Z6pHnbW++cCvIm3VYnk1OSLhTNn3y2IjFQiuJ3/9c/oqLLdPB1psyxRYGMXmqDd5XXx+tkE19QcXnz+qq8184VPyBbNKzgPtb6Z6Ksrk6bISiYjD9mn9DeJQEphOCy61BTyxxPXkhZU/jWrgIUORFAjvms=</div>\n",
              "                    "
            ]
          },
          "metadata": {}
        }
      ],
      "source": [
        "student.submit_task(namespace=globals(), task_id='T1');"
      ]
    },
    {
      "cell_type": "markdown",
      "metadata": {
        "id": "toJY3KpXeP5f"
      },
      "source": [
        "## TASK 2: Activations monitoring callback\n"
      ]
    },
    {
      "cell_type": "markdown",
      "metadata": {
        "id": "oNbFxgtheP5g"
      },
      "source": [
        "observe how, given a model and a certain input, we can get the activations at different layers in a very straight forward manner. If we do this before training (`.fit`) it is also ok, the model will simply use the initial random weights."
      ]
    },
    {
      "cell_type": "code",
      "execution_count": 57,
      "metadata": {
        "id": "uLIyhbSyeP5g",
        "outputId": "ac05ecb3-e973-4668-8638-8e8f42bbb9be",
        "colab": {
          "base_uri": "https://localhost:8080/"
        }
      },
      "outputs": [
        {
          "output_type": "stream",
          "name": "stdout",
          "text": [
            "Model: \"sequential_9\"\n",
            "_________________________________________________________________\n",
            " Layer (type)                Output Shape              Param #   \n",
            "=================================================================\n",
            " Layer_00_Input (Dense)      (None, 10)                7850      \n",
            "                                                                 \n",
            " Layer_01_Hidden (Dense)     (None, 10)                110       \n",
            "                                                                 \n",
            " Layer_02_Hidden (Dense)     (None, 10)                110       \n",
            "                                                                 \n",
            " Layer_03_Hidden (Dense)     (None, 10)                110       \n",
            "                                                                 \n",
            " Layer_04_Output (Dense)     (None, 10)                110       \n",
            "                                                                 \n",
            "=================================================================\n",
            "Total params: 8290 (32.38 KB)\n",
            "Trainable params: 8290 (32.38 KB)\n",
            "Non-trainable params: 0 (0.00 Byte)\n",
            "_________________________________________________________________\n"
          ]
        }
      ],
      "source": [
        "model = get_model(num_hidden_layers=3, activation=\"sigmoid\")\n",
        "model.summary()"
      ]
    },
    {
      "cell_type": "code",
      "execution_count": 58,
      "metadata": {
        "id": "zPyEfEyKeP5g",
        "outputId": "db04a56e-e419-4b96-b287-8d3129d06edb",
        "colab": {
          "base_uri": "https://localhost:8080/"
        }
      },
      "outputs": [
        {
          "output_type": "execute_result",
          "data": {
            "text/plain": [
              "(TensorShape([1200, 10]), TensorShape([1200, 10]))"
            ]
          },
          "metadata": {},
          "execution_count": 58
        }
      ],
      "source": [
        "activations_layer_0 = model.layers[0](X_train)\n",
        "activations_layer_1 = model.layers[1](activations_layer_0)\n",
        "activations_layer_0.shape, activations_layer_1.shape"
      ]
    },
    {
      "cell_type": "markdown",
      "metadata": {
        "id": "tU225bigeP5g"
      },
      "source": [
        "Create a callback that:\n",
        "\n",
        "- when each epoch ends, feeds `self.X` into the model and retrieves the activations at the output of layer with name `self.layer_name`.\n",
        "- computes the mean and standard deviation of those activations.\n",
        "- appends them to `self.mean_per_epoch` and `self.std_per_epoch`\n",
        "\n",
        "When used with a model, at the end of any training it will contain a list of activations means and another list of activation stds, both with one element per each epoch. With this we can monitor how the activation in a specific layer progress over the training process. Tensorboard offers a similar functionality, but the goal with this task is to get acquainted with the callback mechanism."
      ]
    },
    {
      "cell_type": "code",
      "execution_count": 64,
      "metadata": {
        "id": "0vjbqWmQeP5g"
      },
      "outputs": [],
      "source": [
        "def TrainValActivationsCallback(layer_name, X):\n",
        "    class TrainValActivationsCallback_class(Callback):\n",
        "\n",
        "        def __init__(self, layer_name, X):\n",
        "            super().__init__()\n",
        "            self.mean_per_epoch = []\n",
        "            self.std_per_epoch = []\n",
        "            self.layer_name = layer_name\n",
        "            self.X = X\n",
        "\n",
        "        def on_epoch_end(self, epoch, logs=None):\n",
        "          #COMPLETE....\n",
        "            batch_X = self.X[:32]\n",
        "            a = self.model.get_layer(self.layer_name)(batch_X)\n",
        "            mean = np.mean(a)\n",
        "            std = np.std(a)\n",
        "            self.mean_per_epoch.append(mean)\n",
        "            self.std_per_epoch.append(std)\n",
        "            #print(f\"Epoch {epoch+1}: mean = {mean:.4f}, std = {std:.4f}\")\n",
        "          #.........\n",
        "    return TrainValActivationsCallback_class(layer_name, X)"
      ]
    },
    {
      "cell_type": "markdown",
      "metadata": {
        "id": "5lNHmrlGeP5h"
      },
      "source": [
        "test your code with the following cell. Observe that\n",
        "\n",
        "- we create a small input dataset and model\n",
        "- invoke your callback implementation\n",
        "- your callback must contain two lists: `mean_per_epoch` and `std_per_epoch` with one single value each\n",
        "- you can check that single value with our computation. We do this computation in two different ways (1) by using explicitly the model layers; and (2) by using matrix multiplication with layers weights (`linear activation`== `no activation`)"
      ]
    },
    {
      "cell_type": "code",
      "execution_count": 65,
      "metadata": {
        "id": "_Ju9P65aeP5h",
        "outputId": "a8fe7837-9bc4-478a-8c4c-44be2f472a0c",
        "colab": {
          "base_uri": "https://localhost:8080/"
        }
      },
      "outputs": [
        {
          "output_type": "stream",
          "name": "stdout",
          "text": [
            "input data\n",
            " [[0.6816044  0.15892392]\n",
            " [0.856142   0.5968484 ]\n",
            " [0.00128872 0.13198823]\n",
            " [0.7248218  0.99992776]\n",
            " [0.09099402 0.07684682]]\n",
            "\n",
            "activations at Layer_02_Hidden\n",
            "\n",
            "activation mean/std with your callback [0.10758934] [0.32898808]\n",
            "using model layer functions             -0.25894338 0.31049776\n",
            "manual matrix mult linear activation    -0.25894338 0.31049776\n"
          ]
        }
      ],
      "source": [
        "X_in = np.random.random(size=(5,2)).astype(np.float32)\n",
        "print (\"input data\\n\", X_in)\n",
        "model = get_model(input_dim=2, output_dim=3, num_hidden_layers=2, hidden_size=2, activation=\"linear\")\n",
        "layer_name = 'Layer_02_Hidden'\n",
        "layer = model.get_layer(layer_name)\n",
        "\n",
        "cb = TrainValActivationsCallback(layer.name, X_in)\n",
        "cb.model = model\n",
        "cb.on_epoch_end(epoch)\n",
        "\n",
        "print (\"\\nactivations at\", layer_name)\n",
        "print (\"\\nactivation mean/std with your callback\", cb.mean_per_epoch, cb.std_per_epoch)\n",
        "\n",
        "l0,l1,l2,l3 = model.layers\n",
        "a = l2(l1(l0(X_in))).numpy()\n",
        "print (\"using model layer functions            \", a.mean(), a.std())\n",
        "\n",
        "a = X_in.dot(l0.get_weights()[0]).dot(l1.get_weights()[0]).dot(l2.get_weights()[0])\n",
        "print (\"manual matrix mult linear activation   \", a.mean(), a.std())"
      ]
    },
    {
      "cell_type": "code",
      "execution_count": 43,
      "metadata": {
        "id": "44jaEugHeP5h"
      },
      "outputs": [],
      "source": []
    },
    {
      "cell_type": "markdown",
      "metadata": {
        "id": "7Ii7O4--eP5h"
      },
      "source": [
        "Now you can use your class to keep track of activations while training. We choose to keep track of activations with your callback for all the layers.\n",
        "\n",
        "Observe how we plot the activations progress with the data gathered by your callback. What interpretation can you give to the plots?\n",
        "\n",
        "In this case, we are creating a callback for each layer for train and for test data. If activations are similar in both train and test it may mean that the train/test splits are being treated similarly by the model."
      ]
    },
    {
      "cell_type": "code",
      "execution_count": 67,
      "metadata": {
        "id": "B-2tuU5PeP5i",
        "outputId": "82d87959-0559-4144-922d-b75d8d2c3d21",
        "colab": {
          "base_uri": "https://localhost:8080/",
          "height": 374
        }
      },
      "outputs": [
        {
          "output_type": "stream",
          "name": "stdout",
          "text": [
            "Epoch 1/100\n",
            "36/38 [===========================>..] - ETA: 0s - loss: 2.3799 - accuracy: 0.1059"
          ]
        },
        {
          "output_type": "error",
          "ename": "ValueError",
          "evalue": "Input 0 of layer \"Layer_01_Hidden\" is incompatible with the layer: expected axis -1 of input shape to have value 10, but received input with shape (32, 784)",
          "traceback": [
            "\u001b[0;31m---------------------------------------------------------------------------\u001b[0m",
            "\u001b[0;31mValueError\u001b[0m                                Traceback (most recent call last)",
            "\u001b[0;32m<ipython-input-67-c8ba2526298d>\u001b[0m in \u001b[0;36m<cell line: 4>\u001b[0;34m()\u001b[0m\n\u001b[1;32m      2\u001b[0m \u001b[0mcbs_train\u001b[0m \u001b[0;34m=\u001b[0m \u001b[0;34m[\u001b[0m\u001b[0mTrainValActivationsCallback\u001b[0m\u001b[0;34m(\u001b[0m\u001b[0mi\u001b[0m\u001b[0;34m.\u001b[0m\u001b[0mname\u001b[0m\u001b[0;34m,\u001b[0m \u001b[0mX_train\u001b[0m\u001b[0;34m)\u001b[0m \u001b[0;32mfor\u001b[0m \u001b[0mi\u001b[0m \u001b[0;32min\u001b[0m \u001b[0mmodel\u001b[0m\u001b[0;34m.\u001b[0m\u001b[0mlayers\u001b[0m\u001b[0;34m]\u001b[0m\u001b[0;34m\u001b[0m\u001b[0;34m\u001b[0m\u001b[0m\n\u001b[1;32m      3\u001b[0m \u001b[0mcbs_test\u001b[0m  \u001b[0;34m=\u001b[0m \u001b[0;34m[\u001b[0m\u001b[0mTrainValActivationsCallback\u001b[0m\u001b[0;34m(\u001b[0m\u001b[0mi\u001b[0m\u001b[0;34m.\u001b[0m\u001b[0mname\u001b[0m\u001b[0;34m,\u001b[0m \u001b[0mX_test\u001b[0m\u001b[0;34m)\u001b[0m \u001b[0;32mfor\u001b[0m \u001b[0mi\u001b[0m \u001b[0;32min\u001b[0m \u001b[0mmodel\u001b[0m\u001b[0;34m.\u001b[0m\u001b[0mlayers\u001b[0m\u001b[0;34m]\u001b[0m\u001b[0;34m\u001b[0m\u001b[0;34m\u001b[0m\u001b[0m\n\u001b[0;32m----> 4\u001b[0;31m model.fit(X_train, y_train_oh, epochs=100, batch_size=32, \n\u001b[0m\u001b[1;32m      5\u001b[0m           validation_data=(X_test, y_test_oh), callbacks=cbs_train+cbs_test)\n",
            "\u001b[0;32m/usr/local/lib/python3.10/dist-packages/keras/src/utils/traceback_utils.py\u001b[0m in \u001b[0;36merror_handler\u001b[0;34m(*args, **kwargs)\u001b[0m\n\u001b[1;32m     68\u001b[0m             \u001b[0;31m# To get the full stack trace, call:\u001b[0m\u001b[0;34m\u001b[0m\u001b[0;34m\u001b[0m\u001b[0m\n\u001b[1;32m     69\u001b[0m             \u001b[0;31m# `tf.debugging.disable_traceback_filtering()`\u001b[0m\u001b[0;34m\u001b[0m\u001b[0;34m\u001b[0m\u001b[0m\n\u001b[0;32m---> 70\u001b[0;31m             \u001b[0;32mraise\u001b[0m \u001b[0me\u001b[0m\u001b[0;34m.\u001b[0m\u001b[0mwith_traceback\u001b[0m\u001b[0;34m(\u001b[0m\u001b[0mfiltered_tb\u001b[0m\u001b[0;34m)\u001b[0m \u001b[0;32mfrom\u001b[0m \u001b[0;32mNone\u001b[0m\u001b[0;34m\u001b[0m\u001b[0;34m\u001b[0m\u001b[0m\n\u001b[0m\u001b[1;32m     71\u001b[0m         \u001b[0;32mfinally\u001b[0m\u001b[0;34m:\u001b[0m\u001b[0;34m\u001b[0m\u001b[0;34m\u001b[0m\u001b[0m\n\u001b[1;32m     72\u001b[0m             \u001b[0;32mdel\u001b[0m \u001b[0mfiltered_tb\u001b[0m\u001b[0;34m\u001b[0m\u001b[0;34m\u001b[0m\u001b[0m\n",
            "\u001b[0;32m<ipython-input-64-de8f31d81f77>\u001b[0m in \u001b[0;36mon_epoch_end\u001b[0;34m(self, epoch, logs)\u001b[0m\n\u001b[1;32m     12\u001b[0m           \u001b[0;31m#COMPLETE....\u001b[0m\u001b[0;34m\u001b[0m\u001b[0;34m\u001b[0m\u001b[0m\n\u001b[1;32m     13\u001b[0m             \u001b[0mbatch_X\u001b[0m \u001b[0;34m=\u001b[0m \u001b[0mself\u001b[0m\u001b[0;34m.\u001b[0m\u001b[0mX\u001b[0m\u001b[0;34m[\u001b[0m\u001b[0;34m:\u001b[0m\u001b[0;36m32\u001b[0m\u001b[0;34m]\u001b[0m\u001b[0;34m\u001b[0m\u001b[0;34m\u001b[0m\u001b[0m\n\u001b[0;32m---> 14\u001b[0;31m             \u001b[0ma\u001b[0m \u001b[0;34m=\u001b[0m \u001b[0mself\u001b[0m\u001b[0;34m.\u001b[0m\u001b[0mmodel\u001b[0m\u001b[0;34m.\u001b[0m\u001b[0mget_layer\u001b[0m\u001b[0;34m(\u001b[0m\u001b[0mself\u001b[0m\u001b[0;34m.\u001b[0m\u001b[0mlayer_name\u001b[0m\u001b[0;34m)\u001b[0m\u001b[0;34m(\u001b[0m\u001b[0mbatch_X\u001b[0m\u001b[0;34m)\u001b[0m\u001b[0;34m\u001b[0m\u001b[0;34m\u001b[0m\u001b[0m\n\u001b[0m\u001b[1;32m     15\u001b[0m             \u001b[0mmean\u001b[0m \u001b[0;34m=\u001b[0m \u001b[0mnp\u001b[0m\u001b[0;34m.\u001b[0m\u001b[0mmean\u001b[0m\u001b[0;34m(\u001b[0m\u001b[0ma\u001b[0m\u001b[0;34m)\u001b[0m\u001b[0;34m\u001b[0m\u001b[0;34m\u001b[0m\u001b[0m\n\u001b[1;32m     16\u001b[0m             \u001b[0mstd\u001b[0m \u001b[0;34m=\u001b[0m \u001b[0mnp\u001b[0m\u001b[0;34m.\u001b[0m\u001b[0mstd\u001b[0m\u001b[0;34m(\u001b[0m\u001b[0ma\u001b[0m\u001b[0;34m)\u001b[0m\u001b[0;34m\u001b[0m\u001b[0;34m\u001b[0m\u001b[0m\n",
            "\u001b[0;31mValueError\u001b[0m: Input 0 of layer \"Layer_01_Hidden\" is incompatible with the layer: expected axis -1 of input shape to have value 10, but received input with shape (32, 784)"
          ]
        }
      ],
      "source": [
        "model = get_model(num_hidden_layers=3, activation=\"sigmoid\")\n",
        "cbs_train = [TrainValActivationsCallback(i.name, X_train) for i in model.layers]\n",
        "cbs_test  = [TrainValActivationsCallback(i.name, X_test) for i in model.layers]\n",
        "model.fit(X_train, y_train_oh, epochs=100, batch_size=32,\n",
        "          validation_data=(X_test, y_test_oh), callbacks=cbs_train+cbs_test)"
      ]
    },
    {
      "cell_type": "code",
      "execution_count": null,
      "metadata": {
        "id": "gXkvhQgkeP5i",
        "outputId": "e353737a-f16e-4e70-b5f7-b31c6ef0ad2b"
      },
      "outputs": [
        {
          "data": {
            "image/png": "[encoded data removed]",
            "text/plain": [
              "<Figure size 864x216 with 2 Axes>"
            ]
          },
          "metadata": {
            "needs_background": "light"
          },
          "output_type": "display_data"
        }
      ],
      "source": [
        "\n",
        "plot_epochs(cbs_train, \"ACTIVATIONS TRAIN\")\n"
      ]
    },
    {
      "cell_type": "code",
      "execution_count": null,
      "metadata": {
        "id": "83UFpm3WeP5i",
        "outputId": "e179e661-5575-46f8-a66c-cb7b8da88d3c"
      },
      "outputs": [
        {
          "data": {
            "image/png": "[encoded data removed]",
            "text/plain": [
              "<Figure size 864x216 with 2 Axes>"
            ]
          },
          "metadata": {
            "needs_background": "light"
          },
          "output_type": "display_data"
        }
      ],
      "source": [
        "\n",
        "plot_epochs(cbs_test, \"ACTIVATIONS TEST\")\n"
      ]
    },
    {
      "cell_type": "markdown",
      "metadata": {
        "id": "hGNQNKxEeP5j"
      },
      "source": [
        "**Registra tu solución en linea**"
      ]
    },
    {
      "cell_type": "code",
      "execution_count": null,
      "metadata": {
        "scrolled": true,
        "id": "1bgjsyhSeP5j"
      },
      "outputs": [],
      "source": [
        "student.submit_task(namespace=globals(), task_id='T2');"
      ]
    },
    {
      "cell_type": "code",
      "execution_count": null,
      "metadata": {
        "id": "HMjjOdVfeP5j"
      },
      "outputs": [],
      "source": []
    }
  ],
  "metadata": {
    "kernelspec": {
      "display_name": "Python 3",
      "language": "python",
      "name": "python3"
    },
    "language_info": {
      "codemirror_mode": {
        "name": "ipython",
        "version": 3
      },
      "file_extension": ".py",
      "mimetype": "text/x-python",
      "name": "python",
      "nbconvert_exporter": "python",
      "pygments_lexer": "ipython3",
      "version": "3.7.6"
    },
    "varInspector": {
      "cols": {
        "lenName": 16,
        "lenType": 16,
        "lenVar": 40
      },
      "kernels_config": {
        "python": {
          "delete_cmd_postfix": "",
          "delete_cmd_prefix": "del ",
          "library": "var_list.py",
          "varRefreshCmd": "print(var_dic_list())"
        },
        "r": {
          "delete_cmd_postfix": ") ",
          "delete_cmd_prefix": "rm(",
          "library": "var_list.r",
          "varRefreshCmd": "cat(var_dic_list()) "
        }
      },
      "types_to_exclude": [
        "module",
        "function",
        "builtin_function_or_method",
        "instance",
        "_Feature"
      ],
      "window_display": false
    },
    "colab": {
      "provenance": [],
      "include_colab_link": true
    },
    "widgets": {
      "application/vnd.jupyter.widget-state+json": {
        "5d1ef385972d429cb7292c218144bd85": {
          "model_module": "@jupyter-widgets/controls",
          "model_name": "HBoxModel",
          "model_module_version": "1.5.0",
          "state": {
            "_dom_classes": [],
            "_model_module": "@jupyter-widgets/controls",
            "_model_module_version": "1.5.0",
            "_model_name": "HBoxModel",
            "_view_count": null,
            "_view_module": "@jupyter-widgets/controls",
            "_view_module_version": "1.5.0",
            "_view_name": "HBoxView",
            "box_style": "",
            "children": [
              "IPY_MODEL_4210d63c4f5446b28b447edd43fea0a9",
              "IPY_MODEL_e9ed15ca2ecf427d8d71aa12fae3ac0b",
              "IPY_MODEL_3085958635514db38e40f135ce4ca62d",
              "IPY_MODEL_65494fd9b2c643c883c5dc19dd1ba84a"
            ],
            "layout": "IPY_MODEL_d41030e0ed804397ab459617dd07215b"
          }
        },
        "4210d63c4f5446b28b447edd43fea0a9": {
          "model_module": "@jupyter-widgets/controls",
          "model_name": "VBoxModel",
          "model_module_version": "1.5.0",
          "state": {
            "_dom_classes": [],
            "_model_module": "@jupyter-widgets/controls",
            "_model_module_version": "1.5.0",
            "_model_name": "VBoxModel",
            "_view_count": null,
            "_view_module": "@jupyter-widgets/controls",
            "_view_module_version": "1.5.0",
            "_view_name": "VBoxView",
            "box_style": "",
            "children": [
              "IPY_MODEL_7d6c1cf2bbe848e8a0be8cc1cc259bb5",
              "IPY_MODEL_fb53aa6c181a4189bb10f3abe588a698"
            ],
            "layout": "IPY_MODEL_6129d0e2aeb04126be18907965bfd0d9"
          }
        },
        "e9ed15ca2ecf427d8d71aa12fae3ac0b": {
          "model_module": "@jupyter-widgets/controls",
          "model_name": "ButtonModel",
          "model_module_version": "1.5.0",
          "state": {
            "_dom_classes": [
              "login_button"
            ],
            "_model_module": "@jupyter-widgets/controls",
            "_model_module_version": "1.5.0",
            "_model_name": "ButtonModel",
            "_view_count": null,
            "_view_module": "@jupyter-widgets/controls",
            "_view_module_version": "1.5.0",
            "_view_name": "ButtonView",
            "button_style": "",
            "description": "Login with email",
            "disabled": false,
            "icon": "",
            "layout": "IPY_MODEL_69941a8567ab4bdeb2bf7ed2f5e85e63",
            "style": "IPY_MODEL_d25b71b0600b4adfa1afd7dde9919ee2",
            "tooltip": ""
          }
        },
        "3085958635514db38e40f135ce4ca62d": {
          "model_module": "@jupyter-widgets/controls",
          "model_name": "HTMLModel",
          "model_module_version": "1.5.0",
          "state": {
            "_dom_classes": [],
            "_model_module": "@jupyter-widgets/controls",
            "_model_module_version": "1.5.0",
            "_model_name": "HTMLModel",
            "_view_count": null,
            "_view_module": "@jupyter-widgets/controls",
            "_view_module_version": "1.5.0",
            "_view_name": "HTMLView",
            "description": "",
            "description_tooltip": null,
            "layout": "IPY_MODEL_04afb2891f8f49a7986d8f32df6f0358",
            "placeholder": "​",
            "style": "IPY_MODEL_986c442334f54ae5b3293c4ea3547b14",
            "value": "<center><big>or</big></center>"
          }
        },
        "65494fd9b2c643c883c5dc19dd1ba84a": {
          "model_module": "@jupyter-widgets/controls",
          "model_name": "ButtonModel",
          "model_module_version": "1.5.0",
          "state": {
            "_dom_classes": [
              "google_button"
            ],
            "_model_module": "@jupyter-widgets/controls",
            "_model_module_version": "1.5.0",
            "_model_name": "ButtonModel",
            "_view_count": null,
            "_view_module": "@jupyter-widgets/controls",
            "_view_module_version": "1.5.0",
            "_view_name": "ButtonView",
            "button_style": "",
            "description": "Login with Google",
            "disabled": false,
            "icon": "",
            "layout": "IPY_MODEL_d257788ae97542b6b15ec7fbbd83f905",
            "style": "IPY_MODEL_d41f4f3216144400abf69631b1403215",
            "tooltip": ""
          }
        },
        "d41030e0ed804397ab459617dd07215b": {
          "model_module": "@jupyter-widgets/base",
          "model_name": "LayoutModel",
          "model_module_version": "1.2.0",
          "state": {
            "_model_module": "@jupyter-widgets/base",
            "_model_module_version": "1.2.0",
            "_model_name": "LayoutModel",
            "_view_count": null,
            "_view_module": "@jupyter-widgets/base",
            "_view_module_version": "1.2.0",
            "_view_name": "LayoutView",
            "align_content": null,
            "align_items": null,
            "align_self": null,
            "border": null,
            "bottom": null,
            "display": null,
            "flex": null,
            "flex_flow": null,
            "grid_area": null,
            "grid_auto_columns": null,
            "grid_auto_flow": null,
            "grid_auto_rows": null,
            "grid_column": null,
            "grid_gap": null,
            "grid_row": null,
            "grid_template_areas": null,
            "grid_template_columns": null,
            "grid_template_rows": null,
            "height": null,
            "justify_content": null,
            "justify_items": null,
            "left": null,
            "margin": null,
            "max_height": null,
            "max_width": null,
            "min_height": null,
            "min_width": null,
            "object_fit": null,
            "object_position": null,
            "order": null,
            "overflow": null,
            "overflow_x": null,
            "overflow_y": null,
            "padding": null,
            "right": null,
            "top": null,
            "visibility": null,
            "width": null
          }
        },
        "7d6c1cf2bbe848e8a0be8cc1cc259bb5": {
          "model_module": "@jupyter-widgets/controls",
          "model_name": "TextModel",
          "model_module_version": "1.5.0",
          "state": {
            "_dom_classes": [],
            "_model_module": "@jupyter-widgets/controls",
            "_model_module_version": "1.5.0",
            "_model_name": "TextModel",
            "_view_count": null,
            "_view_module": "@jupyter-widgets/controls",
            "_view_module_version": "1.5.0",
            "_view_name": "TextView",
            "continuous_update": true,
            "description": "email",
            "description_tooltip": null,
            "disabled": false,
            "layout": "IPY_MODEL_cc6c8657b4b14b6cae7ce47b954332dd",
            "placeholder": "​",
            "style": "IPY_MODEL_5f99fe5cd86245d4a47d25c778e55343",
            "value": ""
          }
        },
        "fb53aa6c181a4189bb10f3abe588a698": {
          "model_module": "@jupyter-widgets/controls",
          "model_name": "PasswordModel",
          "model_module_version": "1.5.0",
          "state": {
            "_dom_classes": [],
            "_model_module": "@jupyter-widgets/controls",
            "_model_module_version": "1.5.0",
            "_model_name": "PasswordModel",
            "_view_count": null,
            "_view_module": "@jupyter-widgets/controls",
            "_view_module_version": "1.5.0",
            "_view_name": "PasswordView",
            "continuous_update": true,
            "description": "password",
            "description_tooltip": null,
            "disabled": false,
            "layout": "IPY_MODEL_5e52dc10133448dc8b62ea97c5df18b5",
            "placeholder": "​",
            "style": "IPY_MODEL_513c22795f8847c7b852e2cd6999bc54",
            "value": ""
          }
        },
        "6129d0e2aeb04126be18907965bfd0d9": {
          "model_module": "@jupyter-widgets/base",
          "model_name": "LayoutModel",
          "model_module_version": "1.2.0",
          "state": {
            "_model_module": "@jupyter-widgets/base",
            "_model_module_version": "1.2.0",
            "_model_name": "LayoutModel",
            "_view_count": null,
            "_view_module": "@jupyter-widgets/base",
            "_view_module_version": "1.2.0",
            "_view_name": "LayoutView",
            "align_content": null,
            "align_items": null,
            "align_self": null,
            "border": null,
            "bottom": null,
            "display": null,
            "flex": null,
            "flex_flow": null,
            "grid_area": null,
            "grid_auto_columns": null,
            "grid_auto_flow": null,
            "grid_auto_rows": null,
            "grid_column": null,
            "grid_gap": null,
            "grid_row": null,
            "grid_template_areas": null,
            "grid_template_columns": null,
            "grid_template_rows": null,
            "height": null,
            "justify_content": null,
            "justify_items": null,
            "left": null,
            "margin": null,
            "max_height": null,
            "max_width": null,
            "min_height": null,
            "min_width": null,
            "object_fit": null,
            "object_position": null,
            "order": null,
            "overflow": null,
            "overflow_x": null,
            "overflow_y": null,
            "padding": null,
            "right": null,
            "top": null,
            "visibility": null,
            "width": null
          }
        },
        "69941a8567ab4bdeb2bf7ed2f5e85e63": {
          "model_module": "@jupyter-widgets/base",
          "model_name": "LayoutModel",
          "model_module_version": "1.2.0",
          "state": {
            "_model_module": "@jupyter-widgets/base",
            "_model_module_version": "1.2.0",
            "_model_name": "LayoutModel",
            "_view_count": null,
            "_view_module": "@jupyter-widgets/base",
            "_view_module_version": "1.2.0",
            "_view_name": "LayoutView",
            "align_content": null,
            "align_items": null,
            "align_self": null,
            "border": null,
            "bottom": null,
            "display": null,
            "flex": null,
            "flex_flow": null,
            "grid_area": null,
            "grid_auto_columns": null,
            "grid_auto_flow": null,
            "grid_auto_rows": null,
            "grid_column": null,
            "grid_gap": null,
            "grid_row": null,
            "grid_template_areas": null,
            "grid_template_columns": null,
            "grid_template_rows": null,
            "height": "53px",
            "justify_content": null,
            "justify_items": null,
            "left": null,
            "margin": null,
            "max_height": null,
            "max_width": null,
            "min_height": null,
            "min_width": null,
            "object_fit": null,
            "object_position": null,
            "order": null,
            "overflow": null,
            "overflow_x": null,
            "overflow_y": null,
            "padding": null,
            "right": null,
            "top": null,
            "visibility": null,
            "width": "150px"
          }
        },
        "d25b71b0600b4adfa1afd7dde9919ee2": {
          "model_module": "@jupyter-widgets/controls",
          "model_name": "ButtonStyleModel",
          "model_module_version": "1.5.0",
          "state": {
            "_model_module": "@jupyter-widgets/controls",
            "_model_module_version": "1.5.0",
            "_model_name": "ButtonStyleModel",
            "_view_count": null,
            "_view_module": "@jupyter-widgets/base",
            "_view_module_version": "1.2.0",
            "_view_name": "StyleView",
            "button_color": null,
            "font_weight": ""
          }
        },
        "04afb2891f8f49a7986d8f32df6f0358": {
          "model_module": "@jupyter-widgets/base",
          "model_name": "LayoutModel",
          "model_module_version": "1.2.0",
          "state": {
            "_model_module": "@jupyter-widgets/base",
            "_model_module_version": "1.2.0",
            "_model_name": "LayoutModel",
            "_view_count": null,
            "_view_module": "@jupyter-widgets/base",
            "_view_module_version": "1.2.0",
            "_view_name": "LayoutView",
            "align_content": null,
            "align_items": null,
            "align_self": null,
            "border": null,
            "bottom": null,
            "display": null,
            "flex": null,
            "flex_flow": null,
            "grid_area": null,
            "grid_auto_columns": null,
            "grid_auto_flow": null,
            "grid_auto_rows": null,
            "grid_column": null,
            "grid_gap": null,
            "grid_row": null,
            "grid_template_areas": null,
            "grid_template_columns": null,
            "grid_template_rows": null,
            "height": null,
            "justify_content": null,
            "justify_items": null,
            "left": null,
            "margin": null,
            "max_height": null,
            "max_width": null,
            "min_height": null,
            "min_width": null,
            "object_fit": null,
            "object_position": null,
            "order": null,
            "overflow": null,
            "overflow_x": null,
            "overflow_y": null,
            "padding": null,
            "right": null,
            "top": null,
            "visibility": null,
            "width": "100px"
          }
        },
        "986c442334f54ae5b3293c4ea3547b14": {
          "model_module": "@jupyter-widgets/controls",
          "model_name": "DescriptionStyleModel",
          "model_module_version": "1.5.0",
          "state": {
            "_model_module": "@jupyter-widgets/controls",
            "_model_module_version": "1.5.0",
            "_model_name": "DescriptionStyleModel",
            "_view_count": null,
            "_view_module": "@jupyter-widgets/base",
            "_view_module_version": "1.2.0",
            "_view_name": "StyleView",
            "description_width": ""
          }
        },
        "d257788ae97542b6b15ec7fbbd83f905": {
          "model_module": "@jupyter-widgets/base",
          "model_name": "LayoutModel",
          "model_module_version": "1.2.0",
          "state": {
            "_model_module": "@jupyter-widgets/base",
            "_model_module_version": "1.2.0",
            "_model_name": "LayoutModel",
            "_view_count": null,
            "_view_module": "@jupyter-widgets/base",
            "_view_module_version": "1.2.0",
            "_view_name": "LayoutView",
            "align_content": null,
            "align_items": null,
            "align_self": null,
            "border": null,
            "bottom": null,
            "display": null,
            "flex": null,
            "flex_flow": null,
            "grid_area": null,
            "grid_auto_columns": null,
            "grid_auto_flow": null,
            "grid_auto_rows": null,
            "grid_column": null,
            "grid_gap": null,
            "grid_row": null,
            "grid_template_areas": null,
            "grid_template_columns": null,
            "grid_template_rows": null,
            "height": "53px",
            "justify_content": null,
            "justify_items": null,
            "left": null,
            "margin": null,
            "max_height": null,
            "max_width": null,
            "min_height": null,
            "min_width": null,
            "object_fit": null,
            "object_position": null,
            "order": null,
            "overflow": null,
            "overflow_x": null,
            "overflow_y": null,
            "padding": null,
            "right": null,
            "top": null,
            "visibility": null,
            "width": "200px"
          }
        },
        "d41f4f3216144400abf69631b1403215": {
          "model_module": "@jupyter-widgets/controls",
          "model_name": "ButtonStyleModel",
          "model_module_version": "1.5.0",
          "state": {
            "_model_module": "@jupyter-widgets/controls",
            "_model_module_version": "1.5.0",
            "_model_name": "ButtonStyleModel",
            "_view_count": null,
            "_view_module": "@jupyter-widgets/base",
            "_view_module_version": "1.2.0",
            "_view_name": "StyleView",
            "button_color": null,
            "font_weight": ""
          }
        },
        "cc6c8657b4b14b6cae7ce47b954332dd": {
          "model_module": "@jupyter-widgets/base",
          "model_name": "LayoutModel",
          "model_module_version": "1.2.0",
          "state": {
            "_model_module": "@jupyter-widgets/base",
            "_model_module_version": "1.2.0",
            "_model_name": "LayoutModel",
            "_view_count": null,
            "_view_module": "@jupyter-widgets/base",
            "_view_module_version": "1.2.0",
            "_view_name": "LayoutView",
            "align_content": null,
            "align_items": null,
            "align_self": null,
            "border": null,
            "bottom": null,
            "display": null,
            "flex": null,
            "flex_flow": null,
            "grid_area": null,
            "grid_auto_columns": null,
            "grid_auto_flow": null,
            "grid_auto_rows": null,
            "grid_column": null,
            "grid_gap": null,
            "grid_row": null,
            "grid_template_areas": null,
            "grid_template_columns": null,
            "grid_template_rows": null,
            "height": "25px",
            "justify_content": null,
            "justify_items": null,
            "left": null,
            "margin": null,
            "max_height": null,
            "max_width": null,
            "min_height": null,
            "min_width": null,
            "object_fit": null,
            "object_position": null,
            "order": null,
            "overflow": null,
            "overflow_x": null,
            "overflow_y": null,
            "padding": null,
            "right": null,
            "top": null,
            "visibility": null,
            "width": "300px"
          }
        },
        "5f99fe5cd86245d4a47d25c778e55343": {
          "model_module": "@jupyter-widgets/controls",
          "model_name": "DescriptionStyleModel",
          "model_module_version": "1.5.0",
          "state": {
            "_model_module": "@jupyter-widgets/controls",
            "_model_module_version": "1.5.0",
            "_model_name": "DescriptionStyleModel",
            "_view_count": null,
            "_view_module": "@jupyter-widgets/base",
            "_view_module_version": "1.2.0",
            "_view_name": "StyleView",
            "description_width": ""
          }
        },
        "5e52dc10133448dc8b62ea97c5df18b5": {
          "model_module": "@jupyter-widgets/base",
          "model_name": "LayoutModel",
          "model_module_version": "1.2.0",
          "state": {
            "_model_module": "@jupyter-widgets/base",
            "_model_module_version": "1.2.0",
            "_model_name": "LayoutModel",
            "_view_count": null,
            "_view_module": "@jupyter-widgets/base",
            "_view_module_version": "1.2.0",
            "_view_name": "LayoutView",
            "align_content": null,
            "align_items": null,
            "align_self": null,
            "border": null,
            "bottom": null,
            "display": null,
            "flex": null,
            "flex_flow": null,
            "grid_area": null,
            "grid_auto_columns": null,
            "grid_auto_flow": null,
            "grid_auto_rows": null,
            "grid_column": null,
            "grid_gap": null,
            "grid_row": null,
            "grid_template_areas": null,
            "grid_template_columns": null,
            "grid_template_rows": null,
            "height": "24px",
            "justify_content": null,
            "justify_items": null,
            "left": null,
            "margin": null,
            "max_height": null,
            "max_width": null,
            "min_height": null,
            "min_width": null,
            "object_fit": null,
            "object_position": null,
            "order": null,
            "overflow": null,
            "overflow_x": null,
            "overflow_y": null,
            "padding": null,
            "right": null,
            "top": null,
            "visibility": null,
            "width": "300px"
          }
        },
        "513c22795f8847c7b852e2cd6999bc54": {
          "model_module": "@jupyter-widgets/controls",
          "model_name": "DescriptionStyleModel",
          "model_module_version": "1.5.0",
          "state": {
            "_model_module": "@jupyter-widgets/controls",
            "_model_module_version": "1.5.0",
            "_model_name": "DescriptionStyleModel",
            "_view_count": null,
            "_view_module": "@jupyter-widgets/base",
            "_view_module_version": "1.2.0",
            "_view_name": "StyleView",
            "description_width": ""
          }
        }
      }
    }
  },
  "nbformat": 4,
  "nbformat_minor": 0
}