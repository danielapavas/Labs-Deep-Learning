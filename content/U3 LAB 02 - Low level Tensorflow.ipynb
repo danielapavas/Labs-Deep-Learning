{
  "cells": [
    {
      "cell_type": "markdown",
      "metadata": {
        "id": "view-in-github",
        "colab_type": "text"
      },
      "source": [
        "<a href=\"https://colab.research.google.com/github/danielapavas/Labs-Deep-Learning/blob/main/content/U3%20LAB%2002%20-%20Low%20level%20Tensorflow.ipynb\" target=\"_parent\"><img src=\"https://colab.research.google.com/assets/colab-badge.svg\" alt=\"Open In Colab\"/></a>"
      ]
    },
    {
      "cell_type": "markdown",
      "metadata": {
        "id": "Xuf4X9GnJhkj"
      },
      "source": [
        "# LAB 3.2 - Low level `tensorflow`"
      ]
    },
    {
      "cell_type": "code",
      "execution_count": 1,
      "metadata": {
        "id": "ugSl6TW6Jhkv",
        "outputId": "3ede6c6d-245b-467e-fe7e-a8afd214ffd8",
        "colab": {
          "base_uri": "https://localhost:8080/",
          "height": 17
        }
      },
      "outputs": [
        {
          "output_type": "display_data",
          "data": {
            "text/plain": [
              "<IPython.core.display.HTML object>"
            ],
            "text/html": [
              "\n",
              "<meta name=\"google-signin-client_id\"\n",
              "      content=\"461673936472-kdjosv61up3ac1ajeuq6qqu72upilmls.apps.googleusercontent.com\"/>\n",
              "<script src=\"https://apis.google.com/js/client:platform.js?onload=google_button_start\"></script>\n",
              "    "
            ]
          },
          "metadata": {}
        }
      ],
      "source": [
        "!wget -nc --no-cache -O init.py -q https://raw.githubusercontent.com/rramosp/2021.deeplearning/main/content/init.py\n",
        "import init; init.init(force_download=False);"
      ]
    },
    {
      "cell_type": "code",
      "execution_count": 48,
      "metadata": {
        "scrolled": true,
        "id": "qqL1YSU-Jhkz",
        "outputId": "ddfcd925-3553-491b-b14a-ae0cce7262d6",
        "colab": {
          "base_uri": "https://localhost:8080/",
          "height": 138,
          "referenced_widgets": [
            "91daaaf3707c4588a3fa7f9bafa9d05a",
            "32e0a6414e9a4c079869c13d5e261a27",
            "ef8055ca14704a6c87b5fe7309aa87be",
            "a757206a5b2c4e5c97aaf2d15ada4a1e",
            "8ecceb70e7654b51b48e2e832b0eafd3",
            "7c57ebc7a8744bb2b8a2aa3b163c955c",
            "f8dea698d1bc47fa92de6061f230bfcb",
            "9311ef4b6b9e424792e29aea98b0d526",
            "69be02c5e7d94e9788b1ac332faaaf34",
            "caa5b8ebb197430493bd398e6b301678",
            "d676bb7215ea49d7b801055c218f4d53",
            "099b44aa29574e36854ca90c79fa4682",
            "55ead8a0eb0d41cca9c6abd81e8e4e39",
            "dadc27b48ddb4efb8720d5509d38fd01",
            "50a4406f597f44108d0a77ee09150fb1",
            "d67016950e5f43b58212b104d140c53d",
            "130afaed651447faa8d4c31a4063b1d1",
            "9b4eb86873ba45719ebdc7ea5f5088b1",
            "30b956ed33ee4925b8cdfcfbbcd0c36a"
          ]
        }
      },
      "outputs": [
        {
          "output_type": "stream",
          "name": "stdout",
          "text": [
            "logging in as daniela.pavas1@udea.edu.co... please wait\n",
            "using course session 2021.deeplearning::udea.20242\n",
            "success!! you are logged in\n"
          ]
        }
      ],
      "source": [
        "from local.lib.rlxmoocapi import submit, session\n",
        "import inspect\n",
        "session.LoginSequence(endpoint=init.endpoint, course_id=init.course_id, lab_id=\"L03.02\", varname=\"student\");"
      ]
    },
    {
      "cell_type": "code",
      "source": [
        "!pip install tensorflow==2.15"
      ],
      "metadata": {
        "id": "FioSQPzlPAx4",
        "outputId": "22a054c8-7da7-4fa1-e280-515f2c28c7bf",
        "colab": {
          "base_uri": "https://localhost:8080/"
        }
      },
      "execution_count": 3,
      "outputs": [
        {
          "output_type": "stream",
          "name": "stdout",
          "text": [
            "Requirement already satisfied: tensorflow==2.15 in /usr/local/lib/python3.10/dist-packages (2.15.0)\n",
            "Requirement already satisfied: absl-py>=1.0.0 in /usr/local/lib/python3.10/dist-packages (from tensorflow==2.15) (1.4.0)\n",
            "Requirement already satisfied: astunparse>=1.6.0 in /usr/local/lib/python3.10/dist-packages (from tensorflow==2.15) (1.6.3)\n",
            "Requirement already satisfied: flatbuffers>=23.5.26 in /usr/local/lib/python3.10/dist-packages (from tensorflow==2.15) (24.3.25)\n",
            "Requirement already satisfied: gast!=0.5.0,!=0.5.1,!=0.5.2,>=0.2.1 in /usr/local/lib/python3.10/dist-packages (from tensorflow==2.15) (0.6.0)\n",
            "Requirement already satisfied: google-pasta>=0.1.1 in /usr/local/lib/python3.10/dist-packages (from tensorflow==2.15) (0.2.0)\n",
            "Requirement already satisfied: h5py>=2.9.0 in /usr/local/lib/python3.10/dist-packages (from tensorflow==2.15) (3.11.0)\n",
            "Requirement already satisfied: libclang>=13.0.0 in /usr/local/lib/python3.10/dist-packages (from tensorflow==2.15) (18.1.1)\n",
            "Requirement already satisfied: ml-dtypes~=0.2.0 in /usr/local/lib/python3.10/dist-packages (from tensorflow==2.15) (0.2.0)\n",
            "Requirement already satisfied: numpy<2.0.0,>=1.23.5 in /usr/local/lib/python3.10/dist-packages (from tensorflow==2.15) (1.26.4)\n",
            "Requirement already satisfied: opt-einsum>=2.3.2 in /usr/local/lib/python3.10/dist-packages (from tensorflow==2.15) (3.3.0)\n",
            "Requirement already satisfied: packaging in /usr/local/lib/python3.10/dist-packages (from tensorflow==2.15) (24.1)\n",
            "Requirement already satisfied: protobuf!=4.21.0,!=4.21.1,!=4.21.2,!=4.21.3,!=4.21.4,!=4.21.5,<5.0.0dev,>=3.20.3 in /usr/local/lib/python3.10/dist-packages (from tensorflow==2.15) (3.20.3)\n",
            "Requirement already satisfied: setuptools in /usr/local/lib/python3.10/dist-packages (from tensorflow==2.15) (71.0.4)\n",
            "Requirement already satisfied: six>=1.12.0 in /usr/local/lib/python3.10/dist-packages (from tensorflow==2.15) (1.16.0)\n",
            "Requirement already satisfied: termcolor>=1.1.0 in /usr/local/lib/python3.10/dist-packages (from tensorflow==2.15) (2.4.0)\n",
            "Requirement already satisfied: typing-extensions>=3.6.6 in /usr/local/lib/python3.10/dist-packages (from tensorflow==2.15) (4.12.2)\n",
            "Requirement already satisfied: wrapt<1.15,>=1.11.0 in /usr/local/lib/python3.10/dist-packages (from tensorflow==2.15) (1.14.1)\n",
            "Requirement already satisfied: tensorflow-io-gcs-filesystem>=0.23.1 in /usr/local/lib/python3.10/dist-packages (from tensorflow==2.15) (0.37.1)\n",
            "Requirement already satisfied: grpcio<2.0,>=1.24.3 in /usr/local/lib/python3.10/dist-packages (from tensorflow==2.15) (1.64.1)\n",
            "Requirement already satisfied: tensorboard<2.16,>=2.15 in /usr/local/lib/python3.10/dist-packages (from tensorflow==2.15) (2.15.2)\n",
            "Requirement already satisfied: tensorflow-estimator<2.16,>=2.15.0 in /usr/local/lib/python3.10/dist-packages (from tensorflow==2.15) (2.15.0)\n",
            "Requirement already satisfied: keras<2.16,>=2.15.0 in /usr/local/lib/python3.10/dist-packages (from tensorflow==2.15) (2.15.0)\n",
            "Requirement already satisfied: wheel<1.0,>=0.23.0 in /usr/local/lib/python3.10/dist-packages (from astunparse>=1.6.0->tensorflow==2.15) (0.44.0)\n",
            "Requirement already satisfied: google-auth<3,>=1.6.3 in /usr/local/lib/python3.10/dist-packages (from tensorboard<2.16,>=2.15->tensorflow==2.15) (2.27.0)\n",
            "Requirement already satisfied: google-auth-oauthlib<2,>=0.5 in /usr/local/lib/python3.10/dist-packages (from tensorboard<2.16,>=2.15->tensorflow==2.15) (1.2.1)\n",
            "Requirement already satisfied: markdown>=2.6.8 in /usr/local/lib/python3.10/dist-packages (from tensorboard<2.16,>=2.15->tensorflow==2.15) (3.7)\n",
            "Requirement already satisfied: requests<3,>=2.21.0 in /usr/local/lib/python3.10/dist-packages (from tensorboard<2.16,>=2.15->tensorflow==2.15) (2.32.3)\n",
            "Requirement already satisfied: tensorboard-data-server<0.8.0,>=0.7.0 in /usr/local/lib/python3.10/dist-packages (from tensorboard<2.16,>=2.15->tensorflow==2.15) (0.7.2)\n",
            "Requirement already satisfied: werkzeug>=1.0.1 in /usr/local/lib/python3.10/dist-packages (from tensorboard<2.16,>=2.15->tensorflow==2.15) (3.0.4)\n",
            "Requirement already satisfied: cachetools<6.0,>=2.0.0 in /usr/local/lib/python3.10/dist-packages (from google-auth<3,>=1.6.3->tensorboard<2.16,>=2.15->tensorflow==2.15) (5.5.0)\n",
            "Requirement already satisfied: pyasn1-modules>=0.2.1 in /usr/local/lib/python3.10/dist-packages (from google-auth<3,>=1.6.3->tensorboard<2.16,>=2.15->tensorflow==2.15) (0.4.0)\n",
            "Requirement already satisfied: rsa<5,>=3.1.4 in /usr/local/lib/python3.10/dist-packages (from google-auth<3,>=1.6.3->tensorboard<2.16,>=2.15->tensorflow==2.15) (4.9)\n",
            "Requirement already satisfied: requests-oauthlib>=0.7.0 in /usr/local/lib/python3.10/dist-packages (from google-auth-oauthlib<2,>=0.5->tensorboard<2.16,>=2.15->tensorflow==2.15) (1.3.1)\n",
            "Requirement already satisfied: charset-normalizer<4,>=2 in /usr/local/lib/python3.10/dist-packages (from requests<3,>=2.21.0->tensorboard<2.16,>=2.15->tensorflow==2.15) (3.3.2)\n",
            "Requirement already satisfied: idna<4,>=2.5 in /usr/local/lib/python3.10/dist-packages (from requests<3,>=2.21.0->tensorboard<2.16,>=2.15->tensorflow==2.15) (3.7)\n",
            "Requirement already satisfied: urllib3<3,>=1.21.1 in /usr/local/lib/python3.10/dist-packages (from requests<3,>=2.21.0->tensorboard<2.16,>=2.15->tensorflow==2.15) (2.0.7)\n",
            "Requirement already satisfied: certifi>=2017.4.17 in /usr/local/lib/python3.10/dist-packages (from requests<3,>=2.21.0->tensorboard<2.16,>=2.15->tensorflow==2.15) (2024.7.4)\n",
            "Requirement already satisfied: MarkupSafe>=2.1.1 in /usr/local/lib/python3.10/dist-packages (from werkzeug>=1.0.1->tensorboard<2.16,>=2.15->tensorflow==2.15) (2.1.5)\n",
            "Requirement already satisfied: pyasn1<0.7.0,>=0.4.6 in /usr/local/lib/python3.10/dist-packages (from pyasn1-modules>=0.2.1->google-auth<3,>=1.6.3->tensorboard<2.16,>=2.15->tensorflow==2.15) (0.6.0)\n",
            "Requirement already satisfied: oauthlib>=3.0.0 in /usr/local/lib/python3.10/dist-packages (from requests-oauthlib>=0.7.0->google-auth-oauthlib<2,>=0.5->tensorboard<2.16,>=2.15->tensorflow==2.15) (3.2.2)\n"
          ]
        }
      ]
    },
    {
      "cell_type": "code",
      "execution_count": 20,
      "metadata": {
        "id": "o-zGd2NZJhk1",
        "outputId": "db5769c2-cf02-4fd5-a6f9-1c3567f00336",
        "colab": {
          "base_uri": "https://localhost:8080/",
          "height": 36
        }
      },
      "outputs": [
        {
          "output_type": "execute_result",
          "data": {
            "text/plain": [
              "'2.15.0'"
            ],
            "application/vnd.google.colaboratory.intrinsic+json": {
              "type": "string"
            }
          },
          "metadata": {},
          "execution_count": 20
        }
      ],
      "source": [
        "import numpy as np\n",
        "import os\n",
        "import tensorflow as tf\n",
        "from tensorflow.keras.models import Model, Sequential\n",
        "from tensorflow.keras.layers import Dense, BatchNormalization\n",
        "\n",
        "tf.__version__"
      ]
    },
    {
      "cell_type": "markdown",
      "metadata": {
        "id": "PicH-0ieJhk2"
      },
      "source": [
        "## TASK 1: Obtain layer output\n"
      ]
    },
    {
      "cell_type": "markdown",
      "metadata": {
        "id": "FLb1b9-UJhk2"
      },
      "source": [
        "**COMPLETE** the following function so that, when given a TF `model` and input  `X` returns the output of the model at layer `layer_name` when feeding `X` to the model.\n",
        "\n",
        "\n",
        "You **MUST RETURN** a `numpy` array, **NOT** a tensor.\n",
        "\n",
        "**HINT**: Use the [`tf.keras.Model`](https://www.tensorflow.org/api_docs/python/tf/keras/Model) class like in the functional API with `outputs` from the desired layer.\n",
        "\n",
        "**CHALLENGE**: Solve it with a single line of code (not counting the `import`)"
      ]
    },
    {
      "cell_type": "code",
      "execution_count": 43,
      "metadata": {
        "id": "i6U7M2VHJhk8"
      },
      "outputs": [],
      "source": [
        "def output_at_layer(X, model, layer_name):\n",
        "    from tensorflow.keras.models import Model\n",
        "\n",
        "    #COMPLETE..................\n",
        "    r = Model(inputs=model.input, outputs=model.get_layer(layer_name).output).predict(X)\n",
        "    return r\n",
        "    #..................."
      ]
    },
    {
      "cell_type": "markdown",
      "metadata": {
        "id": "oZq8kf19Jhk_"
      },
      "source": [
        "check your answer manually. With the following model and weights below you should get this answer:\n",
        "\n",
        "\n",
        "        >> output_at_layer(X, model, \"layer_A\")\n",
        "        array([[0.91274303, 0.69886017, 0.8832942 ],\n",
        "               [0.9311633 , 0.7634138 , 0.8924969 ],\n",
        "               [0.85661894, 0.5696809 , 0.8091405 ],\n",
        "               [0.8952345 , 0.6803274 , 0.8326857 ]], dtype=float32)\n",
        "\n",
        "        >> output_at_layer(X, model, \"layer_B\")\n",
        "        array([[0.87063193, 0.8240411 ],\n",
        "               [0.8774254 , 0.83376545],\n",
        "               [0.84875023, 0.7963983 ],\n",
        "               [0.86286545, 0.81590414]], dtype=float32)\n",
        "\n",
        "        >> output_at_layer(X, model, \"layer_C\")\n",
        "        array([[0.8959839 , 0.65980244],\n",
        "               [0.9032545 , 0.66435313],\n",
        "               [0.8733646 , 0.646801  ],\n",
        "               [0.8883195 , 0.6559416 ]], dtype=float32)"
      ]
    },
    {
      "cell_type": "code",
      "execution_count": 28,
      "metadata": {
        "id": "pxnI13AFJhlA"
      },
      "outputs": [],
      "source": [
        "def get_model(n1,n2,n3):\n",
        "    model = Sequential()\n",
        "    model.add(Dense(n1, name=\"layer_A\", activation=\"tanh\", input_dim=2))\n",
        "    model.add(Dense(n2, name=\"layer_B\", activation=\"sigmoid\"))\n",
        "    model.add(Dense(n3, name=\"layer_C\", activation=\"linear\"))\n",
        "    return model\n",
        "\n",
        "\n",
        "w = [np.array([[0.3336241 , 0.26024526, 0.37238857],\n",
        "               [0.6344426 , 0.67660165, 0.31070882]], dtype=np.float32),\n",
        "     np.array([0.97280777, 0.3447949 , 0.91722184], dtype=np.float32),\n",
        "\n",
        "     np.array([[0.12999585, 0.31851983],\n",
        "               [0.7763866 , 0.8777575 ],\n",
        "               [0.99977154, 0.65771514]], dtype=np.float32),\n",
        "     np.array([0.36222705, 0.05885772], dtype=np.float32),\n",
        "\n",
        "     np.array([[0.75918376, 0.02541249],\n",
        "               [0.21730722, 0.45021895]], dtype=np.float32),\n",
        "     np.array([0.05594416, 0.26667854], dtype=np.float32)]\n",
        "\n",
        "\n",
        "X = np.array([[0.9269997 , 0.41239464],\n",
        "              [0.8461177 , 0.64935404],\n",
        "              [0.27092433, 0.34251866],\n",
        "              [0.22509325, 0.6301328 ]], dtype=np.float32)\n",
        "\n",
        "\n",
        "model=get_model(3,2,2)\n",
        "model.set_weights(w)"
      ]
    },
    {
      "cell_type": "code",
      "execution_count": 29,
      "metadata": {
        "id": "xm06ku6VJhlD",
        "outputId": "0be7a16f-eabc-4e1c-a332-99ab213598d3",
        "colab": {
          "base_uri": "https://localhost:8080/"
        }
      },
      "outputs": [
        {
          "output_type": "stream",
          "name": "stdout",
          "text": [
            "1/1 [==============================] - 0s 48ms/step\n"
          ]
        },
        {
          "output_type": "execute_result",
          "data": {
            "text/plain": [
              "array([[0.91274303, 0.69886017, 0.8832942 ],\n",
              "       [0.9311633 , 0.7634138 , 0.8924969 ],\n",
              "       [0.85661894, 0.5696809 , 0.8091405 ],\n",
              "       [0.8952345 , 0.6803274 , 0.8326857 ]], dtype=float32)"
            ]
          },
          "metadata": {},
          "execution_count": 29
        }
      ],
      "source": [
        "output_at_layer(X, model, \"layer_A\")"
      ]
    },
    {
      "cell_type": "code",
      "execution_count": 30,
      "metadata": {
        "id": "nIdAYjljJhlE",
        "outputId": "cac1127d-a606-4331-8619-6116165d8ab3",
        "colab": {
          "base_uri": "https://localhost:8080/"
        }
      },
      "outputs": [
        {
          "output_type": "execute_result",
          "data": {
            "text/plain": [
              "array([[0.912743  , 0.69886017, 0.8832942 ],\n",
              "       [0.9311633 , 0.7634138 , 0.89249694],\n",
              "       [0.8566189 , 0.5696809 , 0.8091404 ],\n",
              "       [0.89523464, 0.6803274 , 0.8326857 ]], dtype=float32)"
            ]
          },
          "metadata": {},
          "execution_count": 30
        }
      ],
      "source": [
        "# which corresponds to a tanh activation from the input data\n",
        "np.tanh(X.dot(w[0])+w[1])"
      ]
    },
    {
      "cell_type": "code",
      "execution_count": 31,
      "metadata": {
        "id": "vlsguT29JhlF",
        "outputId": "bce412fc-f0d8-42b3-9864-05554354ceca",
        "colab": {
          "base_uri": "https://localhost:8080/"
        }
      },
      "outputs": [
        {
          "output_type": "stream",
          "name": "stdout",
          "text": [
            "1/1 [==============================] - 0s 81ms/step\n"
          ]
        },
        {
          "output_type": "execute_result",
          "data": {
            "text/plain": [
              "array([[0.87063193, 0.8240411 ],\n",
              "       [0.8774253 , 0.83376545],\n",
              "       [0.84875023, 0.7963982 ],\n",
              "       [0.8628655 , 0.81590414]], dtype=float32)"
            ]
          },
          "metadata": {},
          "execution_count": 31
        }
      ],
      "source": [
        "output_at_layer(X, model, \"layer_B\")"
      ]
    },
    {
      "cell_type": "code",
      "execution_count": 37,
      "metadata": {
        "id": "f_wi_JJIJhlG",
        "outputId": "2543070b-183f-4885-da4d-d5daf46d3865",
        "colab": {
          "base_uri": "https://localhost:8080/"
        }
      },
      "outputs": [
        {
          "output_type": "stream",
          "name": "stdout",
          "text": [
            "1/1 [==============================] - 0s 44ms/step\n"
          ]
        },
        {
          "output_type": "execute_result",
          "data": {
            "text/plain": [
              "array([[0.870632  , 0.8240412 ],\n",
              "       [0.8774254 , 0.8337655 ],\n",
              "       [0.8487503 , 0.7963983 ],\n",
              "       [0.86286545, 0.81590414]], dtype=float32)"
            ]
          },
          "metadata": {},
          "execution_count": 37
        }
      ],
      "source": [
        "# which corresponds to a sigmoid activation from the output of layer A\n",
        "sigm = lambda x: 1/(1+np.exp(-x))\n",
        "sigm(output_at_layer(X, model, \"layer_A\").dot(w[2])+w[3])\n"
      ]
    },
    {
      "cell_type": "code",
      "execution_count": 33,
      "metadata": {
        "id": "Y-bJUETCJhlH",
        "outputId": "589d1c4c-d86f-4f3e-8c92-7335cfda824c",
        "colab": {
          "base_uri": "https://localhost:8080/"
        }
      },
      "outputs": [
        {
          "output_type": "stream",
          "name": "stderr",
          "text": [
            "WARNING:tensorflow:6 out of the last 6 calls to <function Model.make_predict_function.<locals>.predict_function at 0x7975969e4af0> triggered tf.function retracing. Tracing is expensive and the excessive number of tracings could be due to (1) creating @tf.function repeatedly in a loop, (2) passing tensors with different shapes, (3) passing Python objects instead of tensors. For (1), please define your @tf.function outside of the loop. For (2), @tf.function has reduce_retracing=True option that can avoid unnecessary retracing. For (3), please refer to https://www.tensorflow.org/guide/function#controlling_retracing and https://www.tensorflow.org/api_docs/python/tf/function for  more details.\n"
          ]
        },
        {
          "output_type": "stream",
          "name": "stdout",
          "text": [
            "1/1 [==============================] - 0s 56ms/step\n"
          ]
        },
        {
          "output_type": "execute_result",
          "data": {
            "text/plain": [
              "array([[0.8959839 , 0.6598024 ],\n",
              "       [0.90325445, 0.66435313],\n",
              "       [0.8733646 , 0.646801  ],\n",
              "       [0.8883195 , 0.6559416 ]], dtype=float32)"
            ]
          },
          "metadata": {},
          "execution_count": 33
        }
      ],
      "source": [
        "output_at_layer(X, model, \"layer_C\")"
      ]
    },
    {
      "cell_type": "code",
      "execution_count": 38,
      "metadata": {
        "id": "WI9lWXArJhlK",
        "outputId": "14223143-3cb0-4500-9d7a-092f99b71ed2",
        "colab": {
          "base_uri": "https://localhost:8080/"
        }
      },
      "outputs": [
        {
          "output_type": "stream",
          "name": "stdout",
          "text": [
            "1/1 [==============================] - 0s 48ms/step\n"
          ]
        },
        {
          "output_type": "execute_result",
          "data": {
            "text/plain": [
              "array([[0.8959839 , 0.65980244],\n",
              "       [0.90325445, 0.66435313],\n",
              "       [0.8733646 , 0.646801  ],\n",
              "       [0.8883195 , 0.6559416 ]], dtype=float32)"
            ]
          },
          "metadata": {},
          "execution_count": 38
        }
      ],
      "source": [
        "# which corresponds to a linear activation from the output of layer B\n",
        "output_at_layer(X, model, \"layer_B\").dot(w[-2])+w[-1]"
      ]
    },
    {
      "cell_type": "markdown",
      "metadata": {
        "id": "6HC0lL0WJhlK"
      },
      "source": [
        "**Registra tu solución en linea**"
      ]
    },
    {
      "cell_type": "code",
      "execution_count": 35,
      "metadata": {
        "id": "w-08lKmoJhlL",
        "outputId": "b80b297a-0ee2-45af-8499-f3ce5ccfc689",
        "colab": {
          "base_uri": "https://localhost:8080/",
          "height": 128
        }
      },
      "outputs": [
        {
          "output_type": "display_data",
          "data": {
            "text/plain": [
              "<IPython.core.display.HTML object>"
            ],
            "text/html": [
              "\n",
              "                    <b>T1 submitted.</b> <b><font color=\"blue\">your grade is 5</font></b> \n",
              "                    <p/><pre>----- grader message -------</pre>testing your code with 100 random calls<br/><b>correct</b><pre>----------------------------</pre>\n",
              "                    <p/><p/>\n",
              "                    <div style=\"font-size:10px\"><b>SUBMISSION CODE</b> YHSzwfeTjea9gkHZMwELqqAefI/Y1boys6NhHD5aNXOxhyfp1sGWtCg2GdqIGYzPh4jtrPDQmmlShq8yfOVzjz6bwEAqObYgs/z95Kn1M169bNt+zJ5MgAYoV7zcgkdvKC2whneT4UNRvLSWjZHumDcLwu3UMJmMwS6SvTAhRyA=</div>\n",
              "                    "
            ]
          },
          "metadata": {}
        }
      ],
      "source": [
        "student.submit_task(namespace=globals(), task_id='T1');"
      ]
    },
    {
      "cell_type": "code",
      "execution_count": null,
      "metadata": {
        "id": "Qn6aKGZ_JhlL"
      },
      "outputs": [],
      "source": []
    },
    {
      "cell_type": "markdown",
      "metadata": {
        "id": "pMREWfkIJhlM"
      },
      "source": [
        "## TASK 2: Implement batch normalization\n",
        "\n",
        "Observe how we create a **ONE LAYER** model with **TANH** activation and batch normalization"
      ]
    },
    {
      "cell_type": "code",
      "execution_count": 39,
      "metadata": {
        "id": "za40_p6JJhlM"
      },
      "outputs": [],
      "source": [
        "def get_model(input_dim, n):\n",
        "    model = Sequential()\n",
        "    model.add(Dense(n, name=\"layer_A\", activation=\"tanh\", input_dim=input_dim))\n",
        "    model.add(BatchNormalization())\n",
        "    return model"
      ]
    },
    {
      "cell_type": "markdown",
      "metadata": {
        "id": "7qBu_5cwJhlM"
      },
      "source": [
        "we manually initialize it with random weights and apply it to some random input"
      ]
    },
    {
      "cell_type": "code",
      "execution_count": 40,
      "metadata": {
        "id": "w249WRJ6JhlN",
        "outputId": "b1563861-1dbc-4a58-c8a3-99b09f46bf59",
        "colab": {
          "base_uri": "https://localhost:8080/"
        }
      },
      "outputs": [
        {
          "output_type": "stream",
          "name": "stdout",
          "text": [
            "input_dim 2 , n 7\n"
          ]
        }
      ],
      "source": [
        "\n",
        "input_dim = np.random.randint(3)+2\n",
        "n = np.random.randint(5)+5\n",
        "X = np.random.random((6,input_dim)).astype(np.float32)\n",
        "print (\"input_dim\", input_dim, \", n\", n)\n"
      ]
    },
    {
      "cell_type": "code",
      "execution_count": 41,
      "metadata": {
        "id": "6em2uLIWJhlO",
        "outputId": "dbc9efb4-5d69-4c9d-b6cc-c44b8085506e",
        "colab": {
          "base_uri": "https://localhost:8080/"
        }
      },
      "outputs": [
        {
          "output_type": "execute_result",
          "data": {
            "text/plain": [
              "array([[0.4378083 , 0.8955243 , 0.5728737 , 0.60093564, 0.65454495,\n",
              "        0.4723038 , 1.178867  ],\n",
              "       [0.3846605 , 0.8675044 , 0.5429286 , 0.3834408 , 0.6536793 ,\n",
              "        0.4151498 , 1.3890388 ],\n",
              "       [0.40126273, 0.9085615 , 0.54655623, 0.46377057, 0.65398693,\n",
              "        0.42735827, 1.458081  ],\n",
              "       [0.43236712, 0.9069957 , 0.56769854, 0.58343893, 0.65447056,\n",
              "        0.46429342, 1.2775939 ],\n",
              "       [0.40764204, 0.87356406, 0.55661684, 0.4810844 , 0.6540594 ,\n",
              "        0.44045758, 1.2915756 ],\n",
              "       [0.4516429 , 0.88299245, 0.5828916 , 0.6469652 , 0.65474343,\n",
              "        0.4899244 , 0.9745528 ]], dtype=float32)"
            ]
          },
          "metadata": {},
          "execution_count": 41
        }
      ],
      "source": [
        "\n",
        "model = get_model(input_dim=input_dim, n=n)\n",
        "model.set_weights([np.random.random(i.shape) for i in model.get_weights()])\n",
        "model(X).numpy()\n"
      ]
    },
    {
      "cell_type": "markdown",
      "metadata": {
        "id": "WND4twIlJhlO"
      },
      "source": [
        "and we can extract the weights of the dense layer and the batch normalization layer"
      ]
    },
    {
      "cell_type": "code",
      "execution_count": 42,
      "metadata": {
        "id": "lU08s73VJhlP",
        "outputId": "080f97c2-3b8c-4483-952c-f341dee0759d",
        "colab": {
          "base_uri": "https://localhost:8080/"
        }
      },
      "outputs": [
        {
          "output_type": "execute_result",
          "data": {
            "text/plain": [
              "((2, 7), (7,), (7,), (7,), (7,))"
            ]
          },
          "metadata": {},
          "execution_count": 42
        }
      ],
      "source": [
        "\n",
        "W, b, gamma, beta, moving_mean, moving_var = model.get_weights()\n",
        "W.shape, b.shape, beta.shape, moving_mean.shape, moving_var.shape\n"
      ]
    },
    {
      "cell_type": "markdown",
      "metadata": {
        "id": "nEhesxKZJhlP"
      },
      "source": [
        "**COMPLETE** the following function **WITHOUT USING TENSORFLOW** such that you get the same output as the model above, given the input and the weights.\n",
        "\n",
        "In specific, the Dense layer output must be\n",
        "\n",
        "$$A = \\text{tanh}(XW+b)$$\n",
        "\n",
        "And the batch normalization layer after that output is\n",
        "\n",
        "$$\\frac{A-m_\\mu}{\\sqrt{m_\\sigma+\\varepsilon}}\\gamma + \\beta$$\n",
        "\n",
        "You **MUST RETURN** a `numpy` array, **NOT** a tensor.\n",
        "\n",
        "**CHALLENGE**: Solve it with one single line of Python code."
      ]
    },
    {
      "cell_type": "code",
      "execution_count": 60,
      "metadata": {
        "id": "x-Qz1iM7JhlP"
      },
      "outputs": [],
      "source": [
        "def apply_model(X, W, b, gamma, beta, moving_mean, moving_var, epsilon=1e-3):\n",
        "\n",
        "  #COMPLETE..............\n",
        "    r = gamma * (np.tanh (np.dot(X, W) + b) - moving_mean) / np.sqrt(moving_var + epsilon) + beta\n",
        "    return r\n",
        "    #......................"
      ]
    },
    {
      "cell_type": "markdown",
      "metadata": {
        "id": "66zkvosYJhlQ"
      },
      "source": [
        "check manually your code, the output should be the same as above."
      ]
    },
    {
      "cell_type": "code",
      "execution_count": 61,
      "metadata": {
        "id": "oTnD0_wEJhlQ",
        "outputId": "47d2c95b-2fab-460f-d520-1e5a87314138",
        "colab": {
          "base_uri": "https://localhost:8080/"
        }
      },
      "outputs": [
        {
          "output_type": "execute_result",
          "data": {
            "text/plain": [
              "array([[0.43780825, 0.8955244 , 0.5728737 , 0.6009357 , 0.654545  ,\n",
              "        0.47230375, 1.178867  ],\n",
              "       [0.38466054, 0.8675044 , 0.5429286 , 0.38344085, 0.6536793 ,\n",
              "        0.41514978, 1.3890387 ],\n",
              "       [0.40126267, 0.90856147, 0.5465563 , 0.46377057, 0.65398693,\n",
              "        0.42735827, 1.458081  ],\n",
              "       [0.4323672 , 0.9069958 , 0.56769854, 0.5834391 , 0.65447056,\n",
              "        0.46429342, 1.2775937 ],\n",
              "       [0.40764204, 0.87356377, 0.55661684, 0.4810844 , 0.65405947,\n",
              "        0.44045758, 1.2915757 ],\n",
              "       [0.45164293, 0.8829925 , 0.5828916 , 0.6469653 , 0.65474343,\n",
              "        0.4899244 , 0.97455275]], dtype=float32)"
            ]
          },
          "metadata": {},
          "execution_count": 61
        }
      ],
      "source": [
        "apply_model(X, W, b, gamma, beta, moving_mean, moving_var)"
      ]
    },
    {
      "cell_type": "markdown",
      "metadata": {
        "id": "qC-CxIOuJhlR"
      },
      "source": [
        "**Registra tu solución en linea**"
      ]
    },
    {
      "cell_type": "code",
      "execution_count": 62,
      "metadata": {
        "id": "U9I74GmlJhlS",
        "outputId": "79153e8c-5aa7-4e52-ccb8-93ffce9f1545",
        "colab": {
          "base_uri": "https://localhost:8080/",
          "height": 128
        }
      },
      "outputs": [
        {
          "output_type": "display_data",
          "data": {
            "text/plain": [
              "<IPython.core.display.HTML object>"
            ],
            "text/html": [
              "\n",
              "                    <b>T2 submitted.</b> <b><font color=\"blue\">your grade is 5</font></b> \n",
              "                    <p/><pre>----- grader message -------</pre>testing your code with 100 random calls<br/><b>correct</b><pre>----------------------------</pre>\n",
              "                    <p/><p/>\n",
              "                    <div style=\"font-size:10px\"><b>SUBMISSION CODE</b> VHyCods4AI+lZTIY7+rQHYUYgO68vGMsB6GVMotNmqKZcB43XiCvfpICK4LUUln2QvUd4cq1T6tE6+pGaladr4KG4rII1nAHcsaIxr7c/3MRnxPrPXPmyOyC2qirmEe7MPURb6iIJ7B1JTqphu1NKcZuASFQIlf1TV4xD2sU40U=</div>\n",
              "                    "
            ]
          },
          "metadata": {}
        }
      ],
      "source": [
        "student.submit_task(namespace=globals(), task_id='T2');"
      ]
    },
    {
      "cell_type": "code",
      "execution_count": null,
      "metadata": {
        "id": "0nRG9G92JhlS"
      },
      "outputs": [],
      "source": []
    },
    {
      "cell_type": "code",
      "execution_count": null,
      "metadata": {
        "id": "UJ4JS1U7JhlU"
      },
      "outputs": [],
      "source": []
    },
    {
      "cell_type": "markdown",
      "metadata": {
        "id": "g-PAkCOrJhlV"
      },
      "source": [
        "## TASK 3: Compute the Hessian\n",
        "\n",
        "Complete the function below so that computes the Hessian of a function with respect to a set of variables. Remember that the Hessian is the matrix with all combinations of double partial derivatives. See [https://en.wikipedia.org/wiki/Hessian_matrix](https://en.wikipedia.org/wiki/Hessian_matrix)\n",
        "\n",
        "\n",
        "The arguments for your code below:\n",
        "\n",
        "- `expression_fn`: is a Python function that, when executed, will return a Tensor depending on the variables in `svars`.\n",
        "- `svars`: a list of $n$ `tf.Variable`s against which  the derivatives are to be taken.\n",
        "\n",
        "The result:\n",
        "\n",
        "- a `numpy` array of dimension $n\\times n$, containing in each position the value of the corresponding double derivative evaluated with the value attached to each variable in `svars`.\n",
        "\n",
        "See the example call below to understand what you have to produce.\n",
        "\n",
        "**NOTE**: Observe that `expression_fn` is a function that you **must call** inside some `GradientTape` to obtain the expresion. This needs to be done this way because `GradientTape` needs to _watch_ how expressions are built to be able to access the computational graph and compute the gradient. This is a technique which is very often used in Tensorflow.\n",
        "\n",
        "\n",
        "\n",
        "**WARN**: You cannot use `tf.hessian` or `GradientTape.jacobian` or `sympy`. Do not use the name `hessian` to name any variable within your code.\n",
        "\n",
        "**HINT 1**: use a `GradientTape` inside another `GradientTape`.\n",
        "\n",
        "**HINT 2**: use `unconnected_gradients=tf.UnconnectedGradients.ZERO` as argument to `GradientTape.gradient` to have the variables not participating in an expresion result in gradient zero. For instance with $f=xy$, we have $\\frac{\\partial f}{\\partial y\\partial y}=0$, since $\\frac{\\partial f}{\\partial y}=1$. Or if we have $f=x$ we have $\\frac{\\partial f}{\\partial y\\partial x}=0$, since $\\frac{\\partial f}{\\partial y}=0$. If you do not include this argument, Tensorflow will return these values as `None` and you would have to fix them later."
      ]
    },
    {
      "cell_type": "code",
      "execution_count": 67,
      "metadata": {
        "id": "wnz-DB30JhlV"
      },
      "outputs": [],
      "source": [
        "def get_double_derivatives(expression_fn,svars):\n",
        "    import tensorflow as tf\n",
        "\n",
        "    #COMPLETE...............\n",
        "    n = len(svars)\n",
        "    result = np.zeros((n, n))\n",
        "\n",
        "    with tf.GradientTape(persistent=True) as outer_tape:\n",
        "        with tf.GradientTape() as inner_tape:\n",
        "            inner_tape.watch(svars)\n",
        "            outer_tape.watch(svars)\n",
        "\n",
        "            expression = expression_fn()\n",
        "\n",
        "        grads = inner_tape.gradient(expression, svars, unconnected_gradients=tf.UnconnectedGradients.ZERO)\n",
        "\n",
        "    # Calculamos las segundas derivadas\n",
        "    for i in range(n):\n",
        "        for j in range(n):\n",
        "            result[i, j] = outer_tape.gradient(grads[i], svars[j], unconnected_gradients=tf.UnconnectedGradients.ZERO)\n",
        "\n",
        "    del outer_tape\n",
        "    #...........................\n",
        "    return result\n",
        ""
      ]
    },
    {
      "cell_type": "markdown",
      "metadata": {
        "id": "XWNzsWvkJhlW"
      },
      "source": [
        "check your code. The following expression\n",
        "\n",
        "$$f = 2xy^2 + 3x\\cos{y}$$\n",
        "\n",
        "has as first derivatives:\n",
        "\n",
        "- $\\frac{\\partial f }{\\partial x} = 2y^2 +3\\cos{y}$\n",
        "- $\\frac{\\partial f }{\\partial y} = 4xy - 3x\\sin{y}$\n",
        "\n",
        "and as second derivatives:\n",
        "\n",
        "- $\\frac{\\partial f }{\\partial x \\partial x} = 0$\n",
        "- $\\frac{\\partial f }{\\partial x \\partial y} = 4y - 3\\sin{y}$\n",
        "- $\\frac{\\partial f }{\\partial y \\partial x} = 4y - 3\\sin{y}$\n",
        "- $\\frac{\\partial f }{\\partial y \\partial y} = 4x - 3x\\cos{y}$\n",
        "\n",
        "which, when evaluated at $x=2$ and $y=-3$ yields\n",
        "\n",
        "    [[  0     ,  -11.58],\n",
        "     [ -11.58 ,   13.94]]"
      ]
    },
    {
      "cell_type": "code",
      "execution_count": 68,
      "metadata": {
        "id": "BUNvjV1SJhlW",
        "outputId": "81bb9b78-601d-4575-ad1a-80a6e45e467c",
        "colab": {
          "base_uri": "https://localhost:8080/"
        }
      },
      "outputs": [
        {
          "output_type": "execute_result",
          "data": {
            "text/plain": [
              "array([[  0.        , -11.57664013],\n",
              "       [-11.57664013,  13.93995476]])"
            ]
          },
          "metadata": {},
          "execution_count": 68
        }
      ],
      "source": [
        "x = tf.Variable(2, dtype=tf.float32)\n",
        "y = tf.Variable(-3, dtype=tf.float32)\n",
        "expr = lambda: 2*x*y**2 + 3*x*tf.cos(y)\n",
        "\n",
        "get_double_derivatives(expr, [x,y])"
      ]
    },
    {
      "cell_type": "code",
      "execution_count": null,
      "metadata": {
        "id": "WnXAP4F-JhlX"
      },
      "outputs": [],
      "source": []
    },
    {
      "cell_type": "markdown",
      "metadata": {
        "id": "UW1XTsZPJhlX"
      },
      "source": [
        "**Registra tu solución en linea**"
      ]
    },
    {
      "cell_type": "code",
      "execution_count": 69,
      "metadata": {
        "id": "xTNsSKu8Jhll",
        "outputId": "2f45ad04-0ff7-410c-e50f-81170669b753",
        "colab": {
          "base_uri": "https://localhost:8080/",
          "height": 128
        }
      },
      "outputs": [
        {
          "output_type": "display_data",
          "data": {
            "text/plain": [
              "<IPython.core.display.HTML object>"
            ],
            "text/html": [
              "\n",
              "                    <b>T3 submitted.</b> <b><font color=\"blue\">your grade is 5</font></b> \n",
              "                    <p/><pre>----- grader message -------</pre>testing your code with 100 random calls<br/><b>correct</b><pre>----------------------------</pre>\n",
              "                    <p/><p/>\n",
              "                    <div style=\"font-size:10px\"><b>SUBMISSION CODE</b> 4MK2sb4qr5djd/GucW2PSgCr53cfUSM7z+mu3B7SR5w+JB/MdTnsI65A8auWc8r0Dbk0FP8dOO6yB+Qo2G+krLzv2TeV1nLAevXDZxCNXla8OrHnivWoypQWOefZ/5YCxosADlp1coUyYpM8uR4KYDQbGbyTMWoxLMgItoMKnmY=</div>\n",
              "                    "
            ]
          },
          "metadata": {}
        }
      ],
      "source": [
        "student.submit_task(namespace=globals(), task_id='T3');"
      ]
    },
    {
      "cell_type": "code",
      "execution_count": null,
      "metadata": {
        "id": "DqC1dTEgJhll"
      },
      "outputs": [],
      "source": []
    }
  ],
  "metadata": {
    "kernelspec": {
      "display_name": "p38",
      "language": "python",
      "name": "p38"
    },
    "language_info": {
      "codemirror_mode": {
        "name": "ipython",
        "version": 3
      },
      "file_extension": ".py",
      "mimetype": "text/x-python",
      "name": "python",
      "nbconvert_exporter": "python",
      "pygments_lexer": "ipython3",
      "version": "3.8.5"
    },
    "colab": {
      "provenance": [],
      "include_colab_link": true
    },
    "widgets": {
      "application/vnd.jupyter.widget-state+json": {
        "91daaaf3707c4588a3fa7f9bafa9d05a": {
          "model_module": "@jupyter-widgets/controls",
          "model_name": "HBoxModel",
          "model_module_version": "1.5.0",
          "state": {
            "_dom_classes": [],
            "_model_module": "@jupyter-widgets/controls",
            "_model_module_version": "1.5.0",
            "_model_name": "HBoxModel",
            "_view_count": null,
            "_view_module": "@jupyter-widgets/controls",
            "_view_module_version": "1.5.0",
            "_view_name": "HBoxView",
            "box_style": "",
            "children": [
              "IPY_MODEL_32e0a6414e9a4c079869c13d5e261a27",
              "IPY_MODEL_ef8055ca14704a6c87b5fe7309aa87be",
              "IPY_MODEL_a757206a5b2c4e5c97aaf2d15ada4a1e",
              "IPY_MODEL_8ecceb70e7654b51b48e2e832b0eafd3"
            ],
            "layout": "IPY_MODEL_7c57ebc7a8744bb2b8a2aa3b163c955c"
          }
        },
        "32e0a6414e9a4c079869c13d5e261a27": {
          "model_module": "@jupyter-widgets/controls",
          "model_name": "VBoxModel",
          "model_module_version": "1.5.0",
          "state": {
            "_dom_classes": [],
            "_model_module": "@jupyter-widgets/controls",
            "_model_module_version": "1.5.0",
            "_model_name": "VBoxModel",
            "_view_count": null,
            "_view_module": "@jupyter-widgets/controls",
            "_view_module_version": "1.5.0",
            "_view_name": "VBoxView",
            "box_style": "",
            "children": [
              "IPY_MODEL_f8dea698d1bc47fa92de6061f230bfcb",
              "IPY_MODEL_9311ef4b6b9e424792e29aea98b0d526"
            ],
            "layout": "IPY_MODEL_69be02c5e7d94e9788b1ac332faaaf34"
          }
        },
        "ef8055ca14704a6c87b5fe7309aa87be": {
          "model_module": "@jupyter-widgets/controls",
          "model_name": "ButtonModel",
          "model_module_version": "1.5.0",
          "state": {
            "_dom_classes": [
              "login_button"
            ],
            "_model_module": "@jupyter-widgets/controls",
            "_model_module_version": "1.5.0",
            "_model_name": "ButtonModel",
            "_view_count": null,
            "_view_module": "@jupyter-widgets/controls",
            "_view_module_version": "1.5.0",
            "_view_name": "ButtonView",
            "button_style": "",
            "description": "Login with email",
            "disabled": false,
            "icon": "",
            "layout": "IPY_MODEL_caa5b8ebb197430493bd398e6b301678",
            "style": "IPY_MODEL_d676bb7215ea49d7b801055c218f4d53",
            "tooltip": ""
          }
        },
        "a757206a5b2c4e5c97aaf2d15ada4a1e": {
          "model_module": "@jupyter-widgets/controls",
          "model_name": "HTMLModel",
          "model_module_version": "1.5.0",
          "state": {
            "_dom_classes": [],
            "_model_module": "@jupyter-widgets/controls",
            "_model_module_version": "1.5.0",
            "_model_name": "HTMLModel",
            "_view_count": null,
            "_view_module": "@jupyter-widgets/controls",
            "_view_module_version": "1.5.0",
            "_view_name": "HTMLView",
            "description": "",
            "description_tooltip": null,
            "layout": "IPY_MODEL_099b44aa29574e36854ca90c79fa4682",
            "placeholder": "​",
            "style": "IPY_MODEL_55ead8a0eb0d41cca9c6abd81e8e4e39",
            "value": "<center><big>or</big></center>"
          }
        },
        "8ecceb70e7654b51b48e2e832b0eafd3": {
          "model_module": "@jupyter-widgets/controls",
          "model_name": "ButtonModel",
          "model_module_version": "1.5.0",
          "state": {
            "_dom_classes": [
              "google_button"
            ],
            "_model_module": "@jupyter-widgets/controls",
            "_model_module_version": "1.5.0",
            "_model_name": "ButtonModel",
            "_view_count": null,
            "_view_module": "@jupyter-widgets/controls",
            "_view_module_version": "1.5.0",
            "_view_name": "ButtonView",
            "button_style": "",
            "description": "Login with Google",
            "disabled": false,
            "icon": "",
            "layout": "IPY_MODEL_dadc27b48ddb4efb8720d5509d38fd01",
            "style": "IPY_MODEL_50a4406f597f44108d0a77ee09150fb1",
            "tooltip": ""
          }
        },
        "7c57ebc7a8744bb2b8a2aa3b163c955c": {
          "model_module": "@jupyter-widgets/base",
          "model_name": "LayoutModel",
          "model_module_version": "1.2.0",
          "state": {
            "_model_module": "@jupyter-widgets/base",
            "_model_module_version": "1.2.0",
            "_model_name": "LayoutModel",
            "_view_count": null,
            "_view_module": "@jupyter-widgets/base",
            "_view_module_version": "1.2.0",
            "_view_name": "LayoutView",
            "align_content": null,
            "align_items": null,
            "align_self": null,
            "border": null,
            "bottom": null,
            "display": null,
            "flex": null,
            "flex_flow": null,
            "grid_area": null,
            "grid_auto_columns": null,
            "grid_auto_flow": null,
            "grid_auto_rows": null,
            "grid_column": null,
            "grid_gap": null,
            "grid_row": null,
            "grid_template_areas": null,
            "grid_template_columns": null,
            "grid_template_rows": null,
            "height": null,
            "justify_content": null,
            "justify_items": null,
            "left": null,
            "margin": null,
            "max_height": null,
            "max_width": null,
            "min_height": null,
            "min_width": null,
            "object_fit": null,
            "object_position": null,
            "order": null,
            "overflow": null,
            "overflow_x": null,
            "overflow_y": null,
            "padding": null,
            "right": null,
            "top": null,
            "visibility": null,
            "width": null
          }
        },
        "f8dea698d1bc47fa92de6061f230bfcb": {
          "model_module": "@jupyter-widgets/controls",
          "model_name": "TextModel",
          "model_module_version": "1.5.0",
          "state": {
            "_dom_classes": [],
            "_model_module": "@jupyter-widgets/controls",
            "_model_module_version": "1.5.0",
            "_model_name": "TextModel",
            "_view_count": null,
            "_view_module": "@jupyter-widgets/controls",
            "_view_module_version": "1.5.0",
            "_view_name": "TextView",
            "continuous_update": true,
            "description": "email",
            "description_tooltip": null,
            "disabled": false,
            "layout": "IPY_MODEL_d67016950e5f43b58212b104d140c53d",
            "placeholder": "​",
            "style": "IPY_MODEL_130afaed651447faa8d4c31a4063b1d1",
            "value": ""
          }
        },
        "9311ef4b6b9e424792e29aea98b0d526": {
          "model_module": "@jupyter-widgets/controls",
          "model_name": "PasswordModel",
          "model_module_version": "1.5.0",
          "state": {
            "_dom_classes": [],
            "_model_module": "@jupyter-widgets/controls",
            "_model_module_version": "1.5.0",
            "_model_name": "PasswordModel",
            "_view_count": null,
            "_view_module": "@jupyter-widgets/controls",
            "_view_module_version": "1.5.0",
            "_view_name": "PasswordView",
            "continuous_update": true,
            "description": "password",
            "description_tooltip": null,
            "disabled": false,
            "layout": "IPY_MODEL_9b4eb86873ba45719ebdc7ea5f5088b1",
            "placeholder": "​",
            "style": "IPY_MODEL_30b956ed33ee4925b8cdfcfbbcd0c36a",
            "value": ""
          }
        },
        "69be02c5e7d94e9788b1ac332faaaf34": {
          "model_module": "@jupyter-widgets/base",
          "model_name": "LayoutModel",
          "model_module_version": "1.2.0",
          "state": {
            "_model_module": "@jupyter-widgets/base",
            "_model_module_version": "1.2.0",
            "_model_name": "LayoutModel",
            "_view_count": null,
            "_view_module": "@jupyter-widgets/base",
            "_view_module_version": "1.2.0",
            "_view_name": "LayoutView",
            "align_content": null,
            "align_items": null,
            "align_self": null,
            "border": null,
            "bottom": null,
            "display": null,
            "flex": null,
            "flex_flow": null,
            "grid_area": null,
            "grid_auto_columns": null,
            "grid_auto_flow": null,
            "grid_auto_rows": null,
            "grid_column": null,
            "grid_gap": null,
            "grid_row": null,
            "grid_template_areas": null,
            "grid_template_columns": null,
            "grid_template_rows": null,
            "height": null,
            "justify_content": null,
            "justify_items": null,
            "left": null,
            "margin": null,
            "max_height": null,
            "max_width": null,
            "min_height": null,
            "min_width": null,
            "object_fit": null,
            "object_position": null,
            "order": null,
            "overflow": null,
            "overflow_x": null,
            "overflow_y": null,
            "padding": null,
            "right": null,
            "top": null,
            "visibility": null,
            "width": null
          }
        },
        "caa5b8ebb197430493bd398e6b301678": {
          "model_module": "@jupyter-widgets/base",
          "model_name": "LayoutModel",
          "model_module_version": "1.2.0",
          "state": {
            "_model_module": "@jupyter-widgets/base",
            "_model_module_version": "1.2.0",
            "_model_name": "LayoutModel",
            "_view_count": null,
            "_view_module": "@jupyter-widgets/base",
            "_view_module_version": "1.2.0",
            "_view_name": "LayoutView",
            "align_content": null,
            "align_items": null,
            "align_self": null,
            "border": null,
            "bottom": null,
            "display": null,
            "flex": null,
            "flex_flow": null,
            "grid_area": null,
            "grid_auto_columns": null,
            "grid_auto_flow": null,
            "grid_auto_rows": null,
            "grid_column": null,
            "grid_gap": null,
            "grid_row": null,
            "grid_template_areas": null,
            "grid_template_columns": null,
            "grid_template_rows": null,
            "height": "53px",
            "justify_content": null,
            "justify_items": null,
            "left": null,
            "margin": null,
            "max_height": null,
            "max_width": null,
            "min_height": null,
            "min_width": null,
            "object_fit": null,
            "object_position": null,
            "order": null,
            "overflow": null,
            "overflow_x": null,
            "overflow_y": null,
            "padding": null,
            "right": null,
            "top": null,
            "visibility": null,
            "width": "150px"
          }
        },
        "d676bb7215ea49d7b801055c218f4d53": {
          "model_module": "@jupyter-widgets/controls",
          "model_name": "ButtonStyleModel",
          "model_module_version": "1.5.0",
          "state": {
            "_model_module": "@jupyter-widgets/controls",
            "_model_module_version": "1.5.0",
            "_model_name": "ButtonStyleModel",
            "_view_count": null,
            "_view_module": "@jupyter-widgets/base",
            "_view_module_version": "1.2.0",
            "_view_name": "StyleView",
            "button_color": null,
            "font_weight": ""
          }
        },
        "099b44aa29574e36854ca90c79fa4682": {
          "model_module": "@jupyter-widgets/base",
          "model_name": "LayoutModel",
          "model_module_version": "1.2.0",
          "state": {
            "_model_module": "@jupyter-widgets/base",
            "_model_module_version": "1.2.0",
            "_model_name": "LayoutModel",
            "_view_count": null,
            "_view_module": "@jupyter-widgets/base",
            "_view_module_version": "1.2.0",
            "_view_name": "LayoutView",
            "align_content": null,
            "align_items": null,
            "align_self": null,
            "border": null,
            "bottom": null,
            "display": null,
            "flex": null,
            "flex_flow": null,
            "grid_area": null,
            "grid_auto_columns": null,
            "grid_auto_flow": null,
            "grid_auto_rows": null,
            "grid_column": null,
            "grid_gap": null,
            "grid_row": null,
            "grid_template_areas": null,
            "grid_template_columns": null,
            "grid_template_rows": null,
            "height": null,
            "justify_content": null,
            "justify_items": null,
            "left": null,
            "margin": null,
            "max_height": null,
            "max_width": null,
            "min_height": null,
            "min_width": null,
            "object_fit": null,
            "object_position": null,
            "order": null,
            "overflow": null,
            "overflow_x": null,
            "overflow_y": null,
            "padding": null,
            "right": null,
            "top": null,
            "visibility": null,
            "width": "100px"
          }
        },
        "55ead8a0eb0d41cca9c6abd81e8e4e39": {
          "model_module": "@jupyter-widgets/controls",
          "model_name": "DescriptionStyleModel",
          "model_module_version": "1.5.0",
          "state": {
            "_model_module": "@jupyter-widgets/controls",
            "_model_module_version": "1.5.0",
            "_model_name": "DescriptionStyleModel",
            "_view_count": null,
            "_view_module": "@jupyter-widgets/base",
            "_view_module_version": "1.2.0",
            "_view_name": "StyleView",
            "description_width": ""
          }
        },
        "dadc27b48ddb4efb8720d5509d38fd01": {
          "model_module": "@jupyter-widgets/base",
          "model_name": "LayoutModel",
          "model_module_version": "1.2.0",
          "state": {
            "_model_module": "@jupyter-widgets/base",
            "_model_module_version": "1.2.0",
            "_model_name": "LayoutModel",
            "_view_count": null,
            "_view_module": "@jupyter-widgets/base",
            "_view_module_version": "1.2.0",
            "_view_name": "LayoutView",
            "align_content": null,
            "align_items": null,
            "align_self": null,
            "border": null,
            "bottom": null,
            "display": null,
            "flex": null,
            "flex_flow": null,
            "grid_area": null,
            "grid_auto_columns": null,
            "grid_auto_flow": null,
            "grid_auto_rows": null,
            "grid_column": null,
            "grid_gap": null,
            "grid_row": null,
            "grid_template_areas": null,
            "grid_template_columns": null,
            "grid_template_rows": null,
            "height": "53px",
            "justify_content": null,
            "justify_items": null,
            "left": null,
            "margin": null,
            "max_height": null,
            "max_width": null,
            "min_height": null,
            "min_width": null,
            "object_fit": null,
            "object_position": null,
            "order": null,
            "overflow": null,
            "overflow_x": null,
            "overflow_y": null,
            "padding": null,
            "right": null,
            "top": null,
            "visibility": null,
            "width": "200px"
          }
        },
        "50a4406f597f44108d0a77ee09150fb1": {
          "model_module": "@jupyter-widgets/controls",
          "model_name": "ButtonStyleModel",
          "model_module_version": "1.5.0",
          "state": {
            "_model_module": "@jupyter-widgets/controls",
            "_model_module_version": "1.5.0",
            "_model_name": "ButtonStyleModel",
            "_view_count": null,
            "_view_module": "@jupyter-widgets/base",
            "_view_module_version": "1.2.0",
            "_view_name": "StyleView",
            "button_color": null,
            "font_weight": ""
          }
        },
        "d67016950e5f43b58212b104d140c53d": {
          "model_module": "@jupyter-widgets/base",
          "model_name": "LayoutModel",
          "model_module_version": "1.2.0",
          "state": {
            "_model_module": "@jupyter-widgets/base",
            "_model_module_version": "1.2.0",
            "_model_name": "LayoutModel",
            "_view_count": null,
            "_view_module": "@jupyter-widgets/base",
            "_view_module_version": "1.2.0",
            "_view_name": "LayoutView",
            "align_content": null,
            "align_items": null,
            "align_self": null,
            "border": null,
            "bottom": null,
            "display": null,
            "flex": null,
            "flex_flow": null,
            "grid_area": null,
            "grid_auto_columns": null,
            "grid_auto_flow": null,
            "grid_auto_rows": null,
            "grid_column": null,
            "grid_gap": null,
            "grid_row": null,
            "grid_template_areas": null,
            "grid_template_columns": null,
            "grid_template_rows": null,
            "height": "25px",
            "justify_content": null,
            "justify_items": null,
            "left": null,
            "margin": null,
            "max_height": null,
            "max_width": null,
            "min_height": null,
            "min_width": null,
            "object_fit": null,
            "object_position": null,
            "order": null,
            "overflow": null,
            "overflow_x": null,
            "overflow_y": null,
            "padding": null,
            "right": null,
            "top": null,
            "visibility": null,
            "width": "300px"
          }
        },
        "130afaed651447faa8d4c31a4063b1d1": {
          "model_module": "@jupyter-widgets/controls",
          "model_name": "DescriptionStyleModel",
          "model_module_version": "1.5.0",
          "state": {
            "_model_module": "@jupyter-widgets/controls",
            "_model_module_version": "1.5.0",
            "_model_name": "DescriptionStyleModel",
            "_view_count": null,
            "_view_module": "@jupyter-widgets/base",
            "_view_module_version": "1.2.0",
            "_view_name": "StyleView",
            "description_width": ""
          }
        },
        "9b4eb86873ba45719ebdc7ea5f5088b1": {
          "model_module": "@jupyter-widgets/base",
          "model_name": "LayoutModel",
          "model_module_version": "1.2.0",
          "state": {
            "_model_module": "@jupyter-widgets/base",
            "_model_module_version": "1.2.0",
            "_model_name": "LayoutModel",
            "_view_count": null,
            "_view_module": "@jupyter-widgets/base",
            "_view_module_version": "1.2.0",
            "_view_name": "LayoutView",
            "align_content": null,
            "align_items": null,
            "align_self": null,
            "border": null,
            "bottom": null,
            "display": null,
            "flex": null,
            "flex_flow": null,
            "grid_area": null,
            "grid_auto_columns": null,
            "grid_auto_flow": null,
            "grid_auto_rows": null,
            "grid_column": null,
            "grid_gap": null,
            "grid_row": null,
            "grid_template_areas": null,
            "grid_template_columns": null,
            "grid_template_rows": null,
            "height": "24px",
            "justify_content": null,
            "justify_items": null,
            "left": null,
            "margin": null,
            "max_height": null,
            "max_width": null,
            "min_height": null,
            "min_width": null,
            "object_fit": null,
            "object_position": null,
            "order": null,
            "overflow": null,
            "overflow_x": null,
            "overflow_y": null,
            "padding": null,
            "right": null,
            "top": null,
            "visibility": null,
            "width": "300px"
          }
        },
        "30b956ed33ee4925b8cdfcfbbcd0c36a": {
          "model_module": "@jupyter-widgets/controls",
          "model_name": "DescriptionStyleModel",
          "model_module_version": "1.5.0",
          "state": {
            "_model_module": "@jupyter-widgets/controls",
            "_model_module_version": "1.5.0",
            "_model_name": "DescriptionStyleModel",
            "_view_count": null,
            "_view_module": "@jupyter-widgets/base",
            "_view_module_version": "1.2.0",
            "_view_name": "StyleView",
            "description_width": ""
          }
        }
      }
    }
  },
  "nbformat": 4,
  "nbformat_minor": 0
}