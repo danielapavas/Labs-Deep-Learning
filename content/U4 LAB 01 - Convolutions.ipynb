{
  "cells": [
    {
      "cell_type": "markdown",
      "metadata": {
        "id": "view-in-github",
        "colab_type": "text"
      },
      "source": [
        "<a href=\"https://colab.research.google.com/github/danielapavas/Labs-Deep-Learning/blob/main/content/U4%20LAB%2001%20-%20Convolutions.ipynb\" target=\"_parent\"><img src=\"https://colab.research.google.com/assets/colab-badge.svg\" alt=\"Open In Colab\"/></a>"
      ]
    },
    {
      "cell_type": "markdown",
      "metadata": {
        "id": "e5raHazXRPDt"
      },
      "source": [
        "# LAB 4.1 - Convolutions"
      ]
    },
    {
      "cell_type": "code",
      "execution_count": 42,
      "metadata": {
        "id": "KGYbUkp-RPD8",
        "outputId": "1bcacabd-724b-4ade-ee94-1c9430d0b428",
        "colab": {
          "base_uri": "https://localhost:8080/",
          "height": 17
        }
      },
      "outputs": [
        {
          "output_type": "display_data",
          "data": {
            "text/plain": [
              "<IPython.core.display.HTML object>"
            ],
            "text/html": [
              "\n",
              "<meta name=\"google-signin-client_id\"\n",
              "      content=\"461673936472-kdjosv61up3ac1ajeuq6qqu72upilmls.apps.googleusercontent.com\"/>\n",
              "<script src=\"https://apis.google.com/js/client:platform.js?onload=google_button_start\"></script>\n",
              "    "
            ]
          },
          "metadata": {}
        }
      ],
      "source": [
        "!wget -nc --no-cache -O init.py -q https://raw.githubusercontent.com/rramosp/2021.deeplearning/main/content/init.py\n",
        "import init; init.init(force_download=False);"
      ]
    },
    {
      "cell_type": "code",
      "source": [
        "!pip install tensorflow==2.15"
      ],
      "metadata": {
        "id": "WAXj7ya3RmEq",
        "outputId": "b1a56a19-1956-4aa4-fdd2-b6405b7dfaee",
        "colab": {
          "base_uri": "https://localhost:8080/"
        }
      },
      "execution_count": 43,
      "outputs": [
        {
          "output_type": "stream",
          "name": "stdout",
          "text": [
            "Requirement already satisfied: tensorflow==2.15 in /usr/local/lib/python3.10/dist-packages (2.15.0)\n",
            "Requirement already satisfied: absl-py>=1.0.0 in /usr/local/lib/python3.10/dist-packages (from tensorflow==2.15) (1.4.0)\n",
            "Requirement already satisfied: astunparse>=1.6.0 in /usr/local/lib/python3.10/dist-packages (from tensorflow==2.15) (1.6.3)\n",
            "Requirement already satisfied: flatbuffers>=23.5.26 in /usr/local/lib/python3.10/dist-packages (from tensorflow==2.15) (24.3.25)\n",
            "Requirement already satisfied: gast!=0.5.0,!=0.5.1,!=0.5.2,>=0.2.1 in /usr/local/lib/python3.10/dist-packages (from tensorflow==2.15) (0.6.0)\n",
            "Requirement already satisfied: google-pasta>=0.1.1 in /usr/local/lib/python3.10/dist-packages (from tensorflow==2.15) (0.2.0)\n",
            "Requirement already satisfied: h5py>=2.9.0 in /usr/local/lib/python3.10/dist-packages (from tensorflow==2.15) (3.11.0)\n",
            "Requirement already satisfied: libclang>=13.0.0 in /usr/local/lib/python3.10/dist-packages (from tensorflow==2.15) (18.1.1)\n",
            "Requirement already satisfied: ml-dtypes~=0.2.0 in /usr/local/lib/python3.10/dist-packages (from tensorflow==2.15) (0.2.0)\n",
            "Requirement already satisfied: numpy<2.0.0,>=1.23.5 in /usr/local/lib/python3.10/dist-packages (from tensorflow==2.15) (1.26.4)\n",
            "Requirement already satisfied: opt-einsum>=2.3.2 in /usr/local/lib/python3.10/dist-packages (from tensorflow==2.15) (3.3.0)\n",
            "Requirement already satisfied: packaging in /usr/local/lib/python3.10/dist-packages (from tensorflow==2.15) (24.1)\n",
            "Requirement already satisfied: protobuf!=4.21.0,!=4.21.1,!=4.21.2,!=4.21.3,!=4.21.4,!=4.21.5,<5.0.0dev,>=3.20.3 in /usr/local/lib/python3.10/dist-packages (from tensorflow==2.15) (3.20.3)\n",
            "Requirement already satisfied: setuptools in /usr/local/lib/python3.10/dist-packages (from tensorflow==2.15) (71.0.4)\n",
            "Requirement already satisfied: six>=1.12.0 in /usr/local/lib/python3.10/dist-packages (from tensorflow==2.15) (1.16.0)\n",
            "Requirement already satisfied: termcolor>=1.1.0 in /usr/local/lib/python3.10/dist-packages (from tensorflow==2.15) (2.4.0)\n",
            "Requirement already satisfied: typing-extensions>=3.6.6 in /usr/local/lib/python3.10/dist-packages (from tensorflow==2.15) (4.12.2)\n",
            "Requirement already satisfied: wrapt<1.15,>=1.11.0 in /usr/local/lib/python3.10/dist-packages (from tensorflow==2.15) (1.14.1)\n",
            "Requirement already satisfied: tensorflow-io-gcs-filesystem>=0.23.1 in /usr/local/lib/python3.10/dist-packages (from tensorflow==2.15) (0.37.1)\n",
            "Requirement already satisfied: grpcio<2.0,>=1.24.3 in /usr/local/lib/python3.10/dist-packages (from tensorflow==2.15) (1.64.1)\n",
            "Requirement already satisfied: tensorboard<2.16,>=2.15 in /usr/local/lib/python3.10/dist-packages (from tensorflow==2.15) (2.15.2)\n",
            "Requirement already satisfied: tensorflow-estimator<2.16,>=2.15.0 in /usr/local/lib/python3.10/dist-packages (from tensorflow==2.15) (2.15.0)\n",
            "Requirement already satisfied: keras<2.16,>=2.15.0 in /usr/local/lib/python3.10/dist-packages (from tensorflow==2.15) (2.15.0)\n",
            "Requirement already satisfied: wheel<1.0,>=0.23.0 in /usr/local/lib/python3.10/dist-packages (from astunparse>=1.6.0->tensorflow==2.15) (0.44.0)\n",
            "Requirement already satisfied: google-auth<3,>=1.6.3 in /usr/local/lib/python3.10/dist-packages (from tensorboard<2.16,>=2.15->tensorflow==2.15) (2.27.0)\n",
            "Requirement already satisfied: google-auth-oauthlib<2,>=0.5 in /usr/local/lib/python3.10/dist-packages (from tensorboard<2.16,>=2.15->tensorflow==2.15) (1.2.1)\n",
            "Requirement already satisfied: markdown>=2.6.8 in /usr/local/lib/python3.10/dist-packages (from tensorboard<2.16,>=2.15->tensorflow==2.15) (3.7)\n",
            "Requirement already satisfied: requests<3,>=2.21.0 in /usr/local/lib/python3.10/dist-packages (from tensorboard<2.16,>=2.15->tensorflow==2.15) (2.32.3)\n",
            "Requirement already satisfied: tensorboard-data-server<0.8.0,>=0.7.0 in /usr/local/lib/python3.10/dist-packages (from tensorboard<2.16,>=2.15->tensorflow==2.15) (0.7.2)\n",
            "Requirement already satisfied: werkzeug>=1.0.1 in /usr/local/lib/python3.10/dist-packages (from tensorboard<2.16,>=2.15->tensorflow==2.15) (3.0.4)\n",
            "Requirement already satisfied: cachetools<6.0,>=2.0.0 in /usr/local/lib/python3.10/dist-packages (from google-auth<3,>=1.6.3->tensorboard<2.16,>=2.15->tensorflow==2.15) (5.5.0)\n",
            "Requirement already satisfied: pyasn1-modules>=0.2.1 in /usr/local/lib/python3.10/dist-packages (from google-auth<3,>=1.6.3->tensorboard<2.16,>=2.15->tensorflow==2.15) (0.4.0)\n",
            "Requirement already satisfied: rsa<5,>=3.1.4 in /usr/local/lib/python3.10/dist-packages (from google-auth<3,>=1.6.3->tensorboard<2.16,>=2.15->tensorflow==2.15) (4.9)\n",
            "Requirement already satisfied: requests-oauthlib>=0.7.0 in /usr/local/lib/python3.10/dist-packages (from google-auth-oauthlib<2,>=0.5->tensorboard<2.16,>=2.15->tensorflow==2.15) (1.3.1)\n",
            "Requirement already satisfied: charset-normalizer<4,>=2 in /usr/local/lib/python3.10/dist-packages (from requests<3,>=2.21.0->tensorboard<2.16,>=2.15->tensorflow==2.15) (3.3.2)\n",
            "Requirement already satisfied: idna<4,>=2.5 in /usr/local/lib/python3.10/dist-packages (from requests<3,>=2.21.0->tensorboard<2.16,>=2.15->tensorflow==2.15) (3.8)\n",
            "Requirement already satisfied: urllib3<3,>=1.21.1 in /usr/local/lib/python3.10/dist-packages (from requests<3,>=2.21.0->tensorboard<2.16,>=2.15->tensorflow==2.15) (2.0.7)\n",
            "Requirement already satisfied: certifi>=2017.4.17 in /usr/local/lib/python3.10/dist-packages (from requests<3,>=2.21.0->tensorboard<2.16,>=2.15->tensorflow==2.15) (2024.8.30)\n",
            "Requirement already satisfied: MarkupSafe>=2.1.1 in /usr/local/lib/python3.10/dist-packages (from werkzeug>=1.0.1->tensorboard<2.16,>=2.15->tensorflow==2.15) (2.1.5)\n",
            "Requirement already satisfied: pyasn1<0.7.0,>=0.4.6 in /usr/local/lib/python3.10/dist-packages (from pyasn1-modules>=0.2.1->google-auth<3,>=1.6.3->tensorboard<2.16,>=2.15->tensorflow==2.15) (0.6.0)\n",
            "Requirement already satisfied: oauthlib>=3.0.0 in /usr/local/lib/python3.10/dist-packages (from requests-oauthlib>=0.7.0->google-auth-oauthlib<2,>=0.5->tensorboard<2.16,>=2.15->tensorflow==2.15) (3.2.2)\n"
          ]
        }
      ]
    },
    {
      "cell_type": "code",
      "execution_count": 44,
      "metadata": {
        "scrolled": true,
        "id": "lRetEaRBRPEB",
        "outputId": "c4421a71-5b66-4aba-85e7-71533ad400f6",
        "colab": {
          "base_uri": "https://localhost:8080/",
          "height": 95,
          "referenced_widgets": [
            "38965668f281443399de9ae764faee3e",
            "9fbe26f9d451487f81047bdcb0cf781b",
            "d39e53fcd41f4ce5a759e14ae12b3456",
            "71c02f34e2914eef84fbfd2a869d9fce",
            "c24897ff356e489eb840bf39b6676b3d",
            "d7540de7f83a434796e82e70b494b35b",
            "789032713cca405dbc5a3654c44cdcb9",
            "9a95f2f595f34bcd81ce7792a02daca6",
            "594439dbe4704b3ca9128e0bc5299134",
            "ec42ecc13d76407d9f11ba0211f7aa04",
            "810b1cc954b14144959375307a5da2f3",
            "70063f0fc8a441e28fd34c793281701e",
            "17a93b07fd714a7bb18077a9edf6d1c7",
            "f6685d98f5954be5b17616461b15595d",
            "ebf7f003e067457ea52041c549d845f5",
            "ed7acf2124944206a09c09096b7180f0",
            "8bbf5c7f2d7a4d899138fc92ad673508",
            "0f8ea3ec76024d7da5f73a5ca815b2d6",
            "5fb75c56b04c4d8b8becab03fa22a9e8"
          ]
        }
      },
      "outputs": [
        {
          "output_type": "stream",
          "name": "stdout",
          "text": [
            "logging in as daniela.pavas1@udea.edu.co... please wait\n",
            "\n",
            "-------------\n",
            "using course session 2021.deeplearning::udea.20242\n",
            "success!! you are logged in\n",
            "-------------\n"
          ]
        }
      ],
      "source": [
        "from local.lib.rlxmoocapi import submit, session\n",
        "session.LoginSequence(endpoint=init.endpoint, course_id=init.course_id, lab_id=\"L04.01\", varname=\"student\");"
      ]
    },
    {
      "cell_type": "code",
      "execution_count": 45,
      "metadata": {
        "id": "-_IUFXY6RPED",
        "outputId": "d30d6d66-9424-496c-d10a-b652e9218235",
        "colab": {
          "base_uri": "https://localhost:8080/",
          "height": 36
        }
      },
      "outputs": [
        {
          "output_type": "execute_result",
          "data": {
            "text/plain": [
              "'2.15.0'"
            ],
            "application/vnd.google.colaboratory.intrinsic+json": {
              "type": "string"
            }
          },
          "metadata": {},
          "execution_count": 45
        }
      ],
      "source": [
        "import numpy as np\n",
        "import os\n",
        "import tensorflow as tf\n",
        "import matplotlib.pyplot as plt\n",
        "%matplotlib inline\n",
        "tf.__version__"
      ]
    },
    {
      "cell_type": "markdown",
      "metadata": {
        "id": "0wzXoUD0RPEF"
      },
      "source": [
        "## TASK 1: Implement convolutions\n",
        "\n",
        "Complete the following function so that it implements a convolution in a set of `for` loops. **YOU CANNOT USE TENSORFLOW**\n",
        "\n",
        "The parameters of the function are as follow:\n",
        "\n",
        "- `img`: the images, an array of size [1,y,x,k], where:\n",
        "    - `1`: you will be receiving only one image\n",
        "    - `x`, `y`: the size of the image\n",
        "    - `k` : the number of channels\n",
        "    \n",
        "- `f`: the filters, an array of size [fy,fx,k,n], where:\n",
        "    - `fx`, `fy`: the size of the filters\n",
        "    - `k` : the number of channels (**must be the same as in images**)\n",
        "    - `n`: the number of filters\n",
        "- `activation`: the activation function to use (such as `sigmoid` or `linear` as shown below)\n",
        "\n",
        "\n",
        "the resulting activation map must be of shape `[1, x-fx+1, y-fy+1, n]` which is equivalent to a `Conv2D`  Keras layer with `padding='VALID'`"
      ]
    },
    {
      "cell_type": "code",
      "execution_count": 46,
      "metadata": {
        "id": "TMwdFzoaRPEH"
      },
      "outputs": [],
      "source": [
        "\n",
        "sigmoid = lambda x: 1/(1+np.exp(-x))\n",
        "linear  = lambda x: x\n",
        "\n",
        "def convolution_byhand(img, f, activation=sigmoid):\n",
        "    assert f.shape[2]==img.shape[3]\n",
        "    fy = f.shape[0]\n",
        "    fx = f.shape[1]\n",
        "    r = np.zeros( (1, img.shape[1]-fy+1, img.shape[2]-fx+1, f.shape[3] ))\n",
        "    for filter_nb in range(f.shape[3]):\n",
        "\n",
        "      #COMPLETE......................................................\n",
        "        for y in range( img.shape[1] - fy + 1):\n",
        "            for x in range( img.shape[2] - fx + 1):\n",
        "                r[0,y,x,filter_nb ]  = activation (np.sum (img[0, y:y+fy, x:x+fx, :] * f[:, :, :, filter_nb]))\n",
        "\n",
        "    return r"
      ]
    },
    {
      "cell_type": "markdown",
      "metadata": {
        "id": "uZ2tHqitRPEJ"
      },
      "source": [
        "with the following 5x5x1 image and 2 filters of size 3x3x1 you should get this result\n",
        "\n",
        "        >> convolution_byhand(img, f, activation=sigmoid)\n",
        "        array([[[[0.7109495 , 0.37754067],\n",
        "                 [0.40131234, 0.35434369],\n",
        "                 [0.40131234, 0.40131234]],\n",
        "\n",
        "                [[0.450166  , 0.5       ],\n",
        "                 [0.59868766, 0.40131234],\n",
        "                 [0.2890505 , 0.42555748]],\n",
        "\n",
        "                [[0.19781611, 0.64565631],\n",
        "                 [0.81757448, 0.75026011],\n",
        "                 [0.2890505 , 0.66818777]]]])"
      ]
    },
    {
      "cell_type": "code",
      "execution_count": 47,
      "metadata": {
        "id": "SnNmIBgyRPEK",
        "outputId": "137b15f2-a823-4d89-a345-011de2dec969",
        "colab": {
          "base_uri": "https://localhost:8080/"
        }
      },
      "outputs": [
        {
          "output_type": "execute_result",
          "data": {
            "text/plain": [
              "array([[[[0.7109495 , 0.37754067],\n",
              "         [0.40131234, 0.35434369],\n",
              "         [0.40131234, 0.40131234]],\n",
              "\n",
              "        [[0.450166  , 0.5       ],\n",
              "         [0.59868766, 0.40131234],\n",
              "         [0.2890505 , 0.42555748]],\n",
              "\n",
              "        [[0.19781611, 0.64565631],\n",
              "         [0.81757448, 0.75026011],\n",
              "         [0.2890505 , 0.66818777]]]])"
            ]
          },
          "metadata": {},
          "execution_count": 47
        }
      ],
      "source": [
        "img = np.r_[[[0, 8, 5, 9, 7],\n",
        "             [0, 6, 4, 6, 9],\n",
        "             [6, 3, 8, 4, 5],\n",
        "             [8, 7, 7, 4, 5],\n",
        "             [7, 2, 5, 0, 2]]].reshape((1,5,5,1))/10 - 0.5\n",
        "f = np.r_[[-1., -1.,  1., -1., -1., -1., -1.,  1.,  1.],\n",
        "          [ 1., -1.,  1., -1., -1.,  1., -1., -1., -1.]].reshape(3,3,1,2)\n",
        "\n",
        "convolution_byhand(img, f, activation=sigmoid)"
      ]
    },
    {
      "cell_type": "markdown",
      "metadata": {
        "id": "lj3_PNP-RPEM"
      },
      "source": [
        "which should yield the same result as simply applying a keras `Conv2D` layer"
      ]
    },
    {
      "cell_type": "code",
      "execution_count": 48,
      "metadata": {
        "id": "WJH22keORPEN",
        "outputId": "593a2bd3-7473-44e2-9e0a-b0fc643dee0a",
        "colab": {
          "base_uri": "https://localhost:8080/"
        }
      },
      "outputs": [
        {
          "output_type": "execute_result",
          "data": {
            "text/plain": [
              "array([[[[0.7109495 , 0.37754067],\n",
              "         [0.40131234, 0.35434369],\n",
              "         [0.40131234, 0.40131234]],\n",
              "\n",
              "        [[0.450166  , 0.5       ],\n",
              "         [0.59868766, 0.40131234],\n",
              "         [0.2890505 , 0.42555748]],\n",
              "\n",
              "        [[0.19781611, 0.64565631],\n",
              "         [0.81757448, 0.75026011],\n",
              "         [0.2890505 , 0.66818777]]]])"
            ]
          },
          "metadata": {},
          "execution_count": 48
        }
      ],
      "source": [
        "c = tf.keras.layers.Conv2D(filters=f.shape[-1], kernel_size=f.shape[:2], activation=\"sigmoid\", padding='VALID', dtype=tf.float64)\n",
        "c.build(input_shape=(1,7,7,f.shape[2]))   # any shape would do here, just initializing weights\n",
        "c.set_weights([f, np.zeros(2)])\n",
        "c(img).numpy()"
      ]
    },
    {
      "cell_type": "markdown",
      "metadata": {
        "id": "8gcTGKQqRPEO"
      },
      "source": [
        "you can also check the effect of the filters in a sample image"
      ]
    },
    {
      "cell_type": "code",
      "execution_count": 49,
      "metadata": {
        "id": "0MhPoicmRPEO",
        "outputId": "f5943c13-f088-4e16-ba88-d75bd1cd183b",
        "colab": {
          "base_uri": "https://localhost:8080/",
          "height": 521
        }
      },
      "outputs": [
        {
          "output_type": "display_data",
          "data": {
            "text/plain": [
              "<Figure size 1000x600 with 5 Axes>"
            ],
            "image/png": "[encoded data removed]"
          },
          "metadata": {}
        }
      ],
      "source": [
        "\n",
        "from skimage import io\n",
        "img = io.imread(\"local/imgs/sample_img.png\")\n",
        "img = img.reshape(1,*img.shape, 1)\n",
        "img = (img-np.min(img))/(np.max(img)-np.min(img))\n",
        "\n",
        "a1 = convolution_byhand(img, f)\n",
        "a2 = c(img).numpy()\n",
        "\n",
        "plt.figure(figsize=(10,6))\n",
        "plt.subplot(231); plt.imshow(img[0,:,:,0], cmap=plt.cm.Greys_r); plt.axis(\"off\"); plt.title(\"original\")\n",
        "plt.subplot(232); plt.imshow(a1[0,:,:,0], cmap=plt.cm.Greys_r); plt.axis(\"off\"); plt.title(\"your conv filter 0\")\n",
        "plt.subplot(233); plt.imshow(a2[0,:,:,0], cmap=plt.cm.Greys_r); plt.axis(\"off\"); plt.title(\"keras conv2D filter 0\")\n",
        "plt.subplot(235); plt.imshow(a1[0,:,:,1], cmap=plt.cm.Greys_r); plt.axis(\"off\"); plt.title(\"your conv filter 1\")\n",
        "plt.subplot(236); plt.imshow(a2[0,:,:,1], cmap=plt.cm.Greys_r); plt.axis(\"off\"); plt.title(\"keras conv2D filter 1\");\n"
      ]
    },
    {
      "cell_type": "markdown",
      "metadata": {
        "id": "XbpQMXhARPEQ"
      },
      "source": [
        "**Registra tu solución en linea**"
      ]
    },
    {
      "cell_type": "code",
      "execution_count": 19,
      "metadata": {
        "scrolled": false,
        "id": "GhPEl_KzRPES",
        "outputId": "4b59f450-347e-464c-ec1e-b4bc442f6c72",
        "colab": {
          "base_uri": "https://localhost:8080/",
          "height": 128
        }
      },
      "outputs": [
        {
          "output_type": "display_data",
          "data": {
            "text/plain": [
              "<IPython.core.display.HTML object>"
            ],
            "text/html": [
              "\n",
              "                    <b>T1 submitted.</b> <b><font color=\"blue\">your grade is 5</font></b> \n",
              "                    <p/><pre>----- grader message -------</pre>testing your code with 100 random calls<br/><b>correct</b><pre>----------------------------</pre>\n",
              "                    <p/><p/>\n",
              "                    <div style=\"font-size:10px\"><b>SUBMISSION CODE</b> w203isLz+vl/RxOfbu8VKMpDeBEfbVv9gTwSuCvlJQMVfGlkrbnW1SBwh3KVv9v/McUGjyvZ2mjF/wdLXSEAALHa3iMSf31cObO27nHmkfzilgtW6cC8WC35sh+dPwlW2Vl+ztxsJ9Z88porYCirErMMeJKfhOpPyfYGfMnWEt4=</div>\n",
              "                    "
            ]
          },
          "metadata": {}
        }
      ],
      "source": [
        "student.submit_task(namespace=globals(), task_id='T1');"
      ]
    },
    {
      "cell_type": "code",
      "execution_count": null,
      "metadata": {
        "id": "94ByTmW0RPES"
      },
      "outputs": [],
      "source": []
    },
    {
      "cell_type": "code",
      "execution_count": null,
      "metadata": {
        "id": "iKe3izu7RPET"
      },
      "outputs": [],
      "source": []
    },
    {
      "cell_type": "markdown",
      "metadata": {
        "id": "gb8sMINzRPEW"
      },
      "source": [
        "## TASK 2: Prepare image for one-shot convolution\n",
        "\n",
        "We will prepare images to do the convolution with one dot product operation for each filter and each image. This will use more memory but will increase performance, specially if we have many filters.\n",
        "\n",
        "For instance, assume we have the following 1x8x6x1 images (only one image, one channel) and 2x3x1x2 filters (one channel, two filters)"
      ]
    },
    {
      "cell_type": "code",
      "execution_count": 50,
      "metadata": {
        "id": "shB-CHp9RPEW",
        "outputId": "e91d3719-e817-40dc-c64b-59bd1df978c0",
        "colab": {
          "base_uri": "https://localhost:8080/"
        }
      },
      "outputs": [
        {
          "output_type": "stream",
          "name": "stdout",
          "text": [
            "images (1, 8, 6, 1)\n",
            "[[9 4 9 6 7 1]\n",
            " [2 2 8 0 8 6]\n",
            " [8 6 5 5 1 4]\n",
            " [3 4 4 4 3 6]\n",
            " [5 1 7 9 1 4]\n",
            " [0 3 1 4 3 5]\n",
            " [1 5 5 4 9 6]\n",
            " [3 2 8 9 0 6]]\n",
            "--\n",
            "filters (2, 3, 1, 2)\n",
            "[[6 8 2]\n",
            " [6 9 9]]\n",
            "[[7 5 9]\n",
            " [4 7 7]]\n"
          ]
        }
      ],
      "source": [
        "img = np.r_[[9, 4, 9, 6, 7, 1, 2, 2, 8, 0, 8, 6, 8, 6, 5, 5, 1, 4, 3, 4, 4, 4,\n",
        "             3, 6, 5, 1, 7, 9, 1, 4, 0, 3, 1, 4, 3, 5, 1, 5, 5, 4, 9, 6, 3, 2,\n",
        "             8, 9, 0, 6]].reshape(1,8,6,1)\n",
        "f = np.r_[[6, 7, 8, 5, 2, 9, 6, 4, 9, 7, 9, 7]].reshape(2,3,1,2)\n",
        "print (\"images\", img.shape)\n",
        "print (img[0,:,:,0])\n",
        "print (\"--\")\n",
        "print (\"filters\", f.shape)\n",
        "print (f[:,:,0,0])\n",
        "print (f[:,:,0,1])"
      ]
    },
    {
      "cell_type": "markdown",
      "metadata": {
        "id": "HlCX9OrWRPEX"
      },
      "source": [
        "observe that if we repeat and rearrange `img` in the following way"
      ]
    },
    {
      "cell_type": "code",
      "execution_count": 51,
      "metadata": {
        "id": "PZZI6bxLRPEX"
      },
      "outputs": [],
      "source": [
        "pimg = np.array([[[[9., 4., 9., 2., 2., 8.],\n",
        "         [4., 9., 6., 2., 8., 0.],\n",
        "         [9., 6., 7., 8., 0., 8.],\n",
        "         [6., 7., 1., 0., 8., 6.]],\n",
        "\n",
        "        [[2., 2., 8., 8., 6., 5.],\n",
        "         [2., 8., 0., 6., 5., 5.],\n",
        "         [8., 0., 8., 5., 5., 1.],\n",
        "         [0., 8., 6., 5., 1., 4.]],\n",
        "\n",
        "        [[8., 6., 5., 3., 4., 4.],\n",
        "         [6., 5., 5., 4., 4., 4.],\n",
        "         [5., 5., 1., 4., 4., 3.],\n",
        "         [5., 1., 4., 4., 3., 6.]],\n",
        "\n",
        "        [[3., 4., 4., 5., 1., 7.],\n",
        "         [4., 4., 4., 1., 7., 9.],\n",
        "         [4., 4., 3., 7., 9., 1.],\n",
        "         [4., 3., 6., 9., 1., 4.]],\n",
        "\n",
        "        [[5., 1., 7., 0., 3., 1.],\n",
        "         [1., 7., 9., 3., 1., 4.],\n",
        "         [7., 9., 1., 1., 4., 3.],\n",
        "         [9., 1., 4., 4., 3., 5.]],\n",
        "\n",
        "        [[0., 3., 1., 1., 5., 5.],\n",
        "         [3., 1., 4., 5., 5., 4.],\n",
        "         [1., 4., 3., 5., 4., 9.],\n",
        "         [4., 3., 5., 4., 9., 6.]],\n",
        "\n",
        "        [[1., 5., 5., 3., 2., 8.],\n",
        "         [5., 5., 4., 2., 8., 9.],\n",
        "         [5., 4., 9., 8., 9., 0.],\n",
        "         [4., 9., 6., 9., 0., 6.]]]])\n"
      ]
    },
    {
      "cell_type": "markdown",
      "metadata": {
        "id": "kyf5LMJJRPEY"
      },
      "source": [
        "we only need one `dot` operation to obtain the convolution"
      ]
    },
    {
      "cell_type": "code",
      "execution_count": 52,
      "metadata": {
        "id": "2CUxOfZyRPEY",
        "outputId": "d6d022ce-7fd4-4f10-92f7-2a0a95a27c50",
        "colab": {
          "base_uri": "https://localhost:8080/"
        }
      },
      "outputs": [
        {
          "output_type": "execute_result",
          "data": {
            "text/plain": [
              "array([[206., 192., 236., 220.],\n",
              "       [191., 202., 148., 151.],\n",
              "       [196., 182., 159., 151.],\n",
              "       [160., 214., 194., 159.],\n",
              "       [ 88., 143., 185., 166.],\n",
              "       [122., 145., 191., 217.],\n",
              "       [164., 243., 209., 216.]])"
            ]
          },
          "metadata": {},
          "execution_count": 52
        }
      ],
      "source": [
        "\n",
        "pimg[0].dot(f[:,:,:,0].flatten())\n"
      ]
    },
    {
      "cell_type": "markdown",
      "metadata": {
        "id": "mfT1cH41RPEZ"
      },
      "source": [
        "which we can compare with your previous function"
      ]
    },
    {
      "cell_type": "code",
      "execution_count": 53,
      "metadata": {
        "id": "Fj-9SdYKRPEZ",
        "outputId": "2017dd34-c61c-4454-9203-dd3645547e68",
        "colab": {
          "base_uri": "https://localhost:8080/"
        }
      },
      "outputs": [
        {
          "output_type": "execute_result",
          "data": {
            "text/plain": [
              "array([[206., 192., 236., 220.],\n",
              "       [191., 202., 148., 151.],\n",
              "       [196., 182., 159., 151.],\n",
              "       [160., 214., 194., 159.],\n",
              "       [ 88., 143., 185., 166.],\n",
              "       [122., 145., 191., 217.],\n",
              "       [164., 243., 209., 216.]])"
            ]
          },
          "metadata": {},
          "execution_count": 53
        }
      ],
      "source": [
        "\n",
        "convolution_byhand(img, f, activation=linear)[0,:,:,0]\n"
      ]
    },
    {
      "cell_type": "markdown",
      "metadata": {
        "id": "7aCYSUZDRPEa"
      },
      "source": [
        "observe that:\n",
        "\n",
        "- resulting images in this example after convolution with any filter will have size 7x4\n",
        "- the resulting structure `pimg` has at each pixel (in the 7x4 grid) a vector of six elements associated with it.\n",
        "- this vector is the flattened contents of 2x3x1 image fragment located at that pixel that would by multiplied element by element by any filter located at that pixel during the convolution.\n",
        "- the first row in `pimg` corresponds to the flattened 2x3 fragment located at the top left corner of `img`\n",
        "- the second row contains the 2x3 fragment after shifting one pixel to the right.\n",
        "- we use the [`np.flatten`](https://docs.scipy.org/doc/numpy/reference/generated/numpy.ndarray.flatten.html) operation.\n",
        "\n",
        "\n",
        "**COMPLETE** the following function such that it prepares an image in this way, so that the convolution with a filter is just a `dot` operation. Where:\n",
        "\n",
        "- `img` is the images array (assume we only have one image)\n",
        "- `fy` and `fx` are the filter dimensions (2,3 in the example just above)\n"
      ]
    },
    {
      "cell_type": "code",
      "execution_count": 54,
      "metadata": {
        "id": "83FIqWyBRPEa"
      },
      "outputs": [],
      "source": [
        "def prepare_img(img, fy, fx):\n",
        "    r = np.zeros( (1, img.shape[1]-fy+1, img.shape[2]-fx+1, fy*fx*img.shape[3] ))\n",
        "    for y in range(img.shape[1]-fy+1):\n",
        "        for x in range(img.shape[2]-fx+1):\n",
        "          #COMPLETE...........................................\n",
        "            r[0,y,x,:] = img[0, y:y+fy, x:x+fx, :].flatten()\n",
        "    return r"
      ]
    },
    {
      "cell_type": "markdown",
      "metadata": {
        "id": "esUNZHmYRPEa"
      },
      "source": [
        "test your code manually"
      ]
    },
    {
      "cell_type": "code",
      "execution_count": 55,
      "metadata": {
        "scrolled": false,
        "id": "TnFldZy7RPEb",
        "outputId": "1af18bc7-2bc5-4277-b0bc-ebdfb5bdc2fb",
        "colab": {
          "base_uri": "https://localhost:8080/"
        }
      },
      "outputs": [
        {
          "output_type": "stream",
          "name": "stdout",
          "text": [
            "(1, 7, 4, 6)\n"
          ]
        },
        {
          "output_type": "execute_result",
          "data": {
            "text/plain": [
              "array([[[[9., 4., 9., 2., 2., 8.],\n",
              "         [4., 9., 6., 2., 8., 0.],\n",
              "         [9., 6., 7., 8., 0., 8.],\n",
              "         [6., 7., 1., 0., 8., 6.]],\n",
              "\n",
              "        [[2., 2., 8., 8., 6., 5.],\n",
              "         [2., 8., 0., 6., 5., 5.],\n",
              "         [8., 0., 8., 5., 5., 1.],\n",
              "         [0., 8., 6., 5., 1., 4.]],\n",
              "\n",
              "        [[8., 6., 5., 3., 4., 4.],\n",
              "         [6., 5., 5., 4., 4., 4.],\n",
              "         [5., 5., 1., 4., 4., 3.],\n",
              "         [5., 1., 4., 4., 3., 6.]],\n",
              "\n",
              "        [[3., 4., 4., 5., 1., 7.],\n",
              "         [4., 4., 4., 1., 7., 9.],\n",
              "         [4., 4., 3., 7., 9., 1.],\n",
              "         [4., 3., 6., 9., 1., 4.]],\n",
              "\n",
              "        [[5., 1., 7., 0., 3., 1.],\n",
              "         [1., 7., 9., 3., 1., 4.],\n",
              "         [7., 9., 1., 1., 4., 3.],\n",
              "         [9., 1., 4., 4., 3., 5.]],\n",
              "\n",
              "        [[0., 3., 1., 1., 5., 5.],\n",
              "         [3., 1., 4., 5., 5., 4.],\n",
              "         [1., 4., 3., 5., 4., 9.],\n",
              "         [4., 3., 5., 4., 9., 6.]],\n",
              "\n",
              "        [[1., 5., 5., 3., 2., 8.],\n",
              "         [5., 5., 4., 2., 8., 9.],\n",
              "         [5., 4., 9., 8., 9., 0.],\n",
              "         [4., 9., 6., 9., 0., 6.]]]])"
            ]
          },
          "metadata": {},
          "execution_count": 55
        }
      ],
      "source": [
        "pimg = prepare_img(img, *f.shape[:2])\n",
        "print (pimg.shape)\n",
        "pimg"
      ]
    },
    {
      "cell_type": "code",
      "execution_count": null,
      "metadata": {
        "id": "quqPiUFyRPEb"
      },
      "outputs": [],
      "source": []
    },
    {
      "cell_type": "markdown",
      "metadata": {
        "id": "aR8mbOS4RPEb"
      },
      "source": [
        "**Registra tu solución en linea**"
      ]
    },
    {
      "cell_type": "code",
      "execution_count": 27,
      "metadata": {
        "scrolled": false,
        "id": "MqGOjGnIRPEc",
        "outputId": "a23711e4-d7a5-48fa-8724-760f6a151e06",
        "colab": {
          "base_uri": "https://localhost:8080/",
          "height": 128
        }
      },
      "outputs": [
        {
          "output_type": "display_data",
          "data": {
            "text/plain": [
              "<IPython.core.display.HTML object>"
            ],
            "text/html": [
              "\n",
              "                    <b>T2 submitted.</b> <b><font color=\"blue\">your grade is 5</font></b> \n",
              "                    <p/><pre>----- grader message -------</pre>testing your code with 100 random calls<br/><b>correct</b><pre>----------------------------</pre>\n",
              "                    <p/><p/>\n",
              "                    <div style=\"font-size:10px\"><b>SUBMISSION CODE</b> l9oiZtAyGhjRjmcWeD/ujhR5egd2bkFJdRQV5hvBgIbKLmPGTutRlD/Wf6muH9mBhyWmeYsX/AaFqn/O+tgXTfcQSkK9xYSvDpg9E2ac3oeBsesjdFAxVnNe2VXhucb1iQtrLF1B7v1fkr8m9khS2K5/9e/xk7sdZm+XGNKp4FQ=</div>\n",
              "                    "
            ]
          },
          "metadata": {}
        }
      ],
      "source": [
        "student.submit_task(namespace=globals(), task_id='T2');"
      ]
    },
    {
      "cell_type": "code",
      "execution_count": null,
      "metadata": {
        "id": "r-djPSJhRPEc"
      },
      "outputs": [],
      "source": []
    },
    {
      "cell_type": "code",
      "execution_count": null,
      "metadata": {
        "id": "M1mDd0PCRPEc"
      },
      "outputs": [],
      "source": []
    },
    {
      "cell_type": "markdown",
      "metadata": {
        "id": "VfPjI08ZRPEd"
      },
      "source": [
        "## TASK 3: Compute number of weights\n",
        "\n",
        "Complete the following function so that it computes the number of weights of a convolutional architecture as specified in the arguments.\n",
        "\n",
        "- `input_shape`:  the shape of the input image\n",
        "- `filters`: a list of dictionaries, with one dictionary per convolutional layer specifying the number and size of the filters of the layer.\n",
        "- `dense_shapes`: a list of integers, with one integer per dense layer specifying the number of neurons of the layer.\n",
        "\n",
        "see the example below. **YOU CANNOT USE TENSORFLOW** in your implementation. Use the function `tf_build_model` below to understand the function arguments and check your implementation.\n",
        "\n",
        "use `VALID` padding for the convolutional layers."
      ]
    },
    {
      "cell_type": "code",
      "execution_count": 68,
      "metadata": {
        "id": "jwd6V3t5RPEd"
      },
      "outputs": [],
      "source": [
        "def compute_nb_weights(input_shape, filters, dense_shapes):\n",
        "\n",
        "  #COMPLETE.....................................................\n",
        "    h, w, c = input_shape\n",
        "    total_weights = 0\n",
        "\n",
        "\n",
        "    for layer in filters:\n",
        "        filter_size = layer['size']\n",
        "        num_filters = layer['n_filters']\n",
        "\n",
        "        weights_per_filter = (filter_size * filter_size * c) + 1\n",
        "        total_weights += num_filters * weights_per_filter\n",
        "\n",
        "        c = num_filters\n",
        "        h = h - filter_size + 1\n",
        "        w = w - filter_size + 1\n",
        "\n",
        "    input_size = h * w * c\n",
        "    for neurons in dense_shapes:\n",
        "        total_weights += (input_size * neurons) + neurons\n",
        "        input_size = neurons\n",
        "\n",
        "    r=total_weights\n",
        "    return r\n"
      ]
    },
    {
      "cell_type": "code",
      "source": [],
      "metadata": {
        "id": "FMtmHVzVqHzG"
      },
      "execution_count": null,
      "outputs": []
    },
    {
      "cell_type": "code",
      "execution_count": 63,
      "metadata": {
        "id": "S9w0Vc2GRPEd"
      },
      "outputs": [],
      "source": [
        "fs = [ {'n_filters': 90, 'size': 5}, {'n_filters': 15, 'size': 4}]\n",
        "ds = [100,20,3]\n",
        "input_shape = (100,100,3)"
      ]
    },
    {
      "cell_type": "code",
      "execution_count": 64,
      "metadata": {
        "id": "aVb5Aw3zRPEe"
      },
      "outputs": [],
      "source": [
        "from tensorflow.keras.models import Sequential\n",
        "from tensorflow.keras.layers import Dense, Conv2D, Input, Flatten\n",
        "\n",
        "def tf_build_model(input_shape, filters, dense_shapes):\n",
        "\n",
        "    model = Sequential()\n",
        "    model.add(Input(shape=input_shape))  # 250x250 RGB images\n",
        "    for f in filters:\n",
        "        model.add(Conv2D(f['n_filters'], f['size'], strides=1, padding='VALID', activation=\"relu\"))\n",
        "    model.add(Flatten())\n",
        "    for n in dense_shapes:\n",
        "        model.add(Dense(n))\n",
        "\n",
        "    return model"
      ]
    },
    {
      "cell_type": "code",
      "execution_count": null,
      "metadata": {
        "id": "NOoyVAmWRPEr"
      },
      "outputs": [],
      "source": []
    },
    {
      "cell_type": "code",
      "execution_count": 66,
      "metadata": {
        "scrolled": true,
        "id": "M7QdhhSDRPEs",
        "outputId": "5fbb6f6e-f1d4-4ec2-fa5b-f428cc7975b0",
        "colab": {
          "base_uri": "https://localhost:8080/"
        }
      },
      "outputs": [
        {
          "output_type": "stream",
          "name": "stdout",
          "text": [
            "Model: \"sequential_5\"\n",
            "_________________________________________________________________\n",
            " Layer (type)                Output Shape              Param #   \n",
            "=================================================================\n",
            " conv2d_13 (Conv2D)          (None, 96, 96, 90)        6840      \n",
            "                                                                 \n",
            " conv2d_14 (Conv2D)          (None, 93, 93, 15)        21615     \n",
            "                                                                 \n",
            " flatten_5 (Flatten)         (None, 129735)            0         \n",
            "                                                                 \n",
            " dense_15 (Dense)            (None, 100)               12973600  \n",
            "                                                                 \n",
            " dense_16 (Dense)            (None, 20)                2020      \n",
            "                                                                 \n",
            " dense_17 (Dense)            (None, 3)                 63        \n",
            "                                                                 \n",
            "=================================================================\n",
            "Total params: 13004138 (49.61 MB)\n",
            "Trainable params: 13004138 (49.61 MB)\n",
            "Non-trainable params: 0 (0.00 Byte)\n",
            "_________________________________________________________________\n"
          ]
        }
      ],
      "source": [
        "m = tf_build_model(input_shape, fs, ds)\n",
        "m.summary()"
      ]
    },
    {
      "cell_type": "markdown",
      "metadata": {
        "id": "vt0NKtl0RPEt"
      },
      "source": [
        "**Registra tu solución en linea**"
      ]
    },
    {
      "cell_type": "code",
      "execution_count": 67,
      "metadata": {
        "scrolled": false,
        "id": "ck1SRN7URPEt",
        "outputId": "6db07d94-ba75-4e60-e644-a98b7a4ddd14",
        "colab": {
          "base_uri": "https://localhost:8080/",
          "height": 128
        }
      },
      "outputs": [
        {
          "output_type": "display_data",
          "data": {
            "text/plain": [
              "<IPython.core.display.HTML object>"
            ],
            "text/html": [
              "\n",
              "                    <b>T3 submitted.</b> <b><font color=\"blue\">your grade is 5</font></b> \n",
              "                    <p/><pre>----- grader message -------</pre>testing your code with 100 random calls<br/><b>correct</b><pre>----------------------------</pre>\n",
              "                    <p/><p/>\n",
              "                    <div style=\"font-size:10px\"><b>SUBMISSION CODE</b> u/HjSh8iLkaj5wseGxyDULKrQ5n27GD4/Zrrse4jQHGPwMGLrdr0ZCievptjAM76DkbEADd7xU7pj/7Yr8mResST8AvaOeI1OPocXsjmGO/w5zMPE2mHiI5qonLMGGy0We7PPEhOqNlMM+vp/1zxp+kc3LdNxh3cRlAogFsluw4=</div>\n",
              "                    "
            ]
          },
          "metadata": {}
        }
      ],
      "source": [
        "student.submit_task(namespace=globals(), task_id='T3');"
      ]
    },
    {
      "cell_type": "code",
      "execution_count": null,
      "metadata": {
        "id": "pRgR39HWRPEu"
      },
      "outputs": [],
      "source": []
    }
  ],
  "metadata": {
    "kernelspec": {
      "display_name": "Python 3",
      "language": "python",
      "name": "python3"
    },
    "language_info": {
      "codemirror_mode": {
        "name": "ipython",
        "version": 3
      },
      "file_extension": ".py",
      "mimetype": "text/x-python",
      "name": "python",
      "nbconvert_exporter": "python",
      "pygments_lexer": "ipython3",
      "version": "3.7.6"
    },
    "varInspector": {
      "cols": {
        "lenName": 16,
        "lenType": 16,
        "lenVar": 40
      },
      "kernels_config": {
        "python": {
          "delete_cmd_postfix": "",
          "delete_cmd_prefix": "del ",
          "library": "var_list.py",
          "varRefreshCmd": "print(var_dic_list())"
        },
        "r": {
          "delete_cmd_postfix": ") ",
          "delete_cmd_prefix": "rm(",
          "library": "var_list.r",
          "varRefreshCmd": "cat(var_dic_list()) "
        }
      },
      "types_to_exclude": [
        "module",
        "function",
        "builtin_function_or_method",
        "instance",
        "_Feature"
      ],
      "window_display": false
    },
    "colab": {
      "provenance": [],
      "include_colab_link": true
    },
    "widgets": {
      "application/vnd.jupyter.widget-state+json": {
        "38965668f281443399de9ae764faee3e": {
          "model_module": "@jupyter-widgets/controls",
          "model_name": "HBoxModel",
          "model_module_version": "1.5.0",
          "state": {
            "_dom_classes": [],
            "_model_module": "@jupyter-widgets/controls",
            "_model_module_version": "1.5.0",
            "_model_name": "HBoxModel",
            "_view_count": null,
            "_view_module": "@jupyter-widgets/controls",
            "_view_module_version": "1.5.0",
            "_view_name": "HBoxView",
            "box_style": "",
            "children": [
              "IPY_MODEL_9fbe26f9d451487f81047bdcb0cf781b",
              "IPY_MODEL_d39e53fcd41f4ce5a759e14ae12b3456",
              "IPY_MODEL_71c02f34e2914eef84fbfd2a869d9fce",
              "IPY_MODEL_c24897ff356e489eb840bf39b6676b3d"
            ],
            "layout": "IPY_MODEL_d7540de7f83a434796e82e70b494b35b"
          }
        },
        "9fbe26f9d451487f81047bdcb0cf781b": {
          "model_module": "@jupyter-widgets/controls",
          "model_name": "VBoxModel",
          "model_module_version": "1.5.0",
          "state": {
            "_dom_classes": [],
            "_model_module": "@jupyter-widgets/controls",
            "_model_module_version": "1.5.0",
            "_model_name": "VBoxModel",
            "_view_count": null,
            "_view_module": "@jupyter-widgets/controls",
            "_view_module_version": "1.5.0",
            "_view_name": "VBoxView",
            "box_style": "",
            "children": [
              "IPY_MODEL_789032713cca405dbc5a3654c44cdcb9",
              "IPY_MODEL_9a95f2f595f34bcd81ce7792a02daca6"
            ],
            "layout": "IPY_MODEL_594439dbe4704b3ca9128e0bc5299134"
          }
        },
        "d39e53fcd41f4ce5a759e14ae12b3456": {
          "model_module": "@jupyter-widgets/controls",
          "model_name": "ButtonModel",
          "model_module_version": "1.5.0",
          "state": {
            "_dom_classes": [
              "login_button"
            ],
            "_model_module": "@jupyter-widgets/controls",
            "_model_module_version": "1.5.0",
            "_model_name": "ButtonModel",
            "_view_count": null,
            "_view_module": "@jupyter-widgets/controls",
            "_view_module_version": "1.5.0",
            "_view_name": "ButtonView",
            "button_style": "",
            "description": "Login with email",
            "disabled": false,
            "icon": "",
            "layout": "IPY_MODEL_ec42ecc13d76407d9f11ba0211f7aa04",
            "style": "IPY_MODEL_810b1cc954b14144959375307a5da2f3",
            "tooltip": ""
          }
        },
        "71c02f34e2914eef84fbfd2a869d9fce": {
          "model_module": "@jupyter-widgets/controls",
          "model_name": "HTMLModel",
          "model_module_version": "1.5.0",
          "state": {
            "_dom_classes": [],
            "_model_module": "@jupyter-widgets/controls",
            "_model_module_version": "1.5.0",
            "_model_name": "HTMLModel",
            "_view_count": null,
            "_view_module": "@jupyter-widgets/controls",
            "_view_module_version": "1.5.0",
            "_view_name": "HTMLView",
            "description": "",
            "description_tooltip": null,
            "layout": "IPY_MODEL_70063f0fc8a441e28fd34c793281701e",
            "placeholder": "​",
            "style": "IPY_MODEL_17a93b07fd714a7bb18077a9edf6d1c7",
            "value": "<center><big>or</big></center>"
          }
        },
        "c24897ff356e489eb840bf39b6676b3d": {
          "model_module": "@jupyter-widgets/controls",
          "model_name": "ButtonModel",
          "model_module_version": "1.5.0",
          "state": {
            "_dom_classes": [
              "google_button"
            ],
            "_model_module": "@jupyter-widgets/controls",
            "_model_module_version": "1.5.0",
            "_model_name": "ButtonModel",
            "_view_count": null,
            "_view_module": "@jupyter-widgets/controls",
            "_view_module_version": "1.5.0",
            "_view_name": "ButtonView",
            "button_style": "",
            "description": "Login with Google",
            "disabled": false,
            "icon": "",
            "layout": "IPY_MODEL_f6685d98f5954be5b17616461b15595d",
            "style": "IPY_MODEL_ebf7f003e067457ea52041c549d845f5",
            "tooltip": ""
          }
        },
        "d7540de7f83a434796e82e70b494b35b": {
          "model_module": "@jupyter-widgets/base",
          "model_name": "LayoutModel",
          "model_module_version": "1.2.0",
          "state": {
            "_model_module": "@jupyter-widgets/base",
            "_model_module_version": "1.2.0",
            "_model_name": "LayoutModel",
            "_view_count": null,
            "_view_module": "@jupyter-widgets/base",
            "_view_module_version": "1.2.0",
            "_view_name": "LayoutView",
            "align_content": null,
            "align_items": null,
            "align_self": null,
            "border": null,
            "bottom": null,
            "display": null,
            "flex": null,
            "flex_flow": null,
            "grid_area": null,
            "grid_auto_columns": null,
            "grid_auto_flow": null,
            "grid_auto_rows": null,
            "grid_column": null,
            "grid_gap": null,
            "grid_row": null,
            "grid_template_areas": null,
            "grid_template_columns": null,
            "grid_template_rows": null,
            "height": null,
            "justify_content": null,
            "justify_items": null,
            "left": null,
            "margin": null,
            "max_height": null,
            "max_width": null,
            "min_height": null,
            "min_width": null,
            "object_fit": null,
            "object_position": null,
            "order": null,
            "overflow": null,
            "overflow_x": null,
            "overflow_y": null,
            "padding": null,
            "right": null,
            "top": null,
            "visibility": null,
            "width": null
          }
        },
        "789032713cca405dbc5a3654c44cdcb9": {
          "model_module": "@jupyter-widgets/controls",
          "model_name": "TextModel",
          "model_module_version": "1.5.0",
          "state": {
            "_dom_classes": [],
            "_model_module": "@jupyter-widgets/controls",
            "_model_module_version": "1.5.0",
            "_model_name": "TextModel",
            "_view_count": null,
            "_view_module": "@jupyter-widgets/controls",
            "_view_module_version": "1.5.0",
            "_view_name": "TextView",
            "continuous_update": true,
            "description": "email",
            "description_tooltip": null,
            "disabled": false,
            "layout": "IPY_MODEL_ed7acf2124944206a09c09096b7180f0",
            "placeholder": "​",
            "style": "IPY_MODEL_8bbf5c7f2d7a4d899138fc92ad673508",
            "value": ""
          }
        },
        "9a95f2f595f34bcd81ce7792a02daca6": {
          "model_module": "@jupyter-widgets/controls",
          "model_name": "PasswordModel",
          "model_module_version": "1.5.0",
          "state": {
            "_dom_classes": [],
            "_model_module": "@jupyter-widgets/controls",
            "_model_module_version": "1.5.0",
            "_model_name": "PasswordModel",
            "_view_count": null,
            "_view_module": "@jupyter-widgets/controls",
            "_view_module_version": "1.5.0",
            "_view_name": "PasswordView",
            "continuous_update": true,
            "description": "password",
            "description_tooltip": null,
            "disabled": false,
            "layout": "IPY_MODEL_0f8ea3ec76024d7da5f73a5ca815b2d6",
            "placeholder": "​",
            "style": "IPY_MODEL_5fb75c56b04c4d8b8becab03fa22a9e8",
            "value": ""
          }
        },
        "594439dbe4704b3ca9128e0bc5299134": {
          "model_module": "@jupyter-widgets/base",
          "model_name": "LayoutModel",
          "model_module_version": "1.2.0",
          "state": {
            "_model_module": "@jupyter-widgets/base",
            "_model_module_version": "1.2.0",
            "_model_name": "LayoutModel",
            "_view_count": null,
            "_view_module": "@jupyter-widgets/base",
            "_view_module_version": "1.2.0",
            "_view_name": "LayoutView",
            "align_content": null,
            "align_items": null,
            "align_self": null,
            "border": null,
            "bottom": null,
            "display": null,
            "flex": null,
            "flex_flow": null,
            "grid_area": null,
            "grid_auto_columns": null,
            "grid_auto_flow": null,
            "grid_auto_rows": null,
            "grid_column": null,
            "grid_gap": null,
            "grid_row": null,
            "grid_template_areas": null,
            "grid_template_columns": null,
            "grid_template_rows": null,
            "height": null,
            "justify_content": null,
            "justify_items": null,
            "left": null,
            "margin": null,
            "max_height": null,
            "max_width": null,
            "min_height": null,
            "min_width": null,
            "object_fit": null,
            "object_position": null,
            "order": null,
            "overflow": null,
            "overflow_x": null,
            "overflow_y": null,
            "padding": null,
            "right": null,
            "top": null,
            "visibility": null,
            "width": null
          }
        },
        "ec42ecc13d76407d9f11ba0211f7aa04": {
          "model_module": "@jupyter-widgets/base",
          "model_name": "LayoutModel",
          "model_module_version": "1.2.0",
          "state": {
            "_model_module": "@jupyter-widgets/base",
            "_model_module_version": "1.2.0",
            "_model_name": "LayoutModel",
            "_view_count": null,
            "_view_module": "@jupyter-widgets/base",
            "_view_module_version": "1.2.0",
            "_view_name": "LayoutView",
            "align_content": null,
            "align_items": null,
            "align_self": null,
            "border": null,
            "bottom": null,
            "display": null,
            "flex": null,
            "flex_flow": null,
            "grid_area": null,
            "grid_auto_columns": null,
            "grid_auto_flow": null,
            "grid_auto_rows": null,
            "grid_column": null,
            "grid_gap": null,
            "grid_row": null,
            "grid_template_areas": null,
            "grid_template_columns": null,
            "grid_template_rows": null,
            "height": "53px",
            "justify_content": null,
            "justify_items": null,
            "left": null,
            "margin": null,
            "max_height": null,
            "max_width": null,
            "min_height": null,
            "min_width": null,
            "object_fit": null,
            "object_position": null,
            "order": null,
            "overflow": null,
            "overflow_x": null,
            "overflow_y": null,
            "padding": null,
            "right": null,
            "top": null,
            "visibility": null,
            "width": "150px"
          }
        },
        "810b1cc954b14144959375307a5da2f3": {
          "model_module": "@jupyter-widgets/controls",
          "model_name": "ButtonStyleModel",
          "model_module_version": "1.5.0",
          "state": {
            "_model_module": "@jupyter-widgets/controls",
            "_model_module_version": "1.5.0",
            "_model_name": "ButtonStyleModel",
            "_view_count": null,
            "_view_module": "@jupyter-widgets/base",
            "_view_module_version": "1.2.0",
            "_view_name": "StyleView",
            "button_color": null,
            "font_weight": ""
          }
        },
        "70063f0fc8a441e28fd34c793281701e": {
          "model_module": "@jupyter-widgets/base",
          "model_name": "LayoutModel",
          "model_module_version": "1.2.0",
          "state": {
            "_model_module": "@jupyter-widgets/base",
            "_model_module_version": "1.2.0",
            "_model_name": "LayoutModel",
            "_view_count": null,
            "_view_module": "@jupyter-widgets/base",
            "_view_module_version": "1.2.0",
            "_view_name": "LayoutView",
            "align_content": null,
            "align_items": null,
            "align_self": null,
            "border": null,
            "bottom": null,
            "display": null,
            "flex": null,
            "flex_flow": null,
            "grid_area": null,
            "grid_auto_columns": null,
            "grid_auto_flow": null,
            "grid_auto_rows": null,
            "grid_column": null,
            "grid_gap": null,
            "grid_row": null,
            "grid_template_areas": null,
            "grid_template_columns": null,
            "grid_template_rows": null,
            "height": null,
            "justify_content": null,
            "justify_items": null,
            "left": null,
            "margin": null,
            "max_height": null,
            "max_width": null,
            "min_height": null,
            "min_width": null,
            "object_fit": null,
            "object_position": null,
            "order": null,
            "overflow": null,
            "overflow_x": null,
            "overflow_y": null,
            "padding": null,
            "right": null,
            "top": null,
            "visibility": null,
            "width": "100px"
          }
        },
        "17a93b07fd714a7bb18077a9edf6d1c7": {
          "model_module": "@jupyter-widgets/controls",
          "model_name": "DescriptionStyleModel",
          "model_module_version": "1.5.0",
          "state": {
            "_model_module": "@jupyter-widgets/controls",
            "_model_module_version": "1.5.0",
            "_model_name": "DescriptionStyleModel",
            "_view_count": null,
            "_view_module": "@jupyter-widgets/base",
            "_view_module_version": "1.2.0",
            "_view_name": "StyleView",
            "description_width": ""
          }
        },
        "f6685d98f5954be5b17616461b15595d": {
          "model_module": "@jupyter-widgets/base",
          "model_name": "LayoutModel",
          "model_module_version": "1.2.0",
          "state": {
            "_model_module": "@jupyter-widgets/base",
            "_model_module_version": "1.2.0",
            "_model_name": "LayoutModel",
            "_view_count": null,
            "_view_module": "@jupyter-widgets/base",
            "_view_module_version": "1.2.0",
            "_view_name": "LayoutView",
            "align_content": null,
            "align_items": null,
            "align_self": null,
            "border": null,
            "bottom": null,
            "display": null,
            "flex": null,
            "flex_flow": null,
            "grid_area": null,
            "grid_auto_columns": null,
            "grid_auto_flow": null,
            "grid_auto_rows": null,
            "grid_column": null,
            "grid_gap": null,
            "grid_row": null,
            "grid_template_areas": null,
            "grid_template_columns": null,
            "grid_template_rows": null,
            "height": "53px",
            "justify_content": null,
            "justify_items": null,
            "left": null,
            "margin": null,
            "max_height": null,
            "max_width": null,
            "min_height": null,
            "min_width": null,
            "object_fit": null,
            "object_position": null,
            "order": null,
            "overflow": null,
            "overflow_x": null,
            "overflow_y": null,
            "padding": null,
            "right": null,
            "top": null,
            "visibility": null,
            "width": "200px"
          }
        },
        "ebf7f003e067457ea52041c549d845f5": {
          "model_module": "@jupyter-widgets/controls",
          "model_name": "ButtonStyleModel",
          "model_module_version": "1.5.0",
          "state": {
            "_model_module": "@jupyter-widgets/controls",
            "_model_module_version": "1.5.0",
            "_model_name": "ButtonStyleModel",
            "_view_count": null,
            "_view_module": "@jupyter-widgets/base",
            "_view_module_version": "1.2.0",
            "_view_name": "StyleView",
            "button_color": null,
            "font_weight": ""
          }
        },
        "ed7acf2124944206a09c09096b7180f0": {
          "model_module": "@jupyter-widgets/base",
          "model_name": "LayoutModel",
          "model_module_version": "1.2.0",
          "state": {
            "_model_module": "@jupyter-widgets/base",
            "_model_module_version": "1.2.0",
            "_model_name": "LayoutModel",
            "_view_count": null,
            "_view_module": "@jupyter-widgets/base",
            "_view_module_version": "1.2.0",
            "_view_name": "LayoutView",
            "align_content": null,
            "align_items": null,
            "align_self": null,
            "border": null,
            "bottom": null,
            "display": null,
            "flex": null,
            "flex_flow": null,
            "grid_area": null,
            "grid_auto_columns": null,
            "grid_auto_flow": null,
            "grid_auto_rows": null,
            "grid_column": null,
            "grid_gap": null,
            "grid_row": null,
            "grid_template_areas": null,
            "grid_template_columns": null,
            "grid_template_rows": null,
            "height": "25px",
            "justify_content": null,
            "justify_items": null,
            "left": null,
            "margin": null,
            "max_height": null,
            "max_width": null,
            "min_height": null,
            "min_width": null,
            "object_fit": null,
            "object_position": null,
            "order": null,
            "overflow": null,
            "overflow_x": null,
            "overflow_y": null,
            "padding": null,
            "right": null,
            "top": null,
            "visibility": null,
            "width": "300px"
          }
        },
        "8bbf5c7f2d7a4d899138fc92ad673508": {
          "model_module": "@jupyter-widgets/controls",
          "model_name": "DescriptionStyleModel",
          "model_module_version": "1.5.0",
          "state": {
            "_model_module": "@jupyter-widgets/controls",
            "_model_module_version": "1.5.0",
            "_model_name": "DescriptionStyleModel",
            "_view_count": null,
            "_view_module": "@jupyter-widgets/base",
            "_view_module_version": "1.2.0",
            "_view_name": "StyleView",
            "description_width": ""
          }
        },
        "0f8ea3ec76024d7da5f73a5ca815b2d6": {
          "model_module": "@jupyter-widgets/base",
          "model_name": "LayoutModel",
          "model_module_version": "1.2.0",
          "state": {
            "_model_module": "@jupyter-widgets/base",
            "_model_module_version": "1.2.0",
            "_model_name": "LayoutModel",
            "_view_count": null,
            "_view_module": "@jupyter-widgets/base",
            "_view_module_version": "1.2.0",
            "_view_name": "LayoutView",
            "align_content": null,
            "align_items": null,
            "align_self": null,
            "border": null,
            "bottom": null,
            "display": null,
            "flex": null,
            "flex_flow": null,
            "grid_area": null,
            "grid_auto_columns": null,
            "grid_auto_flow": null,
            "grid_auto_rows": null,
            "grid_column": null,
            "grid_gap": null,
            "grid_row": null,
            "grid_template_areas": null,
            "grid_template_columns": null,
            "grid_template_rows": null,
            "height": "24px",
            "justify_content": null,
            "justify_items": null,
            "left": null,
            "margin": null,
            "max_height": null,
            "max_width": null,
            "min_height": null,
            "min_width": null,
            "object_fit": null,
            "object_position": null,
            "order": null,
            "overflow": null,
            "overflow_x": null,
            "overflow_y": null,
            "padding": null,
            "right": null,
            "top": null,
            "visibility": null,
            "width": "300px"
          }
        },
        "5fb75c56b04c4d8b8becab03fa22a9e8": {
          "model_module": "@jupyter-widgets/controls",
          "model_name": "DescriptionStyleModel",
          "model_module_version": "1.5.0",
          "state": {
            "_model_module": "@jupyter-widgets/controls",
            "_model_module_version": "1.5.0",
            "_model_name": "DescriptionStyleModel",
            "_view_count": null,
            "_view_module": "@jupyter-widgets/base",
            "_view_module_version": "1.2.0",
            "_view_name": "StyleView",
            "description_width": ""
          }
        }
      }
    }
  },
  "nbformat": 4,
  "nbformat_minor": 0
}