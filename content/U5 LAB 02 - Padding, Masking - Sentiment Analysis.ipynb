{
  "cells": [
    {
      "cell_type": "markdown",
      "metadata": {
        "id": "view-in-github",
        "colab_type": "text"
      },
      "source": [
        "<a href=\"https://colab.research.google.com/github/danielapavas/Labs-Deep-Learning/blob/main/content/U5%20LAB%2002%20-%20Padding%2C%20Masking%20-%20Sentiment%20Analysis.ipynb\" target=\"_parent\"><img src=\"https://colab.research.google.com/assets/colab-badge.svg\" alt=\"Open In Colab\"/></a>"
      ]
    },
    {
      "cell_type": "markdown",
      "metadata": {
        "id": "iOsyZF2Z1cXe"
      },
      "source": [
        "# LAB 5.2 - Padding - Masking"
      ]
    },
    {
      "cell_type": "code",
      "execution_count": 3,
      "metadata": {
        "id": "O9JLCJON1cYs",
        "outputId": "bacecd2a-7afe-4dfe-8a98-ab8fa84171e3",
        "colab": {
          "base_uri": "https://localhost:8080/",
          "height": 58
        }
      },
      "outputs": [
        {
          "output_type": "display_data",
          "data": {
            "text/plain": [
              "<IPython.core.display.HTML object>"
            ],
            "text/html": [
              "\n",
              "<meta name=\"google-signin-client_id\"\n",
              "      content=\"461673936472-kdjosv61up3ac1ajeuq6qqu72upilmls.apps.googleusercontent.com\"/>\n",
              "<script src=\"https://apis.google.com/js/client:platform.js?onload=google_button_start\"></script>\n",
              "    "
            ]
          },
          "metadata": {}
        },
        {
          "output_type": "execute_result",
          "data": {
            "text/plain": [
              "<IPython.core.display.HTML object>"
            ],
            "text/html": [
              "<h3>See <a href='https://m5knaekxo6.execute-api.us-west-2.amazonaws.com/dev-v0001/rlxmooc/web/login' target='_blank'>my courses and progress</a></h2>"
            ]
          },
          "metadata": {},
          "execution_count": 3
        }
      ],
      "source": [
        "!wget -nc --no-cache -O init.py -q https://raw.githubusercontent.com/rramosp/2021.deeplearning/main/content/init.py\n",
        "import init; init.init(force_download=False); init.get_weblink()"
      ]
    },
    {
      "cell_type": "code",
      "execution_count": 40,
      "metadata": {
        "id": "4GcYew7z1cZB",
        "outputId": "1ec870b9-130e-489d-dfa7-e88f5ed5df5d",
        "colab": {
          "base_uri": "https://localhost:8080/",
          "height": 74,
          "referenced_widgets": [
            "e3a81721ebc640d88c4852415c13534d",
            "4d8ee5ae61654fe9aa4d40fc43dbf85b",
            "8da1b6c91c634b81b39ee40ceb37bf4e",
            "fad1902f560e4f129de32ccbfdbfde82",
            "bb7d779e755549d9a4b5b515984dfdfe",
            "44ffc42a205a46cfbf1a321141c182a6",
            "f8f1c89d97a3403388aff55b6741675a",
            "62100c09ceef4e84a81c83866b006db3",
            "b50a35108a284142a18b0fcaaaae7897",
            "2b3f64b61ce94fd1b7efa86d1890438a",
            "7a74ce37a01740cda9c626a649438e7e",
            "1784ed86fd104b0abc2e07da221cba4e",
            "9578e83c87a848d1a1c5186bef24be2b",
            "4271441a793a40edbce2190329e41ac2",
            "c97d26e784424fa6b8d1541a6025110e",
            "c683e8cc262c4f8eb9e143a298709438",
            "93e640a539e24f4f884d1e9cb0425db3",
            "8fd3681fff014e4bb8a51abe3f9b9d3f",
            "99be4ec9a704476ab427cb31ddea304c"
          ]
        }
      },
      "outputs": [
        {
          "output_type": "stream",
          "name": "stdout",
          "text": [
            "logging in as daniela.pavas1@udea.edu.co... please wait\n",
            "\n",
            "-------------\n",
            "using course session 2021.deeplearning::udea.20242\n",
            "success!! you are logged in\n",
            "-------------\n"
          ]
        }
      ],
      "source": [
        "from local.lib.rlxmoocapi import submit, session\n",
        "import inspect\n",
        "session.LoginSequence(endpoint=init.endpoint, course_id=init.course_id, lab_id=\"L05.02\", varname=\"student\");"
      ]
    },
    {
      "cell_type": "code",
      "source": [
        "!pip install tensorflow==2.15"
      ],
      "metadata": {
        "id": "QMuY7xt816Yn",
        "outputId": "3a5aa1c2-3d8d-4a6b-db18-67a7f0989ffc",
        "colab": {
          "base_uri": "https://localhost:8080/"
        }
      },
      "execution_count": 5,
      "outputs": [
        {
          "output_type": "stream",
          "name": "stdout",
          "text": [
            "Requirement already satisfied: tensorflow==2.15 in /usr/local/lib/python3.10/dist-packages (2.15.0)\n",
            "Requirement already satisfied: absl-py>=1.0.0 in /usr/local/lib/python3.10/dist-packages (from tensorflow==2.15) (1.4.0)\n",
            "Requirement already satisfied: astunparse>=1.6.0 in /usr/local/lib/python3.10/dist-packages (from tensorflow==2.15) (1.6.3)\n",
            "Requirement already satisfied: flatbuffers>=23.5.26 in /usr/local/lib/python3.10/dist-packages (from tensorflow==2.15) (24.3.25)\n",
            "Requirement already satisfied: gast!=0.5.0,!=0.5.1,!=0.5.2,>=0.2.1 in /usr/local/lib/python3.10/dist-packages (from tensorflow==2.15) (0.6.0)\n",
            "Requirement already satisfied: google-pasta>=0.1.1 in /usr/local/lib/python3.10/dist-packages (from tensorflow==2.15) (0.2.0)\n",
            "Requirement already satisfied: h5py>=2.9.0 in /usr/local/lib/python3.10/dist-packages (from tensorflow==2.15) (3.11.0)\n",
            "Requirement already satisfied: libclang>=13.0.0 in /usr/local/lib/python3.10/dist-packages (from tensorflow==2.15) (18.1.1)\n",
            "Requirement already satisfied: ml-dtypes~=0.2.0 in /usr/local/lib/python3.10/dist-packages (from tensorflow==2.15) (0.2.0)\n",
            "Requirement already satisfied: numpy<2.0.0,>=1.23.5 in /usr/local/lib/python3.10/dist-packages (from tensorflow==2.15) (1.26.4)\n",
            "Requirement already satisfied: opt-einsum>=2.3.2 in /usr/local/lib/python3.10/dist-packages (from tensorflow==2.15) (3.4.0)\n",
            "Requirement already satisfied: packaging in /usr/local/lib/python3.10/dist-packages (from tensorflow==2.15) (24.1)\n",
            "Requirement already satisfied: protobuf!=4.21.0,!=4.21.1,!=4.21.2,!=4.21.3,!=4.21.4,!=4.21.5,<5.0.0dev,>=3.20.3 in /usr/local/lib/python3.10/dist-packages (from tensorflow==2.15) (3.20.3)\n",
            "Requirement already satisfied: setuptools in /usr/local/lib/python3.10/dist-packages (from tensorflow==2.15) (75.1.0)\n",
            "Requirement already satisfied: six>=1.12.0 in /usr/local/lib/python3.10/dist-packages (from tensorflow==2.15) (1.16.0)\n",
            "Requirement already satisfied: termcolor>=1.1.0 in /usr/local/lib/python3.10/dist-packages (from tensorflow==2.15) (2.5.0)\n",
            "Requirement already satisfied: typing-extensions>=3.6.6 in /usr/local/lib/python3.10/dist-packages (from tensorflow==2.15) (4.12.2)\n",
            "Requirement already satisfied: wrapt<1.15,>=1.11.0 in /usr/local/lib/python3.10/dist-packages (from tensorflow==2.15) (1.14.1)\n",
            "Requirement already satisfied: tensorflow-io-gcs-filesystem>=0.23.1 in /usr/local/lib/python3.10/dist-packages (from tensorflow==2.15) (0.37.1)\n",
            "Requirement already satisfied: grpcio<2.0,>=1.24.3 in /usr/local/lib/python3.10/dist-packages (from tensorflow==2.15) (1.64.1)\n",
            "Requirement already satisfied: tensorboard<2.16,>=2.15 in /usr/local/lib/python3.10/dist-packages (from tensorflow==2.15) (2.15.2)\n",
            "Requirement already satisfied: tensorflow-estimator<2.16,>=2.15.0 in /usr/local/lib/python3.10/dist-packages (from tensorflow==2.15) (2.15.0)\n",
            "Requirement already satisfied: keras<2.16,>=2.15.0 in /usr/local/lib/python3.10/dist-packages (from tensorflow==2.15) (2.15.0)\n",
            "Requirement already satisfied: wheel<1.0,>=0.23.0 in /usr/local/lib/python3.10/dist-packages (from astunparse>=1.6.0->tensorflow==2.15) (0.44.0)\n",
            "Requirement already satisfied: google-auth<3,>=1.6.3 in /usr/local/lib/python3.10/dist-packages (from tensorboard<2.16,>=2.15->tensorflow==2.15) (2.27.0)\n",
            "Requirement already satisfied: google-auth-oauthlib<2,>=0.5 in /usr/local/lib/python3.10/dist-packages (from tensorboard<2.16,>=2.15->tensorflow==2.15) (1.2.1)\n",
            "Requirement already satisfied: markdown>=2.6.8 in /usr/local/lib/python3.10/dist-packages (from tensorboard<2.16,>=2.15->tensorflow==2.15) (3.7)\n",
            "Requirement already satisfied: requests<3,>=2.21.0 in /usr/local/lib/python3.10/dist-packages (from tensorboard<2.16,>=2.15->tensorflow==2.15) (2.32.3)\n",
            "Requirement already satisfied: tensorboard-data-server<0.8.0,>=0.7.0 in /usr/local/lib/python3.10/dist-packages (from tensorboard<2.16,>=2.15->tensorflow==2.15) (0.7.2)\n",
            "Requirement already satisfied: werkzeug>=1.0.1 in /usr/local/lib/python3.10/dist-packages (from tensorboard<2.16,>=2.15->tensorflow==2.15) (3.0.4)\n",
            "Requirement already satisfied: cachetools<6.0,>=2.0.0 in /usr/local/lib/python3.10/dist-packages (from google-auth<3,>=1.6.3->tensorboard<2.16,>=2.15->tensorflow==2.15) (5.5.0)\n",
            "Requirement already satisfied: pyasn1-modules>=0.2.1 in /usr/local/lib/python3.10/dist-packages (from google-auth<3,>=1.6.3->tensorboard<2.16,>=2.15->tensorflow==2.15) (0.4.1)\n",
            "Requirement already satisfied: rsa<5,>=3.1.4 in /usr/local/lib/python3.10/dist-packages (from google-auth<3,>=1.6.3->tensorboard<2.16,>=2.15->tensorflow==2.15) (4.9)\n",
            "Requirement already satisfied: requests-oauthlib>=0.7.0 in /usr/local/lib/python3.10/dist-packages (from google-auth-oauthlib<2,>=0.5->tensorboard<2.16,>=2.15->tensorflow==2.15) (1.3.1)\n",
            "Requirement already satisfied: charset-normalizer<4,>=2 in /usr/local/lib/python3.10/dist-packages (from requests<3,>=2.21.0->tensorboard<2.16,>=2.15->tensorflow==2.15) (3.4.0)\n",
            "Requirement already satisfied: idna<4,>=2.5 in /usr/local/lib/python3.10/dist-packages (from requests<3,>=2.21.0->tensorboard<2.16,>=2.15->tensorflow==2.15) (3.10)\n",
            "Requirement already satisfied: urllib3<3,>=1.21.1 in /usr/local/lib/python3.10/dist-packages (from requests<3,>=2.21.0->tensorboard<2.16,>=2.15->tensorflow==2.15) (2.2.3)\n",
            "Requirement already satisfied: certifi>=2017.4.17 in /usr/local/lib/python3.10/dist-packages (from requests<3,>=2.21.0->tensorboard<2.16,>=2.15->tensorflow==2.15) (2024.8.30)\n",
            "Requirement already satisfied: MarkupSafe>=2.1.1 in /usr/local/lib/python3.10/dist-packages (from werkzeug>=1.0.1->tensorboard<2.16,>=2.15->tensorflow==2.15) (3.0.2)\n",
            "Requirement already satisfied: pyasn1<0.7.0,>=0.4.6 in /usr/local/lib/python3.10/dist-packages (from pyasn1-modules>=0.2.1->google-auth<3,>=1.6.3->tensorboard<2.16,>=2.15->tensorflow==2.15) (0.6.1)\n",
            "Requirement already satisfied: oauthlib>=3.0.0 in /usr/local/lib/python3.10/dist-packages (from requests-oauthlib>=0.7.0->google-auth-oauthlib<2,>=0.5->tensorboard<2.16,>=2.15->tensorflow==2.15) (3.2.2)\n"
          ]
        }
      ]
    },
    {
      "cell_type": "code",
      "execution_count": 6,
      "metadata": {
        "id": "-kVwsxjF1cZP",
        "outputId": "4de56e32-1dca-4469-bf47-e87ee968bf52",
        "colab": {
          "base_uri": "https://localhost:8080/",
          "height": 70
        }
      },
      "outputs": [
        {
          "output_type": "stream",
          "name": "stdout",
          "text": [
            "setting tensorflow version in colab\n",
            "Colab only includes TensorFlow 2.x; %tensorflow_version has no effect.\n"
          ]
        },
        {
          "output_type": "execute_result",
          "data": {
            "text/plain": [
              "'2.15.0'"
            ],
            "application/vnd.google.colaboratory.intrinsic+json": {
              "type": "string"
            }
          },
          "metadata": {},
          "execution_count": 6
        }
      ],
      "source": [
        "import sys\n",
        "if 'google.colab' in sys.modules:\n",
        "    print (\"setting tensorflow version in colab\")\n",
        "    %tensorflow_version 2.x\n",
        "import tensorflow as tf\n",
        "tf.__version__"
      ]
    },
    {
      "cell_type": "code",
      "execution_count": 7,
      "metadata": {
        "id": "rQ0MPl-o1cZc"
      },
      "outputs": [],
      "source": [
        "#Basic required libraries\n",
        "import numpy as np # linear algebra\n",
        "import pandas as pd # data processing, CSV file I/O (e.g. pd.read_csv)\n",
        "import matplotlib.pyplot as plt"
      ]
    },
    {
      "cell_type": "markdown",
      "metadata": {
        "id": "7J-zNTxh1cZh"
      },
      "source": [
        "#### The aim of this lab is to build a system for sentiment analysis on a dataset of tweets."
      ]
    },
    {
      "cell_type": "markdown",
      "metadata": {
        "id": "4-__0ANv1cZq"
      },
      "source": [
        "The data consist on passenger's reviews of U.S. airlines: https://www.kaggle.com/crowdflower/twitter-airline-sentiment"
      ]
    },
    {
      "cell_type": "code",
      "execution_count": 8,
      "metadata": {
        "id": "otny0PKD1cZu"
      },
      "outputs": [],
      "source": [
        "data = pd.read_csv('local/data/Tweets.csv')\n",
        "# Keeping only the neccessary columns\n",
        "data = data[['text','airline_sentiment']]"
      ]
    },
    {
      "cell_type": "code",
      "execution_count": 9,
      "metadata": {
        "id": "czp0kR1r1cZ0",
        "outputId": "65980ea6-e092-49f0-acd4-8f95d04c829c",
        "colab": {
          "base_uri": "https://localhost:8080/",
          "height": 424
        }
      },
      "outputs": [
        {
          "output_type": "execute_result",
          "data": {
            "text/plain": [
              "                                                    text airline_sentiment\n",
              "0                    @VirginAmerica What @dhepburn said.           neutral\n",
              "1      @VirginAmerica plus you've added commercials t...          positive\n",
              "2      @VirginAmerica I didn't today... Must mean I n...           neutral\n",
              "3      @VirginAmerica it's really aggressive to blast...          negative\n",
              "4      @VirginAmerica and it's a really big bad thing...          negative\n",
              "...                                                  ...               ...\n",
              "14635  @AmericanAir thank you we got on a different f...          positive\n",
              "14636  @AmericanAir leaving over 20 minutes Late Flig...          negative\n",
              "14637  @AmericanAir Please bring American Airlines to...           neutral\n",
              "14638  @AmericanAir you have my money, you change my ...          negative\n",
              "14639  @AmericanAir we have 8 ppl so we need 2 know h...           neutral\n",
              "\n",
              "[14640 rows x 2 columns]"
            ],
            "text/html": [
              "\n",
              "  <div id=\"df-c795d04e-550f-49a4-8b18-b8b38d253dd1\" class=\"colab-df-container\">\n",
              "    <div>\n",
              "<style scoped>\n",
              "    .dataframe tbody tr th:only-of-type {\n",
              "        vertical-align: middle;\n",
              "    }\n",
              "\n",
              "    .dataframe tbody tr th {\n",
              "        vertical-align: top;\n",
              "    }\n",
              "\n",
              "    .dataframe thead th {\n",
              "        text-align: right;\n",
              "    }\n",
              "</style>\n",
              "<table border=\"1\" class=\"dataframe\">\n",
              "  <thead>\n",
              "    <tr style=\"text-align: right;\">\n",
              "      <th></th>\n",
              "      <th>text</th>\n",
              "      <th>airline_sentiment</th>\n",
              "    </tr>\n",
              "  </thead>\n",
              "  <tbody>\n",
              "    <tr>\n",
              "      <th>0</th>\n",
              "      <td>@VirginAmerica What @dhepburn said.</td>\n",
              "      <td>neutral</td>\n",
              "    </tr>\n",
              "    <tr>\n",
              "      <th>1</th>\n",
              "      <td>@VirginAmerica plus you've added commercials t...</td>\n",
              "      <td>positive</td>\n",
              "    </tr>\n",
              "    <tr>\n",
              "      <th>2</th>\n",
              "      <td>@VirginAmerica I didn't today... Must mean I n...</td>\n",
              "      <td>neutral</td>\n",
              "    </tr>\n",
              "    <tr>\n",
              "      <th>3</th>\n",
              "      <td>@VirginAmerica it's really aggressive to blast...</td>\n",
              "      <td>negative</td>\n",
              "    </tr>\n",
              "    <tr>\n",
              "      <th>4</th>\n",
              "      <td>@VirginAmerica and it's a really big bad thing...</td>\n",
              "      <td>negative</td>\n",
              "    </tr>\n",
              "    <tr>\n",
              "      <th>...</th>\n",
              "      <td>...</td>\n",
              "      <td>...</td>\n",
              "    </tr>\n",
              "    <tr>\n",
              "      <th>14635</th>\n",
              "      <td>@AmericanAir thank you we got on a different f...</td>\n",
              "      <td>positive</td>\n",
              "    </tr>\n",
              "    <tr>\n",
              "      <th>14636</th>\n",
              "      <td>@AmericanAir leaving over 20 minutes Late Flig...</td>\n",
              "      <td>negative</td>\n",
              "    </tr>\n",
              "    <tr>\n",
              "      <th>14637</th>\n",
              "      <td>@AmericanAir Please bring American Airlines to...</td>\n",
              "      <td>neutral</td>\n",
              "    </tr>\n",
              "    <tr>\n",
              "      <th>14638</th>\n",
              "      <td>@AmericanAir you have my money, you change my ...</td>\n",
              "      <td>negative</td>\n",
              "    </tr>\n",
              "    <tr>\n",
              "      <th>14639</th>\n",
              "      <td>@AmericanAir we have 8 ppl so we need 2 know h...</td>\n",
              "      <td>neutral</td>\n",
              "    </tr>\n",
              "  </tbody>\n",
              "</table>\n",
              "<p>14640 rows × 2 columns</p>\n",
              "</div>\n",
              "    <div class=\"colab-df-buttons\">\n",
              "\n",
              "  <div class=\"colab-df-container\">\n",
              "    <button class=\"colab-df-convert\" onclick=\"convertToInteractive('df-c795d04e-550f-49a4-8b18-b8b38d253dd1')\"\n",
              "            title=\"Convert this dataframe to an interactive table.\"\n",
              "            style=\"display:none;\">\n",
              "\n",
              "  <svg xmlns=\"http://www.w3.org/2000/svg\" height=\"24px\" viewBox=\"0 -960 960 960\">\n",
              "    <path d=\"M120-120v-720h720v720H120Zm60-500h600v-160H180v160Zm220 220h160v-160H400v160Zm0 220h160v-160H400v160ZM180-400h160v-160H180v160Zm440 0h160v-160H620v160ZM180-180h160v-160H180v160Zm440 0h160v-160H620v160Z\"/>\n",
              "  </svg>\n",
              "    </button>\n",
              "\n",
              "  <style>\n",
              "    .colab-df-container {\n",
              "      display:flex;\n",
              "      gap: 12px;\n",
              "    }\n",
              "\n",
              "    .colab-df-convert {\n",
              "      background-color: #E8F0FE;\n",
              "      border: none;\n",
              "      border-radius: 50%;\n",
              "      cursor: pointer;\n",
              "      display: none;\n",
              "      fill: #1967D2;\n",
              "      height: 32px;\n",
              "      padding: 0 0 0 0;\n",
              "      width: 32px;\n",
              "    }\n",
              "\n",
              "    .colab-df-convert:hover {\n",
              "      background-color: #E2EBFA;\n",
              "      box-shadow: 0px 1px 2px rgba(60, 64, 67, 0.3), 0px 1px 3px 1px rgba(60, 64, 67, 0.15);\n",
              "      fill: #174EA6;\n",
              "    }\n",
              "\n",
              "    .colab-df-buttons div {\n",
              "      margin-bottom: 4px;\n",
              "    }\n",
              "\n",
              "    [theme=dark] .colab-df-convert {\n",
              "      background-color: #3B4455;\n",
              "      fill: #D2E3FC;\n",
              "    }\n",
              "\n",
              "    [theme=dark] .colab-df-convert:hover {\n",
              "      background-color: #434B5C;\n",
              "      box-shadow: 0px 1px 3px 1px rgba(0, 0, 0, 0.15);\n",
              "      filter: drop-shadow(0px 1px 2px rgba(0, 0, 0, 0.3));\n",
              "      fill: #FFFFFF;\n",
              "    }\n",
              "  </style>\n",
              "\n",
              "    <script>\n",
              "      const buttonEl =\n",
              "        document.querySelector('#df-c795d04e-550f-49a4-8b18-b8b38d253dd1 button.colab-df-convert');\n",
              "      buttonEl.style.display =\n",
              "        google.colab.kernel.accessAllowed ? 'block' : 'none';\n",
              "\n",
              "      async function convertToInteractive(key) {\n",
              "        const element = document.querySelector('#df-c795d04e-550f-49a4-8b18-b8b38d253dd1');\n",
              "        const dataTable =\n",
              "          await google.colab.kernel.invokeFunction('convertToInteractive',\n",
              "                                                    [key], {});\n",
              "        if (!dataTable) return;\n",
              "\n",
              "        const docLinkHtml = 'Like what you see? Visit the ' +\n",
              "          '<a target=\"_blank\" href=https://colab.research.google.com/notebooks/data_table.ipynb>data table notebook</a>'\n",
              "          + ' to learn more about interactive tables.';\n",
              "        element.innerHTML = '';\n",
              "        dataTable['output_type'] = 'display_data';\n",
              "        await google.colab.output.renderOutput(dataTable, element);\n",
              "        const docLink = document.createElement('div');\n",
              "        docLink.innerHTML = docLinkHtml;\n",
              "        element.appendChild(docLink);\n",
              "      }\n",
              "    </script>\n",
              "  </div>\n",
              "\n",
              "\n",
              "<div id=\"df-74db8850-a85f-441b-bc93-f566ab8ed75e\">\n",
              "  <button class=\"colab-df-quickchart\" onclick=\"quickchart('df-74db8850-a85f-441b-bc93-f566ab8ed75e')\"\n",
              "            title=\"Suggest charts\"\n",
              "            style=\"display:none;\">\n",
              "\n",
              "<svg xmlns=\"http://www.w3.org/2000/svg\" height=\"24px\"viewBox=\"0 0 24 24\"\n",
              "     width=\"24px\">\n",
              "    <g>\n",
              "        <path d=\"M19 3H5c-1.1 0-2 .9-2 2v14c0 1.1.9 2 2 2h14c1.1 0 2-.9 2-2V5c0-1.1-.9-2-2-2zM9 17H7v-7h2v7zm4 0h-2V7h2v10zm4 0h-2v-4h2v4z\"/>\n",
              "    </g>\n",
              "</svg>\n",
              "  </button>\n",
              "\n",
              "<style>\n",
              "  .colab-df-quickchart {\n",
              "      --bg-color: #E8F0FE;\n",
              "      --fill-color: #1967D2;\n",
              "      --hover-bg-color: #E2EBFA;\n",
              "      --hover-fill-color: #174EA6;\n",
              "      --disabled-fill-color: #AAA;\n",
              "      --disabled-bg-color: #DDD;\n",
              "  }\n",
              "\n",
              "  [theme=dark] .colab-df-quickchart {\n",
              "      --bg-color: #3B4455;\n",
              "      --fill-color: #D2E3FC;\n",
              "      --hover-bg-color: #434B5C;\n",
              "      --hover-fill-color: #FFFFFF;\n",
              "      --disabled-bg-color: #3B4455;\n",
              "      --disabled-fill-color: #666;\n",
              "  }\n",
              "\n",
              "  .colab-df-quickchart {\n",
              "    background-color: var(--bg-color);\n",
              "    border: none;\n",
              "    border-radius: 50%;\n",
              "    cursor: pointer;\n",
              "    display: none;\n",
              "    fill: var(--fill-color);\n",
              "    height: 32px;\n",
              "    padding: 0;\n",
              "    width: 32px;\n",
              "  }\n",
              "\n",
              "  .colab-df-quickchart:hover {\n",
              "    background-color: var(--hover-bg-color);\n",
              "    box-shadow: 0 1px 2px rgba(60, 64, 67, 0.3), 0 1px 3px 1px rgba(60, 64, 67, 0.15);\n",
              "    fill: var(--button-hover-fill-color);\n",
              "  }\n",
              "\n",
              "  .colab-df-quickchart-complete:disabled,\n",
              "  .colab-df-quickchart-complete:disabled:hover {\n",
              "    background-color: var(--disabled-bg-color);\n",
              "    fill: var(--disabled-fill-color);\n",
              "    box-shadow: none;\n",
              "  }\n",
              "\n",
              "  .colab-df-spinner {\n",
              "    border: 2px solid var(--fill-color);\n",
              "    border-color: transparent;\n",
              "    border-bottom-color: var(--fill-color);\n",
              "    animation:\n",
              "      spin 1s steps(1) infinite;\n",
              "  }\n",
              "\n",
              "  @keyframes spin {\n",
              "    0% {\n",
              "      border-color: transparent;\n",
              "      border-bottom-color: var(--fill-color);\n",
              "      border-left-color: var(--fill-color);\n",
              "    }\n",
              "    20% {\n",
              "      border-color: transparent;\n",
              "      border-left-color: var(--fill-color);\n",
              "      border-top-color: var(--fill-color);\n",
              "    }\n",
              "    30% {\n",
              "      border-color: transparent;\n",
              "      border-left-color: var(--fill-color);\n",
              "      border-top-color: var(--fill-color);\n",
              "      border-right-color: var(--fill-color);\n",
              "    }\n",
              "    40% {\n",
              "      border-color: transparent;\n",
              "      border-right-color: var(--fill-color);\n",
              "      border-top-color: var(--fill-color);\n",
              "    }\n",
              "    60% {\n",
              "      border-color: transparent;\n",
              "      border-right-color: var(--fill-color);\n",
              "    }\n",
              "    80% {\n",
              "      border-color: transparent;\n",
              "      border-right-color: var(--fill-color);\n",
              "      border-bottom-color: var(--fill-color);\n",
              "    }\n",
              "    90% {\n",
              "      border-color: transparent;\n",
              "      border-bottom-color: var(--fill-color);\n",
              "    }\n",
              "  }\n",
              "</style>\n",
              "\n",
              "  <script>\n",
              "    async function quickchart(key) {\n",
              "      const quickchartButtonEl =\n",
              "        document.querySelector('#' + key + ' button');\n",
              "      quickchartButtonEl.disabled = true;  // To prevent multiple clicks.\n",
              "      quickchartButtonEl.classList.add('colab-df-spinner');\n",
              "      try {\n",
              "        const charts = await google.colab.kernel.invokeFunction(\n",
              "            'suggestCharts', [key], {});\n",
              "      } catch (error) {\n",
              "        console.error('Error during call to suggestCharts:', error);\n",
              "      }\n",
              "      quickchartButtonEl.classList.remove('colab-df-spinner');\n",
              "      quickchartButtonEl.classList.add('colab-df-quickchart-complete');\n",
              "    }\n",
              "    (() => {\n",
              "      let quickchartButtonEl =\n",
              "        document.querySelector('#df-74db8850-a85f-441b-bc93-f566ab8ed75e button');\n",
              "      quickchartButtonEl.style.display =\n",
              "        google.colab.kernel.accessAllowed ? 'block' : 'none';\n",
              "    })();\n",
              "  </script>\n",
              "</div>\n",
              "\n",
              "  <div id=\"id_f967006e-b44a-456e-ac49-bca9738ebfe4\">\n",
              "    <style>\n",
              "      .colab-df-generate {\n",
              "        background-color: #E8F0FE;\n",
              "        border: none;\n",
              "        border-radius: 50%;\n",
              "        cursor: pointer;\n",
              "        display: none;\n",
              "        fill: #1967D2;\n",
              "        height: 32px;\n",
              "        padding: 0 0 0 0;\n",
              "        width: 32px;\n",
              "      }\n",
              "\n",
              "      .colab-df-generate:hover {\n",
              "        background-color: #E2EBFA;\n",
              "        box-shadow: 0px 1px 2px rgba(60, 64, 67, 0.3), 0px 1px 3px 1px rgba(60, 64, 67, 0.15);\n",
              "        fill: #174EA6;\n",
              "      }\n",
              "\n",
              "      [theme=dark] .colab-df-generate {\n",
              "        background-color: #3B4455;\n",
              "        fill: #D2E3FC;\n",
              "      }\n",
              "\n",
              "      [theme=dark] .colab-df-generate:hover {\n",
              "        background-color: #434B5C;\n",
              "        box-shadow: 0px 1px 3px 1px rgba(0, 0, 0, 0.15);\n",
              "        filter: drop-shadow(0px 1px 2px rgba(0, 0, 0, 0.3));\n",
              "        fill: #FFFFFF;\n",
              "      }\n",
              "    </style>\n",
              "    <button class=\"colab-df-generate\" onclick=\"generateWithVariable('data')\"\n",
              "            title=\"Generate code using this dataframe.\"\n",
              "            style=\"display:none;\">\n",
              "\n",
              "  <svg xmlns=\"http://www.w3.org/2000/svg\" height=\"24px\"viewBox=\"0 0 24 24\"\n",
              "       width=\"24px\">\n",
              "    <path d=\"M7,19H8.4L18.45,9,17,7.55,7,17.6ZM5,21V16.75L18.45,3.32a2,2,0,0,1,2.83,0l1.4,1.43a1.91,1.91,0,0,1,.58,1.4,1.91,1.91,0,0,1-.58,1.4L9.25,21ZM18.45,9,17,7.55Zm-12,3A5.31,5.31,0,0,0,4.9,8.1,5.31,5.31,0,0,0,1,6.5,5.31,5.31,0,0,0,4.9,4.9,5.31,5.31,0,0,0,6.5,1,5.31,5.31,0,0,0,8.1,4.9,5.31,5.31,0,0,0,12,6.5,5.46,5.46,0,0,0,6.5,12Z\"/>\n",
              "  </svg>\n",
              "    </button>\n",
              "    <script>\n",
              "      (() => {\n",
              "      const buttonEl =\n",
              "        document.querySelector('#id_f967006e-b44a-456e-ac49-bca9738ebfe4 button.colab-df-generate');\n",
              "      buttonEl.style.display =\n",
              "        google.colab.kernel.accessAllowed ? 'block' : 'none';\n",
              "\n",
              "      buttonEl.onclick = () => {\n",
              "        google.colab.notebook.generateWithVariable('data');\n",
              "      }\n",
              "      })();\n",
              "    </script>\n",
              "  </div>\n",
              "\n",
              "    </div>\n",
              "  </div>\n"
            ],
            "application/vnd.google.colaboratory.intrinsic+json": {
              "type": "dataframe",
              "variable_name": "data",
              "summary": "{\n  \"name\": \"data\",\n  \"rows\": 14640,\n  \"fields\": [\n    {\n      \"column\": \"text\",\n      \"properties\": {\n        \"dtype\": \"string\",\n        \"num_unique_values\": 14427,\n        \"samples\": [\n          \"@JetBlue so technically I could drive to JFK now and put in. Request for tomorrow's flight?\",\n          \"@united why I won't check my carry on. Watched a handler throw this bag -- miss the conveyer belt -- sat there 10 min http://t.co/lyoocx5mSH\",\n          \"@SouthwestAir you guys are so clever \\ud83d\\ude03 http://t.co/qn5odUGFqK\"\n        ],\n        \"semantic_type\": \"\",\n        \"description\": \"\"\n      }\n    },\n    {\n      \"column\": \"airline_sentiment\",\n      \"properties\": {\n        \"dtype\": \"category\",\n        \"num_unique_values\": 3,\n        \"samples\": [\n          \"neutral\",\n          \"positive\",\n          \"negative\"\n        ],\n        \"semantic_type\": \"\",\n        \"description\": \"\"\n      }\n    }\n  ]\n}"
            }
          },
          "metadata": {},
          "execution_count": 9
        }
      ],
      "source": [
        "data"
      ]
    },
    {
      "cell_type": "code",
      "execution_count": 10,
      "metadata": {
        "id": "AapbQqOy1cZ-",
        "outputId": "fb19cc15-ffac-4498-c1f6-e1c8afa6f819",
        "colab": {
          "base_uri": "https://localhost:8080/"
        }
      },
      "outputs": [
        {
          "output_type": "stream",
          "name": "stdout",
          "text": [
            "Number of positive samples=2363\n",
            "Number of negative samples=9178\n"
          ]
        },
        {
          "output_type": "stream",
          "name": "stderr",
          "text": [
            "<ipython-input-10-c0497574ebeb>:15: FutureWarning: Series.__getitem__ treating keys as positions is deprecated. In a future version, integer keys will always be treated as labels (consistent with DataFrame behavior). To access a value by position, use `ser.iloc[pos]`\n",
            "  row[0] = row[0].replace('rt',' ')\n",
            "<ipython-input-10-c0497574ebeb>:15: FutureWarning: Series.__setitem__ treating keys as positions is deprecated. In a future version, integer keys will always be treated as labels (consistent with DataFrame behavior). To set a value by position, use `ser.iloc[pos] = value`\n",
            "  row[0] = row[0].replace('rt',' ')\n"
          ]
        }
      ],
      "source": [
        "import re\n",
        "pd.options.mode.chained_assignment = None  # default='warn'\n",
        "#Remove neutral class\n",
        "data = data[data.airline_sentiment != \"neutral\"]\n",
        "\n",
        "#text normalization\n",
        "data['text'] = data['text'].apply(lambda x: x.lower())\n",
        "data['text'] = data['text'].apply((lambda x:re.sub('@[^\\s]+','',x)))#remove the name of the airline\n",
        "data['text'] = data['text'].apply((lambda x: re.sub('[^a-zA-z0-9\\s]','',x)))\n",
        "Np = np.sum(data['airline_sentiment'].values == 'positive')\n",
        "Nn = np.sum(data['airline_sentiment'].values == 'negative')\n",
        "print(f'Number of positive samples={Np}')\n",
        "print(f'Number of negative samples={Nn}')\n",
        "for idx,row in data.iterrows():\n",
        "    row[0] = row[0].replace('rt',' ')"
      ]
    },
    {
      "cell_type": "code",
      "execution_count": 11,
      "metadata": {
        "id": "34mvi0-21caD",
        "outputId": "477374ed-7e94-4744-df03-949d9b912c16",
        "colab": {
          "base_uri": "https://localhost:8080/",
          "height": 424
        }
      },
      "outputs": [
        {
          "output_type": "execute_result",
          "data": {
            "text/plain": [
              "                                                    text airline_sentiment\n",
              "1       plus youve added commercials to the experienc...          positive\n",
              "3       its really aggressive to blast obnoxious ente...          negative\n",
              "4                and its a really big bad thing about it          negative\n",
              "5       seriously would pay 30 a flight for seats tha...          negative\n",
              "6       yes nearly every time i fly vx this ear worm ...          positive\n",
              "...                                                  ...               ...\n",
              "14633   my flight was cancelled flightled leaving tom...          negative\n",
              "14634                       right on cue with the delays          negative\n",
              "14635   thank you we got on a different flight to chi...          positive\n",
              "14636   leaving over 20 minutes late flight no warnin...          negative\n",
              "14638   you have my money you change my flight and do...          negative\n",
              "\n",
              "[11541 rows x 2 columns]"
            ],
            "text/html": [
              "\n",
              "  <div id=\"df-d24932cb-1069-43f6-b00b-1f74d2cbcdfe\" class=\"colab-df-container\">\n",
              "    <div>\n",
              "<style scoped>\n",
              "    .dataframe tbody tr th:only-of-type {\n",
              "        vertical-align: middle;\n",
              "    }\n",
              "\n",
              "    .dataframe tbody tr th {\n",
              "        vertical-align: top;\n",
              "    }\n",
              "\n",
              "    .dataframe thead th {\n",
              "        text-align: right;\n",
              "    }\n",
              "</style>\n",
              "<table border=\"1\" class=\"dataframe\">\n",
              "  <thead>\n",
              "    <tr style=\"text-align: right;\">\n",
              "      <th></th>\n",
              "      <th>text</th>\n",
              "      <th>airline_sentiment</th>\n",
              "    </tr>\n",
              "  </thead>\n",
              "  <tbody>\n",
              "    <tr>\n",
              "      <th>1</th>\n",
              "      <td>plus youve added commercials to the experienc...</td>\n",
              "      <td>positive</td>\n",
              "    </tr>\n",
              "    <tr>\n",
              "      <th>3</th>\n",
              "      <td>its really aggressive to blast obnoxious ente...</td>\n",
              "      <td>negative</td>\n",
              "    </tr>\n",
              "    <tr>\n",
              "      <th>4</th>\n",
              "      <td>and its a really big bad thing about it</td>\n",
              "      <td>negative</td>\n",
              "    </tr>\n",
              "    <tr>\n",
              "      <th>5</th>\n",
              "      <td>seriously would pay 30 a flight for seats tha...</td>\n",
              "      <td>negative</td>\n",
              "    </tr>\n",
              "    <tr>\n",
              "      <th>6</th>\n",
              "      <td>yes nearly every time i fly vx this ear worm ...</td>\n",
              "      <td>positive</td>\n",
              "    </tr>\n",
              "    <tr>\n",
              "      <th>...</th>\n",
              "      <td>...</td>\n",
              "      <td>...</td>\n",
              "    </tr>\n",
              "    <tr>\n",
              "      <th>14633</th>\n",
              "      <td>my flight was cancelled flightled leaving tom...</td>\n",
              "      <td>negative</td>\n",
              "    </tr>\n",
              "    <tr>\n",
              "      <th>14634</th>\n",
              "      <td>right on cue with the delays</td>\n",
              "      <td>negative</td>\n",
              "    </tr>\n",
              "    <tr>\n",
              "      <th>14635</th>\n",
              "      <td>thank you we got on a different flight to chi...</td>\n",
              "      <td>positive</td>\n",
              "    </tr>\n",
              "    <tr>\n",
              "      <th>14636</th>\n",
              "      <td>leaving over 20 minutes late flight no warnin...</td>\n",
              "      <td>negative</td>\n",
              "    </tr>\n",
              "    <tr>\n",
              "      <th>14638</th>\n",
              "      <td>you have my money you change my flight and do...</td>\n",
              "      <td>negative</td>\n",
              "    </tr>\n",
              "  </tbody>\n",
              "</table>\n",
              "<p>11541 rows × 2 columns</p>\n",
              "</div>\n",
              "    <div class=\"colab-df-buttons\">\n",
              "\n",
              "  <div class=\"colab-df-container\">\n",
              "    <button class=\"colab-df-convert\" onclick=\"convertToInteractive('df-d24932cb-1069-43f6-b00b-1f74d2cbcdfe')\"\n",
              "            title=\"Convert this dataframe to an interactive table.\"\n",
              "            style=\"display:none;\">\n",
              "\n",
              "  <svg xmlns=\"http://www.w3.org/2000/svg\" height=\"24px\" viewBox=\"0 -960 960 960\">\n",
              "    <path d=\"M120-120v-720h720v720H120Zm60-500h600v-160H180v160Zm220 220h160v-160H400v160Zm0 220h160v-160H400v160ZM180-400h160v-160H180v160Zm440 0h160v-160H620v160ZM180-180h160v-160H180v160Zm440 0h160v-160H620v160Z\"/>\n",
              "  </svg>\n",
              "    </button>\n",
              "\n",
              "  <style>\n",
              "    .colab-df-container {\n",
              "      display:flex;\n",
              "      gap: 12px;\n",
              "    }\n",
              "\n",
              "    .colab-df-convert {\n",
              "      background-color: #E8F0FE;\n",
              "      border: none;\n",
              "      border-radius: 50%;\n",
              "      cursor: pointer;\n",
              "      display: none;\n",
              "      fill: #1967D2;\n",
              "      height: 32px;\n",
              "      padding: 0 0 0 0;\n",
              "      width: 32px;\n",
              "    }\n",
              "\n",
              "    .colab-df-convert:hover {\n",
              "      background-color: #E2EBFA;\n",
              "      box-shadow: 0px 1px 2px rgba(60, 64, 67, 0.3), 0px 1px 3px 1px rgba(60, 64, 67, 0.15);\n",
              "      fill: #174EA6;\n",
              "    }\n",
              "\n",
              "    .colab-df-buttons div {\n",
              "      margin-bottom: 4px;\n",
              "    }\n",
              "\n",
              "    [theme=dark] .colab-df-convert {\n",
              "      background-color: #3B4455;\n",
              "      fill: #D2E3FC;\n",
              "    }\n",
              "\n",
              "    [theme=dark] .colab-df-convert:hover {\n",
              "      background-color: #434B5C;\n",
              "      box-shadow: 0px 1px 3px 1px rgba(0, 0, 0, 0.15);\n",
              "      filter: drop-shadow(0px 1px 2px rgba(0, 0, 0, 0.3));\n",
              "      fill: #FFFFFF;\n",
              "    }\n",
              "  </style>\n",
              "\n",
              "    <script>\n",
              "      const buttonEl =\n",
              "        document.querySelector('#df-d24932cb-1069-43f6-b00b-1f74d2cbcdfe button.colab-df-convert');\n",
              "      buttonEl.style.display =\n",
              "        google.colab.kernel.accessAllowed ? 'block' : 'none';\n",
              "\n",
              "      async function convertToInteractive(key) {\n",
              "        const element = document.querySelector('#df-d24932cb-1069-43f6-b00b-1f74d2cbcdfe');\n",
              "        const dataTable =\n",
              "          await google.colab.kernel.invokeFunction('convertToInteractive',\n",
              "                                                    [key], {});\n",
              "        if (!dataTable) return;\n",
              "\n",
              "        const docLinkHtml = 'Like what you see? Visit the ' +\n",
              "          '<a target=\"_blank\" href=https://colab.research.google.com/notebooks/data_table.ipynb>data table notebook</a>'\n",
              "          + ' to learn more about interactive tables.';\n",
              "        element.innerHTML = '';\n",
              "        dataTable['output_type'] = 'display_data';\n",
              "        await google.colab.output.renderOutput(dataTable, element);\n",
              "        const docLink = document.createElement('div');\n",
              "        docLink.innerHTML = docLinkHtml;\n",
              "        element.appendChild(docLink);\n",
              "      }\n",
              "    </script>\n",
              "  </div>\n",
              "\n",
              "\n",
              "<div id=\"df-ca5a5802-5582-4241-a350-0ac3071ed638\">\n",
              "  <button class=\"colab-df-quickchart\" onclick=\"quickchart('df-ca5a5802-5582-4241-a350-0ac3071ed638')\"\n",
              "            title=\"Suggest charts\"\n",
              "            style=\"display:none;\">\n",
              "\n",
              "<svg xmlns=\"http://www.w3.org/2000/svg\" height=\"24px\"viewBox=\"0 0 24 24\"\n",
              "     width=\"24px\">\n",
              "    <g>\n",
              "        <path d=\"M19 3H5c-1.1 0-2 .9-2 2v14c0 1.1.9 2 2 2h14c1.1 0 2-.9 2-2V5c0-1.1-.9-2-2-2zM9 17H7v-7h2v7zm4 0h-2V7h2v10zm4 0h-2v-4h2v4z\"/>\n",
              "    </g>\n",
              "</svg>\n",
              "  </button>\n",
              "\n",
              "<style>\n",
              "  .colab-df-quickchart {\n",
              "      --bg-color: #E8F0FE;\n",
              "      --fill-color: #1967D2;\n",
              "      --hover-bg-color: #E2EBFA;\n",
              "      --hover-fill-color: #174EA6;\n",
              "      --disabled-fill-color: #AAA;\n",
              "      --disabled-bg-color: #DDD;\n",
              "  }\n",
              "\n",
              "  [theme=dark] .colab-df-quickchart {\n",
              "      --bg-color: #3B4455;\n",
              "      --fill-color: #D2E3FC;\n",
              "      --hover-bg-color: #434B5C;\n",
              "      --hover-fill-color: #FFFFFF;\n",
              "      --disabled-bg-color: #3B4455;\n",
              "      --disabled-fill-color: #666;\n",
              "  }\n",
              "\n",
              "  .colab-df-quickchart {\n",
              "    background-color: var(--bg-color);\n",
              "    border: none;\n",
              "    border-radius: 50%;\n",
              "    cursor: pointer;\n",
              "    display: none;\n",
              "    fill: var(--fill-color);\n",
              "    height: 32px;\n",
              "    padding: 0;\n",
              "    width: 32px;\n",
              "  }\n",
              "\n",
              "  .colab-df-quickchart:hover {\n",
              "    background-color: var(--hover-bg-color);\n",
              "    box-shadow: 0 1px 2px rgba(60, 64, 67, 0.3), 0 1px 3px 1px rgba(60, 64, 67, 0.15);\n",
              "    fill: var(--button-hover-fill-color);\n",
              "  }\n",
              "\n",
              "  .colab-df-quickchart-complete:disabled,\n",
              "  .colab-df-quickchart-complete:disabled:hover {\n",
              "    background-color: var(--disabled-bg-color);\n",
              "    fill: var(--disabled-fill-color);\n",
              "    box-shadow: none;\n",
              "  }\n",
              "\n",
              "  .colab-df-spinner {\n",
              "    border: 2px solid var(--fill-color);\n",
              "    border-color: transparent;\n",
              "    border-bottom-color: var(--fill-color);\n",
              "    animation:\n",
              "      spin 1s steps(1) infinite;\n",
              "  }\n",
              "\n",
              "  @keyframes spin {\n",
              "    0% {\n",
              "      border-color: transparent;\n",
              "      border-bottom-color: var(--fill-color);\n",
              "      border-left-color: var(--fill-color);\n",
              "    }\n",
              "    20% {\n",
              "      border-color: transparent;\n",
              "      border-left-color: var(--fill-color);\n",
              "      border-top-color: var(--fill-color);\n",
              "    }\n",
              "    30% {\n",
              "      border-color: transparent;\n",
              "      border-left-color: var(--fill-color);\n",
              "      border-top-color: var(--fill-color);\n",
              "      border-right-color: var(--fill-color);\n",
              "    }\n",
              "    40% {\n",
              "      border-color: transparent;\n",
              "      border-right-color: var(--fill-color);\n",
              "      border-top-color: var(--fill-color);\n",
              "    }\n",
              "    60% {\n",
              "      border-color: transparent;\n",
              "      border-right-color: var(--fill-color);\n",
              "    }\n",
              "    80% {\n",
              "      border-color: transparent;\n",
              "      border-right-color: var(--fill-color);\n",
              "      border-bottom-color: var(--fill-color);\n",
              "    }\n",
              "    90% {\n",
              "      border-color: transparent;\n",
              "      border-bottom-color: var(--fill-color);\n",
              "    }\n",
              "  }\n",
              "</style>\n",
              "\n",
              "  <script>\n",
              "    async function quickchart(key) {\n",
              "      const quickchartButtonEl =\n",
              "        document.querySelector('#' + key + ' button');\n",
              "      quickchartButtonEl.disabled = true;  // To prevent multiple clicks.\n",
              "      quickchartButtonEl.classList.add('colab-df-spinner');\n",
              "      try {\n",
              "        const charts = await google.colab.kernel.invokeFunction(\n",
              "            'suggestCharts', [key], {});\n",
              "      } catch (error) {\n",
              "        console.error('Error during call to suggestCharts:', error);\n",
              "      }\n",
              "      quickchartButtonEl.classList.remove('colab-df-spinner');\n",
              "      quickchartButtonEl.classList.add('colab-df-quickchart-complete');\n",
              "    }\n",
              "    (() => {\n",
              "      let quickchartButtonEl =\n",
              "        document.querySelector('#df-ca5a5802-5582-4241-a350-0ac3071ed638 button');\n",
              "      quickchartButtonEl.style.display =\n",
              "        google.colab.kernel.accessAllowed ? 'block' : 'none';\n",
              "    })();\n",
              "  </script>\n",
              "</div>\n",
              "\n",
              "  <div id=\"id_ef72a507-4198-435b-8093-6c51d98c0fe8\">\n",
              "    <style>\n",
              "      .colab-df-generate {\n",
              "        background-color: #E8F0FE;\n",
              "        border: none;\n",
              "        border-radius: 50%;\n",
              "        cursor: pointer;\n",
              "        display: none;\n",
              "        fill: #1967D2;\n",
              "        height: 32px;\n",
              "        padding: 0 0 0 0;\n",
              "        width: 32px;\n",
              "      }\n",
              "\n",
              "      .colab-df-generate:hover {\n",
              "        background-color: #E2EBFA;\n",
              "        box-shadow: 0px 1px 2px rgba(60, 64, 67, 0.3), 0px 1px 3px 1px rgba(60, 64, 67, 0.15);\n",
              "        fill: #174EA6;\n",
              "      }\n",
              "\n",
              "      [theme=dark] .colab-df-generate {\n",
              "        background-color: #3B4455;\n",
              "        fill: #D2E3FC;\n",
              "      }\n",
              "\n",
              "      [theme=dark] .colab-df-generate:hover {\n",
              "        background-color: #434B5C;\n",
              "        box-shadow: 0px 1px 3px 1px rgba(0, 0, 0, 0.15);\n",
              "        filter: drop-shadow(0px 1px 2px rgba(0, 0, 0, 0.3));\n",
              "        fill: #FFFFFF;\n",
              "      }\n",
              "    </style>\n",
              "    <button class=\"colab-df-generate\" onclick=\"generateWithVariable('data')\"\n",
              "            title=\"Generate code using this dataframe.\"\n",
              "            style=\"display:none;\">\n",
              "\n",
              "  <svg xmlns=\"http://www.w3.org/2000/svg\" height=\"24px\"viewBox=\"0 0 24 24\"\n",
              "       width=\"24px\">\n",
              "    <path d=\"M7,19H8.4L18.45,9,17,7.55,7,17.6ZM5,21V16.75L18.45,3.32a2,2,0,0,1,2.83,0l1.4,1.43a1.91,1.91,0,0,1,.58,1.4,1.91,1.91,0,0,1-.58,1.4L9.25,21ZM18.45,9,17,7.55Zm-12,3A5.31,5.31,0,0,0,4.9,8.1,5.31,5.31,0,0,0,1,6.5,5.31,5.31,0,0,0,4.9,4.9,5.31,5.31,0,0,0,6.5,1,5.31,5.31,0,0,0,8.1,4.9,5.31,5.31,0,0,0,12,6.5,5.46,5.46,0,0,0,6.5,12Z\"/>\n",
              "  </svg>\n",
              "    </button>\n",
              "    <script>\n",
              "      (() => {\n",
              "      const buttonEl =\n",
              "        document.querySelector('#id_ef72a507-4198-435b-8093-6c51d98c0fe8 button.colab-df-generate');\n",
              "      buttonEl.style.display =\n",
              "        google.colab.kernel.accessAllowed ? 'block' : 'none';\n",
              "\n",
              "      buttonEl.onclick = () => {\n",
              "        google.colab.notebook.generateWithVariable('data');\n",
              "      }\n",
              "      })();\n",
              "    </script>\n",
              "  </div>\n",
              "\n",
              "    </div>\n",
              "  </div>\n"
            ],
            "application/vnd.google.colaboratory.intrinsic+json": {
              "type": "dataframe",
              "variable_name": "data",
              "summary": "{\n  \"name\": \"data\",\n  \"rows\": 11541,\n  \"fields\": [\n    {\n      \"column\": \"text\",\n      \"properties\": {\n        \"dtype\": \"string\",\n        \"num_unique_values\": 11291,\n        \"samples\": [\n          \" funny i paid to check my bag and now flight 1086 is begging folks to check bags for free 1 hour before flight notcool\",\n          \" why are you literally the worst\",\n          \" still waiting\"\n        ],\n        \"semantic_type\": \"\",\n        \"description\": \"\"\n      }\n    },\n    {\n      \"column\": \"airline_sentiment\",\n      \"properties\": {\n        \"dtype\": \"category\",\n        \"num_unique_values\": 2,\n        \"samples\": [\n          \"negative\",\n          \"positive\"\n        ],\n        \"semantic_type\": \"\",\n        \"description\": \"\"\n      }\n    }\n  ]\n}"
            }
          },
          "metadata": {},
          "execution_count": 11
        }
      ],
      "source": [
        "data"
      ]
    },
    {
      "cell_type": "code",
      "execution_count": 12,
      "metadata": {
        "id": "z6e8TYvG1caM",
        "outputId": "46bcba50-b678-4296-fc7a-071e6e226e59",
        "colab": {
          "base_uri": "https://localhost:8080/"
        }
      },
      "outputs": [
        {
          "output_type": "stream",
          "name": "stderr",
          "text": [
            "[nltk_data] Downloading package punkt to /root/nltk_data...\n",
            "[nltk_data]   Package punkt is already up-to-date!\n",
            "[nltk_data] Downloading package stopwords to /root/nltk_data...\n",
            "[nltk_data]   Package stopwords is already up-to-date!\n"
          ]
        },
        {
          "output_type": "execute_result",
          "data": {
            "text/plain": [
              "True"
            ]
          },
          "metadata": {},
          "execution_count": 12
        }
      ],
      "source": [
        "import nltk\n",
        "nltk.download('punkt')\n",
        "nltk.download('stopwords')"
      ]
    },
    {
      "cell_type": "code",
      "execution_count": 13,
      "metadata": {
        "id": "WweLvhs_1caP"
      },
      "outputs": [],
      "source": [
        "# Removing Stop Words\n",
        "from nltk.corpus import stopwords\n",
        "all_sentences = data['text'].values\n",
        "all_words = [nltk.word_tokenize(sent) for sent in all_sentences]\n",
        "stop_words = stopwords.words('english')\n",
        "stop_words.append('')\n",
        "\n",
        "for i in range(len(all_words)):\n",
        "    all_words[i] = [w for w in all_words[i] if (w not in stop_words) and (not w.isdigit())]"
      ]
    },
    {
      "cell_type": "markdown",
      "metadata": {
        "id": "KflO2ixd1caU"
      },
      "source": [
        "## Task 1\n",
        "\n",
        "all_words is a list with all the tweets that are going to be used to train the model. Create a function 'get_preprocessed_seq' that build and apply a Tokenizer to the a list like all_words. Tokenizer must define a dictionary of 2000 words (remeber that position 0 is reserved). Once the sentences are tokenized, take into account that the length of every tweet is different so before they can be passed to the training step, the tweets must be **padded** in order to provide them with equal length. The function 'get_preprocessed_seq' must return the Tokenizer object and the padded dataset.\n",
        "\n",
        "Review the [padding function](https://www.tensorflow.org/api_docs/python/tf/keras/preprocessing/sequence/pad_sequences) in the preprocessing module of keras."
      ]
    },
    {
      "cell_type": "code",
      "execution_count": 23,
      "metadata": {
        "id": "WVl8goW61cae"
      },
      "outputs": [],
      "source": [
        "def get_preprocessed_seq(text_list):\n",
        "    from tensorflow.keras.preprocessing.text import Tokenizer as TK\n",
        "    from tensorflow.keras.preprocessing.sequence import pad_sequences\n",
        "    max_words = 2000\n",
        "    num_words = max_words + 1\n",
        "\n",
        "    tokenizer = TK(num_words=num_words)\n",
        "    tokenizer.fit_on_texts(text_list)\n",
        "\n",
        "    sequences = tokenizer.texts_to_sequences(text_list)\n",
        "    Xdata = pad_sequences(sequences, padding='post')\n",
        "\n",
        "    return tokenizer, Xdata"
      ]
    },
    {
      "cell_type": "markdown",
      "metadata": {
        "id": "1An8uy0x1cah"
      },
      "source": [
        "Test your function:"
      ]
    },
    {
      "cell_type": "code",
      "execution_count": 24,
      "metadata": {
        "id": "MR4NGdsw1caj"
      },
      "outputs": [],
      "source": [
        "text_list = ['Are random sentences computer generated?',\n",
        "             'Can I use these random sentences for my project?',\n",
        "             'Can I write random sentences?']\n",
        "t,x = get_preprocessed_seq(text_list)"
      ]
    },
    {
      "cell_type": "markdown",
      "metadata": {
        "id": "77O1duaR1cam"
      },
      "source": [
        "You should get the following results:"
      ]
    },
    {
      "cell_type": "code",
      "execution_count": 25,
      "metadata": {
        "id": "dTqbVfYo1caq",
        "outputId": "cc5ec2ca-8132-444d-ef37-82c486682197",
        "colab": {
          "base_uri": "https://localhost:8080/",
          "height": 255
        }
      },
      "outputs": [
        {
          "output_type": "execute_result",
          "data": {
            "image/png": "[encoded data removed]",
            "text/plain": [
              "<IPython.core.display.Image object>"
            ]
          },
          "metadata": {
            "image/png": {
              "width": 600
            }
          },
          "execution_count": 25
        }
      ],
      "source": [
        "\n",
        "from IPython.display import Image\n",
        "Image(filename='local/imgs/tokenizer_padding.png', width=600)\n"
      ]
    },
    {
      "cell_type": "markdown",
      "metadata": {
        "id": "ZU8wi0jm1caz"
      },
      "source": [
        "**Submit your solution:**"
      ]
    },
    {
      "cell_type": "code",
      "execution_count": 26,
      "metadata": {
        "id": "TCndv2ml1ca1",
        "outputId": "2e5ec81e-d609-44c2-b47a-f846f2703d96",
        "colab": {
          "base_uri": "https://localhost:8080/",
          "height": 111
        }
      },
      "outputs": [
        {
          "output_type": "display_data",
          "data": {
            "text/plain": [
              "<IPython.core.display.HTML object>"
            ],
            "text/html": [
              "\n",
              "                    <b>T1 submitted.</b> <b><font color=\"blue\">your grade is 5</font></b> \n",
              "                    <p/><pre>----- grader message -------</pre><b>correct</b><pre>----------------------------</pre>\n",
              "                    <p/><p/>\n",
              "                    <div style=\"font-size:10px\"><b>SUBMISSION CODE</b> 8c6rLHS6U7iU75XBA3zOP7FFfiJ2D+pejCbeLi1boY4LL0xIhfFocGat0xYtZDI1h2YWCkcbtybDFqkEAmrkVlo6QcPRz3DMDzXZJaefgmAzphvnZSOIgaJGxmvyLKfdqPUSqyYRylQkTP5Vd2E4g2vhLYGgZ7l2Dy2DFqleTJg=</div>\n",
              "                    "
            ]
          },
          "metadata": {}
        }
      ],
      "source": [
        "student.submit_task(namespace=globals(), task_id='T1');"
      ]
    },
    {
      "cell_type": "markdown",
      "metadata": {
        "id": "0wi-LHW01ca3"
      },
      "source": [
        "## Task 2\n",
        "\n",
        "The previous step add 0's to some tweets in order to set them with the same length. Now it is necessary to define a model that be able to discard those 0's. Review the masking layer and masking option of the embedding layer of keras. Take a look to the TensorFlow [documentation](https://www.tensorflow.org/guide/keras/masking_and_padding).\n",
        "\n",
        "Create a function to define a RNN architecture for the sentiment analysis problem. Use the Embedding layer and its masking option to discard the 0's added during padding step. The architecture must consist of a RNN layer with a 'cells_number' of neurons, a dense hidden layer of 10 neurons and the output layer. Include a Dropout layer in between the dense layers with a drop rate of 0.3 . The type of RNN layer must be defined through a 'layer_type' parameter; the embedding dimension must also be set as an input parameter. The activation function for 'SimpleRNN' must be set to 'relu', while for LSTM and GRU a default 'tanh' must be chosen instead."
      ]
    },
    {
      "cell_type": "code",
      "execution_count": 54,
      "metadata": {
        "id": "YUR6GwN91ca_"
      },
      "outputs": [],
      "source": [
        "def Recurrent_Model(cells_number = 10, layer_type='SimpleRNN',Embeb_dim=32):#Options for layer_type: 'SimpleRNN', 'LSTM', 'GRU'\n",
        "    model = tf.keras.models.Sequential()\n",
        "    model.add(tf.keras.layers.Embedding(input_dim=2001, output_dim=Embeb_dim, mask_zero=True))\n",
        "    model.add(tf.keras.layers.Masking(mask_value=0.0))\n",
        "\n",
        "    if layer_type == 'SimpleRNN':\n",
        "        model.add(tf.keras.layers.SimpleRNN(units=cells_number, activation='relu'))\n",
        "    elif layer_type == 'LSTM':\n",
        "        model.add(tf.keras.layers.LSTM(units=cells_number, activation='tanh'))\n",
        "    elif layer_type == 'GRU':\n",
        "        model.add(tf.keras.layers.GRU(units=cells_number, activation='tanh'))\n",
        "\n",
        "    model.add(tf.keras.layers.Dense(10, activation='relu'))\n",
        "    model.add(tf.keras.layers.Dropout(0.3))\n",
        "    model.add(tf.keras.layers.Dense(1, activation='sigmoid'))\n",
        "\n",
        "    model.compile(optimizer='adam', loss=\"binary_crossentropy\", metrics=[\"accuracy\"])\n",
        "    model.summary()\n",
        "\n",
        "    return model"
      ]
    },
    {
      "cell_type": "markdown",
      "metadata": {
        "id": "bzzpzKVg1cbC"
      },
      "source": [
        "**Submit your solution:**"
      ]
    },
    {
      "cell_type": "code",
      "execution_count": 28,
      "metadata": {
        "id": "Xcd2VC3u1cbD",
        "outputId": "6eb71df2-32b1-4069-da4c-e7cbc1f7fce2",
        "colab": {
          "base_uri": "https://localhost:8080/",
          "height": 111
        }
      },
      "outputs": [
        {
          "output_type": "display_data",
          "data": {
            "text/plain": [
              "<IPython.core.display.HTML object>"
            ],
            "text/html": [
              "\n",
              "                    <b>T2 submitted.</b> <b><font color=\"blue\">your grade is 5</font></b> \n",
              "                    <p/><pre>----- grader message -------</pre><b>correct</b><pre>----------------------------</pre>\n",
              "                    <p/><p/>\n",
              "                    <div style=\"font-size:10px\"><b>SUBMISSION CODE</b> VKQMCdk0tMCD2/UPq7XC386a/JBofrG+yWqXZbShSMpP/KuHFcwecAsOhv8FIeVqIXORkhmaYDgkHdaq1C+Um0HhD2qivZn/mj9GW1CTHQiwM0nFrk0YkR9JjmQaYuY1Ma03Mdlbd3zm7bfA5aoik2i4ikf+7ej9wTbc5vYSJp0=</div>\n",
              "                    "
            ]
          },
          "metadata": {}
        }
      ],
      "source": [
        "student.submit_task(namespace=globals(), task_id='T2');"
      ]
    },
    {
      "cell_type": "markdown",
      "metadata": {
        "id": "D5qmdlJi1cbG"
      },
      "source": [
        "### Let's test the model:\n",
        "\n",
        "**Warning**: Run this part only if you have already passed Tasks 1 and 2."
      ]
    },
    {
      "cell_type": "code",
      "execution_count": 30,
      "metadata": {
        "id": "jpNRQDML1cbI"
      },
      "outputs": [],
      "source": [
        "from sklearn.model_selection import train_test_split\n",
        "from sklearn.preprocessing import LabelEncoder\n",
        "from sklearn.metrics import recall_score, accuracy_score\n",
        "from sklearn.utils.class_weight import compute_class_weight\n",
        "\n",
        "tokenizer, NewX = get_preprocessed_seq(all_words)\n",
        "\n",
        "y = data['airline_sentiment'].values\n",
        "Encoder = LabelEncoder()\n",
        "Y = Encoder.fit_transform(y)\n",
        "#Y = Encoder.transform(y)\n",
        "\n",
        "\n",
        "X_tr, X_te, y_tr, y_te = train_test_split(NewX, Y, test_size=0.2, random_state=2018)"
      ]
    },
    {
      "cell_type": "code",
      "execution_count": 32,
      "metadata": {
        "id": "6iXHeja31cbN"
      },
      "outputs": [],
      "source": [
        "def especi_score(y_te,y_pred):\n",
        "    Ns = np.sum(y_te == 0)\n",
        "    return np.sum(y_te[y_te == 0] == y_pred[y_te == 0])/Ns"
      ]
    },
    {
      "cell_type": "code",
      "execution_count": 33,
      "metadata": {
        "id": "N7qYmlhy1cbQ",
        "outputId": "900ea15e-2527-4d96-cdea-11157b7177bc",
        "colab": {
          "base_uri": "https://localhost:8080/"
        }
      },
      "outputs": [
        {
          "output_type": "stream",
          "name": "stdout",
          "text": [
            "Model: \"sequential_1\"\n",
            "_________________________________________________________________\n",
            " Layer (type)                Output Shape              Param #   \n",
            "=================================================================\n",
            " embedding_1 (Embedding)     (None, None, 32)          64032     \n",
            "                                                                 \n",
            " masking_1 (Masking)         (None, None, 32)          0         \n",
            "                                                                 \n",
            " lstm_1 (LSTM)               (None, 32)                8320      \n",
            "                                                                 \n",
            " dense_2 (Dense)             (None, 10)                330       \n",
            "                                                                 \n",
            " dropout_1 (Dropout)         (None, 10)                0         \n",
            "                                                                 \n",
            " dense_3 (Dense)             (None, 1)                 11        \n",
            "                                                                 \n",
            "=================================================================\n",
            "Total params: 72693 (283.96 KB)\n",
            "Trainable params: 72693 (283.96 KB)\n",
            "Non-trainable params: 0 (0.00 Byte)\n",
            "_________________________________________________________________\n",
            "Epoch 1/10\n",
            "260/260 [==============================] - 22s 27ms/step - loss: 0.3994 - accuracy: 0.8444 - val_loss: 0.2603 - val_accuracy: 0.8972\n",
            "Epoch 2/10\n",
            "260/260 [==============================] - 4s 16ms/step - loss: 0.1961 - accuracy: 0.9292 - val_loss: 0.2455 - val_accuracy: 0.9026\n",
            "Epoch 3/10\n",
            "260/260 [==============================] - 4s 16ms/step - loss: 0.1533 - accuracy: 0.9450 - val_loss: 0.2964 - val_accuracy: 0.8896\n",
            "Epoch 4/10\n",
            "260/260 [==============================] - 5s 21ms/step - loss: 0.1319 - accuracy: 0.9506 - val_loss: 0.2802 - val_accuracy: 0.8961\n",
            "Epoch 5/10\n",
            "260/260 [==============================] - 4s 16ms/step - loss: 0.1109 - accuracy: 0.9563 - val_loss: 0.3540 - val_accuracy: 0.9004\n",
            "Epoch 6/10\n",
            "260/260 [==============================] - 4s 16ms/step - loss: 0.1066 - accuracy: 0.9606 - val_loss: 0.3285 - val_accuracy: 0.8810\n",
            "Epoch 7/10\n",
            "260/260 [==============================] - 5s 21ms/step - loss: 0.0950 - accuracy: 0.9664 - val_loss: 0.4494 - val_accuracy: 0.8853\n",
            "Epoch 8/10\n",
            "260/260 [==============================] - 4s 16ms/step - loss: 0.0829 - accuracy: 0.9688 - val_loss: 0.4712 - val_accuracy: 0.8896\n",
            "Epoch 9/10\n",
            "260/260 [==============================] - 4s 17ms/step - loss: 0.0783 - accuracy: 0.9715 - val_loss: 0.6056 - val_accuracy: 0.8874\n",
            "Epoch 10/10\n",
            "260/260 [==============================] - 6s 21ms/step - loss: 0.0748 - accuracy: 0.9714 - val_loss: 0.6248 - val_accuracy: 0.8820\n",
            "73/73 [==============================] - 2s 5ms/step\n",
            "Model: \"sequential_2\"\n",
            "_________________________________________________________________\n",
            " Layer (type)                Output Shape              Param #   \n",
            "=================================================================\n",
            " embedding_2 (Embedding)     (None, None, 32)          64032     \n",
            "                                                                 \n",
            " masking_2 (Masking)         (None, None, 32)          0         \n",
            "                                                                 \n",
            " lstm_2 (LSTM)               (None, 64)                24832     \n",
            "                                                                 \n",
            " dense_4 (Dense)             (None, 10)                650       \n",
            "                                                                 \n",
            " dropout_2 (Dropout)         (None, 10)                0         \n",
            "                                                                 \n",
            " dense_5 (Dense)             (None, 1)                 11        \n",
            "                                                                 \n",
            "=================================================================\n",
            "Total params: 89525 (349.71 KB)\n",
            "Trainable params: 89525 (349.71 KB)\n",
            "Non-trainable params: 0 (0.00 Byte)\n",
            "_________________________________________________________________\n",
            "Epoch 1/10\n",
            "260/260 [==============================] - 14s 29ms/step - loss: 0.3978 - accuracy: 0.8512 - val_loss: 0.2991 - val_accuracy: 0.8950\n",
            "Epoch 2/10\n",
            "260/260 [==============================] - 5s 19ms/step - loss: 0.2123 - accuracy: 0.9313 - val_loss: 0.2588 - val_accuracy: 0.8896\n",
            "Epoch 3/10\n",
            "260/260 [==============================] - 7s 25ms/step - loss: 0.1623 - accuracy: 0.9460 - val_loss: 0.2971 - val_accuracy: 0.8972\n",
            "Epoch 4/10\n",
            "260/260 [==============================] - 5s 19ms/step - loss: 0.1427 - accuracy: 0.9521 - val_loss: 0.3071 - val_accuracy: 0.8961\n",
            "Epoch 5/10\n",
            "260/260 [==============================] - 6s 24ms/step - loss: 0.1313 - accuracy: 0.9564 - val_loss: 0.3418 - val_accuracy: 0.8918\n",
            "Epoch 6/10\n",
            "260/260 [==============================] - 7s 26ms/step - loss: 0.1151 - accuracy: 0.9598 - val_loss: 0.3891 - val_accuracy: 0.9015\n",
            "Epoch 7/10\n",
            "260/260 [==============================] - 6s 21ms/step - loss: 0.1034 - accuracy: 0.9647 - val_loss: 0.3926 - val_accuracy: 0.8918\n",
            "Epoch 8/10\n",
            "260/260 [==============================] - 7s 29ms/step - loss: 0.1016 - accuracy: 0.9673 - val_loss: 0.3503 - val_accuracy: 0.8950\n",
            "Epoch 9/10\n",
            "260/260 [==============================] - 5s 20ms/step - loss: 0.0868 - accuracy: 0.9715 - val_loss: 0.4658 - val_accuracy: 0.8972\n",
            "Epoch 10/10\n",
            "260/260 [==============================] - 6s 24ms/step - loss: 0.0824 - accuracy: 0.9722 - val_loss: 0.5679 - val_accuracy: 0.8885\n",
            "73/73 [==============================] - 2s 6ms/step\n",
            "Model: \"sequential_3\"\n",
            "_________________________________________________________________\n",
            " Layer (type)                Output Shape              Param #   \n",
            "=================================================================\n",
            " embedding_3 (Embedding)     (None, None, 32)          64032     \n",
            "                                                                 \n",
            " masking_3 (Masking)         (None, None, 32)          0         \n",
            "                                                                 \n",
            " lstm_3 (LSTM)               (None, 128)               82432     \n",
            "                                                                 \n",
            " dense_6 (Dense)             (None, 10)                1290      \n",
            "                                                                 \n",
            " dropout_3 (Dropout)         (None, 10)                0         \n",
            "                                                                 \n",
            " dense_7 (Dense)             (None, 1)                 11        \n",
            "                                                                 \n",
            "=================================================================\n",
            "Total params: 147765 (577.21 KB)\n",
            "Trainable params: 147765 (577.21 KB)\n",
            "Non-trainable params: 0 (0.00 Byte)\n",
            "_________________________________________________________________\n",
            "Epoch 1/10\n",
            "260/260 [==============================] - 19s 47ms/step - loss: 0.3743 - accuracy: 0.8599 - val_loss: 0.2542 - val_accuracy: 0.8950\n",
            "Epoch 2/10\n",
            "260/260 [==============================] - 10s 39ms/step - loss: 0.1996 - accuracy: 0.9297 - val_loss: 0.2567 - val_accuracy: 0.9102\n",
            "Epoch 3/10\n",
            "260/260 [==============================] - 11s 44ms/step - loss: 0.1595 - accuracy: 0.9458 - val_loss: 0.2693 - val_accuracy: 0.8983\n",
            "Epoch 4/10\n",
            "260/260 [==============================] - 12s 45ms/step - loss: 0.1366 - accuracy: 0.9520 - val_loss: 0.3226 - val_accuracy: 0.9026\n",
            "Epoch 5/10\n",
            "260/260 [==============================] - 12s 46ms/step - loss: 0.1247 - accuracy: 0.9579 - val_loss: 0.3267 - val_accuracy: 0.9048\n",
            "Epoch 6/10\n",
            "260/260 [==============================] - 10s 38ms/step - loss: 0.1109 - accuracy: 0.9599 - val_loss: 0.3930 - val_accuracy: 0.8972\n",
            "Epoch 7/10\n",
            "260/260 [==============================] - 11s 43ms/step - loss: 0.1021 - accuracy: 0.9633 - val_loss: 0.3268 - val_accuracy: 0.8885\n",
            "Epoch 8/10\n",
            "260/260 [==============================] - 11s 43ms/step - loss: 0.0945 - accuracy: 0.9659 - val_loss: 0.4348 - val_accuracy: 0.8918\n",
            "Epoch 9/10\n",
            "260/260 [==============================] - 11s 43ms/step - loss: 0.0828 - accuracy: 0.9698 - val_loss: 0.4710 - val_accuracy: 0.8864\n",
            "Epoch 10/10\n",
            "260/260 [==============================] - 10s 38ms/step - loss: 0.0906 - accuracy: 0.9647 - val_loss: 0.4390 - val_accuracy: 0.8907\n",
            "73/73 [==============================] - 2s 12ms/step\n",
            "Model: \"sequential_4\"\n",
            "_________________________________________________________________\n",
            " Layer (type)                Output Shape              Param #   \n",
            "=================================================================\n",
            " embedding_4 (Embedding)     (None, None, 64)          128064    \n",
            "                                                                 \n",
            " masking_4 (Masking)         (None, None, 64)          0         \n",
            "                                                                 \n",
            " lstm_4 (LSTM)               (None, 32)                12416     \n",
            "                                                                 \n",
            " dense_8 (Dense)             (None, 10)                330       \n",
            "                                                                 \n",
            " dropout_4 (Dropout)         (None, 10)                0         \n",
            "                                                                 \n",
            " dense_9 (Dense)             (None, 1)                 11        \n",
            "                                                                 \n",
            "=================================================================\n",
            "Total params: 140821 (550.08 KB)\n",
            "Trainable params: 140821 (550.08 KB)\n",
            "Non-trainable params: 0 (0.00 Byte)\n",
            "_________________________________________________________________\n",
            "Epoch 1/10\n",
            "260/260 [==============================] - 12s 24ms/step - loss: 0.4032 - accuracy: 0.8440 - val_loss: 0.2674 - val_accuracy: 0.8961\n",
            "Epoch 2/10\n",
            "260/260 [==============================] - 6s 24ms/step - loss: 0.2123 - accuracy: 0.9189 - val_loss: 0.2477 - val_accuracy: 0.8983\n",
            "Epoch 3/10\n",
            "260/260 [==============================] - 5s 18ms/step - loss: 0.1676 - accuracy: 0.9301 - val_loss: 0.3108 - val_accuracy: 0.9026\n",
            "Epoch 4/10\n",
            "260/260 [==============================] - 5s 19ms/step - loss: 0.1417 - accuracy: 0.9403 - val_loss: 0.3225 - val_accuracy: 0.9037\n",
            "Epoch 5/10\n",
            "260/260 [==============================] - 6s 23ms/step - loss: 0.1232 - accuracy: 0.9476 - val_loss: 0.3371 - val_accuracy: 0.9048\n",
            "Epoch 6/10\n",
            "260/260 [==============================] - 5s 18ms/step - loss: 0.1035 - accuracy: 0.9633 - val_loss: 0.4487 - val_accuracy: 0.8853\n",
            "Epoch 7/10\n",
            "260/260 [==============================] - 7s 28ms/step - loss: 0.0877 - accuracy: 0.9683 - val_loss: 0.5138 - val_accuracy: 0.8939\n",
            "Epoch 8/10\n",
            "260/260 [==============================] - 5s 20ms/step - loss: 0.0781 - accuracy: 0.9717 - val_loss: 0.4881 - val_accuracy: 0.8820\n",
            "Epoch 9/10\n",
            "260/260 [==============================] - 5s 18ms/step - loss: 0.0771 - accuracy: 0.9700 - val_loss: 0.4448 - val_accuracy: 0.8853\n",
            "Epoch 10/10\n",
            "260/260 [==============================] - 6s 24ms/step - loss: 0.0656 - accuracy: 0.9768 - val_loss: 0.7122 - val_accuracy: 0.8896\n",
            "73/73 [==============================] - 3s 6ms/step\n",
            "Model: \"sequential_5\"\n",
            "_________________________________________________________________\n",
            " Layer (type)                Output Shape              Param #   \n",
            "=================================================================\n",
            " embedding_5 (Embedding)     (None, None, 64)          128064    \n",
            "                                                                 \n",
            " masking_5 (Masking)         (None, None, 64)          0         \n",
            "                                                                 \n",
            " lstm_5 (LSTM)               (None, 64)                33024     \n",
            "                                                                 \n",
            " dense_10 (Dense)            (None, 10)                650       \n",
            "                                                                 \n",
            " dropout_5 (Dropout)         (None, 10)                0         \n",
            "                                                                 \n",
            " dense_11 (Dense)            (None, 1)                 11        \n",
            "                                                                 \n",
            "=================================================================\n",
            "Total params: 161749 (631.83 KB)\n",
            "Trainable params: 161749 (631.83 KB)\n",
            "Non-trainable params: 0 (0.00 Byte)\n",
            "_________________________________________________________________\n",
            "Epoch 1/10\n",
            "260/260 [==============================] - 13s 33ms/step - loss: 0.3800 - accuracy: 0.8513 - val_loss: 0.2705 - val_accuracy: 0.8842\n",
            "Epoch 2/10\n",
            "260/260 [==============================] - 6s 22ms/step - loss: 0.1922 - accuracy: 0.9287 - val_loss: 0.2498 - val_accuracy: 0.8961\n",
            "Epoch 3/10\n",
            "260/260 [==============================] - 7s 27ms/step - loss: 0.1501 - accuracy: 0.9461 - val_loss: 0.2703 - val_accuracy: 0.9004\n",
            "Epoch 4/10\n",
            "260/260 [==============================] - 6s 21ms/step - loss: 0.1286 - accuracy: 0.9516 - val_loss: 0.3223 - val_accuracy: 0.8896\n",
            "Epoch 5/10\n",
            "260/260 [==============================] - 7s 27ms/step - loss: 0.1112 - accuracy: 0.9544 - val_loss: 0.3939 - val_accuracy: 0.8907\n",
            "Epoch 6/10\n",
            "260/260 [==============================] - 5s 21ms/step - loss: 0.0944 - accuracy: 0.9640 - val_loss: 0.3385 - val_accuracy: 0.8831\n",
            "Epoch 7/10\n",
            "260/260 [==============================] - 7s 27ms/step - loss: 0.0850 - accuracy: 0.9668 - val_loss: 0.5155 - val_accuracy: 0.8929\n",
            "Epoch 8/10\n",
            "260/260 [==============================] - 6s 22ms/step - loss: 0.0745 - accuracy: 0.9695 - val_loss: 0.5666 - val_accuracy: 0.8853\n",
            "Epoch 9/10\n",
            "260/260 [==============================] - 6s 24ms/step - loss: 0.0707 - accuracy: 0.9721 - val_loss: 0.5910 - val_accuracy: 0.8918\n",
            "Epoch 10/10\n",
            "260/260 [==============================] - 6s 24ms/step - loss: 0.0605 - accuracy: 0.9735 - val_loss: 0.7015 - val_accuracy: 0.8885\n",
            "73/73 [==============================] - 2s 6ms/step\n",
            "Model: \"sequential_6\"\n",
            "_________________________________________________________________\n",
            " Layer (type)                Output Shape              Param #   \n",
            "=================================================================\n",
            " embedding_6 (Embedding)     (None, None, 64)          128064    \n",
            "                                                                 \n",
            " masking_6 (Masking)         (None, None, 64)          0         \n",
            "                                                                 \n",
            " lstm_6 (LSTM)               (None, 128)               98816     \n",
            "                                                                 \n",
            " dense_12 (Dense)            (None, 10)                1290      \n",
            "                                                                 \n",
            " dropout_6 (Dropout)         (None, 10)                0         \n",
            "                                                                 \n",
            " dense_13 (Dense)            (None, 1)                 11        \n",
            "                                                                 \n",
            "=================================================================\n",
            "Total params: 228181 (891.33 KB)\n",
            "Trainable params: 228181 (891.33 KB)\n",
            "Non-trainable params: 0 (0.00 Byte)\n",
            "_________________________________________________________________\n",
            "Epoch 1/10\n",
            "260/260 [==============================] - 20s 50ms/step - loss: 0.3866 - accuracy: 0.8609 - val_loss: 0.2528 - val_accuracy: 0.8950\n",
            "Epoch 2/10\n",
            "260/260 [==============================] - 10s 38ms/step - loss: 0.2026 - accuracy: 0.9324 - val_loss: 0.2630 - val_accuracy: 0.8994\n",
            "Epoch 3/10\n",
            "260/260 [==============================] - 11s 44ms/step - loss: 0.1677 - accuracy: 0.9476 - val_loss: 0.2753 - val_accuracy: 0.8972\n",
            "Epoch 4/10\n",
            "260/260 [==============================] - 12s 46ms/step - loss: 0.1446 - accuracy: 0.9533 - val_loss: 0.2988 - val_accuracy: 0.8885\n",
            "Epoch 5/10\n",
            "260/260 [==============================] - 12s 45ms/step - loss: 0.1294 - accuracy: 0.9580 - val_loss: 0.3113 - val_accuracy: 0.8950\n",
            "Epoch 6/10\n",
            "260/260 [==============================] - 12s 44ms/step - loss: 0.1168 - accuracy: 0.9635 - val_loss: 0.3493 - val_accuracy: 0.9004\n",
            "Epoch 7/10\n",
            "260/260 [==============================] - 10s 39ms/step - loss: 0.0970 - accuracy: 0.9659 - val_loss: 0.5142 - val_accuracy: 0.8972\n",
            "Epoch 8/10\n",
            "260/260 [==============================] - 11s 44ms/step - loss: 0.0949 - accuracy: 0.9646 - val_loss: 0.4838 - val_accuracy: 0.8929\n",
            "Epoch 9/10\n",
            "260/260 [==============================] - 12s 44ms/step - loss: 0.0764 - accuracy: 0.9710 - val_loss: 0.7288 - val_accuracy: 0.8864\n",
            "Epoch 10/10\n",
            "260/260 [==============================] - 12s 46ms/step - loss: 0.0777 - accuracy: 0.9738 - val_loss: 0.5163 - val_accuracy: 0.8896\n",
            "73/73 [==============================] - 2s 12ms/step\n",
            "Model: \"sequential_7\"\n",
            "_________________________________________________________________\n",
            " Layer (type)                Output Shape              Param #   \n",
            "=================================================================\n",
            " embedding_7 (Embedding)     (None, None, 128)         256128    \n",
            "                                                                 \n",
            " masking_7 (Masking)         (None, None, 128)         0         \n",
            "                                                                 \n",
            " lstm_7 (LSTM)               (None, 32)                20608     \n",
            "                                                                 \n",
            " dense_14 (Dense)            (None, 10)                330       \n",
            "                                                                 \n",
            " dropout_7 (Dropout)         (None, 10)                0         \n",
            "                                                                 \n",
            " dense_15 (Dense)            (None, 1)                 11        \n",
            "                                                                 \n",
            "=================================================================\n",
            "Total params: 277077 (1.06 MB)\n",
            "Trainable params: 277077 (1.06 MB)\n",
            "Non-trainable params: 0 (0.00 Byte)\n",
            "_________________________________________________________________\n",
            "Epoch 1/10\n",
            "260/260 [==============================] - 14s 31ms/step - loss: 0.4379 - accuracy: 0.8320 - val_loss: 0.3082 - val_accuracy: 0.8734\n",
            "Epoch 2/10\n",
            "260/260 [==============================] - 6s 22ms/step - loss: 0.2185 - accuracy: 0.9250 - val_loss: 0.2435 - val_accuracy: 0.9004\n",
            "Epoch 3/10\n",
            "260/260 [==============================] - 6s 23ms/step - loss: 0.1642 - accuracy: 0.9422 - val_loss: 0.2618 - val_accuracy: 0.9026\n",
            "Epoch 4/10\n",
            "260/260 [==============================] - 6s 24ms/step - loss: 0.1359 - accuracy: 0.9551 - val_loss: 0.3505 - val_accuracy: 0.9048\n",
            "Epoch 5/10\n",
            "260/260 [==============================] - 11s 43ms/step - loss: 0.1036 - accuracy: 0.9614 - val_loss: 0.3515 - val_accuracy: 0.8994\n",
            "Epoch 6/10\n",
            "260/260 [==============================] - 6s 23ms/step - loss: 0.0882 - accuracy: 0.9691 - val_loss: 0.4434 - val_accuracy: 0.8950\n",
            "Epoch 7/10\n",
            "260/260 [==============================] - 6s 23ms/step - loss: 0.0764 - accuracy: 0.9705 - val_loss: 0.4980 - val_accuracy: 0.9004\n",
            "Epoch 8/10\n",
            "260/260 [==============================] - 7s 26ms/step - loss: 0.0664 - accuracy: 0.9770 - val_loss: 0.5377 - val_accuracy: 0.8929\n",
            "Epoch 9/10\n",
            "260/260 [==============================] - 6s 22ms/step - loss: 0.0532 - accuracy: 0.9779 - val_loss: 0.6906 - val_accuracy: 0.8939\n",
            "Epoch 10/10\n",
            "260/260 [==============================] - 7s 27ms/step - loss: 0.0541 - accuracy: 0.9771 - val_loss: 0.5803 - val_accuracy: 0.8885\n",
            "73/73 [==============================] - 2s 5ms/step\n",
            "Model: \"sequential_8\"\n",
            "_________________________________________________________________\n",
            " Layer (type)                Output Shape              Param #   \n",
            "=================================================================\n",
            " embedding_8 (Embedding)     (None, None, 128)         256128    \n",
            "                                                                 \n",
            " masking_8 (Masking)         (None, None, 128)         0         \n",
            "                                                                 \n",
            " lstm_8 (LSTM)               (None, 64)                49408     \n",
            "                                                                 \n",
            " dense_16 (Dense)            (None, 10)                650       \n",
            "                                                                 \n",
            " dropout_8 (Dropout)         (None, 10)                0         \n",
            "                                                                 \n",
            " dense_17 (Dense)            (None, 1)                 11        \n",
            "                                                                 \n",
            "=================================================================\n",
            "Total params: 306197 (1.17 MB)\n",
            "Trainable params: 306197 (1.17 MB)\n",
            "Non-trainable params: 0 (0.00 Byte)\n",
            "_________________________________________________________________\n",
            "Epoch 1/10\n",
            "260/260 [==============================] - 14s 35ms/step - loss: 0.3710 - accuracy: 0.8599 - val_loss: 0.2595 - val_accuracy: 0.8950\n",
            "Epoch 2/10\n",
            "260/260 [==============================] - 8s 31ms/step - loss: 0.1879 - accuracy: 0.9318 - val_loss: 0.2786 - val_accuracy: 0.9058\n",
            "Epoch 3/10\n",
            "260/260 [==============================] - 7s 25ms/step - loss: 0.1522 - accuracy: 0.9456 - val_loss: 0.3195 - val_accuracy: 0.9102\n",
            "Epoch 4/10\n",
            "260/260 [==============================] - 8s 31ms/step - loss: 0.1209 - accuracy: 0.9559 - val_loss: 0.3376 - val_accuracy: 0.9026\n",
            "Epoch 5/10\n",
            "260/260 [==============================] - 7s 25ms/step - loss: 0.1037 - accuracy: 0.9622 - val_loss: 0.4078 - val_accuracy: 0.8994\n",
            "Epoch 6/10\n",
            "260/260 [==============================] - 8s 32ms/step - loss: 0.0854 - accuracy: 0.9656 - val_loss: 0.4866 - val_accuracy: 0.8950\n",
            "Epoch 7/10\n",
            "260/260 [==============================] - 6s 25ms/step - loss: 0.0766 - accuracy: 0.9675 - val_loss: 0.6387 - val_accuracy: 0.8853\n",
            "Epoch 8/10\n",
            "260/260 [==============================] - 8s 31ms/step - loss: 0.0713 - accuracy: 0.9704 - val_loss: 0.4549 - val_accuracy: 0.8983\n",
            "Epoch 9/10\n",
            "260/260 [==============================] - 6s 24ms/step - loss: 0.0602 - accuracy: 0.9736 - val_loss: 0.6547 - val_accuracy: 0.8929\n",
            "Epoch 10/10\n",
            "260/260 [==============================] - 8s 31ms/step - loss: 0.0515 - accuracy: 0.9777 - val_loss: 0.6521 - val_accuracy: 0.9048\n",
            "73/73 [==============================] - 3s 8ms/step\n",
            "Model: \"sequential_9\"\n",
            "_________________________________________________________________\n",
            " Layer (type)                Output Shape              Param #   \n",
            "=================================================================\n",
            " embedding_9 (Embedding)     (None, None, 128)         256128    \n",
            "                                                                 \n",
            " masking_9 (Masking)         (None, None, 128)         0         \n",
            "                                                                 \n",
            " lstm_9 (LSTM)               (None, 128)               131584    \n",
            "                                                                 \n",
            " dense_18 (Dense)            (None, 10)                1290      \n",
            "                                                                 \n",
            " dropout_9 (Dropout)         (None, 10)                0         \n",
            "                                                                 \n",
            " dense_19 (Dense)            (None, 1)                 11        \n",
            "                                                                 \n",
            "=================================================================\n",
            "Total params: 389013 (1.48 MB)\n",
            "Trainable params: 389013 (1.48 MB)\n",
            "Non-trainable params: 0 (0.00 Byte)\n",
            "_________________________________________________________________\n",
            "Epoch 1/10\n",
            "260/260 [==============================] - 21s 60ms/step - loss: 0.3871 - accuracy: 0.8495 - val_loss: 0.2841 - val_accuracy: 0.8896\n",
            "Epoch 2/10\n",
            "260/260 [==============================] - 15s 56ms/step - loss: 0.2029 - accuracy: 0.9326 - val_loss: 0.2857 - val_accuracy: 0.9015\n",
            "Epoch 3/10\n",
            "260/260 [==============================] - 16s 63ms/step - loss: 0.1616 - accuracy: 0.9425 - val_loss: 0.3136 - val_accuracy: 0.9026\n",
            "Epoch 4/10\n",
            "260/260 [==============================] - 14s 54ms/step - loss: 0.1403 - accuracy: 0.9528 - val_loss: 0.3407 - val_accuracy: 0.9015\n",
            "Epoch 5/10\n",
            "260/260 [==============================] - 14s 55ms/step - loss: 0.1151 - accuracy: 0.9596 - val_loss: 0.3782 - val_accuracy: 0.8939\n",
            "Epoch 6/10\n",
            "260/260 [==============================] - 15s 57ms/step - loss: 0.0972 - accuracy: 0.9644 - val_loss: 0.4172 - val_accuracy: 0.8961\n",
            "Epoch 7/10\n",
            "260/260 [==============================] - 14s 55ms/step - loss: 0.0792 - accuracy: 0.9676 - val_loss: 0.6869 - val_accuracy: 0.8929\n",
            "Epoch 8/10\n",
            "260/260 [==============================] - 15s 57ms/step - loss: 0.0732 - accuracy: 0.9716 - val_loss: 0.7655 - val_accuracy: 0.8918\n",
            "Epoch 9/10\n",
            "260/260 [==============================] - 15s 57ms/step - loss: 0.0649 - accuracy: 0.9741 - val_loss: 0.5675 - val_accuracy: 0.8864\n",
            "Epoch 10/10\n",
            "260/260 [==============================] - 14s 54ms/step - loss: 0.0599 - accuracy: 0.9757 - val_loss: 0.5742 - val_accuracy: 0.8810\n",
            "73/73 [==============================] - 2s 15ms/step\n"
          ]
        }
      ],
      "source": [
        "sensitivity = np.zeros((3,3))\n",
        "especificity = np.zeros((3,3))\n",
        "accuracy = np.zeros((3,3))\n",
        "for i, embed_dim in enumerate([32,64,128]):\n",
        "    for j,cells in enumerate([32,64,128]):\n",
        "        model = Recurrent_Model(cells_number= cells, layer_type='LSTM', Embeb_dim=embed_dim)\n",
        "        #opt = optimizers.Adam(learning_rate=0.0001, beta_1=0.9, beta_2=0.999, amsgrad=False)\n",
        "        model.compile(optimizer='adam', loss=\"binary_crossentropy\", metrics=[\"accuracy\"])\n",
        "        model.fit(X_tr, y_tr, validation_split=0.1,batch_size=32, epochs=10, verbose=1)\n",
        "        y_pred = np.round(model.predict(X_te))\n",
        "        sensitivity[i,j] = recall_score(y_te,y_pred)\n",
        "        accuracy[i,j] = accuracy_score(y_te,y_pred)\n",
        "        especificity[i,j] = especi_score(y_te,y_pred.flatten())"
      ]
    },
    {
      "cell_type": "code",
      "execution_count": 34,
      "metadata": {
        "id": "9cCRxUKa1cbS",
        "outputId": "eaa859af-2f82-4a1c-c6cb-f5f9551202b8",
        "colab": {
          "base_uri": "https://localhost:8080/",
          "height": 350
        }
      },
      "outputs": [
        {
          "output_type": "display_data",
          "data": {
            "text/plain": [
              "<Figure size 1000x300 with 3 Axes>"
            ],
            "image/png": "[encoded data removed]"
          },
          "metadata": {}
        },
        {
          "output_type": "stream",
          "name": "stdout",
          "text": [
            "Best accuracy= 0.9008228670420095\n"
          ]
        }
      ],
      "source": [
        "from local.lib.DataPreparationRNN import Plot_sentiment_performance\n",
        "Plot_sentiment_performance(sensitivity,accuracy,especificity)"
      ]
    },
    {
      "cell_type": "markdown",
      "metadata": {
        "id": "aiMoL8Wa1cbU"
      },
      "source": [
        "## Task 3\n",
        "\n",
        "Create a similar architecture to that of task 2, but in this case use global vectors (GloVe) from gensim library to set the Embedding weights. Set the Embedding layer as non trainable. If there is any missing word in the pre-trained GloVes, you can use the token 'unk' instead.\n",
        "\n",
        "**Note**: Take care on the tokenization of the words. Keras tokenizer does not assign the zero value to any word because of padding purposes. Make sure that the order of the vectors in the GloVe embedding matrix corresponds with the indexes in the dictionary."
      ]
    },
    {
      "cell_type": "code",
      "execution_count": 35,
      "metadata": {
        "id": "maHpBI6c1cbW"
      },
      "outputs": [],
      "source": [
        "#Run this cell to get the pre-trained word embedding vectors\n",
        "import gensim.downloader\n",
        "glove_vectors = gensim.downloader.load('glove-twitter-50')"
      ]
    },
    {
      "cell_type": "code",
      "execution_count": 36,
      "metadata": {
        "id": "eAYoHRBc1cbY"
      },
      "outputs": [],
      "source": [
        "#Run this cell to provide the grader with the word embedding vectors\n",
        "import pickle\n",
        "with open('GloVe.pkl', 'wb') as output:\n",
        "    pickle.dump(glove_vectors, output, pickle.HIGHEST_PROTOCOL)"
      ]
    },
    {
      "cell_type": "code",
      "execution_count": 43,
      "metadata": {
        "id": "Mjd0VUOW1cbh"
      },
      "outputs": [],
      "source": [
        "def Recurrent_Model_TF(tokenizer,glove_vectors,cells_number = 10, layer_type='SimpleRNN'):#Options for layer_type: 'SimpleRNN', 'LSTM', 'GRU'\n",
        "    from tensorflow.keras.models import Sequential\n",
        "    from tensorflow.keras.layers import Embedding, Masking, SimpleRNN, LSTM, GRU, Dense, Dropout\n",
        "    import numpy as np\n",
        "\n",
        "    max_words = 2000\n",
        "    num_words = max_words + 1\n",
        "    vocab_size = num_words\n",
        "    embedding_dim = glove_vectors.vector_size\n",
        "    embedding_matrix = np.zeros((vocab_size, embedding_dim))\n",
        "\n",
        "    for word, i in tokenizer.word_index.items():\n",
        "          if i < num_words:\n",
        "              if word in glove_vectors:\n",
        "                  embedding_matrix[i] = glove_vectors[word]\n",
        "              else:\n",
        "                  embedding_matrix[i] = glove_vectors['unk']\n",
        "\n",
        "    model = Sequential()\n",
        "    model.add(Embedding(input_dim=vocab_size, output_dim=embedding_dim, weights=[embedding_matrix],mask_zero=True, trainable=False))\n",
        "    model.add(Masking(mask_value=0.0))\n",
        "\n",
        "    if layer_type == 'SimpleRNN':\n",
        "        rnn_layer = SimpleRNN(cells_number, activation ='relu')\n",
        "    elif layer_type == 'LSTM':\n",
        "        rnn_layer = LSTM(cells_number, activation ='tanh')\n",
        "    elif layer_type == 'GRU':\n",
        "        rnn_layer = GRU(cells_number, activation ='tanh')\n",
        "    else:\n",
        "        raise ValueError(\"Invalid layer_type. Please choose from 'SimpleRNN', 'LSTM', or 'GRU'.\")\n",
        "\n",
        "    model.add(rnn_layer)\n",
        "    model.add(Dense(10, activation='relu'))\n",
        "    model.add(Dropout(0.3))\n",
        "\n",
        "    model.add(Dense(1, activation='sigmoid'))\n",
        "\n",
        "    return model"
      ]
    },
    {
      "cell_type": "markdown",
      "metadata": {
        "id": "g2HLz-RS1cbj"
      },
      "source": [
        "**Submit your solution:**"
      ]
    },
    {
      "cell_type": "code",
      "execution_count": 44,
      "metadata": {
        "id": "OiFEb4qq1cbk",
        "outputId": "6344be7f-3228-4d95-c58f-321f9c59db17",
        "colab": {
          "base_uri": "https://localhost:8080/",
          "height": 111
        }
      },
      "outputs": [
        {
          "output_type": "display_data",
          "data": {
            "text/plain": [
              "<IPython.core.display.HTML object>"
            ],
            "text/html": [
              "\n",
              "                    <b>T3 submitted.</b> <b><font color=\"blue\">your grade is 5</font></b> \n",
              "                    <p/><pre>----- grader message -------</pre><b>correct</b><pre>----------------------------</pre>\n",
              "                    <p/><p/>\n",
              "                    <div style=\"font-size:10px\"><b>SUBMISSION CODE</b> DG5xsbNF+IOr5btzPO+F0xEgHy2tLRJs0XKKShK7YX1Lx8k8UBVBKtloIqUvdIZLjFfFvXHKHOzi3RO909nzpO4Ot4bCOfN6nhLdtZ5agW+NyCF0rq88DfCsZsNhTXQ4wpxoREHr7TLuGn1vz69BUWhRD6ioLf+WJiLfx4t2P0s=</div>\n",
              "                    "
            ]
          },
          "metadata": {}
        }
      ],
      "source": [
        "student.submit_task(namespace=globals(), task_id='T3');"
      ]
    },
    {
      "cell_type": "markdown",
      "metadata": {
        "id": "cTATppsB1cbm"
      },
      "source": [
        "### Let's test the model:\n",
        "\n",
        "**Warning**: Run this part only if you have already passed Tasks 2 and 3."
      ]
    },
    {
      "cell_type": "code",
      "execution_count": 45,
      "metadata": {
        "id": "03Njkafv1cbn",
        "outputId": "eb5607f7-136c-4721-9eb8-3e90908907ab",
        "colab": {
          "base_uri": "https://localhost:8080/"
        }
      },
      "outputs": [
        {
          "output_type": "stream",
          "name": "stdout",
          "text": [
            "Epoch 1/10\n",
            "260/260 [==============================] - 18s 22ms/step - loss: 0.3627 - accuracy: 0.8576 - val_loss: 0.2794 - val_accuracy: 0.8929\n",
            "Epoch 2/10\n",
            "260/260 [==============================] - 5s 20ms/step - loss: 0.2720 - accuracy: 0.8996 - val_loss: 0.2838 - val_accuracy: 0.8820\n",
            "Epoch 3/10\n",
            "260/260 [==============================] - 4s 17ms/step - loss: 0.2506 - accuracy: 0.9071 - val_loss: 0.2655 - val_accuracy: 0.8950\n",
            "Epoch 4/10\n",
            "260/260 [==============================] - 5s 19ms/step - loss: 0.2386 - accuracy: 0.9088 - val_loss: 0.2571 - val_accuracy: 0.8929\n",
            "Epoch 5/10\n",
            "260/260 [==============================] - 5s 21ms/step - loss: 0.2298 - accuracy: 0.9113 - val_loss: 0.2663 - val_accuracy: 0.8994\n",
            "Epoch 6/10\n",
            "260/260 [==============================] - 4s 15ms/step - loss: 0.2240 - accuracy: 0.9142 - val_loss: 0.2650 - val_accuracy: 0.8972\n",
            "Epoch 7/10\n",
            "260/260 [==============================] - 4s 16ms/step - loss: 0.2140 - accuracy: 0.9175 - val_loss: 0.2533 - val_accuracy: 0.9015\n",
            "Epoch 8/10\n",
            "260/260 [==============================] - 5s 20ms/step - loss: 0.2069 - accuracy: 0.9219 - val_loss: 0.2658 - val_accuracy: 0.9015\n",
            "Epoch 9/10\n",
            "260/260 [==============================] - 4s 16ms/step - loss: 0.1965 - accuracy: 0.9250 - val_loss: 0.2716 - val_accuracy: 0.8972\n",
            "Epoch 10/10\n",
            "260/260 [==============================] - 4s 15ms/step - loss: 0.1874 - accuracy: 0.9296 - val_loss: 0.2625 - val_accuracy: 0.8972\n",
            "73/73 [==============================] - 3s 8ms/step\n",
            "Epoch 1/10\n",
            "260/260 [==============================] - 13s 29ms/step - loss: 0.3235 - accuracy: 0.8664 - val_loss: 0.2652 - val_accuracy: 0.8939\n",
            "Epoch 2/10\n",
            "260/260 [==============================] - 5s 18ms/step - loss: 0.2616 - accuracy: 0.8977 - val_loss: 0.2676 - val_accuracy: 0.8874\n",
            "Epoch 3/10\n",
            "260/260 [==============================] - 5s 19ms/step - loss: 0.2460 - accuracy: 0.9020 - val_loss: 0.2621 - val_accuracy: 0.8939\n",
            "Epoch 4/10\n",
            "260/260 [==============================] - 6s 23ms/step - loss: 0.2348 - accuracy: 0.9061 - val_loss: 0.2549 - val_accuracy: 0.8907\n",
            "Epoch 5/10\n",
            "260/260 [==============================] - 6s 22ms/step - loss: 0.2238 - accuracy: 0.9083 - val_loss: 0.2634 - val_accuracy: 0.8929\n",
            "Epoch 6/10\n",
            "260/260 [==============================] - 6s 23ms/step - loss: 0.2177 - accuracy: 0.9135 - val_loss: 0.2647 - val_accuracy: 0.8950\n",
            "Epoch 7/10\n",
            "260/260 [==============================] - 5s 19ms/step - loss: 0.2025 - accuracy: 0.9200 - val_loss: 0.2747 - val_accuracy: 0.8983\n",
            "Epoch 8/10\n",
            "260/260 [==============================] - 5s 19ms/step - loss: 0.1912 - accuracy: 0.9232 - val_loss: 0.2653 - val_accuracy: 0.9026\n",
            "Epoch 9/10\n",
            "260/260 [==============================] - 6s 22ms/step - loss: 0.1828 - accuracy: 0.9257 - val_loss: 0.2768 - val_accuracy: 0.9048\n",
            "Epoch 10/10\n",
            "260/260 [==============================] - 5s 19ms/step - loss: 0.1671 - accuracy: 0.9293 - val_loss: 0.3111 - val_accuracy: 0.8994\n",
            "73/73 [==============================] - 3s 9ms/step\n",
            "Epoch 1/10\n",
            "260/260 [==============================] - 17s 46ms/step - loss: 0.3278 - accuracy: 0.8749 - val_loss: 0.2670 - val_accuracy: 0.8929\n",
            "Epoch 2/10\n",
            "260/260 [==============================] - 10s 40ms/step - loss: 0.2632 - accuracy: 0.8970 - val_loss: 0.2535 - val_accuracy: 0.8918\n",
            "Epoch 3/10\n",
            "260/260 [==============================] - 9s 34ms/step - loss: 0.2489 - accuracy: 0.9023 - val_loss: 0.2580 - val_accuracy: 0.8918\n",
            "Epoch 4/10\n",
            "260/260 [==============================] - 11s 42ms/step - loss: 0.2342 - accuracy: 0.9072 - val_loss: 0.2583 - val_accuracy: 0.9004\n",
            "Epoch 5/10\n",
            "260/260 [==============================] - 11s 41ms/step - loss: 0.2240 - accuracy: 0.9109 - val_loss: 0.2529 - val_accuracy: 0.9004\n",
            "Epoch 6/10\n",
            "260/260 [==============================] - 10s 40ms/step - loss: 0.2137 - accuracy: 0.9179 - val_loss: 0.2902 - val_accuracy: 0.8885\n",
            "Epoch 7/10\n",
            "260/260 [==============================] - 9s 34ms/step - loss: 0.2056 - accuracy: 0.9171 - val_loss: 0.2693 - val_accuracy: 0.9004\n",
            "Epoch 8/10\n",
            "260/260 [==============================] - 11s 41ms/step - loss: 0.1907 - accuracy: 0.9260 - val_loss: 0.2699 - val_accuracy: 0.9058\n",
            "Epoch 9/10\n",
            "260/260 [==============================] - 10s 40ms/step - loss: 0.1723 - accuracy: 0.9319 - val_loss: 0.2650 - val_accuracy: 0.9048\n",
            "Epoch 10/10\n",
            "260/260 [==============================] - 9s 34ms/step - loss: 0.1612 - accuracy: 0.9360 - val_loss: 0.3073 - val_accuracy: 0.9080\n",
            "73/73 [==============================] - 3s 19ms/step\n"
          ]
        }
      ],
      "source": [
        "sensitivity = np.zeros((3))\n",
        "especificity = np.zeros((3))\n",
        "accuracy = np.zeros((3))\n",
        "for j,cells in enumerate([32,64,128]):\n",
        "    model = Recurrent_Model_TF(tokenizer, glove_vectors, cells_number = cells, layer_type='LSTM')\n",
        "    model.compile(optimizer='adam', loss=\"binary_crossentropy\", metrics=[\"accuracy\"])\n",
        "    model.fit(X_tr, y_tr, validation_split=0.1,batch_size=32, epochs=10, verbose=1)\n",
        "    y_pred = np.round(model.predict(X_te))\n",
        "    sensitivity = recall_score(y_te,y_pred)\n",
        "    accuracy[j] = accuracy_score(y_te,y_pred)\n",
        "    especificity[j] = especi_score(y_te,y_pred.flatten())"
      ]
    },
    {
      "cell_type": "code",
      "execution_count": 46,
      "metadata": {
        "id": "w4hO-vk-1cbo",
        "outputId": "3cfe004b-2de4-4a07-9c5d-c07db5d428cc",
        "colab": {
          "base_uri": "https://localhost:8080/",
          "height": 350
        }
      },
      "outputs": [
        {
          "output_type": "stream",
          "name": "stdout",
          "text": [
            "Best accuracy= 0.9164140320485058\n"
          ]
        },
        {
          "output_type": "display_data",
          "data": {
            "text/plain": [
              "<Figure size 500x300 with 1 Axes>"
            ],
            "image/png": "[encoded data removed]"
          },
          "metadata": {}
        }
      ],
      "source": [
        "fig, ax = plt.subplots(figsize=(5,3))\n",
        "X = np.arange(3)\n",
        "ax.bar(X + 0.00, accuracy, color = 'b', width = 0.25)\n",
        "ax.bar(X + 0.25, sensitivity, color = 'g', width = 0.25)\n",
        "ax.bar(X + 0.50, especificity, color = 'r', width = 0.25)\n",
        "ax.set_xticks([0.25, 1.25, 2.25])\n",
        "ax.set_xticklabels(['32','64', '128'])\n",
        "ax.set_title('Performance')\n",
        "ax.set_xlabel('Number of cells')\n",
        "ax.legend(labels=['accuracy','sensitivity','especificity'],bbox_to_anchor=(1.1, 1.05))\n",
        "print('Best accuracy= {}'.format(np.max(accuracy)))"
      ]
    },
    {
      "cell_type": "markdown",
      "metadata": {
        "id": "eYdLKYN31cdE"
      },
      "source": [
        "## Task 4\n",
        "\n",
        "Create a function similar to that of task 3, but use a Conv1D layer instead of the LSTM one. The output of the Conv1D layer must keep the dimension related to the number of words per sentence unchanged. The number of filters (kernels) must be a functions' input parameter and define the kernels size in order for the model to use trigrams.  Let the rest of parameters with their default values. Use the GloVe embedding weights from the former task. To complete the architecture and shape correctly the tensors, you must use a GlobalMaxPooling1D layer after the CNN layer."
      ]
    },
    {
      "cell_type": "code",
      "execution_count": 50,
      "metadata": {
        "id": "l6hdFuKX1cdG"
      },
      "outputs": [],
      "source": [
        "def Con1D_Model_TF(tokenizer, glove_vectors, filters = 10):\n",
        "    from tensorflow.keras.models import Sequential\n",
        "    from tensorflow.keras.layers import Embedding, Conv1D, GlobalMaxPooling1D, Dense, Dropout, Masking\n",
        "    import numpy as np\n",
        "\n",
        "    max_words = 2000\n",
        "    num_words = max_words + 1\n",
        "    vocab_size = num_words\n",
        "    embedding_dim = glove_vectors.vector_size\n",
        "    embedding_matrix = np.zeros((vocab_size, embedding_dim))\n",
        "\n",
        "    for word, i in tokenizer.word_index.items():\n",
        "        if i < num_words:\n",
        "            if word in glove_vectors:\n",
        "                embedding_matrix[i] = glove_vectors[word]\n",
        "            else:\n",
        "                embedding_matrix[i] = glove_vectors['unk']\n",
        "\n",
        "    model = Sequential()\n",
        "    model.add(Embedding(input_dim=vocab_size, output_dim=embedding_dim, weights=[embedding_matrix], mask_zero=True, trainable=False))\n",
        "    model.add(Masking(mask_value=0.0))\n",
        "    model.add(Conv1D(filters=filters, kernel_size=3,  padding='same'))\n",
        "    model.add(GlobalMaxPooling1D())\n",
        "    model.add(Dense(10,  activation='relu'))\n",
        "    model.add(Dropout(0.3))\n",
        "    model.add(Dense(1, activation='sigmoid'))\n",
        "\n",
        "    return model"
      ]
    },
    {
      "cell_type": "markdown",
      "metadata": {
        "id": "N7oU7zG41cdI"
      },
      "source": [
        "**Submit your solution:**"
      ]
    },
    {
      "cell_type": "code",
      "execution_count": 51,
      "metadata": {
        "id": "nHTSYfZQ1cdJ",
        "outputId": "eac8ee6a-ff6d-4616-9a85-59cb23581187",
        "colab": {
          "base_uri": "https://localhost:8080/",
          "height": 111
        }
      },
      "outputs": [
        {
          "output_type": "display_data",
          "data": {
            "text/plain": [
              "<IPython.core.display.HTML object>"
            ],
            "text/html": [
              "\n",
              "                    <b>T4 submitted.</b> <b><font color=\"blue\">your grade is 5</font></b> \n",
              "                    <p/><pre>----- grader message -------</pre><b>correct</b><pre>----------------------------</pre>\n",
              "                    <p/><p/>\n",
              "                    <div style=\"font-size:10px\"><b>SUBMISSION CODE</b> 6o2FVMnbOK4ZMlXlvhB+uVIebhcR/3+V67zo0gqld7KgVK2rQIyhIVmOJW8Oc9FWBmLXSc9OT4HiyIbsSGTOVmVIaDnutWO+N43W2/557+b8Kw0oHXvXGZ9IUh/4ab5j045h7bbfon5dHy22sREC7a1vi1PjyHh0COw1fYWtb0M=</div>\n",
              "                    "
            ]
          },
          "metadata": {}
        }
      ],
      "source": [
        "student.submit_task(namespace=globals(), task_id='T4');"
      ]
    },
    {
      "cell_type": "markdown",
      "metadata": {
        "id": "QJOta1-11cdL"
      },
      "source": [
        "### Let's test the model:\n",
        "\n",
        "**Warning**: Run this part only if you have already passed Tasks 3 and 4."
      ]
    },
    {
      "cell_type": "code",
      "execution_count": 52,
      "metadata": {
        "id": "Zl2GLYlJ1cdM",
        "outputId": "6ce63a39-c8df-4942-b9ee-498919552df6",
        "colab": {
          "base_uri": "https://localhost:8080/"
        }
      },
      "outputs": [
        {
          "output_type": "stream",
          "name": "stdout",
          "text": [
            "Epoch 1/10\n",
            "260/260 [==============================] - 2s 6ms/step - loss: 0.5957 - accuracy: 0.7056 - val_loss: 0.3405 - val_accuracy: 0.8723\n",
            "Epoch 2/10\n",
            "260/260 [==============================] - 2s 6ms/step - loss: 0.3365 - accuracy: 0.8742 - val_loss: 0.2881 - val_accuracy: 0.8853\n",
            "Epoch 3/10\n",
            "260/260 [==============================] - 2s 6ms/step - loss: 0.2970 - accuracy: 0.8895 - val_loss: 0.2795 - val_accuracy: 0.8874\n",
            "Epoch 4/10\n",
            "260/260 [==============================] - 1s 4ms/step - loss: 0.2746 - accuracy: 0.8983 - val_loss: 0.2719 - val_accuracy: 0.8918\n",
            "Epoch 5/10\n",
            "260/260 [==============================] - 1s 4ms/step - loss: 0.2674 - accuracy: 0.9027 - val_loss: 0.2674 - val_accuracy: 0.8972\n",
            "Epoch 6/10\n",
            "260/260 [==============================] - 1s 4ms/step - loss: 0.2583 - accuracy: 0.9044 - val_loss: 0.2689 - val_accuracy: 0.8929\n",
            "Epoch 7/10\n",
            "260/260 [==============================] - 1s 4ms/step - loss: 0.2481 - accuracy: 0.9117 - val_loss: 0.2679 - val_accuracy: 0.8950\n",
            "Epoch 8/10\n",
            "260/260 [==============================] - 1s 4ms/step - loss: 0.2430 - accuracy: 0.9102 - val_loss: 0.2678 - val_accuracy: 0.8972\n",
            "Epoch 9/10\n",
            "260/260 [==============================] - 1s 4ms/step - loss: 0.2378 - accuracy: 0.9157 - val_loss: 0.2663 - val_accuracy: 0.8961\n",
            "Epoch 10/10\n",
            "260/260 [==============================] - 1s 4ms/step - loss: 0.2346 - accuracy: 0.9142 - val_loss: 0.2689 - val_accuracy: 0.8950\n",
            "73/73 [==============================] - 0s 2ms/step\n",
            "Epoch 1/10\n",
            "260/260 [==============================] - 2s 5ms/step - loss: 0.4020 - accuracy: 0.8329 - val_loss: 0.2891 - val_accuracy: 0.8788\n",
            "Epoch 2/10\n",
            "260/260 [==============================] - 1s 4ms/step - loss: 0.2968 - accuracy: 0.8847 - val_loss: 0.2761 - val_accuracy: 0.8929\n",
            "Epoch 3/10\n",
            "260/260 [==============================] - 1s 5ms/step - loss: 0.2704 - accuracy: 0.8972 - val_loss: 0.2732 - val_accuracy: 0.8918\n",
            "Epoch 4/10\n",
            "260/260 [==============================] - 1s 5ms/step - loss: 0.2592 - accuracy: 0.9018 - val_loss: 0.2714 - val_accuracy: 0.8918\n",
            "Epoch 5/10\n",
            "260/260 [==============================] - 2s 7ms/step - loss: 0.2379 - accuracy: 0.9060 - val_loss: 0.2746 - val_accuracy: 0.8842\n",
            "Epoch 6/10\n",
            "260/260 [==============================] - 1s 5ms/step - loss: 0.2318 - accuracy: 0.9091 - val_loss: 0.2741 - val_accuracy: 0.8885\n",
            "Epoch 7/10\n",
            "260/260 [==============================] - 1s 4ms/step - loss: 0.2249 - accuracy: 0.9127 - val_loss: 0.2738 - val_accuracy: 0.8874\n",
            "Epoch 8/10\n",
            "260/260 [==============================] - 1s 4ms/step - loss: 0.2120 - accuracy: 0.9162 - val_loss: 0.2737 - val_accuracy: 0.8842\n",
            "Epoch 9/10\n",
            "260/260 [==============================] - 1s 4ms/step - loss: 0.2022 - accuracy: 0.9219 - val_loss: 0.2847 - val_accuracy: 0.8864\n",
            "Epoch 10/10\n",
            "260/260 [==============================] - 1s 4ms/step - loss: 0.1981 - accuracy: 0.9214 - val_loss: 0.2902 - val_accuracy: 0.8810\n",
            "73/73 [==============================] - 0s 3ms/step\n",
            "Epoch 1/10\n",
            "260/260 [==============================] - 2s 5ms/step - loss: 0.4667 - accuracy: 0.8040 - val_loss: 0.2988 - val_accuracy: 0.8799\n",
            "Epoch 2/10\n",
            "260/260 [==============================] - 1s 5ms/step - loss: 0.3112 - accuracy: 0.8885 - val_loss: 0.2711 - val_accuracy: 0.8896\n",
            "Epoch 3/10\n",
            "260/260 [==============================] - 1s 5ms/step - loss: 0.2805 - accuracy: 0.9047 - val_loss: 0.2674 - val_accuracy: 0.8864\n",
            "Epoch 4/10\n",
            "260/260 [==============================] - 2s 7ms/step - loss: 0.2486 - accuracy: 0.9112 - val_loss: 0.2577 - val_accuracy: 0.8950\n",
            "Epoch 5/10\n",
            "260/260 [==============================] - 2s 7ms/step - loss: 0.2348 - accuracy: 0.9159 - val_loss: 0.2583 - val_accuracy: 0.8939\n",
            "Epoch 6/10\n",
            "260/260 [==============================] - 1s 5ms/step - loss: 0.2157 - accuracy: 0.9195 - val_loss: 0.2648 - val_accuracy: 0.8918\n",
            "Epoch 7/10\n",
            "260/260 [==============================] - 1s 5ms/step - loss: 0.2112 - accuracy: 0.9268 - val_loss: 0.2665 - val_accuracy: 0.8939\n",
            "Epoch 8/10\n",
            "260/260 [==============================] - 1s 4ms/step - loss: 0.1983 - accuracy: 0.9293 - val_loss: 0.2724 - val_accuracy: 0.8896\n",
            "Epoch 9/10\n",
            "260/260 [==============================] - 1s 5ms/step - loss: 0.1945 - accuracy: 0.9339 - val_loss: 0.2657 - val_accuracy: 0.8918\n",
            "Epoch 10/10\n",
            "260/260 [==============================] - 1s 4ms/step - loss: 0.1858 - accuracy: 0.9328 - val_loss: 0.2823 - val_accuracy: 0.8939\n",
            "73/73 [==============================] - 0s 2ms/step\n"
          ]
        }
      ],
      "source": [
        "sensitivity = np.zeros((3))\n",
        "especificity = np.zeros((3))\n",
        "accuracy = np.zeros((3))\n",
        "for j,cells in enumerate([6,12,24]):\n",
        "    model = Con1D_Model_TF(tokenizer, glove_vectors, filters = cells)\n",
        "    model.compile(optimizer='adam', loss=\"binary_crossentropy\", metrics=[\"accuracy\"])\n",
        "    model.fit(X_tr, y_tr, validation_split=0.1,batch_size=32, epochs=10, verbose=1)\n",
        "    y_pred = np.round(model.predict(X_te))\n",
        "    sensitivity = recall_score(y_te,y_pred)\n",
        "    accuracy[j] = accuracy_score(y_te,y_pred)\n",
        "    especificity[j] = especi_score(y_te,y_pred.flatten())"
      ]
    },
    {
      "cell_type": "code",
      "execution_count": 53,
      "metadata": {
        "id": "B1biR19F1cdV",
        "outputId": "c0acda1b-e7a7-4f09-8597-cacb35c40803",
        "colab": {
          "base_uri": "https://localhost:8080/",
          "height": 350
        }
      },
      "outputs": [
        {
          "output_type": "stream",
          "name": "stdout",
          "text": [
            "Best accuracy= 0.9068860978778692\n"
          ]
        },
        {
          "output_type": "display_data",
          "data": {
            "text/plain": [
              "<Figure size 500x300 with 1 Axes>"
            ],
            "image/png": "[encoded data removed]"
          },
          "metadata": {}
        }
      ],
      "source": [
        "fig, ax = plt.subplots(figsize=(5,3))\n",
        "X = np.arange(3)\n",
        "ax.bar(X + 0.00, accuracy, color = 'b', width = 0.25)\n",
        "ax.bar(X + 0.25, sensitivity, color = 'g', width = 0.25)\n",
        "ax.bar(X + 0.50, especificity, color = 'r', width = 0.25)\n",
        "ax.set_xticks([0.25, 1.25, 2.25])\n",
        "ax.set_xticklabels(['6','12', '24'])\n",
        "ax.set_title('Performance')\n",
        "ax.set_xlabel('Number of filters')\n",
        "ax.legend(labels=['accuracy','sensitivity','especificity'],bbox_to_anchor=(1.1, 1.05))\n",
        "print('Best accuracy= {}'.format(np.max(accuracy)))"
      ]
    },
    {
      "cell_type": "code",
      "execution_count": null,
      "metadata": {
        "id": "ttDyAc_n1cdY"
      },
      "outputs": [],
      "source": []
    }
  ],
  "metadata": {
    "kernelspec": {
      "display_name": "Python 3",
      "language": "python",
      "name": "python3"
    },
    "language_info": {
      "codemirror_mode": {
        "name": "ipython",
        "version": 3
      },
      "file_extension": ".py",
      "mimetype": "text/x-python",
      "name": "python",
      "nbconvert_exporter": "python",
      "pygments_lexer": "ipython3",
      "version": "3.7.6"
    },
    "varInspector": {
      "cols": {
        "lenName": 16,
        "lenType": 16,
        "lenVar": 40
      },
      "kernels_config": {
        "python": {
          "delete_cmd_postfix": "",
          "delete_cmd_prefix": "del ",
          "library": "var_list.py",
          "varRefreshCmd": "print(var_dic_list())"
        },
        "r": {
          "delete_cmd_postfix": ") ",
          "delete_cmd_prefix": "rm(",
          "library": "var_list.r",
          "varRefreshCmd": "cat(var_dic_list()) "
        }
      },
      "types_to_exclude": [
        "module",
        "function",
        "builtin_function_or_method",
        "instance",
        "_Feature"
      ],
      "window_display": false
    },
    "colab": {
      "provenance": [],
      "include_colab_link": true
    },
    "widgets": {
      "application/vnd.jupyter.widget-state+json": {
        "e3a81721ebc640d88c4852415c13534d": {
          "model_module": "@jupyter-widgets/controls",
          "model_name": "HBoxModel",
          "model_module_version": "1.5.0",
          "state": {
            "_dom_classes": [],
            "_model_module": "@jupyter-widgets/controls",
            "_model_module_version": "1.5.0",
            "_model_name": "HBoxModel",
            "_view_count": null,
            "_view_module": "@jupyter-widgets/controls",
            "_view_module_version": "1.5.0",
            "_view_name": "HBoxView",
            "box_style": "",
            "children": [
              "IPY_MODEL_4d8ee5ae61654fe9aa4d40fc43dbf85b",
              "IPY_MODEL_8da1b6c91c634b81b39ee40ceb37bf4e",
              "IPY_MODEL_fad1902f560e4f129de32ccbfdbfde82",
              "IPY_MODEL_bb7d779e755549d9a4b5b515984dfdfe"
            ],
            "layout": "IPY_MODEL_44ffc42a205a46cfbf1a321141c182a6"
          }
        },
        "4d8ee5ae61654fe9aa4d40fc43dbf85b": {
          "model_module": "@jupyter-widgets/controls",
          "model_name": "VBoxModel",
          "model_module_version": "1.5.0",
          "state": {
            "_dom_classes": [],
            "_model_module": "@jupyter-widgets/controls",
            "_model_module_version": "1.5.0",
            "_model_name": "VBoxModel",
            "_view_count": null,
            "_view_module": "@jupyter-widgets/controls",
            "_view_module_version": "1.5.0",
            "_view_name": "VBoxView",
            "box_style": "",
            "children": [
              "IPY_MODEL_f8f1c89d97a3403388aff55b6741675a",
              "IPY_MODEL_62100c09ceef4e84a81c83866b006db3"
            ],
            "layout": "IPY_MODEL_b50a35108a284142a18b0fcaaaae7897"
          }
        },
        "8da1b6c91c634b81b39ee40ceb37bf4e": {
          "model_module": "@jupyter-widgets/controls",
          "model_name": "ButtonModel",
          "model_module_version": "1.5.0",
          "state": {
            "_dom_classes": [
              "login_button"
            ],
            "_model_module": "@jupyter-widgets/controls",
            "_model_module_version": "1.5.0",
            "_model_name": "ButtonModel",
            "_view_count": null,
            "_view_module": "@jupyter-widgets/controls",
            "_view_module_version": "1.5.0",
            "_view_name": "ButtonView",
            "button_style": "",
            "description": "Login with email",
            "disabled": false,
            "icon": "",
            "layout": "IPY_MODEL_2b3f64b61ce94fd1b7efa86d1890438a",
            "style": "IPY_MODEL_7a74ce37a01740cda9c626a649438e7e",
            "tooltip": ""
          }
        },
        "fad1902f560e4f129de32ccbfdbfde82": {
          "model_module": "@jupyter-widgets/controls",
          "model_name": "HTMLModel",
          "model_module_version": "1.5.0",
          "state": {
            "_dom_classes": [],
            "_model_module": "@jupyter-widgets/controls",
            "_model_module_version": "1.5.0",
            "_model_name": "HTMLModel",
            "_view_count": null,
            "_view_module": "@jupyter-widgets/controls",
            "_view_module_version": "1.5.0",
            "_view_name": "HTMLView",
            "description": "",
            "description_tooltip": null,
            "layout": "IPY_MODEL_1784ed86fd104b0abc2e07da221cba4e",
            "placeholder": "​",
            "style": "IPY_MODEL_9578e83c87a848d1a1c5186bef24be2b",
            "value": "<center><big>or</big></center>"
          }
        },
        "bb7d779e755549d9a4b5b515984dfdfe": {
          "model_module": "@jupyter-widgets/controls",
          "model_name": "ButtonModel",
          "model_module_version": "1.5.0",
          "state": {
            "_dom_classes": [
              "google_button"
            ],
            "_model_module": "@jupyter-widgets/controls",
            "_model_module_version": "1.5.0",
            "_model_name": "ButtonModel",
            "_view_count": null,
            "_view_module": "@jupyter-widgets/controls",
            "_view_module_version": "1.5.0",
            "_view_name": "ButtonView",
            "button_style": "",
            "description": "Login with Google",
            "disabled": false,
            "icon": "",
            "layout": "IPY_MODEL_4271441a793a40edbce2190329e41ac2",
            "style": "IPY_MODEL_c97d26e784424fa6b8d1541a6025110e",
            "tooltip": ""
          }
        },
        "44ffc42a205a46cfbf1a321141c182a6": {
          "model_module": "@jupyter-widgets/base",
          "model_name": "LayoutModel",
          "model_module_version": "1.2.0",
          "state": {
            "_model_module": "@jupyter-widgets/base",
            "_model_module_version": "1.2.0",
            "_model_name": "LayoutModel",
            "_view_count": null,
            "_view_module": "@jupyter-widgets/base",
            "_view_module_version": "1.2.0",
            "_view_name": "LayoutView",
            "align_content": null,
            "align_items": null,
            "align_self": null,
            "border": null,
            "bottom": null,
            "display": null,
            "flex": null,
            "flex_flow": null,
            "grid_area": null,
            "grid_auto_columns": null,
            "grid_auto_flow": null,
            "grid_auto_rows": null,
            "grid_column": null,
            "grid_gap": null,
            "grid_row": null,
            "grid_template_areas": null,
            "grid_template_columns": null,
            "grid_template_rows": null,
            "height": null,
            "justify_content": null,
            "justify_items": null,
            "left": null,
            "margin": null,
            "max_height": null,
            "max_width": null,
            "min_height": null,
            "min_width": null,
            "object_fit": null,
            "object_position": null,
            "order": null,
            "overflow": null,
            "overflow_x": null,
            "overflow_y": null,
            "padding": null,
            "right": null,
            "top": null,
            "visibility": null,
            "width": null
          }
        },
        "f8f1c89d97a3403388aff55b6741675a": {
          "model_module": "@jupyter-widgets/controls",
          "model_name": "TextModel",
          "model_module_version": "1.5.0",
          "state": {
            "_dom_classes": [],
            "_model_module": "@jupyter-widgets/controls",
            "_model_module_version": "1.5.0",
            "_model_name": "TextModel",
            "_view_count": null,
            "_view_module": "@jupyter-widgets/controls",
            "_view_module_version": "1.5.0",
            "_view_name": "TextView",
            "continuous_update": true,
            "description": "email",
            "description_tooltip": null,
            "disabled": false,
            "layout": "IPY_MODEL_c683e8cc262c4f8eb9e143a298709438",
            "placeholder": "​",
            "style": "IPY_MODEL_93e640a539e24f4f884d1e9cb0425db3",
            "value": ""
          }
        },
        "62100c09ceef4e84a81c83866b006db3": {
          "model_module": "@jupyter-widgets/controls",
          "model_name": "PasswordModel",
          "model_module_version": "1.5.0",
          "state": {
            "_dom_classes": [],
            "_model_module": "@jupyter-widgets/controls",
            "_model_module_version": "1.5.0",
            "_model_name": "PasswordModel",
            "_view_count": null,
            "_view_module": "@jupyter-widgets/controls",
            "_view_module_version": "1.5.0",
            "_view_name": "PasswordView",
            "continuous_update": true,
            "description": "password",
            "description_tooltip": null,
            "disabled": false,
            "layout": "IPY_MODEL_8fd3681fff014e4bb8a51abe3f9b9d3f",
            "placeholder": "​",
            "style": "IPY_MODEL_99be4ec9a704476ab427cb31ddea304c",
            "value": ""
          }
        },
        "b50a35108a284142a18b0fcaaaae7897": {
          "model_module": "@jupyter-widgets/base",
          "model_name": "LayoutModel",
          "model_module_version": "1.2.0",
          "state": {
            "_model_module": "@jupyter-widgets/base",
            "_model_module_version": "1.2.0",
            "_model_name": "LayoutModel",
            "_view_count": null,
            "_view_module": "@jupyter-widgets/base",
            "_view_module_version": "1.2.0",
            "_view_name": "LayoutView",
            "align_content": null,
            "align_items": null,
            "align_self": null,
            "border": null,
            "bottom": null,
            "display": null,
            "flex": null,
            "flex_flow": null,
            "grid_area": null,
            "grid_auto_columns": null,
            "grid_auto_flow": null,
            "grid_auto_rows": null,
            "grid_column": null,
            "grid_gap": null,
            "grid_row": null,
            "grid_template_areas": null,
            "grid_template_columns": null,
            "grid_template_rows": null,
            "height": null,
            "justify_content": null,
            "justify_items": null,
            "left": null,
            "margin": null,
            "max_height": null,
            "max_width": null,
            "min_height": null,
            "min_width": null,
            "object_fit": null,
            "object_position": null,
            "order": null,
            "overflow": null,
            "overflow_x": null,
            "overflow_y": null,
            "padding": null,
            "right": null,
            "top": null,
            "visibility": null,
            "width": null
          }
        },
        "2b3f64b61ce94fd1b7efa86d1890438a": {
          "model_module": "@jupyter-widgets/base",
          "model_name": "LayoutModel",
          "model_module_version": "1.2.0",
          "state": {
            "_model_module": "@jupyter-widgets/base",
            "_model_module_version": "1.2.0",
            "_model_name": "LayoutModel",
            "_view_count": null,
            "_view_module": "@jupyter-widgets/base",
            "_view_module_version": "1.2.0",
            "_view_name": "LayoutView",
            "align_content": null,
            "align_items": null,
            "align_self": null,
            "border": null,
            "bottom": null,
            "display": null,
            "flex": null,
            "flex_flow": null,
            "grid_area": null,
            "grid_auto_columns": null,
            "grid_auto_flow": null,
            "grid_auto_rows": null,
            "grid_column": null,
            "grid_gap": null,
            "grid_row": null,
            "grid_template_areas": null,
            "grid_template_columns": null,
            "grid_template_rows": null,
            "height": "53px",
            "justify_content": null,
            "justify_items": null,
            "left": null,
            "margin": null,
            "max_height": null,
            "max_width": null,
            "min_height": null,
            "min_width": null,
            "object_fit": null,
            "object_position": null,
            "order": null,
            "overflow": null,
            "overflow_x": null,
            "overflow_y": null,
            "padding": null,
            "right": null,
            "top": null,
            "visibility": null,
            "width": "150px"
          }
        },
        "7a74ce37a01740cda9c626a649438e7e": {
          "model_module": "@jupyter-widgets/controls",
          "model_name": "ButtonStyleModel",
          "model_module_version": "1.5.0",
          "state": {
            "_model_module": "@jupyter-widgets/controls",
            "_model_module_version": "1.5.0",
            "_model_name": "ButtonStyleModel",
            "_view_count": null,
            "_view_module": "@jupyter-widgets/base",
            "_view_module_version": "1.2.0",
            "_view_name": "StyleView",
            "button_color": null,
            "font_weight": ""
          }
        },
        "1784ed86fd104b0abc2e07da221cba4e": {
          "model_module": "@jupyter-widgets/base",
          "model_name": "LayoutModel",
          "model_module_version": "1.2.0",
          "state": {
            "_model_module": "@jupyter-widgets/base",
            "_model_module_version": "1.2.0",
            "_model_name": "LayoutModel",
            "_view_count": null,
            "_view_module": "@jupyter-widgets/base",
            "_view_module_version": "1.2.0",
            "_view_name": "LayoutView",
            "align_content": null,
            "align_items": null,
            "align_self": null,
            "border": null,
            "bottom": null,
            "display": null,
            "flex": null,
            "flex_flow": null,
            "grid_area": null,
            "grid_auto_columns": null,
            "grid_auto_flow": null,
            "grid_auto_rows": null,
            "grid_column": null,
            "grid_gap": null,
            "grid_row": null,
            "grid_template_areas": null,
            "grid_template_columns": null,
            "grid_template_rows": null,
            "height": null,
            "justify_content": null,
            "justify_items": null,
            "left": null,
            "margin": null,
            "max_height": null,
            "max_width": null,
            "min_height": null,
            "min_width": null,
            "object_fit": null,
            "object_position": null,
            "order": null,
            "overflow": null,
            "overflow_x": null,
            "overflow_y": null,
            "padding": null,
            "right": null,
            "top": null,
            "visibility": null,
            "width": "100px"
          }
        },
        "9578e83c87a848d1a1c5186bef24be2b": {
          "model_module": "@jupyter-widgets/controls",
          "model_name": "DescriptionStyleModel",
          "model_module_version": "1.5.0",
          "state": {
            "_model_module": "@jupyter-widgets/controls",
            "_model_module_version": "1.5.0",
            "_model_name": "DescriptionStyleModel",
            "_view_count": null,
            "_view_module": "@jupyter-widgets/base",
            "_view_module_version": "1.2.0",
            "_view_name": "StyleView",
            "description_width": ""
          }
        },
        "4271441a793a40edbce2190329e41ac2": {
          "model_module": "@jupyter-widgets/base",
          "model_name": "LayoutModel",
          "model_module_version": "1.2.0",
          "state": {
            "_model_module": "@jupyter-widgets/base",
            "_model_module_version": "1.2.0",
            "_model_name": "LayoutModel",
            "_view_count": null,
            "_view_module": "@jupyter-widgets/base",
            "_view_module_version": "1.2.0",
            "_view_name": "LayoutView",
            "align_content": null,
            "align_items": null,
            "align_self": null,
            "border": null,
            "bottom": null,
            "display": null,
            "flex": null,
            "flex_flow": null,
            "grid_area": null,
            "grid_auto_columns": null,
            "grid_auto_flow": null,
            "grid_auto_rows": null,
            "grid_column": null,
            "grid_gap": null,
            "grid_row": null,
            "grid_template_areas": null,
            "grid_template_columns": null,
            "grid_template_rows": null,
            "height": "53px",
            "justify_content": null,
            "justify_items": null,
            "left": null,
            "margin": null,
            "max_height": null,
            "max_width": null,
            "min_height": null,
            "min_width": null,
            "object_fit": null,
            "object_position": null,
            "order": null,
            "overflow": null,
            "overflow_x": null,
            "overflow_y": null,
            "padding": null,
            "right": null,
            "top": null,
            "visibility": null,
            "width": "200px"
          }
        },
        "c97d26e784424fa6b8d1541a6025110e": {
          "model_module": "@jupyter-widgets/controls",
          "model_name": "ButtonStyleModel",
          "model_module_version": "1.5.0",
          "state": {
            "_model_module": "@jupyter-widgets/controls",
            "_model_module_version": "1.5.0",
            "_model_name": "ButtonStyleModel",
            "_view_count": null,
            "_view_module": "@jupyter-widgets/base",
            "_view_module_version": "1.2.0",
            "_view_name": "StyleView",
            "button_color": null,
            "font_weight": ""
          }
        },
        "c683e8cc262c4f8eb9e143a298709438": {
          "model_module": "@jupyter-widgets/base",
          "model_name": "LayoutModel",
          "model_module_version": "1.2.0",
          "state": {
            "_model_module": "@jupyter-widgets/base",
            "_model_module_version": "1.2.0",
            "_model_name": "LayoutModel",
            "_view_count": null,
            "_view_module": "@jupyter-widgets/base",
            "_view_module_version": "1.2.0",
            "_view_name": "LayoutView",
            "align_content": null,
            "align_items": null,
            "align_self": null,
            "border": null,
            "bottom": null,
            "display": null,
            "flex": null,
            "flex_flow": null,
            "grid_area": null,
            "grid_auto_columns": null,
            "grid_auto_flow": null,
            "grid_auto_rows": null,
            "grid_column": null,
            "grid_gap": null,
            "grid_row": null,
            "grid_template_areas": null,
            "grid_template_columns": null,
            "grid_template_rows": null,
            "height": "25px",
            "justify_content": null,
            "justify_items": null,
            "left": null,
            "margin": null,
            "max_height": null,
            "max_width": null,
            "min_height": null,
            "min_width": null,
            "object_fit": null,
            "object_position": null,
            "order": null,
            "overflow": null,
            "overflow_x": null,
            "overflow_y": null,
            "padding": null,
            "right": null,
            "top": null,
            "visibility": null,
            "width": "300px"
          }
        },
        "93e640a539e24f4f884d1e9cb0425db3": {
          "model_module": "@jupyter-widgets/controls",
          "model_name": "DescriptionStyleModel",
          "model_module_version": "1.5.0",
          "state": {
            "_model_module": "@jupyter-widgets/controls",
            "_model_module_version": "1.5.0",
            "_model_name": "DescriptionStyleModel",
            "_view_count": null,
            "_view_module": "@jupyter-widgets/base",
            "_view_module_version": "1.2.0",
            "_view_name": "StyleView",
            "description_width": ""
          }
        },
        "8fd3681fff014e4bb8a51abe3f9b9d3f": {
          "model_module": "@jupyter-widgets/base",
          "model_name": "LayoutModel",
          "model_module_version": "1.2.0",
          "state": {
            "_model_module": "@jupyter-widgets/base",
            "_model_module_version": "1.2.0",
            "_model_name": "LayoutModel",
            "_view_count": null,
            "_view_module": "@jupyter-widgets/base",
            "_view_module_version": "1.2.0",
            "_view_name": "LayoutView",
            "align_content": null,
            "align_items": null,
            "align_self": null,
            "border": null,
            "bottom": null,
            "display": null,
            "flex": null,
            "flex_flow": null,
            "grid_area": null,
            "grid_auto_columns": null,
            "grid_auto_flow": null,
            "grid_auto_rows": null,
            "grid_column": null,
            "grid_gap": null,
            "grid_row": null,
            "grid_template_areas": null,
            "grid_template_columns": null,
            "grid_template_rows": null,
            "height": "24px",
            "justify_content": null,
            "justify_items": null,
            "left": null,
            "margin": null,
            "max_height": null,
            "max_width": null,
            "min_height": null,
            "min_width": null,
            "object_fit": null,
            "object_position": null,
            "order": null,
            "overflow": null,
            "overflow_x": null,
            "overflow_y": null,
            "padding": null,
            "right": null,
            "top": null,
            "visibility": null,
            "width": "300px"
          }
        },
        "99be4ec9a704476ab427cb31ddea304c": {
          "model_module": "@jupyter-widgets/controls",
          "model_name": "DescriptionStyleModel",
          "model_module_version": "1.5.0",
          "state": {
            "_model_module": "@jupyter-widgets/controls",
            "_model_module_version": "1.5.0",
            "_model_name": "DescriptionStyleModel",
            "_view_count": null,
            "_view_module": "@jupyter-widgets/base",
            "_view_module_version": "1.2.0",
            "_view_name": "StyleView",
            "description_width": ""
          }
        }
      }
    }
  },
  "nbformat": 4,
  "nbformat_minor": 0
}